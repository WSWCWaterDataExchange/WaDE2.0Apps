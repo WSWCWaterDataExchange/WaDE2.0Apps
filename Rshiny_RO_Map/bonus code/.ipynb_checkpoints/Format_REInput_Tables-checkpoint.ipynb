{
 "cells": [
  {
   "cell_type": "markdown",
   "id": "4aed23de",
   "metadata": {},
   "source": [
    "## RE Demo \n",
    "## Preprocessing Data Input Tables Regulatory Overlay Areas RShiny Demo App\n",
    "Notes:\n",
    "- asdf"
   ]
  },
  {
   "cell_type": "code",
   "execution_count": null,
   "id": "4301f091",
   "metadata": {},
   "outputs": [],
   "source": [
    "# working with data\n",
    "import os\n",
    "import numpy as np\n",
    "import pandas as pd\n",
    "import geopandas as gpd # the library that lets us read in shapefiles\n",
    "import geoplot as gplt # for plotting maps\n",
    "\n",
    "# visulizaiton\n",
    "import seaborn as sns\n",
    "import matplotlib.pyplot as plt\n",
    "\n",
    "# Cleanup\n",
    "from datetime import datetime\n",
    "pd.set_option('display.max_columns', 999)  # How to display all columns of a Pandas DataFrame in Jupyter Notebook"
   ]
  },
  {
   "cell_type": "code",
   "execution_count": null,
   "id": "b7f8d280",
   "metadata": {},
   "outputs": [],
   "source": [
    "# Working Directory and Input File\n",
    "workingDir = \"C:/Users/rjame\\Documents/WSWC Documents/WaDE Side Projects Local/Rshiny RE Demo/Rshiny_RO_Map/NotEssentialData\"\n",
    "os.chdir(workingDir)"
   ]
  },
  {
   "cell_type": "markdown",
   "id": "b89e86d1",
   "metadata": {},
   "source": [
    "## Inputs"
   ]
  },
  {
   "cell_type": "code",
   "execution_count": null,
   "id": "a99e47a6",
   "metadata": {
    "scrolled": false
   },
   "outputs": [],
   "source": [
    "#reportingunits_regulatoryoverlays Input\n",
    "fileInput = \"reportingunits_regulatoryoverlays.csv\"\n",
    "dfruro = pd.read_csv(fileInput)\n",
    "dfruro = dfruro.replace(np.nan, \"\").drop_duplicates().reset_index(drop=True)\n",
    "print(len(dfruro))\n",
    "dfruro.head(1)"
   ]
  },
  {
   "cell_type": "code",
   "execution_count": null,
   "id": "4dc4189a",
   "metadata": {},
   "outputs": [],
   "source": [
    "#reportingunit geometry\n",
    "fileInput = \"ru_geometry.csv\"\n",
    "dfrug = pd.read_csv(fileInput)\n",
    "print(len(dfrug))\n",
    "dfrug.head(1)"
   ]
  },
  {
   "cell_type": "markdown",
   "id": "eac455b3",
   "metadata": {},
   "source": [
    "## Clean Reporting Units & Regulatory Overlays Data"
   ]
  },
  {
   "cell_type": "code",
   "execution_count": null,
   "id": "13f29569",
   "metadata": {},
   "outputs": [],
   "source": [
    "# # Temp, we only want NM and ID right now\n",
    "# keepStateList = [\"NM\", \"ID\"]\n",
    "# dfruro = dfruro[dfruro.StateCV.isin(keepStateList)]\n",
    "# print(len(dfruro))\n",
    "# dfruro.head(1)"
   ]
  },
  {
   "cell_type": "code",
   "execution_count": null,
   "id": "908ced3f",
   "metadata": {},
   "outputs": [],
   "source": [
    "for x in dfruro['StateCV'].sort_values().unique():\n",
    "    print(f'\"' + x + '\",')"
   ]
  },
  {
   "cell_type": "code",
   "execution_count": null,
   "id": "129bcbad",
   "metadata": {},
   "outputs": [],
   "source": [
    "# Groupby ReportingUnitUUID\n",
    "# create new dataframe: dfruro2\n",
    "dfruro2 = dfruro.groupby(['ReportingUnitUUID']).agg(lambda x: \", \".join([str(elem) for elem in (list(set(x))) if elem!=\"\"])).replace(np.nan, \"\").reset_index()\n",
    "print(len(dfruro2))\n",
    "dfruro2.head(1)"
   ]
  },
  {
   "cell_type": "code",
   "execution_count": null,
   "id": "1c68eaa8",
   "metadata": {},
   "outputs": [],
   "source": [
    "# # polygon Color\n",
    "\n",
    "# colorDictionary = {\n",
    "#     \"County\" : \"#648FFF\", \n",
    "#     \"HUC8\" : \"#785EF0\",\n",
    "#     \"Custom - Small\" : \"#DC267F\",\n",
    "#     \"Custom - Medium\" : \"#FE6100\",\n",
    "#     \"Custom - Large\" : \"#FFB000\"}\n",
    "\n",
    "# def polygonColorFunc(Val):\n",
    "#     Val = Val.strip()\n",
    "#     try:\n",
    "#         outString = colorDictionary[Val]\n",
    "#     except:\n",
    "#         outString = \"???\"\n",
    "#     return outString\n",
    "\n",
    "# dfru['polyColor'] = dfru.apply(lambda row: polygonColorFunc(row['WaDENameRU']), axis=1)\n",
    "# for x in dfru['polyColor'].sort_values().unique():\n",
    "#     print(f'\"' + x + '\",')"
   ]
  },
  {
   "cell_type": "code",
   "execution_count": null,
   "id": "a25d2fd0",
   "metadata": {
    "scrolled": true
   },
   "outputs": [],
   "source": [
    "# Fixing blank WaDENameWS\n",
    "def fixBlankValuesFunc(Val):\n",
    "    Val = str(Val).strip()\n",
    "    if Val == \"\" or pd.isnull(Val):\n",
    "        outString = \"WaDE Blank\"\n",
    "    else:\n",
    "        outString = Val\n",
    "    return outString"
   ]
  },
  {
   "cell_type": "code",
   "execution_count": null,
   "id": "bbda527a",
   "metadata": {},
   "outputs": [],
   "source": [
    "dfruro2['WaDENameWS'] = dfruro2.apply(lambda row: fixBlankValuesFunc(row['WaDENameWS']), axis=1)\n",
    "for x in dfruro2['WaDENameWS'].sort_values().unique():\n",
    "    print(f'\"' + x + '\",')"
   ]
  },
  {
   "cell_type": "code",
   "execution_count": null,
   "id": "55c0fe0c",
   "metadata": {},
   "outputs": [],
   "source": [
    "dfruro2['WaDENameRO'] = dfruro2.apply(lambda row: fixBlankValuesFunc(row['WaDENameRO']), axis=1)\n",
    "for x in dfruro2['WaDENameRO'].sort_values().unique():\n",
    "    print(f'\"' + x + '\",')"
   ]
  },
  {
   "cell_type": "code",
   "execution_count": null,
   "id": "0cd65bef",
   "metadata": {},
   "outputs": [],
   "source": [
    "dfruro2['WaDENameRU'] = dfruro2.apply(lambda row: fixBlankValuesFunc(row['WaDENameRU']), axis=1)\n",
    "for x in dfruro2['WaDENameRU'].sort_values().unique():\n",
    "    print(f'\"' + x + '\",')"
   ]
  },
  {
   "cell_type": "code",
   "execution_count": null,
   "id": "323be8f1",
   "metadata": {},
   "outputs": [],
   "source": [
    "# attach geometry based on ReportingUnitUUID\n",
    "dfruro2_rug = pd.merge(dfruro2, dfrug, on='ReportingUnitUUID', how='left')\n",
    "#dfruro2_rug = dfruro2_rug[dfruro2_rug['geometry'] != \"\"].reset_index(drop=True)\n",
    "#dfruro2_rug = dfruro2_rug.dropna()\n",
    "\n",
    "dfruro2_rug['geometry'] = gpd.GeoSeries.from_wkt(dfruro2_rug['geometry'], crs=\"EPSG:4326\") # convert from string -to- geometry\n",
    "print(len(dfruro2_rug))\n",
    "dfruro2_rug.head(1)"
   ]
  },
  {
   "cell_type": "code",
   "execution_count": null,
   "id": "707cbdd9",
   "metadata": {},
   "outputs": [],
   "source": [
    "# convert dataframe to geodatframe\n",
    "gdfruro2 = gpd.GeoDataFrame(dfruro2_rug, geometry=dfruro2_rug['geometry'], crs=\"EPSG:4326\") # covert to geodataframe\n",
    "gdfruro2['geometry'] = gdfruro2.simplify(0.001) # simplify the geometry. Lower the number the larger the exported file."
   ]
  },
  {
   "cell_type": "markdown",
   "id": "1025588f",
   "metadata": {},
   "source": [
    "# Review and Export out files."
   ]
  },
  {
   "cell_type": "code",
   "execution_count": null,
   "id": "425d0d87",
   "metadata": {},
   "outputs": [],
   "source": [
    "gdfruro2.info()"
   ]
  },
  {
   "cell_type": "code",
   "execution_count": null,
   "id": "b54251d2",
   "metadata": {},
   "outputs": [],
   "source": [
    "gdfruro2"
   ]
  },
  {
   "cell_type": "code",
   "execution_count": null,
   "id": "b8a0af58",
   "metadata": {},
   "outputs": [],
   "source": [
    "gdfruro2.to_file(\"reportingunits_regulatoryoverlays_v2.shp\") # export shape file"
   ]
  },
  {
   "cell_type": "markdown",
   "id": "0e18c2f7",
   "metadata": {},
   "source": [
    "## Mapping to Validate Sites\n",
    "- having a little issue getting geoplot to work with geopandas on geometry data"
   ]
  },
  {
   "cell_type": "code",
   "execution_count": null,
   "id": "20143249",
   "metadata": {},
   "outputs": [],
   "source": [
    "# map the polygons\n",
    "gplt.polyplot(gdfruro2)"
   ]
  }
 ],
 "metadata": {
  "kernelspec": {
   "display_name": "Python 3 (ipykernel)",
   "language": "python",
   "name": "python3"
  },
  "language_info": {
   "codemirror_mode": {
    "name": "ipython",
    "version": 3
   },
   "file_extension": ".py",
   "mimetype": "text/x-python",
   "name": "python",
   "nbconvert_exporter": "python",
   "pygments_lexer": "ipython3",
   "version": "3.9.18"
  }
 },
 "nbformat": 4,
 "nbformat_minor": 5
}
