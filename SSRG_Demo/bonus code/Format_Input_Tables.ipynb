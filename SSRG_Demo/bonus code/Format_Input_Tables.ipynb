{
 "cells": [
  {
   "cell_type": "markdown",
   "id": "4aed23de",
   "metadata": {},
   "source": [
    "## SSRG Demo \n",
    "## Preprocessing Data Input Tables Site Specific RShiny Demo App\n",
    "Notes:\n",
    "- asdf"
   ]
  },
  {
   "cell_type": "code",
   "execution_count": 1,
   "id": "4301f091",
   "metadata": {},
   "outputs": [],
   "source": [
    "# working with data\n",
    "import os\n",
    "import numpy as np\n",
    "import pandas as pd\n",
    "import geopandas as gpd # the library that lets us read in shapefiles\n",
    "import geoplot as gplt # for plotting maps\n",
    "\n",
    "# visulizaiton\n",
    "import seaborn as sns\n",
    "import matplotlib.pyplot as plt\n",
    "\n",
    "# Cleanup\n",
    "from datetime import datetime\n",
    "pd.set_option('display.max_columns', 999)  # How to display all columns of a Pandas DataFrame in Jupyter Notebook"
   ]
  },
  {
   "cell_type": "code",
   "execution_count": 2,
   "id": "7715e363",
   "metadata": {},
   "outputs": [
    {
     "name": "stdout",
     "output_type": "stream",
     "text": [
      "current directory = C:\\Users\\rjame\\Documents\\WSWC Documents\\WaDE Side Projects Local\\20221017 Rshiny SS Demo\\SSRG_Demo\\bonus code\n",
      "new directory = C:\\Users\\rjame\\Documents\\WSWC Documents\\WaDE Side Projects Local\\20221017 Rshiny SS Demo\\SSRG_Demo\\NotEssentialData\n"
     ]
    }
   ],
   "source": [
    "# Setting work directory\n",
    "cwd = os.getcwd()\n",
    "print(\"current directory = \" + cwd)\n",
    "\n",
    "os.chdir(\"../NotEssentialData\")\n",
    "print(\"new directory = \" + os.path.abspath(os.curdir))"
   ]
  },
  {
   "cell_type": "markdown",
   "id": "b89e86d1",
   "metadata": {},
   "source": [
    "## Inputs"
   ]
  },
  {
   "cell_type": "code",
   "execution_count": 3,
   "id": "a99e47a6",
   "metadata": {
    "scrolled": true
   },
   "outputs": [
    {
     "name": "stdout",
     "output_type": "stream",
     "text": [
      "11062\n"
     ]
    },
    {
     "data": {
      "text/html": [
       "<div>\n",
       "<style scoped>\n",
       "    .dataframe tbody tr th:only-of-type {\n",
       "        vertical-align: middle;\n",
       "    }\n",
       "\n",
       "    .dataframe tbody tr th {\n",
       "        vertical-align: top;\n",
       "    }\n",
       "\n",
       "    .dataframe thead th {\n",
       "        text-align: right;\n",
       "    }\n",
       "</style>\n",
       "<table border=\"1\" class=\"dataframe\">\n",
       "  <thead>\n",
       "    <tr style=\"text-align: right;\">\n",
       "      <th></th>\n",
       "      <th>SiteUUID</th>\n",
       "      <th>SiteName</th>\n",
       "      <th>SiteNativeID</th>\n",
       "      <th>WaDENameS</th>\n",
       "      <th>Longitude</th>\n",
       "      <th>Latitude</th>\n",
       "      <th>PODorPOUSite</th>\n",
       "      <th>WaDENameWS</th>\n",
       "      <th>AggregationIntervalUnitCV</th>\n",
       "      <th>VariableCV</th>\n",
       "      <th>VariableSpecificCV</th>\n",
       "      <th>HasRecords</th>\n",
       "    </tr>\n",
       "  </thead>\n",
       "  <tbody>\n",
       "    <tr>\n",
       "      <th>0</th>\n",
       "      <td>CAssrg_S1</td>\n",
       "      <td>LAKE ALMANOR</td>\n",
       "      <td>ALM</td>\n",
       "      <td>Reservoir Gage</td>\n",
       "      <td>-121.173</td>\n",
       "      <td>40.218</td>\n",
       "      <td>Gage</td>\n",
       "      <td>Surface Water</td>\n",
       "      <td>Monthly</td>\n",
       "      <td>Reservoir Level</td>\n",
       "      <td>Reservoir Level_Monthly_Storage_Surface Water</td>\n",
       "      <td>Yes</td>\n",
       "    </tr>\n",
       "  </tbody>\n",
       "</table>\n",
       "</div>"
      ],
      "text/plain": [
       "    SiteUUID      SiteName SiteNativeID       WaDENameS  Longitude  Latitude  \\\n",
       "0  CAssrg_S1  LAKE ALMANOR          ALM  Reservoir Gage   -121.173    40.218   \n",
       "\n",
       "  PODorPOUSite     WaDENameWS AggregationIntervalUnitCV       VariableCV  \\\n",
       "0         Gage  Surface Water                   Monthly  Reservoir Level   \n",
       "\n",
       "                              VariableSpecificCV HasRecords  \n",
       "0  Reservoir Level_Monthly_Storage_Surface Water        Yes  "
      ]
     },
     "execution_count": 3,
     "metadata": {},
     "output_type": "execute_result"
    }
   ],
   "source": [
    "#Sites Input\n",
    "fileInput = \"Sites.csv\"\n",
    "dfs = pd.read_csv(fileInput)\n",
    "print(len(dfs))\n",
    "dfs.head(1)"
   ]
  },
  {
   "cell_type": "markdown",
   "id": "eac455b3",
   "metadata": {},
   "source": [
    "## Clean Sites Data"
   ]
  },
  {
   "cell_type": "code",
   "execution_count": 4,
   "id": "6827b748",
   "metadata": {},
   "outputs": [
    {
     "name": "stdout",
     "output_type": "stream",
     "text": [
      "11062\n"
     ]
    },
    {
     "data": {
      "text/html": [
       "<div>\n",
       "<style scoped>\n",
       "    .dataframe tbody tr th:only-of-type {\n",
       "        vertical-align: middle;\n",
       "    }\n",
       "\n",
       "    .dataframe tbody tr th {\n",
       "        vertical-align: top;\n",
       "    }\n",
       "\n",
       "    .dataframe thead th {\n",
       "        text-align: right;\n",
       "    }\n",
       "</style>\n",
       "<table border=\"1\" class=\"dataframe\">\n",
       "  <thead>\n",
       "    <tr style=\"text-align: right;\">\n",
       "      <th></th>\n",
       "      <th>SiteUUID</th>\n",
       "      <th>SiteName</th>\n",
       "      <th>SiteNativeID</th>\n",
       "      <th>WaDENameS</th>\n",
       "      <th>Longitude</th>\n",
       "      <th>Latitude</th>\n",
       "      <th>PODorPOUSite</th>\n",
       "      <th>WaDENameWS</th>\n",
       "      <th>AggregationIntervalUnitCV</th>\n",
       "      <th>VariableCV</th>\n",
       "      <th>VariableSpecificCV</th>\n",
       "      <th>HasRecords</th>\n",
       "    </tr>\n",
       "  </thead>\n",
       "  <tbody>\n",
       "    <tr>\n",
       "      <th>0</th>\n",
       "      <td>CAssrg_S1</td>\n",
       "      <td>LAKE ALMANOR</td>\n",
       "      <td>ALM</td>\n",
       "      <td>Reservoir Gage</td>\n",
       "      <td>-121.173</td>\n",
       "      <td>40.218</td>\n",
       "      <td>Gage</td>\n",
       "      <td>Surface Water</td>\n",
       "      <td>Monthly</td>\n",
       "      <td>Reservoir Level</td>\n",
       "      <td>Reservoir Level_Monthly_Storage_Surface Water</td>\n",
       "      <td>Yes</td>\n",
       "    </tr>\n",
       "  </tbody>\n",
       "</table>\n",
       "</div>"
      ],
      "text/plain": [
       "    SiteUUID      SiteName SiteNativeID       WaDENameS  Longitude  Latitude  \\\n",
       "0  CAssrg_S1  LAKE ALMANOR          ALM  Reservoir Gage   -121.173    40.218   \n",
       "\n",
       "  PODorPOUSite     WaDENameWS AggregationIntervalUnitCV       VariableCV  \\\n",
       "0         Gage  Surface Water                   Monthly  Reservoir Level   \n",
       "\n",
       "                              VariableSpecificCV HasRecords  \n",
       "0  Reservoir Level_Monthly_Storage_Surface Water        Yes  "
      ]
     },
     "execution_count": 4,
     "metadata": {},
     "output_type": "execute_result"
    }
   ],
   "source": [
    "# Clean input\n",
    "dfs = dfs.drop_duplicates().reset_index(drop=True) # Drop Duplicate Rows\n",
    "dfs = dfs.replace(np.nan, \"\")  # Replaces NaN values with blank.\n",
    "print(len(dfs))\n",
    "dfs.head(1)"
   ]
  },
  {
   "cell_type": "code",
   "execution_count": 5,
   "id": "a25d2fd0",
   "metadata": {
    "scrolled": true
   },
   "outputs": [
    {
     "data": {
      "text/plain": [
       "array(['Surface Water', 'Groundwater', 'Unspecified'], dtype=object)"
      ]
     },
     "execution_count": 5,
     "metadata": {},
     "output_type": "execute_result"
    }
   ],
   "source": [
    "# Fixing blank WaDENameWS\n",
    "def updateWaDENameWS(Val):\n",
    "    Val = str(Val).strip()\n",
    "    if Val == \"\" or pd.isnull(Val) or Val == \"\":\n",
    "        outString = \"Unspecified\"\n",
    "    else:\n",
    "        outString = Val\n",
    "    return outString\n",
    "\n",
    "dfs['WaDENameWS'] = dfs.apply(lambda row: updateWaDENameWS(row['WaDENameWS']), axis=1)\n",
    "dfs['WaDENameWS'].unique()"
   ]
  },
  {
   "cell_type": "code",
   "execution_count": 6,
   "id": "c7ee3341",
   "metadata": {},
   "outputs": [
    {
     "name": "stdout",
     "output_type": "stream",
     "text": [
      "11025\n"
     ]
    },
    {
     "data": {
      "text/html": [
       "<div>\n",
       "<style scoped>\n",
       "    .dataframe tbody tr th:only-of-type {\n",
       "        vertical-align: middle;\n",
       "    }\n",
       "\n",
       "    .dataframe tbody tr th {\n",
       "        vertical-align: top;\n",
       "    }\n",
       "\n",
       "    .dataframe thead th {\n",
       "        text-align: right;\n",
       "    }\n",
       "</style>\n",
       "<table border=\"1\" class=\"dataframe\">\n",
       "  <thead>\n",
       "    <tr style=\"text-align: right;\">\n",
       "      <th></th>\n",
       "      <th>SiteUUID</th>\n",
       "      <th>SiteName</th>\n",
       "      <th>SiteNativeID</th>\n",
       "      <th>WaDENameS</th>\n",
       "      <th>Longitude</th>\n",
       "      <th>Latitude</th>\n",
       "      <th>PODorPOUSite</th>\n",
       "      <th>WaDENameWS</th>\n",
       "      <th>AggregationIntervalUnitCV</th>\n",
       "      <th>VariableCV</th>\n",
       "      <th>VariableSpecificCV</th>\n",
       "      <th>HasRecords</th>\n",
       "    </tr>\n",
       "  </thead>\n",
       "  <tbody>\n",
       "    <tr>\n",
       "      <th>0</th>\n",
       "      <td>CAssrg_S1</td>\n",
       "      <td>LAKE ALMANOR</td>\n",
       "      <td>ALM</td>\n",
       "      <td>Reservoir Gage</td>\n",
       "      <td>-121.173</td>\n",
       "      <td>40.218</td>\n",
       "      <td>Gage</td>\n",
       "      <td>Surface Water</td>\n",
       "      <td>Monthly</td>\n",
       "      <td>Reservoir Level</td>\n",
       "      <td>Reservoir Level_Monthly_Storage_Surface Water</td>\n",
       "      <td>Yes</td>\n",
       "    </tr>\n",
       "  </tbody>\n",
       "</table>\n",
       "</div>"
      ],
      "text/plain": [
       "    SiteUUID      SiteName SiteNativeID       WaDENameS Longitude Latitude  \\\n",
       "0  CAssrg_S1  LAKE ALMANOR          ALM  Reservoir Gage  -121.173   40.218   \n",
       "\n",
       "  PODorPOUSite     WaDENameWS AggregationIntervalUnitCV       VariableCV  \\\n",
       "0         Gage  Surface Water                   Monthly  Reservoir Level   \n",
       "\n",
       "                              VariableSpecificCV HasRecords  \n",
       "0  Reservoir Level_Monthly_Storage_Surface Water        Yes  "
      ]
     },
     "execution_count": 6,
     "metadata": {},
     "output_type": "execute_result"
    }
   ],
   "source": [
    "# Groupby SiteUUID\n",
    "dfs = dfs.groupby(['SiteUUID']).agg(lambda x: \", \".join([str(elem) for elem in (list(set(x))) if elem!=\"\"])).replace(np.nan, \"\").reset_index()\n",
    "print(len(dfs))\n",
    "dfs.head(1)"
   ]
  },
  {
   "cell_type": "code",
   "execution_count": 7,
   "id": "c896c3e3",
   "metadata": {},
   "outputs": [
    {
     "data": {
      "text/plain": [
       "array([1, 0, 2], dtype=int64)"
      ]
     },
     "execution_count": 7,
     "metadata": {},
     "output_type": "execute_result"
    }
   ],
   "source": [
    "# count num of VariableSpecificCV after groupby\n",
    "\n",
    "def countNumVar(Val):\n",
    "    Val = list(Val.split(\",\"))\n",
    "    if Val == [\"\"]:\n",
    "        ValLen = 0\n",
    "    else:\n",
    "        ValLen = len(Val)\n",
    "    return ValLen\n",
    "\n",
    "dfs['CountVar'] = dfs.apply(lambda row: countNumVar(row['VariableSpecificCV']), axis=1)\n",
    "dfs['CountVar'].unique()"
   ]
  },
  {
   "cell_type": "code",
   "execution_count": 8,
   "id": "329e0d74",
   "metadata": {},
   "outputs": [
    {
     "data": {
      "text/plain": [
       "array(['CA', 'CO', 'ID', 'MT', 'NE', 'NV', 'OR'], dtype=object)"
      ]
     },
     "execution_count": 8,
     "metadata": {},
     "output_type": "execute_result"
    }
   ],
   "source": [
    "# add State field\n",
    "\n",
    "def createState(Val):\n",
    "    Val = Val.strip()\n",
    "    outString = Val[:2]\n",
    "    return outString\n",
    "\n",
    "dfs['State'] = dfs.apply(lambda row: createState(row['SiteUUID']), axis=1)\n",
    "dfs['State'].unique()"
   ]
  },
  {
   "cell_type": "code",
   "execution_count": 9,
   "id": "4a056177",
   "metadata": {},
   "outputs": [
    {
     "name": "stdout",
     "output_type": "stream",
     "text": [
      "11025\n"
     ]
    },
    {
     "data": {
      "text/html": [
       "<div>\n",
       "<style scoped>\n",
       "    .dataframe tbody tr th:only-of-type {\n",
       "        vertical-align: middle;\n",
       "    }\n",
       "\n",
       "    .dataframe tbody tr th {\n",
       "        vertical-align: top;\n",
       "    }\n",
       "\n",
       "    .dataframe thead th {\n",
       "        text-align: right;\n",
       "    }\n",
       "</style>\n",
       "<table border=\"1\" class=\"dataframe\">\n",
       "  <thead>\n",
       "    <tr style=\"text-align: right;\">\n",
       "      <th></th>\n",
       "      <th>SiteUUID</th>\n",
       "      <th>SiteName</th>\n",
       "      <th>SiteNativeID</th>\n",
       "      <th>WaDENameS</th>\n",
       "      <th>Longitude</th>\n",
       "      <th>Latitude</th>\n",
       "      <th>PODorPOUSite</th>\n",
       "      <th>WaDENameWS</th>\n",
       "      <th>AggregationIntervalUnitCV</th>\n",
       "      <th>VariableCV</th>\n",
       "      <th>VariableSpecificCV</th>\n",
       "      <th>HasRecords</th>\n",
       "      <th>CountVar</th>\n",
       "      <th>State</th>\n",
       "      <th>minTimeFrameStart</th>\n",
       "      <th>maxTimeFrameEnd</th>\n",
       "    </tr>\n",
       "  </thead>\n",
       "  <tbody>\n",
       "    <tr>\n",
       "      <th>0</th>\n",
       "      <td>CAssrg_S1</td>\n",
       "      <td>LAKE ALMANOR</td>\n",
       "      <td>ALM</td>\n",
       "      <td>Reservoir Gage</td>\n",
       "      <td>-121.173</td>\n",
       "      <td>40.218</td>\n",
       "      <td>Gage</td>\n",
       "      <td>Surface Water</td>\n",
       "      <td>Monthly</td>\n",
       "      <td>Reservoir Level</td>\n",
       "      <td>Reservoir Level_Monthly_Storage_Surface Water</td>\n",
       "      <td>Yes</td>\n",
       "      <td>1</td>\n",
       "      <td>CA</td>\n",
       "      <td>1950-04-01</td>\n",
       "      <td>2022-02-01</td>\n",
       "    </tr>\n",
       "  </tbody>\n",
       "</table>\n",
       "</div>"
      ],
      "text/plain": [
       "    SiteUUID      SiteName SiteNativeID       WaDENameS Longitude Latitude  \\\n",
       "0  CAssrg_S1  LAKE ALMANOR          ALM  Reservoir Gage  -121.173   40.218   \n",
       "\n",
       "  PODorPOUSite     WaDENameWS AggregationIntervalUnitCV       VariableCV  \\\n",
       "0         Gage  Surface Water                   Monthly  Reservoir Level   \n",
       "\n",
       "                              VariableSpecificCV HasRecords  CountVar State  \\\n",
       "0  Reservoir Level_Monthly_Storage_Surface Water        Yes         1    CA   \n",
       "\n",
       "  minTimeFrameStart maxTimeFrameEnd  \n",
       "0        1950-04-01      2022-02-01  "
      ]
     },
     "execution_count": 9,
     "metadata": {},
     "output_type": "execute_result"
    }
   ],
   "source": [
    "# attach timeframe based on SiteUUID\n",
    "\n",
    "fileInput = \"start_end_Sites.csv\"\n",
    "dfstf = pd.read_csv(fileInput)\n",
    "dfs = pd.merge(dfs, dfstf, on='SiteUUID', how='left')\n",
    "print(len(dfs))\n",
    "dfs.head(1)"
   ]
  },
  {
   "cell_type": "code",
   "execution_count": 10,
   "id": "b200fc11",
   "metadata": {},
   "outputs": [
    {
     "name": "stdout",
     "output_type": "stream",
     "text": [
      "11025\n"
     ]
    },
    {
     "data": {
      "text/html": [
       "<div>\n",
       "<style scoped>\n",
       "    .dataframe tbody tr th:only-of-type {\n",
       "        vertical-align: middle;\n",
       "    }\n",
       "\n",
       "    .dataframe tbody tr th {\n",
       "        vertical-align: top;\n",
       "    }\n",
       "\n",
       "    .dataframe thead th {\n",
       "        text-align: right;\n",
       "    }\n",
       "</style>\n",
       "<table border=\"1\" class=\"dataframe\">\n",
       "  <thead>\n",
       "    <tr style=\"text-align: right;\">\n",
       "      <th></th>\n",
       "      <th>SiteUUID</th>\n",
       "      <th>SiteName</th>\n",
       "      <th>SiteNativeID</th>\n",
       "      <th>WaDENameS</th>\n",
       "      <th>Longitude</th>\n",
       "      <th>Latitude</th>\n",
       "      <th>PODorPOUSite</th>\n",
       "      <th>WaDENameWS</th>\n",
       "      <th>AggregationIntervalUnitCV</th>\n",
       "      <th>VariableCV</th>\n",
       "      <th>VariableSpecificCV</th>\n",
       "      <th>HasRecords</th>\n",
       "      <th>CountVar</th>\n",
       "      <th>State</th>\n",
       "      <th>minTimeFrameStart</th>\n",
       "      <th>maxTimeFrameEnd</th>\n",
       "    </tr>\n",
       "  </thead>\n",
       "  <tbody>\n",
       "    <tr>\n",
       "      <th>0</th>\n",
       "      <td>CAssrg_S1</td>\n",
       "      <td>LAKE ALMANOR</td>\n",
       "      <td>ALM</td>\n",
       "      <td>Reservoir Gage</td>\n",
       "      <td>-121.173</td>\n",
       "      <td>40.218</td>\n",
       "      <td>Gage</td>\n",
       "      <td>Surface Water</td>\n",
       "      <td>Monthly</td>\n",
       "      <td>Reservoir Level</td>\n",
       "      <td>Reservoir Level_Monthly_Storage_Surface Water</td>\n",
       "      <td>Yes</td>\n",
       "      <td>1</td>\n",
       "      <td>CA</td>\n",
       "      <td>1950-04-01</td>\n",
       "      <td>2022-02-01</td>\n",
       "    </tr>\n",
       "  </tbody>\n",
       "</table>\n",
       "</div>"
      ],
      "text/plain": [
       "    SiteUUID      SiteName SiteNativeID       WaDENameS  Longitude  Latitude  \\\n",
       "0  CAssrg_S1  LAKE ALMANOR          ALM  Reservoir Gage   -121.173    40.218   \n",
       "\n",
       "  PODorPOUSite     WaDENameWS AggregationIntervalUnitCV       VariableCV  \\\n",
       "0         Gage  Surface Water                   Monthly  Reservoir Level   \n",
       "\n",
       "                              VariableSpecificCV HasRecords  CountVar State  \\\n",
       "0  Reservoir Level_Monthly_Storage_Surface Water        Yes         1    CA   \n",
       "\n",
       "  minTimeFrameStart maxTimeFrameEnd  \n",
       "0        1950-04-01      2022-02-01  "
      ]
     },
     "execution_count": 10,
     "metadata": {},
     "output_type": "execute_result"
    }
   ],
   "source": [
    "# Temp Fix\n",
    "\n",
    "# remove lat & long entries that contain a ','\n",
    "dfs = dfs[dfs['Latitude'].str.contains(',') == False]\n",
    "dfs = dfs[dfs['Longitude'].str.contains(',') == False]\n",
    "\n",
    "# Ensure long is < 0 and > -125 (few ID sites out of bounds)\n",
    "# Ensure lat is > 10 and < 50 (few MT sites out of bounds).\n",
    "dfs['Latitude'] = pd.to_numeric(dfs['Latitude'], errors='coerce')\n",
    "dfs['Longitude'] = pd.to_numeric(dfs['Longitude'], errors='coerce')\n",
    "dfs = dfs[(dfs['Latitude'].astype(int) > 10) & (dfs['Latitude'].astype(int) < 50)]\n",
    "dfs = dfs[(dfs['Longitude'].astype(int) < 0) & (dfs['Longitude'].astype(int) > -125)]\n",
    "\n",
    "print(len(dfs))\n",
    "dfs.head(1)"
   ]
  },
  {
   "cell_type": "code",
   "execution_count": 11,
   "id": "2fd38aea",
   "metadata": {},
   "outputs": [
    {
     "data": {
      "text/html": [
       "<div>\n",
       "<style scoped>\n",
       "    .dataframe tbody tr th:only-of-type {\n",
       "        vertical-align: middle;\n",
       "    }\n",
       "\n",
       "    .dataframe tbody tr th {\n",
       "        vertical-align: top;\n",
       "    }\n",
       "\n",
       "    .dataframe thead th {\n",
       "        text-align: right;\n",
       "    }\n",
       "</style>\n",
       "<table border=\"1\" class=\"dataframe\">\n",
       "  <thead>\n",
       "    <tr style=\"text-align: right;\">\n",
       "      <th></th>\n",
       "      <th>SiteUUID</th>\n",
       "      <th>SiteName</th>\n",
       "      <th>SiteNativeID</th>\n",
       "      <th>WaDENameS</th>\n",
       "      <th>Longitude</th>\n",
       "      <th>Latitude</th>\n",
       "      <th>PODorPOUSite</th>\n",
       "      <th>WaDENameWS</th>\n",
       "      <th>AggregationIntervalUnitCV</th>\n",
       "      <th>VariableCV</th>\n",
       "      <th>VariableSpecificCV</th>\n",
       "      <th>HasRecords</th>\n",
       "      <th>CountVar</th>\n",
       "      <th>State</th>\n",
       "      <th>minTimeFrameStart</th>\n",
       "      <th>maxTimeFrameEnd</th>\n",
       "    </tr>\n",
       "  </thead>\n",
       "  <tbody>\n",
       "    <tr>\n",
       "      <th>0</th>\n",
       "      <td>CAssrg_S1</td>\n",
       "      <td>LAKE ALMANOR</td>\n",
       "      <td>ALM</td>\n",
       "      <td>Reservoir Gage</td>\n",
       "      <td>-121.173000</td>\n",
       "      <td>40.218000</td>\n",
       "      <td>Gage</td>\n",
       "      <td>Surface Water</td>\n",
       "      <td>Monthly</td>\n",
       "      <td>Reservoir Level</td>\n",
       "      <td>Reservoir Level_Monthly_Storage_Surface Water</td>\n",
       "      <td>Yes</td>\n",
       "      <td>1</td>\n",
       "      <td>CA</td>\n",
       "      <td>1950-04-01</td>\n",
       "      <td>2022-02-01</td>\n",
       "    </tr>\n",
       "    <tr>\n",
       "      <th>1</th>\n",
       "      <td>CAssrg_S10</td>\n",
       "      <td>BOUQUET CANYON</td>\n",
       "      <td>BQC</td>\n",
       "      <td>Reservoir Gage</td>\n",
       "      <td>-118.395314</td>\n",
       "      <td>34.586714</td>\n",
       "      <td>Gage</td>\n",
       "      <td>Surface Water</td>\n",
       "      <td>Monthly</td>\n",
       "      <td>Reservoir Level</td>\n",
       "      <td>Reservoir Level_Monthly_Storage_Surface Water</td>\n",
       "      <td>Yes</td>\n",
       "      <td>1</td>\n",
       "      <td>CA</td>\n",
       "      <td>1950-04-01</td>\n",
       "      <td>2022-02-01</td>\n",
       "    </tr>\n",
       "    <tr>\n",
       "      <th>2</th>\n",
       "      <td>CAssrg_S100</td>\n",
       "      <td>PLEASANT VALLEY RESERVOIR</td>\n",
       "      <td>PVR</td>\n",
       "      <td>Reservoir Gage</td>\n",
       "      <td>-118.583576</td>\n",
       "      <td>37.423578</td>\n",
       "      <td>Gage</td>\n",
       "      <td>Surface Water</td>\n",
       "      <td>Monthly</td>\n",
       "      <td>Reservoir Level</td>\n",
       "      <td>Reservoir Level_Monthly_Storage_Surface Water</td>\n",
       "      <td>Yes</td>\n",
       "      <td>1</td>\n",
       "      <td>CA</td>\n",
       "      <td>2018-10-01</td>\n",
       "      <td>2022-02-01</td>\n",
       "    </tr>\n",
       "    <tr>\n",
       "      <th>3</th>\n",
       "      <td>CAssrg_S101</td>\n",
       "      <td>PYRAMID</td>\n",
       "      <td>PYM</td>\n",
       "      <td>Reservoir Gage</td>\n",
       "      <td>-118.764528</td>\n",
       "      <td>34.644153</td>\n",
       "      <td>Gage</td>\n",
       "      <td>Surface Water</td>\n",
       "      <td>Monthly</td>\n",
       "      <td>Reservoir Level</td>\n",
       "      <td>Reservoir Level_Monthly_Storage_Surface Water</td>\n",
       "      <td>Yes</td>\n",
       "      <td>1</td>\n",
       "      <td>CA</td>\n",
       "      <td>1974-10-01</td>\n",
       "      <td>2022-02-01</td>\n",
       "    </tr>\n",
       "    <tr>\n",
       "      <th>4</th>\n",
       "      <td>CAssrg_S102</td>\n",
       "      <td>REDINGER LAKE</td>\n",
       "      <td>RDN</td>\n",
       "      <td>Reservoir Gage</td>\n",
       "      <td>-119.449000</td>\n",
       "      <td>37.145000</td>\n",
       "      <td>Gage</td>\n",
       "      <td>Surface Water</td>\n",
       "      <td>Monthly</td>\n",
       "      <td>Reservoir Level</td>\n",
       "      <td>Reservoir Level_Monthly_Storage_Surface Water</td>\n",
       "      <td>Yes</td>\n",
       "      <td>1</td>\n",
       "      <td>CA</td>\n",
       "      <td>1965-10-01</td>\n",
       "      <td>2022-02-01</td>\n",
       "    </tr>\n",
       "    <tr>\n",
       "      <th>...</th>\n",
       "      <td>...</td>\n",
       "      <td>...</td>\n",
       "      <td>...</td>\n",
       "      <td>...</td>\n",
       "      <td>...</td>\n",
       "      <td>...</td>\n",
       "      <td>...</td>\n",
       "      <td>...</td>\n",
       "      <td>...</td>\n",
       "      <td>...</td>\n",
       "      <td>...</td>\n",
       "      <td>...</td>\n",
       "      <td>...</td>\n",
       "      <td>...</td>\n",
       "      <td>...</td>\n",
       "      <td>...</td>\n",
       "    </tr>\n",
       "    <tr>\n",
       "      <th>11020</th>\n",
       "      <td>ORssrg_S91</td>\n",
       "      <td>CRESCENT CR AT CRESCENT LAKE NR CRESCENT, OR</td>\n",
       "      <td>14060000.0</td>\n",
       "      <td>Canal / Ditch / Stream</td>\n",
       "      <td>-121.973064</td>\n",
       "      <td>43.503043</td>\n",
       "      <td>Gage</td>\n",
       "      <td>Surface Water</td>\n",
       "      <td>Daily</td>\n",
       "      <td>Stream Gage</td>\n",
       "      <td>Stream Gage_Daily_Unspecified_Surface Water</td>\n",
       "      <td>Yes</td>\n",
       "      <td>1</td>\n",
       "      <td>OR</td>\n",
       "      <td>1912-01-01</td>\n",
       "      <td>2014-09-30</td>\n",
       "    </tr>\n",
       "    <tr>\n",
       "      <th>11021</th>\n",
       "      <td>ORssrg_S92</td>\n",
       "      <td>WALKER BASIN CN NR LA PINE, OR</td>\n",
       "      <td>14062500.0</td>\n",
       "      <td>Discharge Point</td>\n",
       "      <td>-121.632785</td>\n",
       "      <td>43.534694</td>\n",
       "      <td>Gage</td>\n",
       "      <td>Unspecified</td>\n",
       "      <td>Daily</td>\n",
       "      <td>Stream Gage</td>\n",
       "      <td>Stream Gage_Daily_Unspecified_Surface Water</td>\n",
       "      <td>Yes</td>\n",
       "      <td>1</td>\n",
       "      <td>OR</td>\n",
       "      <td>1924-05-05</td>\n",
       "      <td>2011-09-30</td>\n",
       "    </tr>\n",
       "    <tr>\n",
       "      <th>11022</th>\n",
       "      <td>ORssrg_S93</td>\n",
       "      <td>LITTLE DESCHUTES R NR LA PINE, OR</td>\n",
       "      <td>14063000.0</td>\n",
       "      <td>Canal / Ditch / Stream</td>\n",
       "      <td>-121.502925</td>\n",
       "      <td>43.689147</td>\n",
       "      <td>Gage</td>\n",
       "      <td>Surface Water</td>\n",
       "      <td>Daily</td>\n",
       "      <td>Stream Gage</td>\n",
       "      <td>Stream Gage_Daily_Unspecified_Surface Water</td>\n",
       "      <td>Yes</td>\n",
       "      <td>1</td>\n",
       "      <td>OR</td>\n",
       "      <td>1924-05-01</td>\n",
       "      <td>2016-09-30</td>\n",
       "    </tr>\n",
       "    <tr>\n",
       "      <th>11023</th>\n",
       "      <td>ORssrg_S94</td>\n",
       "      <td>DESCHUTES R AT BENHAM FALLS NR BEND, OR</td>\n",
       "      <td>14064500.0</td>\n",
       "      <td>Canal / Ditch / Stream</td>\n",
       "      <td>-121.411542</td>\n",
       "      <td>43.930365</td>\n",
       "      <td>Gage</td>\n",
       "      <td>Surface Water</td>\n",
       "      <td>Daily</td>\n",
       "      <td>Stream Gage</td>\n",
       "      <td>Stream Gage_Daily_Unspecified_Surface Water</td>\n",
       "      <td>Yes</td>\n",
       "      <td>1</td>\n",
       "      <td>OR</td>\n",
       "      <td>1906-04-01</td>\n",
       "      <td>2016-09-30</td>\n",
       "    </tr>\n",
       "    <tr>\n",
       "      <th>11024</th>\n",
       "      <td>ORssrg_S95</td>\n",
       "      <td>ARNOLD CN NR BEND, OR</td>\n",
       "      <td>14065500.0</td>\n",
       "      <td>Discharge Point</td>\n",
       "      <td>-121.378892</td>\n",
       "      <td>43.993711</td>\n",
       "      <td>Gage</td>\n",
       "      <td>Unspecified</td>\n",
       "      <td>Daily</td>\n",
       "      <td>Stream Gage</td>\n",
       "      <td>Stream Gage_Daily_Unspecified_Surface Water</td>\n",
       "      <td>Yes</td>\n",
       "      <td>1</td>\n",
       "      <td>OR</td>\n",
       "      <td>1923-10-01</td>\n",
       "      <td>1928-11-10</td>\n",
       "    </tr>\n",
       "  </tbody>\n",
       "</table>\n",
       "<p>11025 rows × 16 columns</p>\n",
       "</div>"
      ],
      "text/plain": [
       "          SiteUUID                                      SiteName SiteNativeID  \\\n",
       "0        CAssrg_S1                                  LAKE ALMANOR          ALM   \n",
       "1       CAssrg_S10                                BOUQUET CANYON          BQC   \n",
       "2      CAssrg_S100                     PLEASANT VALLEY RESERVOIR          PVR   \n",
       "3      CAssrg_S101                                       PYRAMID          PYM   \n",
       "4      CAssrg_S102                                 REDINGER LAKE          RDN   \n",
       "...            ...                                           ...          ...   \n",
       "11020   ORssrg_S91  CRESCENT CR AT CRESCENT LAKE NR CRESCENT, OR   14060000.0   \n",
       "11021   ORssrg_S92                WALKER BASIN CN NR LA PINE, OR   14062500.0   \n",
       "11022   ORssrg_S93             LITTLE DESCHUTES R NR LA PINE, OR   14063000.0   \n",
       "11023   ORssrg_S94       DESCHUTES R AT BENHAM FALLS NR BEND, OR   14064500.0   \n",
       "11024   ORssrg_S95                         ARNOLD CN NR BEND, OR   14065500.0   \n",
       "\n",
       "                    WaDENameS   Longitude   Latitude PODorPOUSite  \\\n",
       "0              Reservoir Gage -121.173000  40.218000         Gage   \n",
       "1              Reservoir Gage -118.395314  34.586714         Gage   \n",
       "2              Reservoir Gage -118.583576  37.423578         Gage   \n",
       "3              Reservoir Gage -118.764528  34.644153         Gage   \n",
       "4              Reservoir Gage -119.449000  37.145000         Gage   \n",
       "...                       ...         ...        ...          ...   \n",
       "11020  Canal / Ditch / Stream -121.973064  43.503043         Gage   \n",
       "11021         Discharge Point -121.632785  43.534694         Gage   \n",
       "11022  Canal / Ditch / Stream -121.502925  43.689147         Gage   \n",
       "11023  Canal / Ditch / Stream -121.411542  43.930365         Gage   \n",
       "11024         Discharge Point -121.378892  43.993711         Gage   \n",
       "\n",
       "          WaDENameWS AggregationIntervalUnitCV       VariableCV  \\\n",
       "0      Surface Water                   Monthly  Reservoir Level   \n",
       "1      Surface Water                   Monthly  Reservoir Level   \n",
       "2      Surface Water                   Monthly  Reservoir Level   \n",
       "3      Surface Water                   Monthly  Reservoir Level   \n",
       "4      Surface Water                   Monthly  Reservoir Level   \n",
       "...              ...                       ...              ...   \n",
       "11020  Surface Water                     Daily      Stream Gage   \n",
       "11021    Unspecified                     Daily      Stream Gage   \n",
       "11022  Surface Water                     Daily      Stream Gage   \n",
       "11023  Surface Water                     Daily      Stream Gage   \n",
       "11024    Unspecified                     Daily      Stream Gage   \n",
       "\n",
       "                                  VariableSpecificCV HasRecords  CountVar  \\\n",
       "0      Reservoir Level_Monthly_Storage_Surface Water        Yes         1   \n",
       "1      Reservoir Level_Monthly_Storage_Surface Water        Yes         1   \n",
       "2      Reservoir Level_Monthly_Storage_Surface Water        Yes         1   \n",
       "3      Reservoir Level_Monthly_Storage_Surface Water        Yes         1   \n",
       "4      Reservoir Level_Monthly_Storage_Surface Water        Yes         1   \n",
       "...                                              ...        ...       ...   \n",
       "11020    Stream Gage_Daily_Unspecified_Surface Water        Yes         1   \n",
       "11021    Stream Gage_Daily_Unspecified_Surface Water        Yes         1   \n",
       "11022    Stream Gage_Daily_Unspecified_Surface Water        Yes         1   \n",
       "11023    Stream Gage_Daily_Unspecified_Surface Water        Yes         1   \n",
       "11024    Stream Gage_Daily_Unspecified_Surface Water        Yes         1   \n",
       "\n",
       "      State minTimeFrameStart maxTimeFrameEnd  \n",
       "0        CA        1950-04-01      2022-02-01  \n",
       "1        CA        1950-04-01      2022-02-01  \n",
       "2        CA        2018-10-01      2022-02-01  \n",
       "3        CA        1974-10-01      2022-02-01  \n",
       "4        CA        1965-10-01      2022-02-01  \n",
       "...     ...               ...             ...  \n",
       "11020    OR        1912-01-01      2014-09-30  \n",
       "11021    OR        1924-05-05      2011-09-30  \n",
       "11022    OR        1924-05-01      2016-09-30  \n",
       "11023    OR        1906-04-01      2016-09-30  \n",
       "11024    OR        1923-10-01      1928-11-10  \n",
       "\n",
       "[11025 rows x 16 columns]"
      ]
     },
     "execution_count": 11,
     "metadata": {},
     "output_type": "execute_result"
    }
   ],
   "source": [
    "#Inspect output\n",
    "dfs"
   ]
  },
  {
   "cell_type": "code",
   "execution_count": 12,
   "id": "9c81786c",
   "metadata": {},
   "outputs": [
    {
     "data": {
      "text/plain": [
       "array(['Reservoir Gage', 'Stream Gage', 'Canal / Ditch / Stream',\n",
       "       'Reservoir', 'Well', 'Pump', 'Discharge Point', 'Reach', 'Spring',\n",
       "       'Other', 'Recharge Area', 'Seep'], dtype=object)"
      ]
     },
     "execution_count": 12,
     "metadata": {},
     "output_type": "execute_result"
    }
   ],
   "source": [
    "dfs['WaDENameS'].unique()"
   ]
  },
  {
   "cell_type": "code",
   "execution_count": 13,
   "id": "31cea2f9",
   "metadata": {},
   "outputs": [
    {
     "data": {
      "text/plain": [
       "array(['Surface Water', 'Groundwater', 'Unspecified'], dtype=object)"
      ]
     },
     "execution_count": 13,
     "metadata": {},
     "output_type": "execute_result"
    }
   ],
   "source": [
    "dfs['WaDENameWS'].unique()"
   ]
  },
  {
   "cell_type": "code",
   "execution_count": 14,
   "id": "6ccadacc",
   "metadata": {},
   "outputs": [
    {
     "data": {
      "text/plain": [
       "array(['Reservoir Level', 'Stream Gage', '',\n",
       "       'Reservoir Level, Stream Gage'], dtype=object)"
      ]
     },
     "execution_count": 14,
     "metadata": {},
     "output_type": "execute_result"
    }
   ],
   "source": [
    "dfs['VariableCV'].unique()"
   ]
  },
  {
   "cell_type": "code",
   "execution_count": 15,
   "id": "cfa84c60",
   "metadata": {},
   "outputs": [],
   "source": [
    "# Exporting output files.\n",
    "dfs.to_excel('Sites_v2.xlsx', index=False)"
   ]
  },
  {
   "cell_type": "code",
   "execution_count": null,
   "id": "8b00ae65",
   "metadata": {},
   "outputs": [],
   "source": []
  },
  {
   "cell_type": "markdown",
   "id": "2d1f94b4",
   "metadata": {},
   "source": [
    "## Mapping to Validate Sites"
   ]
  },
  {
   "cell_type": "code",
   "execution_count": 16,
   "id": "75b677b2",
   "metadata": {},
   "outputs": [
    {
     "data": {
      "text/plain": [
       "<AxesSubplot:>"
      ]
     },
     "execution_count": 16,
     "metadata": {},
     "output_type": "execute_result"
    },
    {
     "data": {
      "image/png": "[encoded data removed]",
      "text/plain": [
       "<Figure size 800x600 with 1 Axes>"
      ]
     },
     "metadata": {},
     "output_type": "display_data"
    }
   ],
   "source": [
    "# map points\n",
    "# convert dataframe to geodataframe\n",
    "gdf_sites = gpd.GeoDataFrame(dfs, geometry=gpd.points_from_xy(dfs.Longitude.astype(float), dfs.Latitude.astype(float)), crs=\"EPSG:4326\")\n",
    "gplt.pointplot(gdf_sites)"
   ]
  },
  {
   "cell_type": "code",
   "execution_count": null,
   "id": "329982fb",
   "metadata": {},
   "outputs": [],
   "source": []
  }
 ],
 "metadata": {
  "kernelspec": {
   "display_name": "Python 3 (ipykernel)",
   "language": "python",
   "name": "python3"
  },
  "language_info": {
   "codemirror_mode": {
    "name": "ipython",
    "version": 3
   },
   "file_extension": ".py",
   "mimetype": "text/x-python",
   "name": "python",
   "nbconvert_exporter": "python",
   "pygments_lexer": "ipython3",
   "version": "3.9.13"
  }
 },
 "nbformat": 4,
 "nbformat_minor": 5
}
