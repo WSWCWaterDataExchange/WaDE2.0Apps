{
 "cells": [
  {
   "cell_type": "code",
   "execution_count": null,
   "id": "21e87dba",
   "metadata": {},
   "outputs": [],
   "source": []
  },
  {
   "cell_type": "code",
   "execution_count": null,
   "id": "a29777d1",
   "metadata": {},
   "outputs": [],
   "source": [
    "#Needed Libararies\n",
    "import os\n",
    "import numpy as np\n",
    "import pandas as pd\n",
    "import requests\n",
    "import json\n",
    "pd.set_option('display.max_columns', 999)  # How to display all columns of a Pandas DataFrame in Jupyter Notebook\n",
    "\n",
    "#Setting work directory, reading inputs, creating dataframe\n",
    "workingDir = \"C:/Users/rjame\\Documents/WSWC Documents/WaDE Side Projects/20211707 MT ID SS RShiny Demo/MT_ID_ssDemo/MD_ID_ssDemo/Bonus Code\"\n",
    "os.chdir(workingDir)"
   ]
  }
 ],
 "metadata": {
  "kernelspec": {
   "display_name": "Python 3",
   "language": "python",
   "name": "python3"
  },
  "language_info": {
   "codemirror_mode": {
    "name": "ipython",
    "version": 3
   },
   "file_extension": ".py",
   "mimetype": "text/x-python",
   "name": "python",
   "nbconvert_exporter": "python",
   "pygments_lexer": "ipython3",
   "version": "3.8.5"
  }
 },
 "nbformat": 4,
 "nbformat_minor": 5
}
