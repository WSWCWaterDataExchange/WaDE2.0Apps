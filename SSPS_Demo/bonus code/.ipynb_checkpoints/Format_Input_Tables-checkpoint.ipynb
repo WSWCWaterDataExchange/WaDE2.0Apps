{
 "cells": [
  {
   "cell_type": "markdown",
   "id": "4aed23de",
   "metadata": {},
   "source": [
    "# Preprocessing Data Input Tables Site Specific (SSPS) RShiny Demo App\n",
    "Notes:\n",
    "- asdf"
   ]
  },
  {
   "cell_type": "code",
   "execution_count": 1,
   "id": "4301f091",
   "metadata": {},
   "outputs": [],
   "source": [
    "# working with data\n",
    "import os\n",
    "import numpy as np\n",
    "import pandas as pd\n",
    "import geopandas as gpd # the library that lets us read in shapefiles\n",
    "\n",
    "# visulizaiton\n",
    "import seaborn as sns\n",
    "import matplotlib.pyplot as plt\n",
    "import geoplot as gplt # for plotting maps\n",
    "\n",
    "# Cleanup\n",
    "from datetime import datetime\n",
    "pd.set_option('display.max_columns', 999)  # How to display all columns of a Pandas DataFrame in Jupyter Notebook"
   ]
  },
  {
   "cell_type": "code",
   "execution_count": 2,
   "id": "7715e363",
   "metadata": {},
   "outputs": [
    {
     "name": "stdout",
     "output_type": "stream",
     "text": [
      "current directory = C:\\Users\\rjame\\Documents\\WSWC Documents\\WaDE Side Projects Local\\20221017 Rshiny SS Demo\\SSPS_Demo\\bonus code\n",
      "new directory = C:\\Users\\rjame\\Documents\\WSWC Documents\\WaDE Side Projects Local\\20221017 Rshiny SS Demo\\SSPS_Demo\\NotEssentialData\n"
     ]
    }
   ],
   "source": [
    "# Setting work directory\n",
    "cwd = os.getcwd()\n",
    "print(\"current directory = \" + cwd)\n",
    "\n",
    "os.chdir(\"../NotEssentialData\")\n",
    "print(\"new directory = \" + os.path.abspath(os.curdir))"
   ]
  },
  {
   "cell_type": "markdown",
   "id": "eac455b3",
   "metadata": {},
   "source": [
    "## Clean Sites Data"
   ]
  },
  {
   "cell_type": "code",
   "execution_count": 3,
   "id": "a706094f",
   "metadata": {},
   "outputs": [
    {
     "name": "stdout",
     "output_type": "stream",
     "text": [
      "22920\n"
     ]
    },
    {
     "data": {
      "text/html": [
       "<div>\n",
       "<style scoped>\n",
       "    .dataframe tbody tr th:only-of-type {\n",
       "        vertical-align: middle;\n",
       "    }\n",
       "\n",
       "    .dataframe tbody tr th {\n",
       "        vertical-align: top;\n",
       "    }\n",
       "\n",
       "    .dataframe thead th {\n",
       "        text-align: right;\n",
       "    }\n",
       "</style>\n",
       "<table border=\"1\" class=\"dataframe\">\n",
       "  <thead>\n",
       "    <tr style=\"text-align: right;\">\n",
       "      <th></th>\n",
       "      <th>SiteUUID</th>\n",
       "      <th>SiteName</th>\n",
       "      <th>SiteNativeID</th>\n",
       "      <th>WaDENameS</th>\n",
       "      <th>Longitude</th>\n",
       "      <th>Latitude</th>\n",
       "      <th>PODorPOUSite</th>\n",
       "      <th>VariableCV</th>\n",
       "      <th>WaDENameV</th>\n",
       "      <th>TimeStep</th>\n",
       "      <th>WaDENameBU</th>\n",
       "      <th>WaDENameWS</th>\n",
       "      <th>VariableSpecificCV</th>\n",
       "    </tr>\n",
       "  </thead>\n",
       "  <tbody>\n",
       "    <tr>\n",
       "      <th>0</th>\n",
       "      <td>CAssps_S1062</td>\n",
       "      <td>SO. CAL. EDISON CO.-SANTA CATALINA</td>\n",
       "      <td>CA1910006</td>\n",
       "      <td>Unspecified</td>\n",
       "      <td>-118.434483</td>\n",
       "      <td>33.382597</td>\n",
       "      <td>POU</td>\n",
       "      <td>Delivered</td>\n",
       "      <td>Delivered</td>\n",
       "      <td>Monthly</td>\n",
       "      <td>Agriculture Irrigation</td>\n",
       "      <td>Unspecified</td>\n",
       "      <td>Cumulative Delivered_Monthly_Agricultural_Unsp...</td>\n",
       "    </tr>\n",
       "  </tbody>\n",
       "</table>\n",
       "</div>"
      ],
      "text/plain": [
       "       SiteUUID                            SiteName SiteNativeID    WaDENameS  \\\n",
       "0  CAssps_S1062  SO. CAL. EDISON CO.-SANTA CATALINA    CA1910006  Unspecified   \n",
       "\n",
       "    Longitude   Latitude PODorPOUSite VariableCV  WaDENameV TimeStep  \\\n",
       "0 -118.434483  33.382597          POU  Delivered  Delivered  Monthly   \n",
       "\n",
       "               WaDENameBU   WaDENameWS  \\\n",
       "0  Agriculture Irrigation  Unspecified   \n",
       "\n",
       "                                  VariableSpecificCV  \n",
       "0  Cumulative Delivered_Monthly_Agricultural_Unsp...  "
      ]
     },
     "execution_count": 3,
     "metadata": {},
     "output_type": "execute_result"
    }
   ],
   "source": [
    "# Sites Input\n",
    "fileInput = \"Sites.csv\"\n",
    "dfs = pd.read_csv(fileInput)\n",
    "print(len(dfs))\n",
    "dfs.head(1)"
   ]
  },
  {
   "cell_type": "code",
   "execution_count": 4,
   "id": "6827b748",
   "metadata": {},
   "outputs": [
    {
     "name": "stdout",
     "output_type": "stream",
     "text": [
      "22920\n"
     ]
    },
    {
     "data": {
      "text/html": [
       "<div>\n",
       "<style scoped>\n",
       "    .dataframe tbody tr th:only-of-type {\n",
       "        vertical-align: middle;\n",
       "    }\n",
       "\n",
       "    .dataframe tbody tr th {\n",
       "        vertical-align: top;\n",
       "    }\n",
       "\n",
       "    .dataframe thead th {\n",
       "        text-align: right;\n",
       "    }\n",
       "</style>\n",
       "<table border=\"1\" class=\"dataframe\">\n",
       "  <thead>\n",
       "    <tr style=\"text-align: right;\">\n",
       "      <th></th>\n",
       "      <th>SiteUUID</th>\n",
       "      <th>SiteName</th>\n",
       "      <th>SiteNativeID</th>\n",
       "      <th>WaDENameS</th>\n",
       "      <th>Longitude</th>\n",
       "      <th>Latitude</th>\n",
       "      <th>PODorPOUSite</th>\n",
       "      <th>VariableCV</th>\n",
       "      <th>WaDENameV</th>\n",
       "      <th>TimeStep</th>\n",
       "      <th>WaDENameBU</th>\n",
       "      <th>WaDENameWS</th>\n",
       "      <th>VariableSpecificCV</th>\n",
       "    </tr>\n",
       "  </thead>\n",
       "  <tbody>\n",
       "    <tr>\n",
       "      <th>0</th>\n",
       "      <td>CAssps_S1062</td>\n",
       "      <td>SO. CAL. EDISON CO.-SANTA CATALINA</td>\n",
       "      <td>CA1910006</td>\n",
       "      <td>Unspecified</td>\n",
       "      <td>-118.434483</td>\n",
       "      <td>33.382597</td>\n",
       "      <td>POU</td>\n",
       "      <td>Delivered</td>\n",
       "      <td>Delivered</td>\n",
       "      <td>Monthly</td>\n",
       "      <td>Agriculture Irrigation</td>\n",
       "      <td>Unspecified</td>\n",
       "      <td>Cumulative Delivered_Monthly_Agricultural_Unsp...</td>\n",
       "    </tr>\n",
       "  </tbody>\n",
       "</table>\n",
       "</div>"
      ],
      "text/plain": [
       "       SiteUUID                            SiteName SiteNativeID    WaDENameS  \\\n",
       "0  CAssps_S1062  SO. CAL. EDISON CO.-SANTA CATALINA    CA1910006  Unspecified   \n",
       "\n",
       "    Longitude   Latitude PODorPOUSite VariableCV  WaDENameV TimeStep  \\\n",
       "0 -118.434483  33.382597          POU  Delivered  Delivered  Monthly   \n",
       "\n",
       "               WaDENameBU   WaDENameWS  \\\n",
       "0  Agriculture Irrigation  Unspecified   \n",
       "\n",
       "                                  VariableSpecificCV  \n",
       "0  Cumulative Delivered_Monthly_Agricultural_Unsp...  "
      ]
     },
     "execution_count": 4,
     "metadata": {},
     "output_type": "execute_result"
    }
   ],
   "source": [
    "# Clean input.  Remove no value sites\n",
    "\n",
    "dfs = dfs.drop_duplicates() # Drop Duplicate Rows\n",
    "dfs = dfs.dropna(subset=['VariableSpecificCV']).reset_index(drop=True) # drop no value sites\n",
    "dfs = dfs.replace(np.nan, \"\")  # Replaces NaN values with blank.\n",
    "print(len(dfs))\n",
    "dfs.head(1)"
   ]
  },
  {
   "cell_type": "code",
   "execution_count": 5,
   "id": "1c8dca5b",
   "metadata": {},
   "outputs": [
    {
     "name": "stdout",
     "output_type": "stream",
     "text": [
      "\"City / District\",\n",
      "\"Lake\",\n",
      "\"Reservoir\",\n",
      "\"Stream Gage\",\n",
      "\"Surface Water Point\",\n",
      "\"Unspecified\",\n",
      "\"Well / Pump / Spring / Groundwater Point\",\n"
     ]
    }
   ],
   "source": [
    "# Fixing blank WaDENameS\n",
    "def updateWaDENameS(Val):\n",
    "    Val = str(Val).strip()\n",
    "    if Val == \"\" or pd.isnull(Val) or Val == \"\":\n",
    "        outString = \"Unspecified\"\n",
    "    else:\n",
    "        outString = Val\n",
    "    return outString\n",
    "\n",
    "dfs['WaDENameS'] = dfs.apply(lambda row: updateWaDENameS(row['WaDENameS']), axis=1)\n",
    "for x in dfs['WaDENameS'].sort_values().unique():\n",
    "    print(f'\"' + x + '\",')"
   ]
  },
  {
   "cell_type": "code",
   "execution_count": 6,
   "id": "a25d2fd0",
   "metadata": {
    "scrolled": true
   },
   "outputs": [
    {
     "name": "stdout",
     "output_type": "stream",
     "text": [
      "\"Groundwater\",\n",
      "\"Reuse\",\n",
      "\"Surface Water\",\n",
      "\"Surface and Groundwater\",\n",
      "\"Unspecified\",\n"
     ]
    }
   ],
   "source": [
    "# Fixing blank WaDENameWS\n",
    "def updateWaDENameWS(Val):\n",
    "    Val = str(Val).strip()\n",
    "    if Val == \"\" or pd.isnull(Val) or Val == \"\":\n",
    "        outString = \"Unspecified\"\n",
    "    else:\n",
    "        outString = Val\n",
    "    return outString\n",
    "\n",
    "dfs['WaDENameWS'] = dfs.apply(lambda row: updateWaDENameWS(row['WaDENameWS']), axis=1)\n",
    "for x in dfs['WaDENameWS'].sort_values().unique():\n",
    "    print(f'\"' + x + '\",')"
   ]
  },
  {
   "cell_type": "code",
   "execution_count": 7,
   "id": "3a5b01ed",
   "metadata": {},
   "outputs": [
    {
     "name": "stdout",
     "output_type": "stream",
     "text": [
      "\"Agriculture Irrigation\",\n",
      "\"Commercial/Industrial\",\n",
      "\"Domestic\",\n",
      "\"Geothermal\",\n",
      "\"Hydroelectric\",\n",
      "\"Mining\",\n",
      "\"Municipal Irrigation\",\n",
      "\"Other\",\n",
      "\"Public Supply\",\n",
      "\"Unspecified\",\n"
     ]
    }
   ],
   "source": [
    "# Fixing blank WaDENameBU\n",
    "def updateWaDENameBU(Val):\n",
    "    Val = str(Val).strip()\n",
    "    if Val == \"\" or pd.isnull(Val) or Val == \"\":\n",
    "        outString = \"Unspecified\"\n",
    "    else:\n",
    "        outString = Val\n",
    "    return outString\n",
    "\n",
    "dfs['WaDENameBU'] = dfs.apply(lambda row: updateWaDENameBU(row['WaDENameBU']), axis=1)\n",
    "for x in dfs['WaDENameBU'].sort_values().unique():\n",
    "    print(f'\"' + x + '\",')"
   ]
  },
  {
   "cell_type": "code",
   "execution_count": 8,
   "id": "89eab7ee",
   "metadata": {},
   "outputs": [
    {
     "name": "stdout",
     "output_type": "stream",
     "text": [
      "\"Delivered\",\n",
      "\"Produced\",\n",
      "\"Return\",\n",
      "\"Withdrawal\",\n"
     ]
    }
   ],
   "source": [
    "# Fixing blank WaDENameV\n",
    "def updateWaDENameV(Val):\n",
    "    Val = str(Val).strip()\n",
    "    if Val == \"\" or pd.isnull(Val) or Val == \"\":\n",
    "        outString = \"Unspecified\"\n",
    "    else:\n",
    "        outString = Val\n",
    "    return outString\n",
    "\n",
    "dfs['WaDENameV'] = dfs.apply(lambda row: updateWaDENameBU(row['WaDENameV']), axis=1)\n",
    "for x in dfs['WaDENameV'].sort_values().unique():\n",
    "    print(f'\"' + x + '\",')"
   ]
  },
  {
   "cell_type": "code",
   "execution_count": 9,
   "id": "4ab08e90",
   "metadata": {},
   "outputs": [
    {
     "name": "stdout",
     "output_type": "stream",
     "text": [
      "\"Annual\",\n",
      "\"Monthly\",\n"
     ]
    }
   ],
   "source": [
    "# check TimeStep\n",
    "for x in dfs['TimeStep'].sort_values().unique():\n",
    "    print(f'\"' + x + '\",')"
   ]
  },
  {
   "cell_type": "code",
   "execution_count": 10,
   "id": "78a71bc6",
   "metadata": {},
   "outputs": [
    {
     "name": "stdout",
     "output_type": "stream",
     "text": [
      "\"CA\",\n",
      "\"NJ\",\n",
      "\"NM\",\n",
      "\"TX\",\n",
      "\"UT\",\n"
     ]
    }
   ],
   "source": [
    "# add State field\n",
    "\n",
    "def createState(Val):\n",
    "    Val = Val.strip()\n",
    "    outString = Val[:2]\n",
    "    return outString\n",
    "\n",
    "dfs['State'] = dfs.apply(lambda row: createState(row['SiteUUID']), axis=1)\n",
    "for x in dfs['State'].sort_values().unique():\n",
    "    print(f'\"' + x + '\",')"
   ]
  },
  {
   "cell_type": "code",
   "execution_count": 11,
   "id": "c7ee3341",
   "metadata": {},
   "outputs": [
    {
     "name": "stdout",
     "output_type": "stream",
     "text": [
      "13076\n"
     ]
    },
    {
     "data": {
      "text/html": [
       "<div>\n",
       "<style scoped>\n",
       "    .dataframe tbody tr th:only-of-type {\n",
       "        vertical-align: middle;\n",
       "    }\n",
       "\n",
       "    .dataframe tbody tr th {\n",
       "        vertical-align: top;\n",
       "    }\n",
       "\n",
       "    .dataframe thead th {\n",
       "        text-align: right;\n",
       "    }\n",
       "</style>\n",
       "<table border=\"1\" class=\"dataframe\">\n",
       "  <thead>\n",
       "    <tr style=\"text-align: right;\">\n",
       "      <th></th>\n",
       "      <th>SiteUUID</th>\n",
       "      <th>SiteName</th>\n",
       "      <th>SiteNativeID</th>\n",
       "      <th>WaDENameS</th>\n",
       "      <th>Longitude</th>\n",
       "      <th>Latitude</th>\n",
       "      <th>PODorPOUSite</th>\n",
       "      <th>VariableCV</th>\n",
       "      <th>WaDENameV</th>\n",
       "      <th>TimeStep</th>\n",
       "      <th>WaDENameBU</th>\n",
       "      <th>WaDENameWS</th>\n",
       "      <th>VariableSpecificCV</th>\n",
       "      <th>State</th>\n",
       "    </tr>\n",
       "  </thead>\n",
       "  <tbody>\n",
       "    <tr>\n",
       "      <th>0</th>\n",
       "      <td>CAssps_S1</td>\n",
       "      <td>NORRIS CANYON PROPERTY OWNERS ASSN</td>\n",
       "      <td>CA0103040</td>\n",
       "      <td>Unspecified</td>\n",
       "      <td>-122.027303326</td>\n",
       "      <td>37.7343636266</td>\n",
       "      <td>POU</td>\n",
       "      <td>Produced, Delivered</td>\n",
       "      <td>Produced, Delivered</td>\n",
       "      <td>Monthly</td>\n",
       "      <td>Unspecified, Public Supply</td>\n",
       "      <td>Unspecified, Groundwater</td>\n",
       "      <td>Cumulative Delivered_Monthly_Single Family Res...</td>\n",
       "      <td>CA</td>\n",
       "    </tr>\n",
       "  </tbody>\n",
       "</table>\n",
       "</div>"
      ],
      "text/plain": [
       "    SiteUUID                            SiteName SiteNativeID    WaDENameS  \\\n",
       "0  CAssps_S1  NORRIS CANYON PROPERTY OWNERS ASSN    CA0103040  Unspecified   \n",
       "\n",
       "        Longitude       Latitude PODorPOUSite           VariableCV  \\\n",
       "0  -122.027303326  37.7343636266          POU  Produced, Delivered   \n",
       "\n",
       "             WaDENameV TimeStep                  WaDENameBU  \\\n",
       "0  Produced, Delivered  Monthly  Unspecified, Public Supply   \n",
       "\n",
       "                 WaDENameWS  \\\n",
       "0  Unspecified, Groundwater   \n",
       "\n",
       "                                  VariableSpecificCV State  \n",
       "0  Cumulative Delivered_Monthly_Single Family Res...    CA  "
      ]
     },
     "execution_count": 11,
     "metadata": {},
     "output_type": "execute_result"
    }
   ],
   "source": [
    "# Groupby SiteUUID\n",
    "#dfs = dfs.groupby(['SiteUUID']).agg(lambda x: \", \".join([str(elem) for elem in (list(set(x))) if elem!=\"\"])).replace(np.nan, \"\").reset_index()\n",
    "dfs = dfs.groupby(['SiteUUID']).agg(lambda x: \", \".join([str(elem) for elem in (list(set(x)))])).replace(np.nan, \"\").reset_index()\n",
    "print(len(dfs))\n",
    "dfs.head(1)"
   ]
  },
  {
   "cell_type": "code",
   "execution_count": 12,
   "id": "c896c3e3",
   "metadata": {},
   "outputs": [
    {
     "name": "stdout",
     "output_type": "stream",
     "text": [
      "\"1\",\n",
      "\"2\",\n",
      "\"3\",\n",
      "\"4\",\n",
      "\"5\",\n",
      "\"6\",\n",
      "\"7\",\n",
      "\"8\",\n",
      "\"9\",\n",
      "\"10\",\n",
      "\"11\",\n",
      "\"12\",\n"
     ]
    }
   ],
   "source": [
    "# count num of VariableSpecificCV after groupby\n",
    "\n",
    "def countNumVar(Val):\n",
    "    Val = list(Val.split(\",\"))\n",
    "    if Val == [\"\"]:\n",
    "        ValLen = 0\n",
    "    else:\n",
    "        ValLen = len(Val)\n",
    "    return ValLen\n",
    "\n",
    "dfs['CountVar'] = dfs.apply(lambda row: countNumVar(row['VariableSpecificCV']), axis=1)\n",
    "for x in dfs['CountVar'].sort_values().unique():\n",
    "    print(f'\"' + str(x) + '\",')"
   ]
  },
  {
   "cell_type": "markdown",
   "id": "d54a7137",
   "metadata": {},
   "source": [
    "#### Attach Additional Data"
   ]
  },
  {
   "cell_type": "code",
   "execution_count": 13,
   "id": "4a056177",
   "metadata": {},
   "outputs": [
    {
     "name": "stdout",
     "output_type": "stream",
     "text": [
      "13076\n"
     ]
    },
    {
     "data": {
      "text/html": [
       "<div>\n",
       "<style scoped>\n",
       "    .dataframe tbody tr th:only-of-type {\n",
       "        vertical-align: middle;\n",
       "    }\n",
       "\n",
       "    .dataframe tbody tr th {\n",
       "        vertical-align: top;\n",
       "    }\n",
       "\n",
       "    .dataframe thead th {\n",
       "        text-align: right;\n",
       "    }\n",
       "</style>\n",
       "<table border=\"1\" class=\"dataframe\">\n",
       "  <thead>\n",
       "    <tr style=\"text-align: right;\">\n",
       "      <th></th>\n",
       "      <th>SiteUUID</th>\n",
       "      <th>SiteName</th>\n",
       "      <th>SiteNativeID</th>\n",
       "      <th>WaDENameS</th>\n",
       "      <th>Longitude</th>\n",
       "      <th>Latitude</th>\n",
       "      <th>PODorPOUSite</th>\n",
       "      <th>VariableCV</th>\n",
       "      <th>WaDENameV</th>\n",
       "      <th>TimeStep</th>\n",
       "      <th>WaDENameBU</th>\n",
       "      <th>WaDENameWS</th>\n",
       "      <th>VariableSpecificCV</th>\n",
       "      <th>State</th>\n",
       "      <th>CountVar</th>\n",
       "      <th>minTimeFrameStart</th>\n",
       "      <th>maxTimeFrameEnd</th>\n",
       "    </tr>\n",
       "  </thead>\n",
       "  <tbody>\n",
       "    <tr>\n",
       "      <th>0</th>\n",
       "      <td>CAssps_S1</td>\n",
       "      <td>NORRIS CANYON PROPERTY OWNERS ASSN</td>\n",
       "      <td>CA0103040</td>\n",
       "      <td>Unspecified</td>\n",
       "      <td>-122.027303326</td>\n",
       "      <td>37.7343636266</td>\n",
       "      <td>POU</td>\n",
       "      <td>Produced, Delivered</td>\n",
       "      <td>Produced, Delivered</td>\n",
       "      <td>Monthly</td>\n",
       "      <td>Unspecified, Public Supply</td>\n",
       "      <td>Unspecified, Groundwater</td>\n",
       "      <td>Cumulative Delivered_Monthly_Single Family Res...</td>\n",
       "      <td>CA</td>\n",
       "      <td>2</td>\n",
       "      <td>2014-01-01</td>\n",
       "      <td>2016-12-31</td>\n",
       "    </tr>\n",
       "  </tbody>\n",
       "</table>\n",
       "</div>"
      ],
      "text/plain": [
       "    SiteUUID                            SiteName SiteNativeID    WaDENameS  \\\n",
       "0  CAssps_S1  NORRIS CANYON PROPERTY OWNERS ASSN    CA0103040  Unspecified   \n",
       "\n",
       "        Longitude       Latitude PODorPOUSite           VariableCV  \\\n",
       "0  -122.027303326  37.7343636266          POU  Produced, Delivered   \n",
       "\n",
       "             WaDENameV TimeStep                  WaDENameBU  \\\n",
       "0  Produced, Delivered  Monthly  Unspecified, Public Supply   \n",
       "\n",
       "                 WaDENameWS  \\\n",
       "0  Unspecified, Groundwater   \n",
       "\n",
       "                                  VariableSpecificCV State  CountVar  \\\n",
       "0  Cumulative Delivered_Monthly_Single Family Res...    CA         2   \n",
       "\n",
       "  minTimeFrameStart maxTimeFrameEnd  \n",
       "0        2014-01-01      2016-12-31  "
      ]
     },
     "execution_count": 13,
     "metadata": {},
     "output_type": "execute_result"
    }
   ],
   "source": [
    "# attach timeframe based on SiteUUID\n",
    "\n",
    "fileInput = \"Sites_timeframe.csv\"\n",
    "dfstf = pd.read_csv(fileInput)\n",
    "dfs = pd.merge(dfs, dfstf, on='SiteUUID', how='left')\n",
    "print(len(dfs))\n",
    "dfs.head(1)"
   ]
  },
  {
   "cell_type": "code",
   "execution_count": 14,
   "id": "d55b947a",
   "metadata": {},
   "outputs": [
    {
     "name": "stdout",
     "output_type": "stream",
     "text": [
      "13076\n"
     ]
    },
    {
     "data": {
      "text/html": [
       "<div>\n",
       "<style scoped>\n",
       "    .dataframe tbody tr th:only-of-type {\n",
       "        vertical-align: middle;\n",
       "    }\n",
       "\n",
       "    .dataframe tbody tr th {\n",
       "        vertical-align: top;\n",
       "    }\n",
       "\n",
       "    .dataframe thead th {\n",
       "        text-align: right;\n",
       "    }\n",
       "</style>\n",
       "<table border=\"1\" class=\"dataframe\">\n",
       "  <thead>\n",
       "    <tr style=\"text-align: right;\">\n",
       "      <th></th>\n",
       "      <th>SiteUUID</th>\n",
       "      <th>SiteName</th>\n",
       "      <th>SiteNativeID</th>\n",
       "      <th>WaDENameS</th>\n",
       "      <th>Longitude</th>\n",
       "      <th>Latitude</th>\n",
       "      <th>PODorPOUSite</th>\n",
       "      <th>VariableCV</th>\n",
       "      <th>WaDENameV</th>\n",
       "      <th>TimeStep</th>\n",
       "      <th>WaDENameBU</th>\n",
       "      <th>WaDENameWS</th>\n",
       "      <th>VariableSpecificCV</th>\n",
       "      <th>State</th>\n",
       "      <th>CountVar</th>\n",
       "      <th>minTimeFrameStart</th>\n",
       "      <th>maxTimeFrameEnd</th>\n",
       "      <th>minPopulationServed</th>\n",
       "      <th>maxPopulationServed</th>\n",
       "    </tr>\n",
       "  </thead>\n",
       "  <tbody>\n",
       "    <tr>\n",
       "      <th>0</th>\n",
       "      <td>CAssps_S1</td>\n",
       "      <td>NORRIS CANYON PROPERTY OWNERS ASSN</td>\n",
       "      <td>CA0103040</td>\n",
       "      <td>Unspecified</td>\n",
       "      <td>-122.027303326</td>\n",
       "      <td>37.7343636266</td>\n",
       "      <td>POU</td>\n",
       "      <td>Produced, Delivered</td>\n",
       "      <td>Produced, Delivered</td>\n",
       "      <td>Monthly</td>\n",
       "      <td>Unspecified, Public Supply</td>\n",
       "      <td>Unspecified, Groundwater</td>\n",
       "      <td>Cumulative Delivered_Monthly_Single Family Res...</td>\n",
       "      <td>CA</td>\n",
       "      <td>2</td>\n",
       "      <td>2014-01-01</td>\n",
       "      <td>2016-12-31</td>\n",
       "      <td>50.0</td>\n",
       "      <td>50.0</td>\n",
       "    </tr>\n",
       "  </tbody>\n",
       "</table>\n",
       "</div>"
      ],
      "text/plain": [
       "    SiteUUID                            SiteName SiteNativeID    WaDENameS  \\\n",
       "0  CAssps_S1  NORRIS CANYON PROPERTY OWNERS ASSN    CA0103040  Unspecified   \n",
       "\n",
       "        Longitude       Latitude PODorPOUSite           VariableCV  \\\n",
       "0  -122.027303326  37.7343636266          POU  Produced, Delivered   \n",
       "\n",
       "             WaDENameV TimeStep                  WaDENameBU  \\\n",
       "0  Produced, Delivered  Monthly  Unspecified, Public Supply   \n",
       "\n",
       "                 WaDENameWS  \\\n",
       "0  Unspecified, Groundwater   \n",
       "\n",
       "                                  VariableSpecificCV State  CountVar  \\\n",
       "0  Cumulative Delivered_Monthly_Single Family Res...    CA         2   \n",
       "\n",
       "  minTimeFrameStart maxTimeFrameEnd  minPopulationServed  maxPopulationServed  \n",
       "0        2014-01-01      2016-12-31                 50.0                 50.0  "
      ]
     },
     "execution_count": 14,
     "metadata": {},
     "output_type": "execute_result"
    }
   ],
   "source": [
    "# attach populationserved based on SiteUUID\n",
    "\n",
    "fileInput = \"Sites_populationserved.csv\"\n",
    "dfsps = pd.read_csv(fileInput)\n",
    "dfs = pd.merge(dfs, dfsps, on='SiteUUID', how='left')\n",
    "print(len(dfs))\n",
    "dfs.head(1)"
   ]
  },
  {
   "cell_type": "code",
   "execution_count": 15,
   "id": "41cb041d",
   "metadata": {},
   "outputs": [
    {
     "name": "stdout",
     "output_type": "stream",
     "text": [
      "min: 0\n",
      "min: 4061504\n",
      "max: 0\n",
      "max: 4061504\n"
     ]
    }
   ],
   "source": [
    "# Convert PopulationServed to numeric.\n",
    "# Convert to int, ignore NA values.\n",
    "dfs['minPopulationServed'] = pd.to_numeric(dfs['minPopulationServed'], errors='coerce')\n",
    "dfs['minPopulationServed'] = dfs['minPopulationServed'].astype('Int64')\n",
    "\n",
    "dfs['maxPopulationServed'] = pd.to_numeric(dfs['maxPopulationServed'], errors='coerce')\n",
    "dfs['maxPopulationServed'] = dfs['maxPopulationServed'].astype('Int64')\n",
    "\n",
    "print(f'min:', dfs['minPopulationServed'].min())\n",
    "print(f'min:', dfs['minPopulationServed'].max())\n",
    "print(f'max:', dfs['maxPopulationServed'].min())\n",
    "print(f'max:', dfs['maxPopulationServed'].max())"
   ]
  },
  {
   "cell_type": "code",
   "execution_count": 16,
   "id": "404eeeea",
   "metadata": {},
   "outputs": [
    {
     "name": "stdout",
     "output_type": "stream",
     "text": [
      "13076\n"
     ]
    },
    {
     "data": {
      "text/html": [
       "<div>\n",
       "<style scoped>\n",
       "    .dataframe tbody tr th:only-of-type {\n",
       "        vertical-align: middle;\n",
       "    }\n",
       "\n",
       "    .dataframe tbody tr th {\n",
       "        vertical-align: top;\n",
       "    }\n",
       "\n",
       "    .dataframe thead th {\n",
       "        text-align: right;\n",
       "    }\n",
       "</style>\n",
       "<table border=\"1\" class=\"dataframe\">\n",
       "  <thead>\n",
       "    <tr style=\"text-align: right;\">\n",
       "      <th></th>\n",
       "      <th>SiteUUID</th>\n",
       "      <th>SiteName</th>\n",
       "      <th>SiteNativeID</th>\n",
       "      <th>WaDENameS</th>\n",
       "      <th>Longitude</th>\n",
       "      <th>Latitude</th>\n",
       "      <th>PODorPOUSite_x</th>\n",
       "      <th>VariableCV</th>\n",
       "      <th>WaDENameV</th>\n",
       "      <th>TimeStep</th>\n",
       "      <th>WaDENameBU</th>\n",
       "      <th>WaDENameWS</th>\n",
       "      <th>VariableSpecificCV</th>\n",
       "      <th>State</th>\n",
       "      <th>CountVar</th>\n",
       "      <th>minTimeFrameStart</th>\n",
       "      <th>maxTimeFrameEnd</th>\n",
       "      <th>minPopulationServed</th>\n",
       "      <th>maxPopulationServed</th>\n",
       "      <th>PODorPOUSite_y</th>\n",
       "      <th>geometry</th>\n",
       "    </tr>\n",
       "  </thead>\n",
       "  <tbody>\n",
       "    <tr>\n",
       "      <th>0</th>\n",
       "      <td>CAssps_S1</td>\n",
       "      <td>NORRIS CANYON PROPERTY OWNERS ASSN</td>\n",
       "      <td>CA0103040</td>\n",
       "      <td>Unspecified</td>\n",
       "      <td>-122.027303326</td>\n",
       "      <td>37.7343636266</td>\n",
       "      <td>POU</td>\n",
       "      <td>Produced, Delivered</td>\n",
       "      <td>Produced, Delivered</td>\n",
       "      <td>Monthly</td>\n",
       "      <td>Unspecified, Public Supply</td>\n",
       "      <td>Unspecified, Groundwater</td>\n",
       "      <td>Cumulative Delivered_Monthly_Single Family Res...</td>\n",
       "      <td>CA</td>\n",
       "      <td>2</td>\n",
       "      <td>2014-01-01</td>\n",
       "      <td>2016-12-31</td>\n",
       "      <td>50</td>\n",
       "      <td>50</td>\n",
       "      <td>POU</td>\n",
       "      <td>POLYGON ((-122.02636000038909 37.7379799998779...</td>\n",
       "    </tr>\n",
       "  </tbody>\n",
       "</table>\n",
       "</div>"
      ],
      "text/plain": [
       "    SiteUUID                            SiteName SiteNativeID    WaDENameS  \\\n",
       "0  CAssps_S1  NORRIS CANYON PROPERTY OWNERS ASSN    CA0103040  Unspecified   \n",
       "\n",
       "        Longitude       Latitude PODorPOUSite_x           VariableCV  \\\n",
       "0  -122.027303326  37.7343636266            POU  Produced, Delivered   \n",
       "\n",
       "             WaDENameV TimeStep                  WaDENameBU  \\\n",
       "0  Produced, Delivered  Monthly  Unspecified, Public Supply   \n",
       "\n",
       "                 WaDENameWS  \\\n",
       "0  Unspecified, Groundwater   \n",
       "\n",
       "                                  VariableSpecificCV State  CountVar  \\\n",
       "0  Cumulative Delivered_Monthly_Single Family Res...    CA         2   \n",
       "\n",
       "  minTimeFrameStart maxTimeFrameEnd  minPopulationServed  maxPopulationServed  \\\n",
       "0        2014-01-01      2016-12-31                   50                   50   \n",
       "\n",
       "  PODorPOUSite_y                                           geometry  \n",
       "0            POU  POLYGON ((-122.02636000038909 37.7379799998779...  "
      ]
     },
     "execution_count": 16,
     "metadata": {},
     "output_type": "execute_result"
    }
   ],
   "source": [
    "# attach geometry based on SiteUUID\n",
    "\n",
    "fileInput = \"Sites_geometry.csv\"\n",
    "dfgeo = pd.read_csv(fileInput)\n",
    "dfs = pd.merge(dfs, dfgeo, on='SiteUUID', how='left')\n",
    "print(len(dfs))\n",
    "dfs.head(1)"
   ]
  },
  {
   "cell_type": "markdown",
   "id": "e1b83b2d",
   "metadata": {},
   "source": [
    "#### Fixes"
   ]
  },
  {
   "cell_type": "code",
   "execution_count": 17,
   "id": "b200fc11",
   "metadata": {},
   "outputs": [
    {
     "name": "stdout",
     "output_type": "stream",
     "text": [
      "13076\n"
     ]
    },
    {
     "data": {
      "text/html": [
       "<div>\n",
       "<style scoped>\n",
       "    .dataframe tbody tr th:only-of-type {\n",
       "        vertical-align: middle;\n",
       "    }\n",
       "\n",
       "    .dataframe tbody tr th {\n",
       "        vertical-align: top;\n",
       "    }\n",
       "\n",
       "    .dataframe thead th {\n",
       "        text-align: right;\n",
       "    }\n",
       "</style>\n",
       "<table border=\"1\" class=\"dataframe\">\n",
       "  <thead>\n",
       "    <tr style=\"text-align: right;\">\n",
       "      <th></th>\n",
       "      <th>SiteUUID</th>\n",
       "      <th>SiteName</th>\n",
       "      <th>SiteNativeID</th>\n",
       "      <th>WaDENameS</th>\n",
       "      <th>Longitude</th>\n",
       "      <th>Latitude</th>\n",
       "      <th>PODorPOUSite_x</th>\n",
       "      <th>VariableCV</th>\n",
       "      <th>WaDENameV</th>\n",
       "      <th>TimeStep</th>\n",
       "      <th>WaDENameBU</th>\n",
       "      <th>WaDENameWS</th>\n",
       "      <th>VariableSpecificCV</th>\n",
       "      <th>State</th>\n",
       "      <th>CountVar</th>\n",
       "      <th>minTimeFrameStart</th>\n",
       "      <th>maxTimeFrameEnd</th>\n",
       "      <th>minPopulationServed</th>\n",
       "      <th>maxPopulationServed</th>\n",
       "      <th>PODorPOUSite_y</th>\n",
       "      <th>geometry</th>\n",
       "    </tr>\n",
       "  </thead>\n",
       "  <tbody>\n",
       "    <tr>\n",
       "      <th>0</th>\n",
       "      <td>CAssps_S1</td>\n",
       "      <td>NORRIS CANYON PROPERTY OWNERS ASSN</td>\n",
       "      <td>CA0103040</td>\n",
       "      <td>Unspecified</td>\n",
       "      <td>-122.027303</td>\n",
       "      <td>37.734364</td>\n",
       "      <td>POU</td>\n",
       "      <td>Produced, Delivered</td>\n",
       "      <td>Produced, Delivered</td>\n",
       "      <td>Monthly</td>\n",
       "      <td>Unspecified, Public Supply</td>\n",
       "      <td>Unspecified, Groundwater</td>\n",
       "      <td>Cumulative Delivered_Monthly_Single Family Res...</td>\n",
       "      <td>CA</td>\n",
       "      <td>2</td>\n",
       "      <td>2014-01-01</td>\n",
       "      <td>2016-12-31</td>\n",
       "      <td>50</td>\n",
       "      <td>50</td>\n",
       "      <td>POU</td>\n",
       "      <td>POLYGON ((-122.02636000038909 37.7379799998779...</td>\n",
       "    </tr>\n",
       "  </tbody>\n",
       "</table>\n",
       "</div>"
      ],
      "text/plain": [
       "    SiteUUID                            SiteName SiteNativeID    WaDENameS  \\\n",
       "0  CAssps_S1  NORRIS CANYON PROPERTY OWNERS ASSN    CA0103040  Unspecified   \n",
       "\n",
       "    Longitude   Latitude PODorPOUSite_x           VariableCV  \\\n",
       "0 -122.027303  37.734364            POU  Produced, Delivered   \n",
       "\n",
       "             WaDENameV TimeStep                  WaDENameBU  \\\n",
       "0  Produced, Delivered  Monthly  Unspecified, Public Supply   \n",
       "\n",
       "                 WaDENameWS  \\\n",
       "0  Unspecified, Groundwater   \n",
       "\n",
       "                                  VariableSpecificCV State  CountVar  \\\n",
       "0  Cumulative Delivered_Monthly_Single Family Res...    CA         2   \n",
       "\n",
       "  minTimeFrameStart maxTimeFrameEnd  minPopulationServed  maxPopulationServed  \\\n",
       "0        2014-01-01      2016-12-31                   50                   50   \n",
       "\n",
       "  PODorPOUSite_y                                           geometry  \n",
       "0            POU  POLYGON ((-122.02636000038909 37.7379799998779...  "
      ]
     },
     "execution_count": 17,
     "metadata": {},
     "output_type": "execute_result"
    }
   ],
   "source": [
    "# Temp Fix\n",
    "\n",
    "# remove lat & long entries that contain a ','\n",
    "dfs = dfs[dfs['Latitude'].str.contains(',') == False]\n",
    "dfs = dfs[dfs['Longitude'].str.contains(',') == False]\n",
    "\n",
    "# Ensure long is < 0 and > -125 (few ID sites out of bounds)\n",
    "# Ensure lat is > 10 and < 50 (few MT sites out of bounds).\n",
    "dfs['Latitude'] = pd.to_numeric(dfs['Latitude'], errors='coerce')\n",
    "dfs['Longitude'] = pd.to_numeric(dfs['Longitude'], errors='coerce')\n",
    "dfs = dfs[(dfs['Latitude'].astype(int) > 10) & (dfs['Latitude'].astype(int) < 50)]\n",
    "dfs = dfs[(dfs['Longitude'].astype(int) < 0) & (dfs['Longitude'].astype(int) > -125)]\n",
    "\n",
    "print(len(dfs))\n",
    "dfs.head(1)"
   ]
  },
  {
   "cell_type": "code",
   "execution_count": 18,
   "id": "4b38449d",
   "metadata": {},
   "outputs": [],
   "source": [
    "# # Issue of ESRI Shapefile does not support datetime fields\n",
    "\n",
    "# dfs['minTimeFrameStart'] = pd.to_datetime(dfs['minTimeFrameStart'], errors = 'coerce')\n",
    "# dfs['maxTimeFrameEnd'] = pd.to_datetime(dfs['maxTimeFrameEnd'], errors = 'coerce')\n",
    "# print(dfs['minTimeFrameStart'].min())\n",
    "# print(dfs['maxTimeFrameEnd'].max())"
   ]
  },
  {
   "cell_type": "code",
   "execution_count": 19,
   "id": "2fd38aea",
   "metadata": {},
   "outputs": [
    {
     "data": {
      "text/html": [
       "<div>\n",
       "<style scoped>\n",
       "    .dataframe tbody tr th:only-of-type {\n",
       "        vertical-align: middle;\n",
       "    }\n",
       "\n",
       "    .dataframe tbody tr th {\n",
       "        vertical-align: top;\n",
       "    }\n",
       "\n",
       "    .dataframe thead th {\n",
       "        text-align: right;\n",
       "    }\n",
       "</style>\n",
       "<table border=\"1\" class=\"dataframe\">\n",
       "  <thead>\n",
       "    <tr style=\"text-align: right;\">\n",
       "      <th></th>\n",
       "      <th>SiteUUID</th>\n",
       "      <th>SiteName</th>\n",
       "      <th>SiteNativeID</th>\n",
       "      <th>WaDENameS</th>\n",
       "      <th>Longitude</th>\n",
       "      <th>Latitude</th>\n",
       "      <th>PODorPOUSite_x</th>\n",
       "      <th>VariableCV</th>\n",
       "      <th>WaDENameV</th>\n",
       "      <th>TimeStep</th>\n",
       "      <th>WaDENameBU</th>\n",
       "      <th>WaDENameWS</th>\n",
       "      <th>VariableSpecificCV</th>\n",
       "      <th>State</th>\n",
       "      <th>CountVar</th>\n",
       "      <th>minTimeFrameStart</th>\n",
       "      <th>maxTimeFrameEnd</th>\n",
       "      <th>minPopulationServed</th>\n",
       "      <th>maxPopulationServed</th>\n",
       "      <th>PODorPOUSite_y</th>\n",
       "      <th>geometry</th>\n",
       "    </tr>\n",
       "  </thead>\n",
       "  <tbody>\n",
       "    <tr>\n",
       "      <th>0</th>\n",
       "      <td>CAssps_S1</td>\n",
       "      <td>NORRIS CANYON PROPERTY OWNERS ASSN</td>\n",
       "      <td>CA0103040</td>\n",
       "      <td>Unspecified</td>\n",
       "      <td>-122.027303</td>\n",
       "      <td>37.734364</td>\n",
       "      <td>POU</td>\n",
       "      <td>Produced, Delivered</td>\n",
       "      <td>Produced, Delivered</td>\n",
       "      <td>Monthly</td>\n",
       "      <td>Unspecified, Public Supply</td>\n",
       "      <td>Unspecified, Groundwater</td>\n",
       "      <td>Cumulative Delivered_Monthly_Single Family Res...</td>\n",
       "      <td>CA</td>\n",
       "      <td>2</td>\n",
       "      <td>2014-01-01</td>\n",
       "      <td>2016-12-31</td>\n",
       "      <td>50</td>\n",
       "      <td>50</td>\n",
       "      <td>POU</td>\n",
       "      <td>POLYGON ((-122.02636000038909 37.7379799998779...</td>\n",
       "    </tr>\n",
       "    <tr>\n",
       "      <th>1</th>\n",
       "      <td>CAssps_S10</td>\n",
       "      <td>ALAMEDA COUNTY FAIRGROUNDS</td>\n",
       "      <td>CA0105020</td>\n",
       "      <td>Unspecified</td>\n",
       "      <td>-121.887236</td>\n",
       "      <td>37.661659</td>\n",
       "      <td>POU</td>\n",
       "      <td>Produced, Delivered</td>\n",
       "      <td>Produced, Delivered</td>\n",
       "      <td>Monthly</td>\n",
       "      <td>Unspecified, Municipal Irrigation, Public Supply</td>\n",
       "      <td>Unspecified, Groundwater</td>\n",
       "      <td>Cumulative Delivered_Monthly_Multi Family Resi...</td>\n",
       "      <td>CA</td>\n",
       "      <td>3</td>\n",
       "      <td>2013-01-01</td>\n",
       "      <td>2016-12-31</td>\n",
       "      <td>82</td>\n",
       "      <td>82</td>\n",
       "      <td>POU</td>\n",
       "      <td>POLYGON ((-121.88789999944797 37.6622299998386...</td>\n",
       "    </tr>\n",
       "    <tr>\n",
       "      <th>2</th>\n",
       "      <td>CAssps_S100</td>\n",
       "      <td>FOREST RANCH CHARTER SCHOOL</td>\n",
       "      <td>CA0400079</td>\n",
       "      <td>Unspecified</td>\n",
       "      <td>-121.667045</td>\n",
       "      <td>39.884413</td>\n",
       "      <td>POU</td>\n",
       "      <td>Produced</td>\n",
       "      <td>Produced</td>\n",
       "      <td>Monthly</td>\n",
       "      <td>Unspecified</td>\n",
       "      <td>Groundwater</td>\n",
       "      <td>Cumulative Produced_Monthly_Total_Groundwater</td>\n",
       "      <td>CA</td>\n",
       "      <td>1</td>\n",
       "      <td>2014-01-01</td>\n",
       "      <td>2016-12-31</td>\n",
       "      <td>146</td>\n",
       "      <td>146</td>\n",
       "      <td>POU</td>\n",
       "      <td>POLYGON ((-121.6677100001466 39.88542000026367...</td>\n",
       "    </tr>\n",
       "    <tr>\n",
       "      <th>3</th>\n",
       "      <td>CAssps_S1000</td>\n",
       "      <td>LANCASTER PARK MOBILE HOME PARK</td>\n",
       "      <td>CA1900038</td>\n",
       "      <td>Unspecified</td>\n",
       "      <td>-118.131822</td>\n",
       "      <td>34.746266</td>\n",
       "      <td>POU</td>\n",
       "      <td>Produced</td>\n",
       "      <td>Produced</td>\n",
       "      <td>Monthly</td>\n",
       "      <td>Unspecified</td>\n",
       "      <td>Groundwater</td>\n",
       "      <td>Cumulative Produced_Monthly_Total_Groundwater</td>\n",
       "      <td>CA</td>\n",
       "      <td>1</td>\n",
       "      <td>2016-01-01</td>\n",
       "      <td>2016-12-31</td>\n",
       "      <td>61</td>\n",
       "      <td>61</td>\n",
       "      <td>POU</td>\n",
       "      <td>POLYGON ((-118.13252999981032 34.7459100000641...</td>\n",
       "    </tr>\n",
       "    <tr>\n",
       "      <th>4</th>\n",
       "      <td>CAssps_S1001</td>\n",
       "      <td>PETER PITCHESS HONOR RANCHO DETN. CTR</td>\n",
       "      <td>CA1900046</td>\n",
       "      <td>Unspecified</td>\n",
       "      <td>-118.595689</td>\n",
       "      <td>34.465742</td>\n",
       "      <td>POU</td>\n",
       "      <td>Produced</td>\n",
       "      <td>Produced</td>\n",
       "      <td>Monthly</td>\n",
       "      <td>Unspecified</td>\n",
       "      <td>Groundwater</td>\n",
       "      <td>Cumulative Produced_Monthly_Total_Groundwater</td>\n",
       "      <td>CA</td>\n",
       "      <td>1</td>\n",
       "      <td>2013-01-01</td>\n",
       "      <td>2016-12-31</td>\n",
       "      <td>7500</td>\n",
       "      <td>7500</td>\n",
       "      <td>POU</td>\n",
       "      <td>MULTIPOLYGON (((-118.60232725927787 34.4652590...</td>\n",
       "    </tr>\n",
       "  </tbody>\n",
       "</table>\n",
       "</div>"
      ],
      "text/plain": [
       "       SiteUUID                               SiteName SiteNativeID  \\\n",
       "0     CAssps_S1     NORRIS CANYON PROPERTY OWNERS ASSN    CA0103040   \n",
       "1    CAssps_S10             ALAMEDA COUNTY FAIRGROUNDS    CA0105020   \n",
       "2   CAssps_S100            FOREST RANCH CHARTER SCHOOL    CA0400079   \n",
       "3  CAssps_S1000        LANCASTER PARK MOBILE HOME PARK    CA1900038   \n",
       "4  CAssps_S1001  PETER PITCHESS HONOR RANCHO DETN. CTR    CA1900046   \n",
       "\n",
       "     WaDENameS   Longitude   Latitude PODorPOUSite_x           VariableCV  \\\n",
       "0  Unspecified -122.027303  37.734364            POU  Produced, Delivered   \n",
       "1  Unspecified -121.887236  37.661659            POU  Produced, Delivered   \n",
       "2  Unspecified -121.667045  39.884413            POU             Produced   \n",
       "3  Unspecified -118.131822  34.746266            POU             Produced   \n",
       "4  Unspecified -118.595689  34.465742            POU             Produced   \n",
       "\n",
       "             WaDENameV TimeStep  \\\n",
       "0  Produced, Delivered  Monthly   \n",
       "1  Produced, Delivered  Monthly   \n",
       "2             Produced  Monthly   \n",
       "3             Produced  Monthly   \n",
       "4             Produced  Monthly   \n",
       "\n",
       "                                         WaDENameBU                WaDENameWS  \\\n",
       "0                        Unspecified, Public Supply  Unspecified, Groundwater   \n",
       "1  Unspecified, Municipal Irrigation, Public Supply  Unspecified, Groundwater   \n",
       "2                                       Unspecified               Groundwater   \n",
       "3                                       Unspecified               Groundwater   \n",
       "4                                       Unspecified               Groundwater   \n",
       "\n",
       "                                  VariableSpecificCV State  CountVar  \\\n",
       "0  Cumulative Delivered_Monthly_Single Family Res...    CA         2   \n",
       "1  Cumulative Delivered_Monthly_Multi Family Resi...    CA         3   \n",
       "2      Cumulative Produced_Monthly_Total_Groundwater    CA         1   \n",
       "3      Cumulative Produced_Monthly_Total_Groundwater    CA         1   \n",
       "4      Cumulative Produced_Monthly_Total_Groundwater    CA         1   \n",
       "\n",
       "  minTimeFrameStart maxTimeFrameEnd  minPopulationServed  maxPopulationServed  \\\n",
       "0        2014-01-01      2016-12-31                   50                   50   \n",
       "1        2013-01-01      2016-12-31                   82                   82   \n",
       "2        2014-01-01      2016-12-31                  146                  146   \n",
       "3        2016-01-01      2016-12-31                   61                   61   \n",
       "4        2013-01-01      2016-12-31                 7500                 7500   \n",
       "\n",
       "  PODorPOUSite_y                                           geometry  \n",
       "0            POU  POLYGON ((-122.02636000038909 37.7379799998779...  \n",
       "1            POU  POLYGON ((-121.88789999944797 37.6622299998386...  \n",
       "2            POU  POLYGON ((-121.6677100001466 39.88542000026367...  \n",
       "3            POU  POLYGON ((-118.13252999981032 34.7459100000641...  \n",
       "4            POU  MULTIPOLYGON (((-118.60232725927787 34.4652590...  "
      ]
     },
     "execution_count": 19,
     "metadata": {},
     "output_type": "execute_result"
    }
   ],
   "source": [
    "#Inspect output\n",
    "dfs.head()"
   ]
  },
  {
   "cell_type": "code",
   "execution_count": 20,
   "id": "5cf690a9",
   "metadata": {},
   "outputs": [
    {
     "name": "stdout",
     "output_type": "stream",
     "text": [
      "<class 'pandas.core.frame.DataFrame'>\n",
      "Int64Index: 13076 entries, 0 to 13075\n",
      "Data columns (total 21 columns):\n",
      " #   Column               Non-Null Count  Dtype  \n",
      "---  ------               --------------  -----  \n",
      " 0   SiteUUID             13076 non-null  object \n",
      " 1   SiteName             13076 non-null  object \n",
      " 2   SiteNativeID         13076 non-null  object \n",
      " 3   WaDENameS            13076 non-null  object \n",
      " 4   Longitude            13076 non-null  float64\n",
      " 5   Latitude             13076 non-null  float64\n",
      " 6   PODorPOUSite_x       13076 non-null  object \n",
      " 7   VariableCV           13076 non-null  object \n",
      " 8   WaDENameV            13076 non-null  object \n",
      " 9   TimeStep             13076 non-null  object \n",
      " 10  WaDENameBU           13076 non-null  object \n",
      " 11  WaDENameWS           13076 non-null  object \n",
      " 12  VariableSpecificCV   13076 non-null  object \n",
      " 13  State                13076 non-null  object \n",
      " 14  CountVar             13076 non-null  int64  \n",
      " 15  minTimeFrameStart    13076 non-null  object \n",
      " 16  maxTimeFrameEnd      13076 non-null  object \n",
      " 17  minPopulationServed  9041 non-null   Int64  \n",
      " 18  maxPopulationServed  9041 non-null   Int64  \n",
      " 19  PODorPOUSite_y       13076 non-null  object \n",
      " 20  geometry             9016 non-null   object \n",
      "dtypes: Int64(2), float64(2), int64(1), object(16)\n",
      "memory usage: 2.2+ MB\n"
     ]
    }
   ],
   "source": [
    "dfs.info()"
   ]
  },
  {
   "cell_type": "markdown",
   "id": "f3659dab",
   "metadata": {},
   "source": [
    "## Create Output Sites xlsx file\n",
    "- only points from dfs"
   ]
  },
  {
   "cell_type": "code",
   "execution_count": 21,
   "id": "60b78ae3",
   "metadata": {},
   "outputs": [
    {
     "name": "stdout",
     "output_type": "stream",
     "text": [
      "4060\n"
     ]
    },
    {
     "data": {
      "text/html": [
       "<div>\n",
       "<style scoped>\n",
       "    .dataframe tbody tr th:only-of-type {\n",
       "        vertical-align: middle;\n",
       "    }\n",
       "\n",
       "    .dataframe tbody tr th {\n",
       "        vertical-align: top;\n",
       "    }\n",
       "\n",
       "    .dataframe thead th {\n",
       "        text-align: right;\n",
       "    }\n",
       "</style>\n",
       "<table border=\"1\" class=\"dataframe\">\n",
       "  <thead>\n",
       "    <tr style=\"text-align: right;\">\n",
       "      <th></th>\n",
       "      <th>SiteUUID</th>\n",
       "      <th>SiteName</th>\n",
       "      <th>SiteNativeID</th>\n",
       "      <th>WaDENameS</th>\n",
       "      <th>Longitude</th>\n",
       "      <th>Latitude</th>\n",
       "      <th>PODorPOUSite</th>\n",
       "      <th>VariableCV</th>\n",
       "      <th>WaDENameV</th>\n",
       "      <th>TimeStep</th>\n",
       "      <th>WaDENameBU</th>\n",
       "      <th>WaDENameWS</th>\n",
       "      <th>VariableSpecificCV</th>\n",
       "      <th>State</th>\n",
       "      <th>CountVar</th>\n",
       "      <th>minTimeFrameStart</th>\n",
       "      <th>maxTimeFrameEnd</th>\n",
       "      <th>minPopulationServed</th>\n",
       "      <th>maxPopulationServed</th>\n",
       "    </tr>\n",
       "  </thead>\n",
       "  <tbody>\n",
       "    <tr>\n",
       "      <th>0</th>\n",
       "      <td>NMssps_S1</td>\n",
       "      <td>Unspecified</td>\n",
       "      <td>1.0</td>\n",
       "      <td>Unspecified</td>\n",
       "      <td>-106.273851</td>\n",
       "      <td>34.941213</td>\n",
       "      <td>POD</td>\n",
       "      <td>Withdrawal</td>\n",
       "      <td>Withdrawal</td>\n",
       "      <td>Annual</td>\n",
       "      <td>Unspecified</td>\n",
       "      <td>Groundwater</td>\n",
       "      <td>Withdrawal_Annual_Unspecified_Groundwater</td>\n",
       "      <td>NM</td>\n",
       "      <td>1</td>\n",
       "      <td>2010-01-01</td>\n",
       "      <td>2015-12-31</td>\n",
       "      <td>58</td>\n",
       "      <td>100</td>\n",
       "    </tr>\n",
       "  </tbody>\n",
       "</table>\n",
       "</div>"
      ],
      "text/plain": [
       "    SiteUUID     SiteName SiteNativeID    WaDENameS   Longitude   Latitude  \\\n",
       "0  NMssps_S1  Unspecified          1.0  Unspecified -106.273851  34.941213   \n",
       "\n",
       "  PODorPOUSite  VariableCV   WaDENameV TimeStep   WaDENameBU   WaDENameWS  \\\n",
       "0          POD  Withdrawal  Withdrawal   Annual  Unspecified  Groundwater   \n",
       "\n",
       "                          VariableSpecificCV State  CountVar  \\\n",
       "0  Withdrawal_Annual_Unspecified_Groundwater    NM         1   \n",
       "\n",
       "  minTimeFrameStart maxTimeFrameEnd  minPopulationServed  maxPopulationServed  \n",
       "0        2010-01-01      2015-12-31                   58                  100  "
      ]
     },
     "execution_count": 21,
     "metadata": {},
     "output_type": "execute_result"
    }
   ],
   "source": [
    "df_sites = dfs.copy()\n",
    "df_sites = df_sites[df_sites['geometry'].isnull()].reset_index(drop=True)\n",
    "df_sites = df_sites.drop(['geometry', 'PODorPOUSite_y'], axis=1)\n",
    "df_sites = df_sites.rename(columns={\"PODorPOUSite_x\": \"PODorPOUSite\"})\n",
    "print(len(df_sites))\n",
    "df_sites.head(1)"
   ]
  },
  {
   "cell_type": "markdown",
   "id": "97577e0f",
   "metadata": {},
   "source": [
    "## Create Output Polygon Shapefile\n",
    "- only polygons from dfs"
   ]
  },
  {
   "cell_type": "code",
   "execution_count": 22,
   "id": "1c8a2191",
   "metadata": {},
   "outputs": [
    {
     "name": "stdout",
     "output_type": "stream",
     "text": [
      "9016\n"
     ]
    },
    {
     "data": {
      "text/html": [
       "<div>\n",
       "<style scoped>\n",
       "    .dataframe tbody tr th:only-of-type {\n",
       "        vertical-align: middle;\n",
       "    }\n",
       "\n",
       "    .dataframe tbody tr th {\n",
       "        vertical-align: top;\n",
       "    }\n",
       "\n",
       "    .dataframe thead th {\n",
       "        text-align: right;\n",
       "    }\n",
       "</style>\n",
       "<table border=\"1\" class=\"dataframe\">\n",
       "  <thead>\n",
       "    <tr style=\"text-align: right;\">\n",
       "      <th></th>\n",
       "      <th>SiteUUID</th>\n",
       "      <th>SiteName</th>\n",
       "      <th>SiteNativeID</th>\n",
       "      <th>WaDENameS</th>\n",
       "      <th>Longitude</th>\n",
       "      <th>Latitude</th>\n",
       "      <th>PODorPOUSite</th>\n",
       "      <th>VariableCV</th>\n",
       "      <th>WaDENameV</th>\n",
       "      <th>TimeStep</th>\n",
       "      <th>WaDENameBU</th>\n",
       "      <th>WaDENameWS</th>\n",
       "      <th>VariableSpecificCV</th>\n",
       "      <th>State</th>\n",
       "      <th>CountVar</th>\n",
       "      <th>minTimeFrameStart</th>\n",
       "      <th>maxTimeFrameEnd</th>\n",
       "      <th>minPopulationServed</th>\n",
       "      <th>maxPopulationServed</th>\n",
       "      <th>geometry</th>\n",
       "    </tr>\n",
       "  </thead>\n",
       "  <tbody>\n",
       "    <tr>\n",
       "      <th>0</th>\n",
       "      <td>CAssps_S1</td>\n",
       "      <td>NORRIS CANYON PROPERTY OWNERS ASSN</td>\n",
       "      <td>CA0103040</td>\n",
       "      <td>Unspecified</td>\n",
       "      <td>-122.027303</td>\n",
       "      <td>37.734364</td>\n",
       "      <td>POU</td>\n",
       "      <td>Produced, Delivered</td>\n",
       "      <td>Produced, Delivered</td>\n",
       "      <td>Monthly</td>\n",
       "      <td>Unspecified, Public Supply</td>\n",
       "      <td>Unspecified, Groundwater</td>\n",
       "      <td>Cumulative Delivered_Monthly_Single Family Res...</td>\n",
       "      <td>CA</td>\n",
       "      <td>2</td>\n",
       "      <td>2014-01-01</td>\n",
       "      <td>2016-12-31</td>\n",
       "      <td>50</td>\n",
       "      <td>50</td>\n",
       "      <td>POLYGON ((-122.02636000038909 37.7379799998779...</td>\n",
       "    </tr>\n",
       "  </tbody>\n",
       "</table>\n",
       "</div>"
      ],
      "text/plain": [
       "    SiteUUID                            SiteName SiteNativeID    WaDENameS  \\\n",
       "0  CAssps_S1  NORRIS CANYON PROPERTY OWNERS ASSN    CA0103040  Unspecified   \n",
       "\n",
       "    Longitude   Latitude PODorPOUSite           VariableCV  \\\n",
       "0 -122.027303  37.734364          POU  Produced, Delivered   \n",
       "\n",
       "             WaDENameV TimeStep                  WaDENameBU  \\\n",
       "0  Produced, Delivered  Monthly  Unspecified, Public Supply   \n",
       "\n",
       "                 WaDENameWS  \\\n",
       "0  Unspecified, Groundwater   \n",
       "\n",
       "                                  VariableSpecificCV State  CountVar  \\\n",
       "0  Cumulative Delivered_Monthly_Single Family Res...    CA         2   \n",
       "\n",
       "  minTimeFrameStart maxTimeFrameEnd  minPopulationServed  maxPopulationServed  \\\n",
       "0        2014-01-01      2016-12-31                   50                   50   \n",
       "\n",
       "                                            geometry  \n",
       "0  POLYGON ((-122.02636000038909 37.7379799998779...  "
      ]
     },
     "execution_count": 22,
     "metadata": {},
     "output_type": "execute_result"
    }
   ],
   "source": [
    "df_poly = dfs.copy()\n",
    "df_poly = df_poly[df_poly['geometry'].notnull()].reset_index(drop=True)\n",
    "df_poly = df_poly.drop(['PODorPOUSite_y'], axis=1)\n",
    "df_poly = df_poly.rename(columns={\"PODorPOUSite_x\": \"PODorPOUSite\"})\n",
    "print(len(df_poly))\n",
    "df_poly.head(1)"
   ]
  },
  {
   "cell_type": "code",
   "execution_count": 23,
   "id": "ff799ce8",
   "metadata": {},
   "outputs": [
    {
     "name": "stdout",
     "output_type": "stream",
     "text": [
      "9016\n"
     ]
    },
    {
     "data": {
      "text/html": [
       "<div>\n",
       "<style scoped>\n",
       "    .dataframe tbody tr th:only-of-type {\n",
       "        vertical-align: middle;\n",
       "    }\n",
       "\n",
       "    .dataframe tbody tr th {\n",
       "        vertical-align: top;\n",
       "    }\n",
       "\n",
       "    .dataframe thead th {\n",
       "        text-align: right;\n",
       "    }\n",
       "</style>\n",
       "<table border=\"1\" class=\"dataframe\">\n",
       "  <thead>\n",
       "    <tr style=\"text-align: right;\">\n",
       "      <th></th>\n",
       "      <th>SiteUUID</th>\n",
       "      <th>SiteName</th>\n",
       "      <th>SiteNativeID</th>\n",
       "      <th>WaDENameS</th>\n",
       "      <th>Longitude</th>\n",
       "      <th>Latitude</th>\n",
       "      <th>PODorPOUSite</th>\n",
       "      <th>VariableCV</th>\n",
       "      <th>WaDENameV</th>\n",
       "      <th>TimeStep</th>\n",
       "      <th>WaDENameBU</th>\n",
       "      <th>WaDENameWS</th>\n",
       "      <th>VariableSpecificCV</th>\n",
       "      <th>State</th>\n",
       "      <th>CountVar</th>\n",
       "      <th>minTimeFrameStart</th>\n",
       "      <th>maxTimeFrameEnd</th>\n",
       "      <th>minPopulationServed</th>\n",
       "      <th>maxPopulationServed</th>\n",
       "      <th>geometry</th>\n",
       "    </tr>\n",
       "  </thead>\n",
       "  <tbody>\n",
       "    <tr>\n",
       "      <th>0</th>\n",
       "      <td>CAssps_S1</td>\n",
       "      <td>NORRIS CANYON PROPERTY OWNERS ASSN</td>\n",
       "      <td>CA0103040</td>\n",
       "      <td>Unspecified</td>\n",
       "      <td>-122.027303</td>\n",
       "      <td>37.734364</td>\n",
       "      <td>POU</td>\n",
       "      <td>Produced, Delivered</td>\n",
       "      <td>Produced, Delivered</td>\n",
       "      <td>Monthly</td>\n",
       "      <td>Unspecified, Public Supply</td>\n",
       "      <td>Unspecified, Groundwater</td>\n",
       "      <td>Cumulative Delivered_Monthly_Single Family Res...</td>\n",
       "      <td>CA</td>\n",
       "      <td>2</td>\n",
       "      <td>2014-01-01</td>\n",
       "      <td>2016-12-31</td>\n",
       "      <td>50</td>\n",
       "      <td>50</td>\n",
       "      <td>POLYGON ((-122.02636000038909 37.7379799998779...</td>\n",
       "    </tr>\n",
       "  </tbody>\n",
       "</table>\n",
       "</div>"
      ],
      "text/plain": [
       "    SiteUUID                            SiteName SiteNativeID    WaDENameS  \\\n",
       "0  CAssps_S1  NORRIS CANYON PROPERTY OWNERS ASSN    CA0103040  Unspecified   \n",
       "\n",
       "    Longitude   Latitude PODorPOUSite           VariableCV  \\\n",
       "0 -122.027303  37.734364          POU  Produced, Delivered   \n",
       "\n",
       "             WaDENameV TimeStep                  WaDENameBU  \\\n",
       "0  Produced, Delivered  Monthly  Unspecified, Public Supply   \n",
       "\n",
       "                 WaDENameWS  \\\n",
       "0  Unspecified, Groundwater   \n",
       "\n",
       "                                  VariableSpecificCV State  CountVar  \\\n",
       "0  Cumulative Delivered_Monthly_Single Family Res...    CA         2   \n",
       "\n",
       "  minTimeFrameStart maxTimeFrameEnd  minPopulationServed  maxPopulationServed  \\\n",
       "0        2014-01-01      2016-12-31                   50                   50   \n",
       "\n",
       "                                            geometry  \n",
       "0  POLYGON ((-122.02636000038909 37.7379799998779...  "
      ]
     },
     "execution_count": 23,
     "metadata": {},
     "output_type": "execute_result"
    }
   ],
   "source": [
    "# drop empty geometry rows\n",
    "df_poly = df_poly.dropna(subset=['geometry'])\n",
    "print(len(df_poly))\n",
    "df_poly.head(1)"
   ]
  },
  {
   "cell_type": "code",
   "execution_count": 24,
   "id": "722910ab",
   "metadata": {},
   "outputs": [],
   "source": [
    "# convert from object string -to- geometry\n",
    "# covert to geodataframe\n",
    "df_poly['geometry'] = gpd.GeoSeries.from_wkt(df_poly['geometry'], crs=\"EPSG:4326\")\n",
    "gdf_poly = gpd.GeoDataFrame(df_poly, geometry=df_poly['geometry'], crs=\"EPSG:4326\") # covert to geodataframe\n",
    "gdf_poly['geometry'] = gdf_poly.simplify(0.001) # simplify the geometry. Lower the number the larger the exported file."
   ]
  },
  {
   "cell_type": "markdown",
   "id": "ad8571d3",
   "metadata": {},
   "source": [
    "## Create Output Link Shapefile\n",
    "- covert it to a polygon of lines shapefile\n",
    "- update df_sites with 'HasLinksColor' feature if links exist."
   ]
  },
  {
   "cell_type": "code",
   "execution_count": 25,
   "id": "6f471d02",
   "metadata": {},
   "outputs": [
    {
     "name": "stdout",
     "output_type": "stream",
     "text": [
      "3860\n"
     ]
    },
    {
     "data": {
      "text/html": [
       "<div>\n",
       "<style scoped>\n",
       "    .dataframe tbody tr th:only-of-type {\n",
       "        vertical-align: middle;\n",
       "    }\n",
       "\n",
       "    .dataframe tbody tr th {\n",
       "        vertical-align: top;\n",
       "    }\n",
       "\n",
       "    .dataframe thead th {\n",
       "        text-align: right;\n",
       "    }\n",
       "</style>\n",
       "<table border=\"1\" class=\"dataframe\">\n",
       "  <thead>\n",
       "    <tr style=\"text-align: right;\">\n",
       "      <th></th>\n",
       "      <th>startSiteUUID</th>\n",
       "      <th>startPODorPOUSite</th>\n",
       "      <th>startSiteName</th>\n",
       "      <th>startLat</th>\n",
       "      <th>startLong</th>\n",
       "      <th>endSiteUUID</th>\n",
       "      <th>endPODorPOUSite</th>\n",
       "      <th>endSiteName</th>\n",
       "      <th>endLat</th>\n",
       "      <th>endLong</th>\n",
       "    </tr>\n",
       "  </thead>\n",
       "  <tbody>\n",
       "    <tr>\n",
       "      <th>0</th>\n",
       "      <td>NMssps_S1001</td>\n",
       "      <td>POU</td>\n",
       "      <td>TOP OF THE WORLD WATER ASSOCIATION CORP</td>\n",
       "      <td>35.418747</td>\n",
       "      <td>-108.303617</td>\n",
       "      <td>NMssps_S349</td>\n",
       "      <td>POD</td>\n",
       "      <td>Unspecified</td>\n",
       "      <td>35.419413</td>\n",
       "      <td>-108.304756</td>\n",
       "    </tr>\n",
       "  </tbody>\n",
       "</table>\n",
       "</div>"
      ],
      "text/plain": [
       "  startSiteUUID startPODorPOUSite                            startSiteName  \\\n",
       "0  NMssps_S1001               POU  TOP OF THE WORLD WATER ASSOCIATION CORP   \n",
       "\n",
       "    startLat   startLong  endSiteUUID endPODorPOUSite  endSiteName     endLat  \\\n",
       "0  35.418747 -108.303617  NMssps_S349             POD  Unspecified  35.419413   \n",
       "\n",
       "      endLong  \n",
       "0 -108.304756  "
      ]
     },
     "execution_count": 25,
     "metadata": {},
     "output_type": "execute_result"
    }
   ],
   "source": [
    "# Raw POU start and POD end site Input\n",
    "fileInput = \"POUstart_PODend_Sites.csv\"\n",
    "dfl1 = pd.read_csv(fileInput)\n",
    "\n",
    "# Raw POD start and POU end site Input\n",
    "fileInput = \"PODstart_POUend_Sites.csv\"\n",
    "dfl2 = pd.read_csv(fileInput)\n",
    "\n",
    "dfl = pd.concat([dfl1, dfl2]).reset_index(drop=True)\n",
    "\n",
    "#dfl = dfl.drop_duplicates().reset_index(drop=True) # Drop Duplicate Rows\n",
    "#dfl = dfl.replace(np.nan, \"\")  # Replaces NaN values with blank.\n",
    "print(len(dfl))\n",
    "dfl.head(1)"
   ]
  },
  {
   "cell_type": "code",
   "execution_count": 26,
   "id": "41fd995a",
   "metadata": {},
   "outputs": [
    {
     "name": "stdout",
     "output_type": "stream",
     "text": [
      "3860\n"
     ]
    },
    {
     "data": {
      "text/html": [
       "<div>\n",
       "<style scoped>\n",
       "    .dataframe tbody tr th:only-of-type {\n",
       "        vertical-align: middle;\n",
       "    }\n",
       "\n",
       "    .dataframe tbody tr th {\n",
       "        vertical-align: top;\n",
       "    }\n",
       "\n",
       "    .dataframe thead th {\n",
       "        text-align: right;\n",
       "    }\n",
       "</style>\n",
       "<table border=\"1\" class=\"dataframe\">\n",
       "  <thead>\n",
       "    <tr style=\"text-align: right;\">\n",
       "      <th></th>\n",
       "      <th>startSiteUUID</th>\n",
       "      <th>startPODorPOUSite</th>\n",
       "      <th>startSiteName</th>\n",
       "      <th>startLat</th>\n",
       "      <th>startLong</th>\n",
       "      <th>endSiteUUID</th>\n",
       "      <th>endPODorPOUSite</th>\n",
       "      <th>endSiteName</th>\n",
       "      <th>endLat</th>\n",
       "      <th>endLong</th>\n",
       "      <th>WaDENameS</th>\n",
       "      <th>VariableCV</th>\n",
       "      <th>WaDENameV</th>\n",
       "      <th>TimeStep</th>\n",
       "      <th>WaDENameBU</th>\n",
       "      <th>WaDENameWS</th>\n",
       "      <th>VariableSpecificCV</th>\n",
       "      <th>State</th>\n",
       "      <th>CountVar</th>\n",
       "      <th>minTimeFrameStart</th>\n",
       "      <th>maxTimeFrameEnd</th>\n",
       "      <th>minPopulationServed</th>\n",
       "      <th>maxPopulationServed</th>\n",
       "    </tr>\n",
       "  </thead>\n",
       "  <tbody>\n",
       "    <tr>\n",
       "      <th>0</th>\n",
       "      <td>NMssps_S1001</td>\n",
       "      <td>POU</td>\n",
       "      <td>TOP OF THE WORLD WATER ASSOCIATION CORP</td>\n",
       "      <td>35.418747</td>\n",
       "      <td>-108.303617</td>\n",
       "      <td>NMssps_S349</td>\n",
       "      <td>POD</td>\n",
       "      <td>Unspecified</td>\n",
       "      <td>35.419413</td>\n",
       "      <td>-108.304756</td>\n",
       "      <td>Unspecified</td>\n",
       "      <td>Withdrawal</td>\n",
       "      <td>Withdrawal</td>\n",
       "      <td>Annual</td>\n",
       "      <td>Unspecified</td>\n",
       "      <td>Groundwater</td>\n",
       "      <td>Withdrawal_Annual_Unspecified_Groundwater</td>\n",
       "      <td>NM</td>\n",
       "      <td>1.0</td>\n",
       "      <td>2010-01-01</td>\n",
       "      <td>2015-12-31</td>\n",
       "      <td>115</td>\n",
       "      <td>125</td>\n",
       "    </tr>\n",
       "  </tbody>\n",
       "</table>\n",
       "</div>"
      ],
      "text/plain": [
       "  startSiteUUID startPODorPOUSite                            startSiteName  \\\n",
       "0  NMssps_S1001               POU  TOP OF THE WORLD WATER ASSOCIATION CORP   \n",
       "\n",
       "    startLat   startLong  endSiteUUID endPODorPOUSite  endSiteName     endLat  \\\n",
       "0  35.418747 -108.303617  NMssps_S349             POD  Unspecified  35.419413   \n",
       "\n",
       "      endLong    WaDENameS  VariableCV   WaDENameV TimeStep   WaDENameBU  \\\n",
       "0 -108.304756  Unspecified  Withdrawal  Withdrawal   Annual  Unspecified   \n",
       "\n",
       "    WaDENameWS                         VariableSpecificCV State  CountVar  \\\n",
       "0  Groundwater  Withdrawal_Annual_Unspecified_Groundwater    NM       1.0   \n",
       "\n",
       "  minTimeFrameStart maxTimeFrameEnd  minPopulationServed  maxPopulationServed  \n",
       "0        2010-01-01      2015-12-31                  115                  125  "
      ]
     },
     "execution_count": 26,
     "metadata": {},
     "output_type": "execute_result"
    }
   ],
   "source": [
    "# attach dfs info so links will work with filters\n",
    "\n",
    "dfl = pd.merge(dfl, dfs, left_on='endSiteUUID', right_on='SiteUUID', how='left')\n",
    "dfl = dfl.drop(['SiteUUID', 'SiteName', 'SiteNativeID', 'Longitude', 'Latitude', 'geometry', 'PODorPOUSite_y', 'PODorPOUSite_x'], axis=1)\n",
    "print(len(dfl))\n",
    "dfl.head(1)"
   ]
  },
  {
   "cell_type": "code",
   "execution_count": 27,
   "id": "edc76e2e",
   "metadata": {},
   "outputs": [
    {
     "name": "stdout",
     "output_type": "stream",
     "text": [
      "3763\n"
     ]
    },
    {
     "data": {
      "text/html": [
       "<div>\n",
       "<style scoped>\n",
       "    .dataframe tbody tr th:only-of-type {\n",
       "        vertical-align: middle;\n",
       "    }\n",
       "\n",
       "    .dataframe tbody tr th {\n",
       "        vertical-align: top;\n",
       "    }\n",
       "\n",
       "    .dataframe thead th {\n",
       "        text-align: right;\n",
       "    }\n",
       "</style>\n",
       "<table border=\"1\" class=\"dataframe\">\n",
       "  <thead>\n",
       "    <tr style=\"text-align: right;\">\n",
       "      <th></th>\n",
       "      <th>startSiteUUID</th>\n",
       "      <th>startPODorPOUSite</th>\n",
       "      <th>startSiteName</th>\n",
       "      <th>startLat</th>\n",
       "      <th>startLong</th>\n",
       "      <th>endSiteUUID</th>\n",
       "      <th>endPODorPOUSite</th>\n",
       "      <th>endSiteName</th>\n",
       "      <th>endLat</th>\n",
       "      <th>endLong</th>\n",
       "      <th>WaDENameS</th>\n",
       "      <th>VariableCV</th>\n",
       "      <th>WaDENameV</th>\n",
       "      <th>TimeStep</th>\n",
       "      <th>WaDENameBU</th>\n",
       "      <th>WaDENameWS</th>\n",
       "      <th>VariableSpecificCV</th>\n",
       "      <th>State</th>\n",
       "      <th>CountVar</th>\n",
       "      <th>minTimeFrameStart</th>\n",
       "      <th>maxTimeFrameEnd</th>\n",
       "      <th>minPopulationServed</th>\n",
       "      <th>maxPopulationServed</th>\n",
       "    </tr>\n",
       "  </thead>\n",
       "  <tbody>\n",
       "    <tr>\n",
       "      <th>0</th>\n",
       "      <td>NMssps_S1001</td>\n",
       "      <td>POU</td>\n",
       "      <td>TOP OF THE WORLD WATER ASSOCIATION CORP</td>\n",
       "      <td>35.418747</td>\n",
       "      <td>-108.303617</td>\n",
       "      <td>NMssps_S349</td>\n",
       "      <td>POD</td>\n",
       "      <td>Unspecified</td>\n",
       "      <td>35.419413</td>\n",
       "      <td>-108.304756</td>\n",
       "      <td>Unspecified</td>\n",
       "      <td>Withdrawal</td>\n",
       "      <td>Withdrawal</td>\n",
       "      <td>Annual</td>\n",
       "      <td>Unspecified</td>\n",
       "      <td>Groundwater</td>\n",
       "      <td>Withdrawal_Annual_Unspecified_Groundwater</td>\n",
       "      <td>NM</td>\n",
       "      <td>1.0</td>\n",
       "      <td>2010-01-01</td>\n",
       "      <td>2015-12-31</td>\n",
       "      <td>115</td>\n",
       "      <td>125</td>\n",
       "    </tr>\n",
       "  </tbody>\n",
       "</table>\n",
       "</div>"
      ],
      "text/plain": [
       "  startSiteUUID startPODorPOUSite                            startSiteName  \\\n",
       "0  NMssps_S1001               POU  TOP OF THE WORLD WATER ASSOCIATION CORP   \n",
       "\n",
       "    startLat   startLong  endSiteUUID endPODorPOUSite  endSiteName     endLat  \\\n",
       "0  35.418747 -108.303617  NMssps_S349             POD  Unspecified  35.419413   \n",
       "\n",
       "      endLong    WaDENameS  VariableCV   WaDENameV TimeStep   WaDENameBU  \\\n",
       "0 -108.304756  Unspecified  Withdrawal  Withdrawal   Annual  Unspecified   \n",
       "\n",
       "    WaDENameWS                         VariableSpecificCV State  CountVar  \\\n",
       "0  Groundwater  Withdrawal_Annual_Unspecified_Groundwater    NM       1.0   \n",
       "\n",
       "  minTimeFrameStart maxTimeFrameEnd  minPopulationServed  maxPopulationServed  \n",
       "0        2010-01-01      2015-12-31                  115                  125  "
      ]
     },
     "execution_count": 27,
     "metadata": {},
     "output_type": "execute_result"
    }
   ],
   "source": [
    "# drop empty rows\n",
    "dfl = dfl.dropna(subset=['WaDENameS']).reset_index(drop=True)\n",
    "print(len(dfl))\n",
    "dfl.head(1)"
   ]
  },
  {
   "cell_type": "code",
   "execution_count": 28,
   "id": "d9ef013e",
   "metadata": {},
   "outputs": [
    {
     "name": "stderr",
     "output_type": "stream",
     "text": [
      "C:\\Users\\rjame\\anaconda3\\lib\\site-packages\\pandas\\core\\dtypes\\cast.py:127: ShapelyDeprecationWarning: The array interface is deprecated and will no longer work in Shapely 2.0. Convert the '.coords' to a numpy array instead.\n",
      "  arr = construct_1d_object_array_from_listlike(values)\n"
     ]
    },
    {
     "data": {
      "text/html": [
       "<div>\n",
       "<style scoped>\n",
       "    .dataframe tbody tr th:only-of-type {\n",
       "        vertical-align: middle;\n",
       "    }\n",
       "\n",
       "    .dataframe tbody tr th {\n",
       "        vertical-align: top;\n",
       "    }\n",
       "\n",
       "    .dataframe thead th {\n",
       "        text-align: right;\n",
       "    }\n",
       "</style>\n",
       "<table border=\"1\" class=\"dataframe\">\n",
       "  <thead>\n",
       "    <tr style=\"text-align: right;\">\n",
       "      <th></th>\n",
       "      <th>startSiteUUID</th>\n",
       "      <th>startPODorPOUSite</th>\n",
       "      <th>startSiteName</th>\n",
       "      <th>startLat</th>\n",
       "      <th>startLong</th>\n",
       "      <th>endSiteUUID</th>\n",
       "      <th>endPODorPOUSite</th>\n",
       "      <th>endSiteName</th>\n",
       "      <th>endLat</th>\n",
       "      <th>endLong</th>\n",
       "      <th>WaDENameS</th>\n",
       "      <th>VariableCV</th>\n",
       "      <th>WaDENameV</th>\n",
       "      <th>TimeStep</th>\n",
       "      <th>WaDENameBU</th>\n",
       "      <th>WaDENameWS</th>\n",
       "      <th>VariableSpecificCV</th>\n",
       "      <th>State</th>\n",
       "      <th>CountVar</th>\n",
       "      <th>minTimeFrameStart</th>\n",
       "      <th>maxTimeFrameEnd</th>\n",
       "      <th>minPopulationServed</th>\n",
       "      <th>maxPopulationServed</th>\n",
       "      <th>geometry</th>\n",
       "    </tr>\n",
       "  </thead>\n",
       "  <tbody>\n",
       "    <tr>\n",
       "      <th>0</th>\n",
       "      <td>NMssps_S1001</td>\n",
       "      <td>POU</td>\n",
       "      <td>TOP OF THE WORLD WATER ASSOCIATION CORP</td>\n",
       "      <td>35.418747</td>\n",
       "      <td>-108.303617</td>\n",
       "      <td>NMssps_S349</td>\n",
       "      <td>POD</td>\n",
       "      <td>Unspecified</td>\n",
       "      <td>35.419413</td>\n",
       "      <td>-108.304756</td>\n",
       "      <td>Unspecified</td>\n",
       "      <td>Withdrawal</td>\n",
       "      <td>Withdrawal</td>\n",
       "      <td>Annual</td>\n",
       "      <td>Unspecified</td>\n",
       "      <td>Groundwater</td>\n",
       "      <td>Withdrawal_Annual_Unspecified_Groundwater</td>\n",
       "      <td>NM</td>\n",
       "      <td>1.0</td>\n",
       "      <td>2010-01-01</td>\n",
       "      <td>2015-12-31</td>\n",
       "      <td>115</td>\n",
       "      <td>125</td>\n",
       "      <td>LINESTRING (-108.303616831 35.4187465212, -108...</td>\n",
       "    </tr>\n",
       "  </tbody>\n",
       "</table>\n",
       "</div>"
      ],
      "text/plain": [
       "  startSiteUUID startPODorPOUSite                            startSiteName  \\\n",
       "0  NMssps_S1001               POU  TOP OF THE WORLD WATER ASSOCIATION CORP   \n",
       "\n",
       "    startLat   startLong  endSiteUUID endPODorPOUSite  endSiteName     endLat  \\\n",
       "0  35.418747 -108.303617  NMssps_S349             POD  Unspecified  35.419413   \n",
       "\n",
       "      endLong    WaDENameS  VariableCV   WaDENameV TimeStep   WaDENameBU  \\\n",
       "0 -108.304756  Unspecified  Withdrawal  Withdrawal   Annual  Unspecified   \n",
       "\n",
       "    WaDENameWS                         VariableSpecificCV State  CountVar  \\\n",
       "0  Groundwater  Withdrawal_Annual_Unspecified_Groundwater    NM       1.0   \n",
       "\n",
       "  minTimeFrameStart maxTimeFrameEnd  minPopulationServed  maxPopulationServed  \\\n",
       "0        2010-01-01      2015-12-31                  115                  125   \n",
       "\n",
       "                                            geometry  \n",
       "0  LINESTRING (-108.303616831 35.4187465212, -108...  "
      ]
     },
     "execution_count": 28,
     "metadata": {},
     "output_type": "execute_result"
    }
   ],
   "source": [
    "from shapely.geometry import LineString # To create line geometries that can be used in a GeoDataFrame\n",
    "\n",
    "def createLine(sLong, sLat, eLong, eLat):\n",
    "    start, end = [(sLong, sLat), (eLong, eLat)]\n",
    "    line = LineString([start, end])\n",
    "    return line\n",
    "\n",
    "dfl['geometry'] = dfl.apply(lambda row: createLine(row['startLong'], row['startLat'], row['endLong'], row['endLat']), axis=1)\n",
    "dfl.head(1)"
   ]
  },
  {
   "cell_type": "code",
   "execution_count": 29,
   "id": "c5c76f30",
   "metadata": {},
   "outputs": [
    {
     "data": {
      "text/html": [
       "<div>\n",
       "<style scoped>\n",
       "    .dataframe tbody tr th:only-of-type {\n",
       "        vertical-align: middle;\n",
       "    }\n",
       "\n",
       "    .dataframe tbody tr th {\n",
       "        vertical-align: top;\n",
       "    }\n",
       "\n",
       "    .dataframe thead th {\n",
       "        text-align: right;\n",
       "    }\n",
       "</style>\n",
       "<table border=\"1\" class=\"dataframe\">\n",
       "  <thead>\n",
       "    <tr style=\"text-align: right;\">\n",
       "      <th></th>\n",
       "      <th>startSiteUUID</th>\n",
       "      <th>startPODorPOUSite</th>\n",
       "      <th>startSiteName</th>\n",
       "      <th>startLat</th>\n",
       "      <th>startLong</th>\n",
       "      <th>endSiteUUID</th>\n",
       "      <th>endPODorPOUSite</th>\n",
       "      <th>endSiteName</th>\n",
       "      <th>endLat</th>\n",
       "      <th>endLong</th>\n",
       "      <th>WaDENameS</th>\n",
       "      <th>VariableCV</th>\n",
       "      <th>WaDENameV</th>\n",
       "      <th>TimeStep</th>\n",
       "      <th>WaDENameBU</th>\n",
       "      <th>WaDENameWS</th>\n",
       "      <th>VariableSpecificCV</th>\n",
       "      <th>State</th>\n",
       "      <th>CountVar</th>\n",
       "      <th>minTimeFrameStart</th>\n",
       "      <th>maxTimeFrameEnd</th>\n",
       "      <th>minPopulationServed</th>\n",
       "      <th>maxPopulationServed</th>\n",
       "      <th>geometry</th>\n",
       "    </tr>\n",
       "  </thead>\n",
       "  <tbody>\n",
       "    <tr>\n",
       "      <th>0</th>\n",
       "      <td>NMssps_S1001</td>\n",
       "      <td>POU</td>\n",
       "      <td>TOP OF THE WORLD WATER ASSOCIATION CORP</td>\n",
       "      <td>35.418747</td>\n",
       "      <td>-108.303617</td>\n",
       "      <td>NMssps_S349</td>\n",
       "      <td>POD</td>\n",
       "      <td>Unspecified</td>\n",
       "      <td>35.419413</td>\n",
       "      <td>-108.304756</td>\n",
       "      <td>Unspecified</td>\n",
       "      <td>Withdrawal</td>\n",
       "      <td>Withdrawal</td>\n",
       "      <td>Annual</td>\n",
       "      <td>Unspecified</td>\n",
       "      <td>Groundwater</td>\n",
       "      <td>Withdrawal_Annual_Unspecified_Groundwater</td>\n",
       "      <td>NM</td>\n",
       "      <td>1.0</td>\n",
       "      <td>2010-01-01</td>\n",
       "      <td>2015-12-31</td>\n",
       "      <td>115</td>\n",
       "      <td>125</td>\n",
       "      <td>LINESTRING (-108.30362 35.41875, -108.30476 35...</td>\n",
       "    </tr>\n",
       "  </tbody>\n",
       "</table>\n",
       "</div>"
      ],
      "text/plain": [
       "  startSiteUUID startPODorPOUSite                            startSiteName  \\\n",
       "0  NMssps_S1001               POU  TOP OF THE WORLD WATER ASSOCIATION CORP   \n",
       "\n",
       "    startLat   startLong  endSiteUUID endPODorPOUSite  endSiteName     endLat  \\\n",
       "0  35.418747 -108.303617  NMssps_S349             POD  Unspecified  35.419413   \n",
       "\n",
       "      endLong    WaDENameS  VariableCV   WaDENameV TimeStep   WaDENameBU  \\\n",
       "0 -108.304756  Unspecified  Withdrawal  Withdrawal   Annual  Unspecified   \n",
       "\n",
       "    WaDENameWS                         VariableSpecificCV State  CountVar  \\\n",
       "0  Groundwater  Withdrawal_Annual_Unspecified_Groundwater    NM       1.0   \n",
       "\n",
       "  minTimeFrameStart maxTimeFrameEnd  minPopulationServed  maxPopulationServed  \\\n",
       "0        2010-01-01      2015-12-31                  115                  125   \n",
       "\n",
       "                                            geometry  \n",
       "0  LINESTRING (-108.30362 35.41875, -108.30476 35...  "
      ]
     },
     "execution_count": 29,
     "metadata": {},
     "output_type": "execute_result"
    }
   ],
   "source": [
    "# covert to geodataframe\n",
    "gdf_lines = gpd.GeoDataFrame(dfl, geometry='geometry', crs=\"EPSG:4326\")\n",
    "gdf_lines.head(1)"
   ]
  },
  {
   "cell_type": "markdown",
   "id": "a7f26578",
   "metadata": {},
   "source": [
    "#### Mark what Sites & Polygons have attached sites"
   ]
  },
  {
   "cell_type": "code",
   "execution_count": 30,
   "id": "19c4d9d1",
   "metadata": {},
   "outputs": [],
   "source": [
    "# Site & Polygon related\n",
    "# Mark what sites & Polygons have attached sites\n",
    "\n",
    "SiteWLinkList = dfl['startSiteUUID'].tolist()\n",
    "def checkSiteHasLinksFunc(val):\n",
    "    if val == '' or pd.isnull(val):\n",
    "        outString = 'black'\n",
    "    else:\n",
    "        if val in SiteWLinkList:\n",
    "            outString = 'limegreen'\n",
    "        else:\n",
    "            outString = 'black'\n",
    "    return outString\n",
    "\n",
    "df_sites['HasLinksColor'] = df_sites.apply(lambda row: checkSiteHasLinksFunc(row['SiteUUID']), axis=1)\n",
    "gdf_poly['HasLinksColor'] = gdf_poly.apply(lambda row: checkSiteHasLinksFunc(row['SiteUUID']), axis=1)"
   ]
  },
  {
   "cell_type": "code",
   "execution_count": 31,
   "id": "6ab64959",
   "metadata": {},
   "outputs": [
    {
     "data": {
      "text/plain": [
       "array(['black', 'limegreen'], dtype=object)"
      ]
     },
     "execution_count": 31,
     "metadata": {},
     "output_type": "execute_result"
    }
   ],
   "source": [
    "df_sites['HasLinksColor'].unique()"
   ]
  },
  {
   "cell_type": "code",
   "execution_count": 32,
   "id": "8992e25a",
   "metadata": {},
   "outputs": [
    {
     "data": {
      "text/plain": [
       "array(['black', 'limegreen'], dtype=object)"
      ]
     },
     "execution_count": 32,
     "metadata": {},
     "output_type": "execute_result"
    }
   ],
   "source": [
    "gdf_poly['HasLinksColor'].unique()"
   ]
  },
  {
   "cell_type": "markdown",
   "id": "546b1222",
   "metadata": {},
   "source": [
    "## Export Files\n",
    "- Sites_v2_sites.xlsx\n",
    "- Sites_v2_poly.shp\n",
    "- Lines.shp"
   ]
  },
  {
   "cell_type": "code",
   "execution_count": 33,
   "id": "504c3769",
   "metadata": {},
   "outputs": [
    {
     "name": "stderr",
     "output_type": "stream",
     "text": [
      "C:\\Users\\rjame\\AppData\\Local\\Temp\\ipykernel_6676\\539431629.py:5: UserWarning: Column names longer than 10 characters will be truncated when saved to ESRI Shapefile.\n",
      "  gdf_poly.to_file(\"Sites_v2_poly.shp\") # export shape file\n",
      "C:\\Users\\rjame\\AppData\\Local\\Temp\\ipykernel_6676\\539431629.py:8: UserWarning: Column names longer than 10 characters will be truncated when saved to ESRI Shapefile.\n",
      "  gdf_lines.to_file(\"Lines.shp\") # export shape file\n"
     ]
    }
   ],
   "source": [
    "# Site points to xlsx\n",
    "df_sites.to_excel('Sites_v2_sites.xlsx', index=False)\n",
    "\n",
    "# Polygon to shapefile\n",
    "gdf_poly.to_file(\"Sites_v2_poly.shp\") # export shape file\n",
    "\n",
    "# Line to shapefile\n",
    "gdf_lines.to_file(\"Lines.shp\") # export shape file"
   ]
  },
  {
   "cell_type": "markdown",
   "id": "2d1f94b4",
   "metadata": {},
   "source": [
    "## Mapping to Validate Sites / Polygons"
   ]
  },
  {
   "cell_type": "code",
   "execution_count": 34,
   "id": "75b677b2",
   "metadata": {},
   "outputs": [
    {
     "data": {
      "text/plain": [
       "<AxesSubplot: >"
      ]
     },
     "execution_count": 34,
     "metadata": {},
     "output_type": "execute_result"
    },
    {
     "data": {
      "image/png": "[encoded data removed]",
      "text/plain": [
       "<Figure size 800x600 with 1 Axes>"
      ]
     },
     "metadata": {},
     "output_type": "display_data"
    }
   ],
   "source": [
    "# geoplot map points\n",
    "# convert dataframe to geodataframe\n",
    "gdf_sites = gpd.GeoDataFrame(df_sites, geometry=gpd.points_from_xy(df_sites.Longitude.astype(float), df_sites.Latitude.astype(float)), crs=\"EPSG:4326\")\n",
    "gplt.pointplot(gdf_sites)"
   ]
  },
  {
   "cell_type": "code",
   "execution_count": 35,
   "id": "32ba53e7",
   "metadata": {},
   "outputs": [
    {
     "name": "stderr",
     "output_type": "stream",
     "text": [
      "C:\\Users\\rjame\\anaconda3\\lib\\site-packages\\geoplot\\geoplot.py:885: ShapelyDeprecationWarning: Iteration over multi-part geometries is deprecated and will be removed in Shapely 2.0. Use the `geoms` property to access the constituent parts of a multi-part geometry.\n",
      "  for subgeom in geom:\n"
     ]
    },
    {
     "data": {
      "text/plain": [
       "<AxesSubplot: >"
      ]
     },
     "execution_count": 35,
     "metadata": {},
     "output_type": "execute_result"
    },
    {
     "data": {
      "image/png": "[encoded data removed]",
      "text/plain": [
       "<Figure size 800x600 with 1 Axes>"
      ]
     },
     "metadata": {},
     "output_type": "display_data"
    }
   ],
   "source": [
    "# geoplot map polygons\n",
    "gplt.polyplot(gdf_poly)"
   ]
  },
  {
   "cell_type": "code",
   "execution_count": 36,
   "id": "68e44c13",
   "metadata": {},
   "outputs": [
    {
     "data": {
      "text/plain": [
       "<AxesSubplot: >"
      ]
     },
     "execution_count": 36,
     "metadata": {},
     "output_type": "execute_result"
    },
    {
     "data": {
      "image/png": "[encoded data removed]",
      "text/plain": [
       "<Figure size 800x600 with 1 Axes>"
      ]
     },
     "metadata": {},
     "output_type": "display_data"
    }
   ],
   "source": [
    "# geoplot map Lines\n",
    "gplt.sankey(gdf_lines)"
   ]
  },
  {
   "cell_type": "markdown",
   "id": "0067badf",
   "metadata": {},
   "source": [
    "## Analytic Visuals to Evaluate Data & Results"
   ]
  },
  {
   "cell_type": "code",
   "execution_count": 42,
   "id": "b936a674",
   "metadata": {},
   "outputs": [
    {
     "name": "stdout",
     "output_type": "stream",
     "text": [
      "1955-01-01\n",
      "2021-12-31\n",
      "0\n",
      "4061504\n"
     ]
    }
   ],
   "source": [
    "# check min and max values for minTimeFrameStart & minPopulationServed\n",
    "print(dfs['minTimeFrameStart'].min())\n",
    "print(dfs['maxTimeFrameEnd'].max())\n",
    "\n",
    "print(dfs['minPopulationServed'].min())\n",
    "print(dfs['minPopulationServed'].max())"
   ]
  },
  {
   "cell_type": "code",
   "execution_count": 37,
   "id": "4b785e6c",
   "metadata": {},
   "outputs": [
    {
     "data": {
      "image/png": "[encoded data removed]",
      "text/plain": [
       "<Figure size 1800x1600 with 5 Axes>"
      ]
     },
     "metadata": {},
     "output_type": "display_data"
    }
   ],
   "source": [
    "# Pandas Distribution Plot of maxPopulationServed per state\n",
    "ax = dfs.plot.hist(column=\"maxPopulationServed\", by=\"State\", bins=200, figsize=(18, 16))"
   ]
  },
  {
   "cell_type": "code",
   "execution_count": 38,
   "id": "af4baa75",
   "metadata": {},
   "outputs": [
    {
     "name": "stdout",
     "output_type": "stream",
     "text": [
      "13076\n"
     ]
    },
    {
     "data": {
      "text/plain": [
       "<AxesSubplot: xlabel='State', ylabel='maxPopulationServed'>"
      ]
     },
     "execution_count": 38,
     "metadata": {},
     "output_type": "execute_result"
    },
    {
     "data": {
      "image/png": "[encoded data removed]",
      "text/plain": [
       "<Figure size 640x480 with 1 Axes>"
      ]
     },
     "metadata": {},
     "output_type": "display_data"
    }
   ],
   "source": [
    "# Seaborn Violin Plot for maxPopulationServed per state\n",
    "# has to use float values\n",
    "dfs2 = dfs[['State', 'maxPopulationServed']].copy()\n",
    "dfs2 = dfs2.astype({'maxPopulationServed': float})\n",
    "print(len(dfs2))\n",
    "\n",
    "sns.violinplot(data=dfs2, x=\"State\", y=\"maxPopulationServed\")"
   ]
  },
  {
   "cell_type": "code",
   "execution_count": null,
   "id": "fe739f70",
   "metadata": {},
   "outputs": [],
   "source": []
  },
  {
   "cell_type": "code",
   "execution_count": 39,
   "id": "1b86550a",
   "metadata": {},
   "outputs": [
    {
     "name": "stdout",
     "output_type": "stream",
     "text": [
      "State\n",
      "CA     198.0\n",
      "NJ    8847.0\n",
      "NM     260.0\n",
      "TX      <NA>\n",
      "UT       0.0\n",
      "Name: maxPopulationServed, dtype: Float64\n",
      "State\n",
      "CA    10103.894192\n",
      "NJ    17252.756356\n",
      "NM     3399.783178\n",
      "TX            <NA>\n",
      "UT      280.223122\n",
      "Name: maxPopulationServed, dtype: Float64\n"
     ]
    },
    {
     "ename": "AttributeError",
     "evalue": "'SeriesGroupBy' object has no attribute 'mode'",
     "output_type": "error",
     "traceback": [
      "\u001b[1;31m---------------------------------------------------------------------------\u001b[0m",
      "\u001b[1;31mAttributeError\u001b[0m                            Traceback (most recent call last)",
      "\u001b[1;32m~\\AppData\\Local\\Temp\\ipykernel_6676\\1546483563.py\u001b[0m in \u001b[0;36m<module>\u001b[1;34m\u001b[0m\n\u001b[0;32m      1\u001b[0m \u001b[0mprint\u001b[0m\u001b[1;33m(\u001b[0m\u001b[0mdfs\u001b[0m\u001b[1;33m.\u001b[0m\u001b[0mgroupby\u001b[0m\u001b[1;33m(\u001b[0m\u001b[1;33m[\u001b[0m\u001b[1;34m\"State\"\u001b[0m\u001b[1;33m]\u001b[0m\u001b[1;33m)\u001b[0m\u001b[1;33m[\u001b[0m\u001b[1;34m\"maxPopulationServed\"\u001b[0m\u001b[1;33m]\u001b[0m\u001b[1;33m.\u001b[0m\u001b[0mmedian\u001b[0m\u001b[1;33m(\u001b[0m\u001b[1;33m)\u001b[0m\u001b[1;33m)\u001b[0m\u001b[1;33m\u001b[0m\u001b[1;33m\u001b[0m\u001b[0m\n\u001b[0;32m      2\u001b[0m \u001b[0mprint\u001b[0m\u001b[1;33m(\u001b[0m\u001b[0mdfs\u001b[0m\u001b[1;33m.\u001b[0m\u001b[0mgroupby\u001b[0m\u001b[1;33m(\u001b[0m\u001b[1;33m[\u001b[0m\u001b[1;34m\"State\"\u001b[0m\u001b[1;33m]\u001b[0m\u001b[1;33m)\u001b[0m\u001b[1;33m[\u001b[0m\u001b[1;34m\"maxPopulationServed\"\u001b[0m\u001b[1;33m]\u001b[0m\u001b[1;33m.\u001b[0m\u001b[0mmean\u001b[0m\u001b[1;33m(\u001b[0m\u001b[1;33m)\u001b[0m\u001b[1;33m)\u001b[0m\u001b[1;33m\u001b[0m\u001b[1;33m\u001b[0m\u001b[0m\n\u001b[1;32m----> 3\u001b[1;33m \u001b[0mprint\u001b[0m\u001b[1;33m(\u001b[0m\u001b[0mdfs\u001b[0m\u001b[1;33m.\u001b[0m\u001b[0mgroupby\u001b[0m\u001b[1;33m(\u001b[0m\u001b[1;33m[\u001b[0m\u001b[1;34m\"State\"\u001b[0m\u001b[1;33m]\u001b[0m\u001b[1;33m)\u001b[0m\u001b[1;33m[\u001b[0m\u001b[1;34m\"maxPopulationServed\"\u001b[0m\u001b[1;33m]\u001b[0m\u001b[1;33m.\u001b[0m\u001b[0mmode\u001b[0m\u001b[1;33m(\u001b[0m\u001b[1;33m)\u001b[0m\u001b[1;33m)\u001b[0m\u001b[1;33m\u001b[0m\u001b[1;33m\u001b[0m\u001b[0m\n\u001b[0m",
      "\u001b[1;32m~\\anaconda3\\lib\\site-packages\\pandas\\core\\groupby\\groupby.py\u001b[0m in \u001b[0;36m__getattr__\u001b[1;34m(self, attr)\u001b[0m\n\u001b[0;32m    979\u001b[0m             \u001b[1;32mreturn\u001b[0m \u001b[0mself\u001b[0m\u001b[1;33m[\u001b[0m\u001b[0mattr\u001b[0m\u001b[1;33m]\u001b[0m\u001b[1;33m\u001b[0m\u001b[1;33m\u001b[0m\u001b[0m\n\u001b[0;32m    980\u001b[0m \u001b[1;33m\u001b[0m\u001b[0m\n\u001b[1;32m--> 981\u001b[1;33m         raise AttributeError(\n\u001b[0m\u001b[0;32m    982\u001b[0m             \u001b[1;34mf\"'{type(self).__name__}' object has no attribute '{attr}'\"\u001b[0m\u001b[1;33m\u001b[0m\u001b[1;33m\u001b[0m\u001b[0m\n\u001b[0;32m    983\u001b[0m         )\n",
      "\u001b[1;31mAttributeError\u001b[0m: 'SeriesGroupBy' object has no attribute 'mode'"
     ]
    }
   ],
   "source": [
    "print(dfs.groupby([\"State\"])[\"maxPopulationServed\"].median())\n",
    "print(dfs.groupby([\"State\"])[\"maxPopulationServed\"].mean())\n",
    "print(dfs.groupby([\"State\"])[\"maxPopulationServed\"].mode())"
   ]
  },
  {
   "cell_type": "code",
   "execution_count": null,
   "id": "eb10ff60",
   "metadata": {},
   "outputs": [],
   "source": []
  },
  {
   "cell_type": "code",
   "execution_count": null,
   "id": "720adcbe",
   "metadata": {},
   "outputs": [],
   "source": []
  },
  {
   "cell_type": "code",
   "execution_count": null,
   "id": "3d1b9c13",
   "metadata": {},
   "outputs": [],
   "source": [
    "# # what does site CAssps_S2226 have a Water Source Type: c(\"Groundwater\", \"Surface Water\", \"Unspecified\") in the mape, but only Groundwtaer and Unspecifed for timeseries?\n",
    "# dfcheck = dfs.copy()\n",
    "# dfcheck = dfcheck[dfcheck['SiteUUID']=='CAssps_S2226']\n",
    "# dfcheck.to_excel('dfcheck.xlsx', index=False)\n",
    "# print(len(dfcheck))\n",
    "# dfcheck"
   ]
  },
  {
   "cell_type": "code",
   "execution_count": null,
   "id": "f377ae0d",
   "metadata": {},
   "outputs": [],
   "source": [
    "# fileInput = \"G:\\Shared drives\\WaDE Data\\California\\SS_PublicSupplyWaterUse\\ProcessedInputData\\Sites.csv\"\n",
    "# dfc2 = pd.read_csv(fileInput)\n",
    "# dfc2 = dfc2[dfc2['SiteUUID']=='CAssps_S2226']\n",
    "# dfc2"
   ]
  },
  {
   "cell_type": "code",
   "execution_count": null,
   "id": "f5f2958c",
   "metadata": {},
   "outputs": [],
   "source": [
    "# fileInput = \"G:\\Shared drives\\WaDE Data\\California\\SS_PublicSupplyWaterUse\\RawInputData\\P_caSSMain.csv\"\n",
    "# #dfc3 = pd.read_csv(fileInput)\n",
    "# dfc3 = dfc3[dfc3['in_SiteNativeID']=='CA3610032']\n",
    "# dfc3['in_WaterSourceTypeCV'].unique()"
   ]
  },
  {
   "cell_type": "code",
   "execution_count": null,
   "id": "c4c2aa8b",
   "metadata": {},
   "outputs": [],
   "source": [
    "# dfc3 = dfc3[dfc3['in_WaterSourceTypeCV']=='Surface Water']\n",
    "# dfc3"
   ]
  },
  {
   "cell_type": "code",
   "execution_count": null,
   "id": "25f5b177",
   "metadata": {},
   "outputs": [],
   "source": []
  }
 ],
 "metadata": {
  "kernelspec": {
   "display_name": "Python 3 (ipykernel)",
   "language": "python",
   "name": "python3"
  },
  "language_info": {
   "codemirror_mode": {
    "name": "ipython",
    "version": 3
   },
   "file_extension": ".py",
   "mimetype": "text/x-python",
   "name": "python",
   "nbconvert_exporter": "python",
   "pygments_lexer": "ipython3",
   "version": "3.9.16"
  }
 },
 "nbformat": 4,
 "nbformat_minor": 5
}
