{
 "cells": [
  {
   "cell_type": "markdown",
   "id": "4aed23de",
   "metadata": {},
   "source": [
    "## SSPS Demo \n",
    "## Preprocessing Data Input Tables Site Specific RShiny Demo App\n",
    "Notes:\n",
    "- asdf"
   ]
  },
  {
   "cell_type": "code",
   "execution_count": null,
   "id": "7219c20f",
   "metadata": {},
   "outputs": [],
   "source": []
  },
  {
   "cell_type": "code",
   "execution_count": 1,
   "id": "4301f091",
   "metadata": {},
   "outputs": [],
   "source": [
    "# working with data\n",
    "import os\n",
    "import numpy as np\n",
    "import pandas as pd\n",
    "import geopandas as gpd # the library that lets us read in shapefiles\n",
    "import geoplot as gplt # for plotting maps\n",
    "\n",
    "# visulizaiton\n",
    "import seaborn as sns\n",
    "import matplotlib.pyplot as plt\n",
    "\n",
    "# Cleanup\n",
    "from datetime import datetime\n",
    "pd.set_option('display.max_columns', 999)  # How to display all columns of a Pandas DataFrame in Jupyter Notebook"
   ]
  },
  {
   "cell_type": "code",
   "execution_count": 2,
   "id": "b7f8d280",
   "metadata": {},
   "outputs": [
    {
     "ename": "FileNotFoundError",
     "evalue": "[WinError 3] The system cannot find the path specified: 'C:/Users/rjame/Documents/WSWC Documents/WaDE Side Projects/20220112 Site Specific RShiny Demo/SS Demo/NotEssentialData'",
     "output_type": "error",
     "traceback": [
      "\u001b[1;31m---------------------------------------------------------------------------\u001b[0m",
      "\u001b[1;31mFileNotFoundError\u001b[0m                         Traceback (most recent call last)",
      "\u001b[1;32m~\\AppData\\Local\\Temp\\ipykernel_20636\\2840529088.py\u001b[0m in \u001b[0;36m<module>\u001b[1;34m\u001b[0m\n\u001b[0;32m      1\u001b[0m \u001b[1;31m# Working Directory and Input File\u001b[0m\u001b[1;33m\u001b[0m\u001b[1;33m\u001b[0m\u001b[0m\n\u001b[0;32m      2\u001b[0m \u001b[0mworkingDir\u001b[0m \u001b[1;33m=\u001b[0m \u001b[1;34m\"C:/Users/rjame/Documents/WSWC Documents/WaDE Side Projects/20220112 Site Specific RShiny Demo/SS Demo/NotEssentialData\"\u001b[0m\u001b[1;33m\u001b[0m\u001b[1;33m\u001b[0m\u001b[0m\n\u001b[1;32m----> 3\u001b[1;33m \u001b[0mos\u001b[0m\u001b[1;33m.\u001b[0m\u001b[0mchdir\u001b[0m\u001b[1;33m(\u001b[0m\u001b[0mworkingDir\u001b[0m\u001b[1;33m)\u001b[0m\u001b[1;33m\u001b[0m\u001b[1;33m\u001b[0m\u001b[0m\n\u001b[0m",
      "\u001b[1;31mFileNotFoundError\u001b[0m: [WinError 3] The system cannot find the path specified: 'C:/Users/rjame/Documents/WSWC Documents/WaDE Side Projects/20220112 Site Specific RShiny Demo/SS Demo/NotEssentialData'"
     ]
    }
   ],
   "source": [
    "# Working Directory and Input File\n",
    "workingDir = \"C:/Users/rjame/Documents/WSWC Documents/WaDE Side Projects Local/20221017 Rshiny SS Demo/SSPS Demo/NotEssentialData\"a\"\n",
    "os.chdir(workingDir)"
   ]
  },
  {
   "cell_type": "markdown",
   "id": "b89e86d1",
   "metadata": {},
   "source": [
    "## Inputs"
   ]
  },
  {
   "cell_type": "code",
   "execution_count": null,
   "id": "a99e47a6",
   "metadata": {
    "scrolled": true
   },
   "outputs": [],
   "source": [
    "#Sites Input\n",
    "fileInput = \"Sites.csv\"\n",
    "dfs = pd.read_csv(fileInput)\n",
    "print(len(dfs))\n",
    "dfs.head(1)"
   ]
  },
  {
   "cell_type": "markdown",
   "id": "eac455b3",
   "metadata": {},
   "source": [
    "## Clean Sites Data"
   ]
  },
  {
   "cell_type": "code",
   "execution_count": null,
   "id": "6827b748",
   "metadata": {},
   "outputs": [],
   "source": [
    "# Clean input\n",
    "dfs = dfs.drop_duplicates().reset_index(drop=True) # Drop Duplicate Rows\n",
    "dfs = dfs.replace(np.nan, \"\")  # Replaces NaN values with blank.\n",
    "print(len(dfs))\n",
    "dfs.head(1)"
   ]
  },
  {
   "cell_type": "code",
   "execution_count": null,
   "id": "a25d2fd0",
   "metadata": {
    "scrolled": true
   },
   "outputs": [],
   "source": [
    "# Fixing blank WaDENameWS\n",
    "def updateWaDENameWS(Val):\n",
    "    Val = str(Val).strip()\n",
    "    if Val == \"\" or pd.isnull(Val) or Val == \"\":\n",
    "        outString = \"Unspecified\"\n",
    "    else:\n",
    "        outString = Val\n",
    "    return outString\n",
    "\n",
    "dfs['WaDENameWS'] = dfs.apply(lambda row: updateWaDENameWS(row['WaDENameWS']), axis=1)\n",
    "dfs['WaDENameWS'].unique()"
   ]
  },
  {
   "cell_type": "code",
   "execution_count": 6,
   "id": "c7ee3341",
   "metadata": {},
   "outputs": [
    {
     "name": "stdout",
     "output_type": "stream",
     "text": [
      "19521\n"
     ]
    },
    {
     "data": {
      "text/html": [
       "<div>\n",
       "<style scoped>\n",
       "    .dataframe tbody tr th:only-of-type {\n",
       "        vertical-align: middle;\n",
       "    }\n",
       "\n",
       "    .dataframe tbody tr th {\n",
       "        vertical-align: top;\n",
       "    }\n",
       "\n",
       "    .dataframe thead th {\n",
       "        text-align: right;\n",
       "    }\n",
       "</style>\n",
       "<table border=\"1\" class=\"dataframe\">\n",
       "  <thead>\n",
       "    <tr style=\"text-align: right;\">\n",
       "      <th></th>\n",
       "      <th>SiteNativeID</th>\n",
       "      <th>SiteUUID</th>\n",
       "      <th>SiteName</th>\n",
       "      <th>Longitude</th>\n",
       "      <th>Latitude</th>\n",
       "      <th>PODorPOUSite</th>\n",
       "      <th>WaDENameWS</th>\n",
       "      <th>CommunityWaterSupplySystem</th>\n",
       "      <th>VariableCV</th>\n",
       "      <th>VariableSpecificCV</th>\n",
       "      <th>AggregationIntervalUnitCV</th>\n",
       "      <th>HasRecords</th>\n",
       "    </tr>\n",
       "  </thead>\n",
       "  <tbody>\n",
       "    <tr>\n",
       "      <th>0</th>\n",
       "      <td>1</td>\n",
       "      <td>NMssps_S1</td>\n",
       "      <td>Unspecified</td>\n",
       "      <td>-106.2738511</td>\n",
       "      <td>34.94121336</td>\n",
       "      <td>POD</td>\n",
       "      <td>Surface Water, Groundwater</td>\n",
       "      <td>BEARCAT HOMEOWNERS ASSOCIATION</td>\n",
       "      <td>Withdrawal</td>\n",
       "      <td>Withdrawal_Annual_Unspecified_Groundwater</td>\n",
       "      <td>Annual</td>\n",
       "      <td>Yes</td>\n",
       "    </tr>\n",
       "  </tbody>\n",
       "</table>\n",
       "</div>"
      ],
      "text/plain": [
       "  SiteNativeID   SiteUUID     SiteName     Longitude     Latitude  \\\n",
       "0            1  NMssps_S1  Unspecified  -106.2738511  34.94121336   \n",
       "\n",
       "  PODorPOUSite                  WaDENameWS      CommunityWaterSupplySystem  \\\n",
       "0          POD  Surface Water, Groundwater  BEARCAT HOMEOWNERS ASSOCIATION   \n",
       "\n",
       "   VariableCV                         VariableSpecificCV  \\\n",
       "0  Withdrawal  Withdrawal_Annual_Unspecified_Groundwater   \n",
       "\n",
       "  AggregationIntervalUnitCV HasRecords  \n",
       "0                    Annual        Yes  "
      ]
     },
     "execution_count": 6,
     "metadata": {},
     "output_type": "execute_result"
    }
   ],
   "source": [
    "# Groupby SiteUUID\n",
    "dfs = dfs.groupby(['SiteNativeID']).agg(lambda x: \", \".join([str(elem) for elem in (list(set(x))) if elem!=\"\"])).replace(np.nan, \"\").reset_index()\n",
    "print(len(dfs))\n",
    "dfs.head(1)"
   ]
  },
  {
   "cell_type": "code",
   "execution_count": 7,
   "id": "c896c3e3",
   "metadata": {},
   "outputs": [
    {
     "data": {
      "text/plain": [
       "array([ 1,  0,  2,  4,  3,  5,  6,  8, 10,  9,  7, 11], dtype=int64)"
      ]
     },
     "execution_count": 7,
     "metadata": {},
     "output_type": "execute_result"
    }
   ],
   "source": [
    "# count num of VariableSpecificCV after groupby\n",
    "\n",
    "def countNumVar(Val):\n",
    "    Val = list(Val.split(\",\"))\n",
    "    if Val == [\"\"]:\n",
    "        ValLen = 0\n",
    "    else:\n",
    "        ValLen = len(Val)\n",
    "    return ValLen\n",
    "\n",
    "dfs['CountVar'] = dfs.apply(lambda row: countNumVar(row['VariableSpecificCV']), axis=1)\n",
    "dfs['CountVar'].unique()"
   ]
  },
  {
   "cell_type": "code",
   "execution_count": 8,
   "id": "329e0d74",
   "metadata": {},
   "outputs": [
    {
     "data": {
      "text/plain": [
       "array(['NM', 'NJ', 'CA', 'UT', 'TX'], dtype=object)"
      ]
     },
     "execution_count": 8,
     "metadata": {},
     "output_type": "execute_result"
    }
   ],
   "source": [
    "# add State field\n",
    "\n",
    "def createState(Val):\n",
    "    Val = Val.strip()\n",
    "    outString = Val[:2]\n",
    "    return outString\n",
    "\n",
    "dfs['State'] = dfs.apply(lambda row: createState(row['SiteUUID']), axis=1)\n",
    "dfs['State'].unique()"
   ]
  },
  {
   "cell_type": "code",
   "execution_count": 9,
   "id": "b200fc11",
   "metadata": {},
   "outputs": [
    {
     "name": "stdout",
     "output_type": "stream",
     "text": [
      "19500\n"
     ]
    },
    {
     "data": {
      "text/html": [
       "<div>\n",
       "<style scoped>\n",
       "    .dataframe tbody tr th:only-of-type {\n",
       "        vertical-align: middle;\n",
       "    }\n",
       "\n",
       "    .dataframe tbody tr th {\n",
       "        vertical-align: top;\n",
       "    }\n",
       "\n",
       "    .dataframe thead th {\n",
       "        text-align: right;\n",
       "    }\n",
       "</style>\n",
       "<table border=\"1\" class=\"dataframe\">\n",
       "  <thead>\n",
       "    <tr style=\"text-align: right;\">\n",
       "      <th></th>\n",
       "      <th>SiteNativeID</th>\n",
       "      <th>SiteUUID</th>\n",
       "      <th>SiteName</th>\n",
       "      <th>Longitude</th>\n",
       "      <th>Latitude</th>\n",
       "      <th>PODorPOUSite</th>\n",
       "      <th>WaDENameWS</th>\n",
       "      <th>CommunityWaterSupplySystem</th>\n",
       "      <th>VariableCV</th>\n",
       "      <th>VariableSpecificCV</th>\n",
       "      <th>AggregationIntervalUnitCV</th>\n",
       "      <th>HasRecords</th>\n",
       "      <th>CountVar</th>\n",
       "      <th>State</th>\n",
       "    </tr>\n",
       "  </thead>\n",
       "  <tbody>\n",
       "    <tr>\n",
       "      <th>0</th>\n",
       "      <td>1</td>\n",
       "      <td>NMssps_S1</td>\n",
       "      <td>Unspecified</td>\n",
       "      <td>-106.273851</td>\n",
       "      <td>34.941213</td>\n",
       "      <td>POD</td>\n",
       "      <td>Surface Water, Groundwater</td>\n",
       "      <td>BEARCAT HOMEOWNERS ASSOCIATION</td>\n",
       "      <td>Withdrawal</td>\n",
       "      <td>Withdrawal_Annual_Unspecified_Groundwater</td>\n",
       "      <td>Annual</td>\n",
       "      <td>Yes</td>\n",
       "      <td>1</td>\n",
       "      <td>NM</td>\n",
       "    </tr>\n",
       "  </tbody>\n",
       "</table>\n",
       "</div>"
      ],
      "text/plain": [
       "  SiteNativeID   SiteUUID     SiteName   Longitude   Latitude PODorPOUSite  \\\n",
       "0            1  NMssps_S1  Unspecified -106.273851  34.941213          POD   \n",
       "\n",
       "                   WaDENameWS      CommunityWaterSupplySystem  VariableCV  \\\n",
       "0  Surface Water, Groundwater  BEARCAT HOMEOWNERS ASSOCIATION  Withdrawal   \n",
       "\n",
       "                          VariableSpecificCV AggregationIntervalUnitCV  \\\n",
       "0  Withdrawal_Annual_Unspecified_Groundwater                    Annual   \n",
       "\n",
       "  HasRecords  CountVar State  \n",
       "0        Yes         1    NM  "
      ]
     },
     "execution_count": 9,
     "metadata": {},
     "output_type": "execute_result"
    }
   ],
   "source": [
    "# Temp Fix\n",
    "\n",
    "# remove lat & long entries that contain a ','\n",
    "dfs = dfs[dfs['Latitude'].str.contains(',') == False]\n",
    "dfs = dfs[dfs['Longitude'].str.contains(',') == False]\n",
    "\n",
    "# Ensure long is < 0 and > -125 (few ID sites out of bounds)\n",
    "# Ensure lat is > 10 and < 50 (few MT sites out of bounds).\n",
    "dfs['Latitude'] = pd.to_numeric(dfs['Latitude'], errors='coerce')\n",
    "dfs['Longitude'] = pd.to_numeric(dfs['Longitude'], errors='coerce')\n",
    "dfs = dfs[(dfs['Latitude'].astype(int) > 10) & (dfs['Latitude'].astype(int) < 50)]\n",
    "dfs = dfs[(dfs['Longitude'].astype(int) < 0) & (dfs['Longitude'].astype(int) > -125)]\n",
    "\n",
    "print(len(dfs))\n",
    "dfs.head(1)"
   ]
  },
  {
   "cell_type": "code",
   "execution_count": 10,
   "id": "2fd38aea",
   "metadata": {},
   "outputs": [
    {
     "data": {
      "text/html": [
       "<div>\n",
       "<style scoped>\n",
       "    .dataframe tbody tr th:only-of-type {\n",
       "        vertical-align: middle;\n",
       "    }\n",
       "\n",
       "    .dataframe tbody tr th {\n",
       "        vertical-align: top;\n",
       "    }\n",
       "\n",
       "    .dataframe thead th {\n",
       "        text-align: right;\n",
       "    }\n",
       "</style>\n",
       "<table border=\"1\" class=\"dataframe\">\n",
       "  <thead>\n",
       "    <tr style=\"text-align: right;\">\n",
       "      <th></th>\n",
       "      <th>SiteNativeID</th>\n",
       "      <th>SiteUUID</th>\n",
       "      <th>SiteName</th>\n",
       "      <th>Longitude</th>\n",
       "      <th>Latitude</th>\n",
       "      <th>PODorPOUSite</th>\n",
       "      <th>WaDENameWS</th>\n",
       "      <th>CommunityWaterSupplySystem</th>\n",
       "      <th>VariableCV</th>\n",
       "      <th>VariableSpecificCV</th>\n",
       "      <th>AggregationIntervalUnitCV</th>\n",
       "      <th>HasRecords</th>\n",
       "      <th>CountVar</th>\n",
       "      <th>State</th>\n",
       "    </tr>\n",
       "  </thead>\n",
       "  <tbody>\n",
       "    <tr>\n",
       "      <th>0</th>\n",
       "      <td>1</td>\n",
       "      <td>NMssps_S1</td>\n",
       "      <td>Unspecified</td>\n",
       "      <td>-106.273851</td>\n",
       "      <td>34.941213</td>\n",
       "      <td>POD</td>\n",
       "      <td>Surface Water, Groundwater</td>\n",
       "      <td>BEARCAT HOMEOWNERS ASSOCIATION</td>\n",
       "      <td>Withdrawal</td>\n",
       "      <td>Withdrawal_Annual_Unspecified_Groundwater</td>\n",
       "      <td>Annual</td>\n",
       "      <td>Yes</td>\n",
       "      <td>1</td>\n",
       "      <td>NM</td>\n",
       "    </tr>\n",
       "    <tr>\n",
       "      <th>1</th>\n",
       "      <td>10</td>\n",
       "      <td>NMssps_S2</td>\n",
       "      <td>Unspecified</td>\n",
       "      <td>-106.484015</td>\n",
       "      <td>35.329994</td>\n",
       "      <td>POD</td>\n",
       "      <td>Surface Water, Groundwater</td>\n",
       "      <td>LA MESA WATER COOP</td>\n",
       "      <td>Withdrawal</td>\n",
       "      <td>Withdrawal_Annual_Unspecified_Groundwater</td>\n",
       "      <td>Annual</td>\n",
       "      <td>Yes</td>\n",
       "      <td>1</td>\n",
       "      <td>NM</td>\n",
       "    </tr>\n",
       "    <tr>\n",
       "      <th>2</th>\n",
       "      <td>101</td>\n",
       "      <td>NMssps_S3</td>\n",
       "      <td>Unspecified</td>\n",
       "      <td>-105.606486</td>\n",
       "      <td>36.647655</td>\n",
       "      <td>POD</td>\n",
       "      <td>Surface Water, Groundwater</td>\n",
       "      <td>LA LAMA MDWCA</td>\n",
       "      <td>Withdrawal</td>\n",
       "      <td>Withdrawal_Annual_Unspecified_Groundwater</td>\n",
       "      <td>Annual</td>\n",
       "      <td>Yes</td>\n",
       "      <td>1</td>\n",
       "      <td>NM</td>\n",
       "    </tr>\n",
       "    <tr>\n",
       "      <th>3</th>\n",
       "      <td>102</td>\n",
       "      <td>NMssps_S4</td>\n",
       "      <td>Unspecified</td>\n",
       "      <td>-106.312160</td>\n",
       "      <td>35.099125</td>\n",
       "      <td>POD</td>\n",
       "      <td>Surface Water, Groundwater</td>\n",
       "      <td>VISTA DE MANANA</td>\n",
       "      <td>Withdrawal</td>\n",
       "      <td>Withdrawal_Annual_Unspecified_Groundwater</td>\n",
       "      <td>Annual</td>\n",
       "      <td>Yes</td>\n",
       "      <td>1</td>\n",
       "      <td>NM</td>\n",
       "    </tr>\n",
       "    <tr>\n",
       "      <th>4</th>\n",
       "      <td>103</td>\n",
       "      <td>NMssps_S5</td>\n",
       "      <td>Unspecified</td>\n",
       "      <td>-106.785201</td>\n",
       "      <td>32.390883</td>\n",
       "      <td>POD</td>\n",
       "      <td>Surface Water, Groundwater</td>\n",
       "      <td></td>\n",
       "      <td></td>\n",
       "      <td></td>\n",
       "      <td></td>\n",
       "      <td>No</td>\n",
       "      <td>0</td>\n",
       "      <td>NM</td>\n",
       "    </tr>\n",
       "    <tr>\n",
       "      <th>...</th>\n",
       "      <td>...</td>\n",
       "      <td>...</td>\n",
       "      <td>...</td>\n",
       "      <td>...</td>\n",
       "      <td>...</td>\n",
       "      <td>...</td>\n",
       "      <td>...</td>\n",
       "      <td>...</td>\n",
       "      <td>...</td>\n",
       "      <td>...</td>\n",
       "      <td>...</td>\n",
       "      <td>...</td>\n",
       "      <td>...</td>\n",
       "      <td>...</td>\n",
       "    </tr>\n",
       "    <tr>\n",
       "      <th>19516</th>\n",
       "      <td>WaDNMD_S1856</td>\n",
       "      <td>NMssps_S582</td>\n",
       "      <td>Unspecified</td>\n",
       "      <td>-105.742897</td>\n",
       "      <td>35.562321</td>\n",
       "      <td>POD</td>\n",
       "      <td>Surface Water</td>\n",
       "      <td></td>\n",
       "      <td></td>\n",
       "      <td></td>\n",
       "      <td></td>\n",
       "      <td>No</td>\n",
       "      <td>0</td>\n",
       "      <td>NM</td>\n",
       "    </tr>\n",
       "    <tr>\n",
       "      <th>19517</th>\n",
       "      <td>WaDNMD_S1871</td>\n",
       "      <td>NMssps_S583</td>\n",
       "      <td>Unspecified</td>\n",
       "      <td>-105.681426</td>\n",
       "      <td>36.138288</td>\n",
       "      <td>POD</td>\n",
       "      <td>Surface Water</td>\n",
       "      <td></td>\n",
       "      <td></td>\n",
       "      <td></td>\n",
       "      <td></td>\n",
       "      <td>No</td>\n",
       "      <td>0</td>\n",
       "      <td>NM</td>\n",
       "    </tr>\n",
       "    <tr>\n",
       "      <th>19518</th>\n",
       "      <td>WaDNMD_S593</td>\n",
       "      <td>NMssps_S584</td>\n",
       "      <td>Unspecified</td>\n",
       "      <td>-107.746592</td>\n",
       "      <td>32.212078</td>\n",
       "      <td>POD</td>\n",
       "      <td>Surface Water</td>\n",
       "      <td></td>\n",
       "      <td></td>\n",
       "      <td></td>\n",
       "      <td></td>\n",
       "      <td>No</td>\n",
       "      <td>0</td>\n",
       "      <td>NM</td>\n",
       "    </tr>\n",
       "    <tr>\n",
       "      <th>19519</th>\n",
       "      <td>WaDNMD_S702</td>\n",
       "      <td>NMssps_S585</td>\n",
       "      <td>Unspecified</td>\n",
       "      <td>-105.742897</td>\n",
       "      <td>35.562321</td>\n",
       "      <td>POD</td>\n",
       "      <td>Surface Water</td>\n",
       "      <td></td>\n",
       "      <td></td>\n",
       "      <td></td>\n",
       "      <td></td>\n",
       "      <td>No</td>\n",
       "      <td>0</td>\n",
       "      <td>NM</td>\n",
       "    </tr>\n",
       "    <tr>\n",
       "      <th>19520</th>\n",
       "      <td>WaDNMD_S717</td>\n",
       "      <td>NMssps_S586</td>\n",
       "      <td>Unspecified</td>\n",
       "      <td>-105.681426</td>\n",
       "      <td>36.138288</td>\n",
       "      <td>POD</td>\n",
       "      <td>Surface Water</td>\n",
       "      <td></td>\n",
       "      <td></td>\n",
       "      <td></td>\n",
       "      <td></td>\n",
       "      <td>No</td>\n",
       "      <td>0</td>\n",
       "      <td>NM</td>\n",
       "    </tr>\n",
       "  </tbody>\n",
       "</table>\n",
       "<p>19500 rows × 14 columns</p>\n",
       "</div>"
      ],
      "text/plain": [
       "       SiteNativeID     SiteUUID     SiteName   Longitude   Latitude  \\\n",
       "0                 1    NMssps_S1  Unspecified -106.273851  34.941213   \n",
       "1                10    NMssps_S2  Unspecified -106.484015  35.329994   \n",
       "2               101    NMssps_S3  Unspecified -105.606486  36.647655   \n",
       "3               102    NMssps_S4  Unspecified -106.312160  35.099125   \n",
       "4               103    NMssps_S5  Unspecified -106.785201  32.390883   \n",
       "...             ...          ...          ...         ...        ...   \n",
       "19516  WaDNMD_S1856  NMssps_S582  Unspecified -105.742897  35.562321   \n",
       "19517  WaDNMD_S1871  NMssps_S583  Unspecified -105.681426  36.138288   \n",
       "19518   WaDNMD_S593  NMssps_S584  Unspecified -107.746592  32.212078   \n",
       "19519   WaDNMD_S702  NMssps_S585  Unspecified -105.742897  35.562321   \n",
       "19520   WaDNMD_S717  NMssps_S586  Unspecified -105.681426  36.138288   \n",
       "\n",
       "      PODorPOUSite                  WaDENameWS  \\\n",
       "0              POD  Surface Water, Groundwater   \n",
       "1              POD  Surface Water, Groundwater   \n",
       "2              POD  Surface Water, Groundwater   \n",
       "3              POD  Surface Water, Groundwater   \n",
       "4              POD  Surface Water, Groundwater   \n",
       "...            ...                         ...   \n",
       "19516          POD               Surface Water   \n",
       "19517          POD               Surface Water   \n",
       "19518          POD               Surface Water   \n",
       "19519          POD               Surface Water   \n",
       "19520          POD               Surface Water   \n",
       "\n",
       "           CommunityWaterSupplySystem  VariableCV  \\\n",
       "0      BEARCAT HOMEOWNERS ASSOCIATION  Withdrawal   \n",
       "1                  LA MESA WATER COOP  Withdrawal   \n",
       "2                       LA LAMA MDWCA  Withdrawal   \n",
       "3                     VISTA DE MANANA  Withdrawal   \n",
       "4                                                   \n",
       "...                               ...         ...   \n",
       "19516                                               \n",
       "19517                                               \n",
       "19518                                               \n",
       "19519                                               \n",
       "19520                                               \n",
       "\n",
       "                              VariableSpecificCV AggregationIntervalUnitCV  \\\n",
       "0      Withdrawal_Annual_Unspecified_Groundwater                    Annual   \n",
       "1      Withdrawal_Annual_Unspecified_Groundwater                    Annual   \n",
       "2      Withdrawal_Annual_Unspecified_Groundwater                    Annual   \n",
       "3      Withdrawal_Annual_Unspecified_Groundwater                    Annual   \n",
       "4                                                                            \n",
       "...                                          ...                       ...   \n",
       "19516                                                                        \n",
       "19517                                                                        \n",
       "19518                                                                        \n",
       "19519                                                                        \n",
       "19520                                                                        \n",
       "\n",
       "      HasRecords  CountVar State  \n",
       "0            Yes         1    NM  \n",
       "1            Yes         1    NM  \n",
       "2            Yes         1    NM  \n",
       "3            Yes         1    NM  \n",
       "4             No         0    NM  \n",
       "...          ...       ...   ...  \n",
       "19516         No         0    NM  \n",
       "19517         No         0    NM  \n",
       "19518         No         0    NM  \n",
       "19519         No         0    NM  \n",
       "19520         No         0    NM  \n",
       "\n",
       "[19500 rows x 14 columns]"
      ]
     },
     "execution_count": 10,
     "metadata": {},
     "output_type": "execute_result"
    }
   ],
   "source": [
    "#Inspect output\n",
    "dfs"
   ]
  },
  {
   "cell_type": "code",
   "execution_count": 11,
   "id": "9c81786c",
   "metadata": {},
   "outputs": [
    {
     "data": {
      "text/plain": [
       "array(['Surface Water, Groundwater',\n",
       "       'Surface Water, Unspecified, Groundwater', 'Groundwater',\n",
       "       'Surface Water, Surface and Groundwater, Groundwater',\n",
       "       'Surface Water, Surface and Groundwater, Unspecified, Groundwater',\n",
       "       'Surface Water', 'Unspecified, Groundwater',\n",
       "       'Surface and Groundwater', 'Surface and Groundwater, Groundwater',\n",
       "       'Surface Water, Unspecified, Purchased, Groundwater',\n",
       "       'Surface Water, Purchased, Groundwater', 'Unspecified',\n",
       "       'Reuse, Groundwater', 'Surface Water, Reuse, Groundwater',\n",
       "       'Surface Water, Reuse'], dtype=object)"
      ]
     },
     "execution_count": 11,
     "metadata": {},
     "output_type": "execute_result"
    }
   ],
   "source": [
    "dfs['WaDENameWS'].unique()"
   ]
  },
  {
   "cell_type": "code",
   "execution_count": 12,
   "id": "31cea2f9",
   "metadata": {},
   "outputs": [
    {
     "data": {
      "text/plain": [
       "array(['Surface Water, Groundwater',\n",
       "       'Surface Water, Unspecified, Groundwater', 'Groundwater',\n",
       "       'Surface Water, Surface and Groundwater, Groundwater',\n",
       "       'Surface Water, Surface and Groundwater, Unspecified, Groundwater',\n",
       "       'Surface Water', 'Unspecified, Groundwater',\n",
       "       'Surface and Groundwater', 'Surface and Groundwater, Groundwater',\n",
       "       'Surface Water, Unspecified, Purchased, Groundwater',\n",
       "       'Surface Water, Purchased, Groundwater', 'Unspecified',\n",
       "       'Reuse, Groundwater', 'Surface Water, Reuse, Groundwater',\n",
       "       'Surface Water, Reuse'], dtype=object)"
      ]
     },
     "execution_count": 12,
     "metadata": {},
     "output_type": "execute_result"
    }
   ],
   "source": [
    "dfs['WaDENameWS'].unique()"
   ]
  },
  {
   "cell_type": "code",
   "execution_count": 13,
   "id": "8f3ab8c6",
   "metadata": {},
   "outputs": [],
   "source": [
    "# Exporting output files.\n",
    "dfs.to_excel('Sites_v2.xlsx', index=False)"
   ]
  },
  {
   "cell_type": "markdown",
   "id": "f3659dab",
   "metadata": {},
   "source": [
    "## Create POD Sites file"
   ]
  },
  {
   "cell_type": "code",
   "execution_count": 14,
   "id": "60b78ae3",
   "metadata": {},
   "outputs": [
    {
     "name": "stdout",
     "output_type": "stream",
     "text": [
      "5511\n"
     ]
    },
    {
     "data": {
      "text/html": [
       "<div>\n",
       "<style scoped>\n",
       "    .dataframe tbody tr th:only-of-type {\n",
       "        vertical-align: middle;\n",
       "    }\n",
       "\n",
       "    .dataframe tbody tr th {\n",
       "        vertical-align: top;\n",
       "    }\n",
       "\n",
       "    .dataframe thead th {\n",
       "        text-align: right;\n",
       "    }\n",
       "</style>\n",
       "<table border=\"1\" class=\"dataframe\">\n",
       "  <thead>\n",
       "    <tr style=\"text-align: right;\">\n",
       "      <th></th>\n",
       "      <th>SiteNativeID</th>\n",
       "      <th>SiteUUID</th>\n",
       "      <th>SiteName</th>\n",
       "      <th>Longitude</th>\n",
       "      <th>Latitude</th>\n",
       "      <th>PODorPOUSite</th>\n",
       "      <th>WaDENameWS</th>\n",
       "      <th>CommunityWaterSupplySystem</th>\n",
       "      <th>VariableCV</th>\n",
       "      <th>VariableSpecificCV</th>\n",
       "      <th>AggregationIntervalUnitCV</th>\n",
       "      <th>HasRecords</th>\n",
       "      <th>CountVar</th>\n",
       "      <th>State</th>\n",
       "    </tr>\n",
       "  </thead>\n",
       "  <tbody>\n",
       "    <tr>\n",
       "      <th>0</th>\n",
       "      <td>1</td>\n",
       "      <td>NMssps_S1</td>\n",
       "      <td>Unspecified</td>\n",
       "      <td>-106.273851</td>\n",
       "      <td>34.941213</td>\n",
       "      <td>POD</td>\n",
       "      <td>Surface Water, Groundwater</td>\n",
       "      <td>BEARCAT HOMEOWNERS ASSOCIATION</td>\n",
       "      <td>Withdrawal</td>\n",
       "      <td>Withdrawal_Annual_Unspecified_Groundwater</td>\n",
       "      <td>Annual</td>\n",
       "      <td>Yes</td>\n",
       "      <td>1</td>\n",
       "      <td>NM</td>\n",
       "    </tr>\n",
       "  </tbody>\n",
       "</table>\n",
       "</div>"
      ],
      "text/plain": [
       "  SiteNativeID   SiteUUID     SiteName   Longitude   Latitude PODorPOUSite  \\\n",
       "0            1  NMssps_S1  Unspecified -106.273851  34.941213          POD   \n",
       "\n",
       "                   WaDENameWS      CommunityWaterSupplySystem  VariableCV  \\\n",
       "0  Surface Water, Groundwater  BEARCAT HOMEOWNERS ASSOCIATION  Withdrawal   \n",
       "\n",
       "                          VariableSpecificCV AggregationIntervalUnitCV  \\\n",
       "0  Withdrawal_Annual_Unspecified_Groundwater                    Annual   \n",
       "\n",
       "  HasRecords  CountVar State  \n",
       "0        Yes         1    NM  "
      ]
     },
     "execution_count": 14,
     "metadata": {},
     "output_type": "execute_result"
    }
   ],
   "source": [
    "df_pod = dfs.copy()\n",
    "df_pod = df_pod[df_pod['PODorPOUSite'] == 'POD'].reset_index(drop=True)\n",
    "print(len(df_pod))\n",
    "df_pod.head(1)"
   ]
  },
  {
   "cell_type": "code",
   "execution_count": 15,
   "id": "cfa84c60",
   "metadata": {},
   "outputs": [],
   "source": [
    "# Exporting output files.\n",
    "df_pod.to_excel('Sites_v2_POD.xlsx', index=False)"
   ]
  },
  {
   "cell_type": "markdown",
   "id": "97577e0f",
   "metadata": {},
   "source": [
    "## Create POU Sites file"
   ]
  },
  {
   "cell_type": "code",
   "execution_count": 16,
   "id": "1c8a2191",
   "metadata": {},
   "outputs": [
    {
     "name": "stdout",
     "output_type": "stream",
     "text": [
      "13989\n"
     ]
    },
    {
     "data": {
      "text/html": [
       "<div>\n",
       "<style scoped>\n",
       "    .dataframe tbody tr th:only-of-type {\n",
       "        vertical-align: middle;\n",
       "    }\n",
       "\n",
       "    .dataframe tbody tr th {\n",
       "        vertical-align: top;\n",
       "    }\n",
       "\n",
       "    .dataframe thead th {\n",
       "        text-align: right;\n",
       "    }\n",
       "</style>\n",
       "<table border=\"1\" class=\"dataframe\">\n",
       "  <thead>\n",
       "    <tr style=\"text-align: right;\">\n",
       "      <th></th>\n",
       "      <th>SiteNativeID</th>\n",
       "      <th>SiteUUID</th>\n",
       "      <th>SiteName</th>\n",
       "      <th>Longitude</th>\n",
       "      <th>Latitude</th>\n",
       "      <th>PODorPOUSite</th>\n",
       "      <th>WaDENameWS</th>\n",
       "      <th>CommunityWaterSupplySystem</th>\n",
       "      <th>VariableCV</th>\n",
       "      <th>VariableSpecificCV</th>\n",
       "      <th>AggregationIntervalUnitCV</th>\n",
       "      <th>HasRecords</th>\n",
       "      <th>CountVar</th>\n",
       "      <th>State</th>\n",
       "    </tr>\n",
       "  </thead>\n",
       "  <tbody>\n",
       "    <tr>\n",
       "      <th>0</th>\n",
       "      <td>1723212</td>\n",
       "      <td>NJssps_S460</td>\n",
       "      <td>Upper Pittsgrove Township</td>\n",
       "      <td>-75.210104</td>\n",
       "      <td>39.611654</td>\n",
       "      <td>POU</td>\n",
       "      <td>Surface Water, Unspecified, Groundwater</td>\n",
       "      <td>Township of Upper Pittsgrove</td>\n",
       "      <td>Withdrawal</td>\n",
       "      <td>Withdrawal_Monthly_Potable Supply_Unspecified,...</td>\n",
       "      <td>Monthly</td>\n",
       "      <td>Yes</td>\n",
       "      <td>4</td>\n",
       "      <td>NJ</td>\n",
       "    </tr>\n",
       "  </tbody>\n",
       "</table>\n",
       "</div>"
      ],
      "text/plain": [
       "  SiteNativeID     SiteUUID                   SiteName  Longitude   Latitude  \\\n",
       "0      1723212  NJssps_S460  Upper Pittsgrove Township -75.210104  39.611654   \n",
       "\n",
       "  PODorPOUSite                               WaDENameWS  \\\n",
       "0          POU  Surface Water, Unspecified, Groundwater   \n",
       "\n",
       "     CommunityWaterSupplySystem  VariableCV  \\\n",
       "0  Township of Upper Pittsgrove  Withdrawal   \n",
       "\n",
       "                                  VariableSpecificCV  \\\n",
       "0  Withdrawal_Monthly_Potable Supply_Unspecified,...   \n",
       "\n",
       "  AggregationIntervalUnitCV HasRecords  CountVar State  \n",
       "0                   Monthly        Yes         4    NJ  "
      ]
     },
     "execution_count": 16,
     "metadata": {},
     "output_type": "execute_result"
    }
   ],
   "source": [
    "df_pou = dfs.copy()\n",
    "df_pou = df_pou[df_pou['PODorPOUSite'] == 'POU'].reset_index(drop=True)\n",
    "print(len(df_pou))\n",
    "df_pou.head(1)"
   ]
  },
  {
   "cell_type": "code",
   "execution_count": 17,
   "id": "4f64aa54",
   "metadata": {},
   "outputs": [],
   "source": [
    "# Exporting output files.\n",
    "df_pou.to_excel('Sites_v2_POU.xlsx', index=False)"
   ]
  },
  {
   "cell_type": "markdown",
   "id": "ad8571d3",
   "metadata": {},
   "source": [
    "## Create Link file\n",
    "- use raw sites file\n",
    "- separate out between POU and POD\n",
    "- left join PODs to POU via CommunityWaterSupplySystem\n",
    "- remove unnecessary element.\n",
    "- export as shp file"
   ]
  },
  {
   "cell_type": "code",
   "execution_count": 18,
   "id": "6f471d02",
   "metadata": {},
   "outputs": [
    {
     "name": "stdout",
     "output_type": "stream",
     "text": [
      "70461\n"
     ]
    },
    {
     "data": {
      "text/html": [
       "<div>\n",
       "<style scoped>\n",
       "    .dataframe tbody tr th:only-of-type {\n",
       "        vertical-align: middle;\n",
       "    }\n",
       "\n",
       "    .dataframe tbody tr th {\n",
       "        vertical-align: top;\n",
       "    }\n",
       "\n",
       "    .dataframe thead th {\n",
       "        text-align: right;\n",
       "    }\n",
       "</style>\n",
       "<table border=\"1\" class=\"dataframe\">\n",
       "  <thead>\n",
       "    <tr style=\"text-align: right;\">\n",
       "      <th></th>\n",
       "      <th>SiteUUID</th>\n",
       "      <th>SiteName</th>\n",
       "      <th>SiteNativeID</th>\n",
       "      <th>Longitude</th>\n",
       "      <th>Latitude</th>\n",
       "      <th>PODorPOUSite</th>\n",
       "      <th>WaDENameWS</th>\n",
       "      <th>CommunityWaterSupplySystem</th>\n",
       "      <th>VariableCV</th>\n",
       "      <th>VariableSpecificCV</th>\n",
       "      <th>AggregationIntervalUnitCV</th>\n",
       "      <th>HasRecords</th>\n",
       "    </tr>\n",
       "  </thead>\n",
       "  <tbody>\n",
       "    <tr>\n",
       "      <th>0</th>\n",
       "      <td>CAssps_S1062</td>\n",
       "      <td>SO. CAL. EDISON CO.-SANTA CATALINA</td>\n",
       "      <td>CA1910006</td>\n",
       "      <td>-118.434483</td>\n",
       "      <td>33.382597</td>\n",
       "      <td>POU</td>\n",
       "      <td>Groundwater</td>\n",
       "      <td>SO. CAL. EDISON CO.-SANTA CATALINA</td>\n",
       "      <td>Delivered</td>\n",
       "      <td>Cumulative Delivered_Monthly_Agricultural_Unsp...</td>\n",
       "      <td>Monthly</td>\n",
       "      <td>Yes</td>\n",
       "    </tr>\n",
       "  </tbody>\n",
       "</table>\n",
       "</div>"
      ],
      "text/plain": [
       "       SiteUUID                            SiteName SiteNativeID   Longitude  \\\n",
       "0  CAssps_S1062  SO. CAL. EDISON CO.-SANTA CATALINA    CA1910006 -118.434483   \n",
       "\n",
       "    Latitude PODorPOUSite   WaDENameWS          CommunityWaterSupplySystem  \\\n",
       "0  33.382597          POU  Groundwater  SO. CAL. EDISON CO.-SANTA CATALINA   \n",
       "\n",
       "  VariableCV                                 VariableSpecificCV  \\\n",
       "0  Delivered  Cumulative Delivered_Monthly_Agricultural_Unsp...   \n",
       "\n",
       "  AggregationIntervalUnitCV HasRecords  \n",
       "0                   Monthly        Yes  "
      ]
     },
     "execution_count": 18,
     "metadata": {},
     "output_type": "execute_result"
    }
   ],
   "source": [
    "# Raw Sites Input\n",
    "fileInput = \"Sites.csv\"\n",
    "dfs = pd.read_csv(fileInput)\n",
    "dfs = dfs.drop_duplicates().reset_index(drop=True) # Drop Duplicate Rows\n",
    "dfs = dfs.replace(np.nan, \"\")  # Replaces NaN values with blank.\n",
    "print(len(dfs))\n",
    "dfs.head(1)"
   ]
  },
  {
   "cell_type": "code",
   "execution_count": 19,
   "id": "c5d5ddbd",
   "metadata": {},
   "outputs": [
    {
     "name": "stdout",
     "output_type": "stream",
     "text": [
      "59374\n"
     ]
    },
    {
     "data": {
      "text/html": [
       "<div>\n",
       "<style scoped>\n",
       "    .dataframe tbody tr th:only-of-type {\n",
       "        vertical-align: middle;\n",
       "    }\n",
       "\n",
       "    .dataframe tbody tr th {\n",
       "        vertical-align: top;\n",
       "    }\n",
       "\n",
       "    .dataframe thead th {\n",
       "        text-align: right;\n",
       "    }\n",
       "</style>\n",
       "<table border=\"1\" class=\"dataframe\">\n",
       "  <thead>\n",
       "    <tr style=\"text-align: right;\">\n",
       "      <th></th>\n",
       "      <th>SiteUUID</th>\n",
       "      <th>SiteName</th>\n",
       "      <th>SiteNativeID</th>\n",
       "      <th>Longitude</th>\n",
       "      <th>Latitude</th>\n",
       "      <th>PODorPOUSite</th>\n",
       "      <th>WaDENameWS</th>\n",
       "      <th>CommunityWaterSupplySystem</th>\n",
       "      <th>VariableCV</th>\n",
       "      <th>VariableSpecificCV</th>\n",
       "      <th>AggregationIntervalUnitCV</th>\n",
       "      <th>HasRecords</th>\n",
       "    </tr>\n",
       "  </thead>\n",
       "  <tbody>\n",
       "    <tr>\n",
       "      <th>0</th>\n",
       "      <td>CAssps_S1062</td>\n",
       "      <td>SO. CAL. EDISON CO.-SANTA CATALINA</td>\n",
       "      <td>CA1910006</td>\n",
       "      <td>-118.434483</td>\n",
       "      <td>33.382597</td>\n",
       "      <td>POU</td>\n",
       "      <td>Groundwater</td>\n",
       "      <td>SO. CAL. EDISON CO.-SANTA CATALINA</td>\n",
       "      <td>Delivered</td>\n",
       "      <td>Cumulative Delivered_Monthly_Agricultural_Unsp...</td>\n",
       "      <td>Monthly</td>\n",
       "      <td>Yes</td>\n",
       "    </tr>\n",
       "  </tbody>\n",
       "</table>\n",
       "</div>"
      ],
      "text/plain": [
       "       SiteUUID                            SiteName SiteNativeID   Longitude  \\\n",
       "0  CAssps_S1062  SO. CAL. EDISON CO.-SANTA CATALINA    CA1910006 -118.434483   \n",
       "\n",
       "    Latitude PODorPOUSite   WaDENameWS          CommunityWaterSupplySystem  \\\n",
       "0  33.382597          POU  Groundwater  SO. CAL. EDISON CO.-SANTA CATALINA   \n",
       "\n",
       "  VariableCV                                 VariableSpecificCV  \\\n",
       "0  Delivered  Cumulative Delivered_Monthly_Agricultural_Unsp...   \n",
       "\n",
       "  AggregationIntervalUnitCV HasRecords  \n",
       "0                   Monthly        Yes  "
      ]
     },
     "execution_count": 19,
     "metadata": {},
     "output_type": "execute_result"
    }
   ],
   "source": [
    "# POU Only\n",
    "dfu = dfs.copy()\n",
    "dfu = dfu[dfu['PODorPOUSite'] == \"POU\"]\n",
    "print(len(dfu))\n",
    "dfu.head(1)"
   ]
  },
  {
   "cell_type": "code",
   "execution_count": 20,
   "id": "6e4abe0d",
   "metadata": {},
   "outputs": [
    {
     "name": "stdout",
     "output_type": "stream",
     "text": [
      "11087\n"
     ]
    },
    {
     "data": {
      "text/html": [
       "<div>\n",
       "<style scoped>\n",
       "    .dataframe tbody tr th:only-of-type {\n",
       "        vertical-align: middle;\n",
       "    }\n",
       "\n",
       "    .dataframe tbody tr th {\n",
       "        vertical-align: top;\n",
       "    }\n",
       "\n",
       "    .dataframe thead th {\n",
       "        text-align: right;\n",
       "    }\n",
       "</style>\n",
       "<table border=\"1\" class=\"dataframe\">\n",
       "  <thead>\n",
       "    <tr style=\"text-align: right;\">\n",
       "      <th></th>\n",
       "      <th>SiteUUID</th>\n",
       "      <th>SiteName</th>\n",
       "      <th>SiteNativeID</th>\n",
       "      <th>Longitude</th>\n",
       "      <th>Latitude</th>\n",
       "      <th>PODorPOUSite</th>\n",
       "      <th>WaDENameWS</th>\n",
       "      <th>CommunityWaterSupplySystem</th>\n",
       "      <th>VariableCV</th>\n",
       "      <th>VariableSpecificCV</th>\n",
       "      <th>AggregationIntervalUnitCV</th>\n",
       "      <th>HasRecords</th>\n",
       "    </tr>\n",
       "  </thead>\n",
       "  <tbody>\n",
       "    <tr>\n",
       "      <th>51735</th>\n",
       "      <td>UTssps_S1</td>\n",
       "      <td>Well A (middle well)</td>\n",
       "      <td>POD100000001</td>\n",
       "      <td>-111.831387</td>\n",
       "      <td>40.533785</td>\n",
       "      <td>POD</td>\n",
       "      <td>Groundwater</td>\n",
       "      <td>Hidden Valley Country Club</td>\n",
       "      <td>Withdrawal</td>\n",
       "      <td>Withdrawal_Annual_DCII_Groundwater</td>\n",
       "      <td>Year</td>\n",
       "      <td>Yes</td>\n",
       "    </tr>\n",
       "  </tbody>\n",
       "</table>\n",
       "</div>"
      ],
      "text/plain": [
       "        SiteUUID              SiteName  SiteNativeID   Longitude   Latitude  \\\n",
       "51735  UTssps_S1  Well A (middle well)  POD100000001 -111.831387  40.533785   \n",
       "\n",
       "      PODorPOUSite   WaDENameWS  CommunityWaterSupplySystem  VariableCV  \\\n",
       "51735          POD  Groundwater  Hidden Valley Country Club  Withdrawal   \n",
       "\n",
       "                       VariableSpecificCV AggregationIntervalUnitCV HasRecords  \n",
       "51735  Withdrawal_Annual_DCII_Groundwater                      Year        Yes  "
      ]
     },
     "execution_count": 20,
     "metadata": {},
     "output_type": "execute_result"
    }
   ],
   "source": [
    "# POD Only\n",
    "dfd = dfs.copy()\n",
    "dfd = dfd[dfd['PODorPOUSite'] == \"POD\"]\n",
    "print(len(dfd))\n",
    "dfd.head(1)"
   ]
  },
  {
   "cell_type": "code",
   "execution_count": 21,
   "id": "d4290fd6",
   "metadata": {},
   "outputs": [
    {
     "name": "stdout",
     "output_type": "stream",
     "text": [
      "518231\n"
     ]
    },
    {
     "data": {
      "text/html": [
       "<div>\n",
       "<style scoped>\n",
       "    .dataframe tbody tr th:only-of-type {\n",
       "        vertical-align: middle;\n",
       "    }\n",
       "\n",
       "    .dataframe tbody tr th {\n",
       "        vertical-align: top;\n",
       "    }\n",
       "\n",
       "    .dataframe thead th {\n",
       "        text-align: right;\n",
       "    }\n",
       "</style>\n",
       "<table border=\"1\" class=\"dataframe\">\n",
       "  <thead>\n",
       "    <tr style=\"text-align: right;\">\n",
       "      <th></th>\n",
       "      <th>SiteUUID_x</th>\n",
       "      <th>SiteName</th>\n",
       "      <th>SiteNativeID</th>\n",
       "      <th>Longitude_x</th>\n",
       "      <th>Latitude_x</th>\n",
       "      <th>PODorPOUSite_x</th>\n",
       "      <th>WaDENameWS_x</th>\n",
       "      <th>CommunityWaterSupplySystem</th>\n",
       "      <th>VariableCV</th>\n",
       "      <th>VariableSpecificCV</th>\n",
       "      <th>AggregationIntervalUnitCV</th>\n",
       "      <th>HasRecords</th>\n",
       "      <th>SiteUUID_y</th>\n",
       "      <th>Longitude_y</th>\n",
       "      <th>Latitude_y</th>\n",
       "      <th>PODorPOUSite_y</th>\n",
       "      <th>WaDENameWS_y</th>\n",
       "    </tr>\n",
       "  </thead>\n",
       "  <tbody>\n",
       "    <tr>\n",
       "      <th>0</th>\n",
       "      <td>CAssps_S1062</td>\n",
       "      <td>SO. CAL. EDISON CO.-SANTA CATALINA</td>\n",
       "      <td>CA1910006</td>\n",
       "      <td>-118.434483</td>\n",
       "      <td>33.382597</td>\n",
       "      <td>POU</td>\n",
       "      <td>Groundwater</td>\n",
       "      <td>SO. CAL. EDISON CO.-SANTA CATALINA</td>\n",
       "      <td>Delivered</td>\n",
       "      <td>Cumulative Delivered_Monthly_Agricultural_Unsp...</td>\n",
       "      <td>Monthly</td>\n",
       "      <td>Yes</td>\n",
       "      <td>NaN</td>\n",
       "      <td>NaN</td>\n",
       "      <td>NaN</td>\n",
       "      <td>NaN</td>\n",
       "      <td>NaN</td>\n",
       "    </tr>\n",
       "  </tbody>\n",
       "</table>\n",
       "</div>"
      ],
      "text/plain": [
       "     SiteUUID_x                            SiteName SiteNativeID  Longitude_x  \\\n",
       "0  CAssps_S1062  SO. CAL. EDISON CO.-SANTA CATALINA    CA1910006  -118.434483   \n",
       "\n",
       "   Latitude_x PODorPOUSite_x WaDENameWS_x          CommunityWaterSupplySystem  \\\n",
       "0   33.382597            POU  Groundwater  SO. CAL. EDISON CO.-SANTA CATALINA   \n",
       "\n",
       "  VariableCV                                 VariableSpecificCV  \\\n",
       "0  Delivered  Cumulative Delivered_Monthly_Agricultural_Unsp...   \n",
       "\n",
       "  AggregationIntervalUnitCV HasRecords SiteUUID_y  Longitude_y  Latitude_y  \\\n",
       "0                   Monthly        Yes        NaN          NaN         NaN   \n",
       "\n",
       "  PODorPOUSite_y WaDENameWS_y  \n",
       "0            NaN          NaN  "
      ]
     },
     "execution_count": 21,
     "metadata": {},
     "output_type": "execute_result"
    }
   ],
   "source": [
    "# Merge\n",
    "dfu = pd.merge(dfu, dfd[['CommunityWaterSupplySystem', 'SiteUUID', 'Longitude', 'Latitude', 'PODorPOUSite', 'WaDENameWS']], on='CommunityWaterSupplySystem', how='left')\n",
    "\n",
    "print(len(dfu))\n",
    "dfu.head(1)"
   ]
  },
  {
   "cell_type": "code",
   "execution_count": 22,
   "id": "b95dcab3",
   "metadata": {},
   "outputs": [],
   "source": [
    "# # Exporting output files.\n",
    "# dfu.to_excel('Links.xlsx', index=False)"
   ]
  },
  {
   "cell_type": "code",
   "execution_count": null,
   "id": "259e0546",
   "metadata": {},
   "outputs": [],
   "source": []
  },
  {
   "cell_type": "markdown",
   "id": "2d1f94b4",
   "metadata": {},
   "source": [
    "## Mapping to Validate Sites"
   ]
  },
  {
   "cell_type": "code",
   "execution_count": 23,
   "id": "b8540866",
   "metadata": {},
   "outputs": [],
   "source": [
    "# df_sites['Longitude'] = df_sites['Longitude'].astype(float)\n",
    "# df_sites['Latitude'] = df_sites['Latitude'].astype(float)"
   ]
  },
  {
   "cell_type": "code",
   "execution_count": 24,
   "id": "75b677b2",
   "metadata": {},
   "outputs": [
    {
     "name": "stdout",
     "output_type": "stream",
     "text": [
      "70461\n"
     ]
    },
    {
     "data": {
      "text/html": [
       "<div>\n",
       "<style scoped>\n",
       "    .dataframe tbody tr th:only-of-type {\n",
       "        vertical-align: middle;\n",
       "    }\n",
       "\n",
       "    .dataframe tbody tr th {\n",
       "        vertical-align: top;\n",
       "    }\n",
       "\n",
       "    .dataframe thead th {\n",
       "        text-align: right;\n",
       "    }\n",
       "</style>\n",
       "<table border=\"1\" class=\"dataframe\">\n",
       "  <thead>\n",
       "    <tr style=\"text-align: right;\">\n",
       "      <th></th>\n",
       "      <th>SiteUUID</th>\n",
       "      <th>SiteName</th>\n",
       "      <th>SiteNativeID</th>\n",
       "      <th>Longitude</th>\n",
       "      <th>Latitude</th>\n",
       "      <th>PODorPOUSite</th>\n",
       "      <th>WaDENameWS</th>\n",
       "      <th>CommunityWaterSupplySystem</th>\n",
       "      <th>VariableCV</th>\n",
       "      <th>VariableSpecificCV</th>\n",
       "      <th>AggregationIntervalUnitCV</th>\n",
       "      <th>HasRecords</th>\n",
       "      <th>geometry</th>\n",
       "    </tr>\n",
       "  </thead>\n",
       "  <tbody>\n",
       "    <tr>\n",
       "      <th>0</th>\n",
       "      <td>CAssps_S1062</td>\n",
       "      <td>SO. CAL. EDISON CO.-SANTA CATALINA</td>\n",
       "      <td>CA1910006</td>\n",
       "      <td>-118.434483</td>\n",
       "      <td>33.382597</td>\n",
       "      <td>POU</td>\n",
       "      <td>Groundwater</td>\n",
       "      <td>SO. CAL. EDISON CO.-SANTA CATALINA</td>\n",
       "      <td>Delivered</td>\n",
       "      <td>Cumulative Delivered_Monthly_Agricultural_Unsp...</td>\n",
       "      <td>Monthly</td>\n",
       "      <td>Yes</td>\n",
       "      <td>POINT (-118.43448 33.38260)</td>\n",
       "    </tr>\n",
       "    <tr>\n",
       "      <th>1</th>\n",
       "      <td>CAssps_S1062</td>\n",
       "      <td>SO. CAL. EDISON CO.-SANTA CATALINA</td>\n",
       "      <td>CA1910006</td>\n",
       "      <td>-118.434483</td>\n",
       "      <td>33.382597</td>\n",
       "      <td>POU</td>\n",
       "      <td>Purchased</td>\n",
       "      <td>SO. CAL. EDISON CO.-SANTA CATALINA</td>\n",
       "      <td>Delivered</td>\n",
       "      <td>Cumulative Delivered_Monthly_Agricultural_Unsp...</td>\n",
       "      <td>Monthly</td>\n",
       "      <td>Yes</td>\n",
       "      <td>POINT (-118.43448 33.38260)</td>\n",
       "    </tr>\n",
       "    <tr>\n",
       "      <th>2</th>\n",
       "      <td>CAssps_S1062</td>\n",
       "      <td>SO. CAL. EDISON CO.-SANTA CATALINA</td>\n",
       "      <td>CA1910006</td>\n",
       "      <td>-118.434483</td>\n",
       "      <td>33.382597</td>\n",
       "      <td>POU</td>\n",
       "      <td>Surface Water</td>\n",
       "      <td>SO. CAL. EDISON CO.-SANTA CATALINA</td>\n",
       "      <td>Delivered</td>\n",
       "      <td>Cumulative Delivered_Monthly_Agricultural_Unsp...</td>\n",
       "      <td>Monthly</td>\n",
       "      <td>Yes</td>\n",
       "      <td>POINT (-118.43448 33.38260)</td>\n",
       "    </tr>\n",
       "    <tr>\n",
       "      <th>3</th>\n",
       "      <td>CAssps_S1062</td>\n",
       "      <td>SO. CAL. EDISON CO.-SANTA CATALINA</td>\n",
       "      <td>CA1910006</td>\n",
       "      <td>-118.434483</td>\n",
       "      <td>33.382597</td>\n",
       "      <td>POU</td>\n",
       "      <td>Unspecified</td>\n",
       "      <td>SO. CAL. EDISON CO.-SANTA CATALINA</td>\n",
       "      <td>Delivered</td>\n",
       "      <td>Cumulative Delivered_Monthly_Agricultural_Unsp...</td>\n",
       "      <td>Monthly</td>\n",
       "      <td>Yes</td>\n",
       "      <td>POINT (-118.43448 33.38260)</td>\n",
       "    </tr>\n",
       "    <tr>\n",
       "      <th>4</th>\n",
       "      <td>CAssps_S1071</td>\n",
       "      <td>CERRITOS - CITY, WATER DEPT.</td>\n",
       "      <td>CA1910019</td>\n",
       "      <td>-118.068443</td>\n",
       "      <td>33.868150</td>\n",
       "      <td>POU</td>\n",
       "      <td>Groundwater</td>\n",
       "      <td>CERRITOS - CITY, WATER DEPT.</td>\n",
       "      <td>Delivered</td>\n",
       "      <td>Cumulative Delivered_Monthly_Agricultural_Unsp...</td>\n",
       "      <td>Monthly</td>\n",
       "      <td>Yes</td>\n",
       "      <td>POINT (-118.06844 33.86815)</td>\n",
       "    </tr>\n",
       "  </tbody>\n",
       "</table>\n",
       "</div>"
      ],
      "text/plain": [
       "       SiteUUID                            SiteName SiteNativeID   Longitude  \\\n",
       "0  CAssps_S1062  SO. CAL. EDISON CO.-SANTA CATALINA    CA1910006 -118.434483   \n",
       "1  CAssps_S1062  SO. CAL. EDISON CO.-SANTA CATALINA    CA1910006 -118.434483   \n",
       "2  CAssps_S1062  SO. CAL. EDISON CO.-SANTA CATALINA    CA1910006 -118.434483   \n",
       "3  CAssps_S1062  SO. CAL. EDISON CO.-SANTA CATALINA    CA1910006 -118.434483   \n",
       "4  CAssps_S1071        CERRITOS - CITY, WATER DEPT.    CA1910019 -118.068443   \n",
       "\n",
       "    Latitude PODorPOUSite     WaDENameWS          CommunityWaterSupplySystem  \\\n",
       "0  33.382597          POU    Groundwater  SO. CAL. EDISON CO.-SANTA CATALINA   \n",
       "1  33.382597          POU      Purchased  SO. CAL. EDISON CO.-SANTA CATALINA   \n",
       "2  33.382597          POU  Surface Water  SO. CAL. EDISON CO.-SANTA CATALINA   \n",
       "3  33.382597          POU    Unspecified  SO. CAL. EDISON CO.-SANTA CATALINA   \n",
       "4  33.868150          POU    Groundwater        CERRITOS - CITY, WATER DEPT.   \n",
       "\n",
       "  VariableCV                                 VariableSpecificCV  \\\n",
       "0  Delivered  Cumulative Delivered_Monthly_Agricultural_Unsp...   \n",
       "1  Delivered  Cumulative Delivered_Monthly_Agricultural_Unsp...   \n",
       "2  Delivered  Cumulative Delivered_Monthly_Agricultural_Unsp...   \n",
       "3  Delivered  Cumulative Delivered_Monthly_Agricultural_Unsp...   \n",
       "4  Delivered  Cumulative Delivered_Monthly_Agricultural_Unsp...   \n",
       "\n",
       "  AggregationIntervalUnitCV HasRecords                     geometry  \n",
       "0                   Monthly        Yes  POINT (-118.43448 33.38260)  \n",
       "1                   Monthly        Yes  POINT (-118.43448 33.38260)  \n",
       "2                   Monthly        Yes  POINT (-118.43448 33.38260)  \n",
       "3                   Monthly        Yes  POINT (-118.43448 33.38260)  \n",
       "4                   Monthly        Yes  POINT (-118.06844 33.86815)  "
      ]
     },
     "execution_count": 24,
     "metadata": {},
     "output_type": "execute_result"
    }
   ],
   "source": [
    "# convert dataframe to geodataframe\n",
    "\n",
    "gdf2 = gpd.GeoDataFrame(dfs, geometry=gpd.points_from_xy(dfs.Longitude.astype(float), dfs.Latitude.astype(float)), crs=\"EPSG:4326\")\n",
    "print(len(gdf2))\n",
    "gdf2.head()"
   ]
  },
  {
   "cell_type": "code",
   "execution_count": 25,
   "id": "32ba53e7",
   "metadata": {},
   "outputs": [
    {
     "data": {
      "text/plain": [
       "<AxesSubplot:>"
      ]
     },
     "execution_count": 25,
     "metadata": {},
     "output_type": "execute_result"
    },
    {
     "data": {
      "image/png": "[encoded data removed]",
      "text/plain": [
       "<Figure size 800x600 with 1 Axes>"
      ]
     },
     "metadata": {},
     "output_type": "display_data"
    }
   ],
   "source": [
    "gplt.pointplot(gdf2)"
   ]
  },
  {
   "cell_type": "code",
   "execution_count": null,
   "id": "923a5d66",
   "metadata": {},
   "outputs": [],
   "source": []
  },
  {
   "cell_type": "code",
   "execution_count": null,
   "id": "4e37c5e7",
   "metadata": {},
   "outputs": [],
   "source": []
  },
  {
   "cell_type": "code",
   "execution_count": null,
   "id": "7c8c816d",
   "metadata": {},
   "outputs": [],
   "source": []
  },
  {
   "cell_type": "code",
   "execution_count": null,
   "id": "68e44c13",
   "metadata": {},
   "outputs": [],
   "source": []
  },
  {
   "cell_type": "code",
   "execution_count": null,
   "id": "dd39d380",
   "metadata": {},
   "outputs": [],
   "source": []
  }
 ],
 "metadata": {
  "kernelspec": {
   "display_name": "Python 3 (ipykernel)",
   "language": "python",
   "name": "python3"
  },
  "language_info": {
   "codemirror_mode": {
    "name": "ipython",
    "version": 3
   },
   "file_extension": ".py",
   "mimetype": "text/x-python",
   "name": "python",
   "nbconvert_exporter": "python",
   "pygments_lexer": "ipython3",
   "version": "3.9.13"
  }
 },
 "nbformat": 4,
 "nbformat_minor": 5
}
