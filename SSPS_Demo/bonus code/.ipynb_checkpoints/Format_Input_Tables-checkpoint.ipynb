{
 "cells": [
  {
   "cell_type": "markdown",
   "id": "4aed23de",
   "metadata": {},
   "source": [
    "## SSPS Demo \n",
    "## Preprocessing Data Input Tables Site Specific RShiny Demo App\n",
    "Notes:\n",
    "- asdf"
   ]
  },
  {
   "cell_type": "code",
   "execution_count": 1,
   "id": "4301f091",
   "metadata": {},
   "outputs": [],
   "source": [
    "# working with data\n",
    "import os\n",
    "import numpy as np\n",
    "import pandas as pd\n",
    "import geopandas as gpd # the library that lets us read in shapefiles\n",
    "import geoplot as gplt # for plotting maps\n",
    "\n",
    "# visulizaiton\n",
    "import seaborn as sns\n",
    "import matplotlib.pyplot as plt\n",
    "\n",
    "# Cleanup\n",
    "from datetime import datetime\n",
    "pd.set_option('display.max_columns', 999)  # How to display all columns of a Pandas DataFrame in Jupyter Notebook"
   ]
  },
  {
   "cell_type": "code",
   "execution_count": 2,
   "id": "7715e363",
   "metadata": {},
   "outputs": [
    {
     "name": "stdout",
     "output_type": "stream",
     "text": [
      "current directory = C:\\Users\\rjame\\Documents\\WSWC Documents\\WaDE Side Projects Local\\20221017 Rshiny SS Demo\\SSPS_Demo\\bonus code\n",
      "new directory = C:\\Users\\rjame\\Documents\\WSWC Documents\\WaDE Side Projects Local\\20221017 Rshiny SS Demo\\SSPS_Demo\\NotEssentialData\n"
     ]
    }
   ],
   "source": [
    "# Setting work directory\n",
    "cwd = os.getcwd()\n",
    "print(\"current directory = \" + cwd)\n",
    "\n",
    "os.chdir(\"../NotEssentialData\")\n",
    "print(\"new directory = \" + os.path.abspath(os.curdir))"
   ]
  },
  {
   "cell_type": "markdown",
   "id": "b89e86d1",
   "metadata": {},
   "source": [
    "## Inputs"
   ]
  },
  {
   "cell_type": "code",
   "execution_count": 3,
   "id": "a99e47a6",
   "metadata": {
    "scrolled": true
   },
   "outputs": [
    {
     "name": "stdout",
     "output_type": "stream",
     "text": [
      "53358\n"
     ]
    },
    {
     "data": {
      "text/html": [
       "<div>\n",
       "<style scoped>\n",
       "    .dataframe tbody tr th:only-of-type {\n",
       "        vertical-align: middle;\n",
       "    }\n",
       "\n",
       "    .dataframe tbody tr th {\n",
       "        vertical-align: top;\n",
       "    }\n",
       "\n",
       "    .dataframe thead th {\n",
       "        text-align: right;\n",
       "    }\n",
       "</style>\n",
       "<table border=\"1\" class=\"dataframe\">\n",
       "  <thead>\n",
       "    <tr style=\"text-align: right;\">\n",
       "      <th></th>\n",
       "      <th>SiteUUID</th>\n",
       "      <th>SiteName</th>\n",
       "      <th>SiteNativeID</th>\n",
       "      <th>WaDENameS</th>\n",
       "      <th>Longitude</th>\n",
       "      <th>Latitude</th>\n",
       "      <th>PODorPOUSite</th>\n",
       "      <th>WaDENameWS</th>\n",
       "      <th>AggregationIntervalUnitCV</th>\n",
       "      <th>VariableCV</th>\n",
       "      <th>VariableSpecificCV</th>\n",
       "      <th>HasRecords</th>\n",
       "    </tr>\n",
       "  </thead>\n",
       "  <tbody>\n",
       "    <tr>\n",
       "      <th>0</th>\n",
       "      <td>CAssps_S1062</td>\n",
       "      <td>SO. CAL. EDISON CO.-SANTA CATALINA</td>\n",
       "      <td>CA1910006</td>\n",
       "      <td>Water Service Area</td>\n",
       "      <td>-118.434483</td>\n",
       "      <td>33.382597</td>\n",
       "      <td>POU</td>\n",
       "      <td>Groundwater</td>\n",
       "      <td>Monthly</td>\n",
       "      <td>Delivered</td>\n",
       "      <td>Cumulative Delivered_Monthly_Agricultural_Unsp...</td>\n",
       "      <td>Yes</td>\n",
       "    </tr>\n",
       "  </tbody>\n",
       "</table>\n",
       "</div>"
      ],
      "text/plain": [
       "       SiteUUID                            SiteName SiteNativeID  \\\n",
       "0  CAssps_S1062  SO. CAL. EDISON CO.-SANTA CATALINA    CA1910006   \n",
       "\n",
       "            WaDENameS   Longitude   Latitude PODorPOUSite   WaDENameWS  \\\n",
       "0  Water Service Area -118.434483  33.382597          POU  Groundwater   \n",
       "\n",
       "  AggregationIntervalUnitCV VariableCV  \\\n",
       "0                   Monthly  Delivered   \n",
       "\n",
       "                                  VariableSpecificCV HasRecords  \n",
       "0  Cumulative Delivered_Monthly_Agricultural_Unsp...        Yes  "
      ]
     },
     "execution_count": 3,
     "metadata": {},
     "output_type": "execute_result"
    }
   ],
   "source": [
    "#Sites Input\n",
    "fileInput = \"Sites.csv\"\n",
    "dfs = pd.read_csv(fileInput)\n",
    "print(len(dfs))\n",
    "dfs.head(1)"
   ]
  },
  {
   "cell_type": "markdown",
   "id": "eac455b3",
   "metadata": {},
   "source": [
    "## Clean Sites Data"
   ]
  },
  {
   "cell_type": "code",
   "execution_count": 4,
   "id": "6827b748",
   "metadata": {},
   "outputs": [
    {
     "name": "stdout",
     "output_type": "stream",
     "text": [
      "53358\n"
     ]
    },
    {
     "data": {
      "text/html": [
       "<div>\n",
       "<style scoped>\n",
       "    .dataframe tbody tr th:only-of-type {\n",
       "        vertical-align: middle;\n",
       "    }\n",
       "\n",
       "    .dataframe tbody tr th {\n",
       "        vertical-align: top;\n",
       "    }\n",
       "\n",
       "    .dataframe thead th {\n",
       "        text-align: right;\n",
       "    }\n",
       "</style>\n",
       "<table border=\"1\" class=\"dataframe\">\n",
       "  <thead>\n",
       "    <tr style=\"text-align: right;\">\n",
       "      <th></th>\n",
       "      <th>SiteUUID</th>\n",
       "      <th>SiteName</th>\n",
       "      <th>SiteNativeID</th>\n",
       "      <th>WaDENameS</th>\n",
       "      <th>Longitude</th>\n",
       "      <th>Latitude</th>\n",
       "      <th>PODorPOUSite</th>\n",
       "      <th>WaDENameWS</th>\n",
       "      <th>AggregationIntervalUnitCV</th>\n",
       "      <th>VariableCV</th>\n",
       "      <th>VariableSpecificCV</th>\n",
       "      <th>HasRecords</th>\n",
       "    </tr>\n",
       "  </thead>\n",
       "  <tbody>\n",
       "    <tr>\n",
       "      <th>0</th>\n",
       "      <td>CAssps_S1062</td>\n",
       "      <td>SO. CAL. EDISON CO.-SANTA CATALINA</td>\n",
       "      <td>CA1910006</td>\n",
       "      <td>Water Service Area</td>\n",
       "      <td>-118.434483</td>\n",
       "      <td>33.382597</td>\n",
       "      <td>POU</td>\n",
       "      <td>Groundwater</td>\n",
       "      <td>Monthly</td>\n",
       "      <td>Delivered</td>\n",
       "      <td>Cumulative Delivered_Monthly_Agricultural_Unsp...</td>\n",
       "      <td>Yes</td>\n",
       "    </tr>\n",
       "  </tbody>\n",
       "</table>\n",
       "</div>"
      ],
      "text/plain": [
       "       SiteUUID                            SiteName SiteNativeID  \\\n",
       "0  CAssps_S1062  SO. CAL. EDISON CO.-SANTA CATALINA    CA1910006   \n",
       "\n",
       "            WaDENameS   Longitude   Latitude PODorPOUSite   WaDENameWS  \\\n",
       "0  Water Service Area -118.434483  33.382597          POU  Groundwater   \n",
       "\n",
       "  AggregationIntervalUnitCV VariableCV  \\\n",
       "0                   Monthly  Delivered   \n",
       "\n",
       "                                  VariableSpecificCV HasRecords  \n",
       "0  Cumulative Delivered_Monthly_Agricultural_Unsp...        Yes  "
      ]
     },
     "execution_count": 4,
     "metadata": {},
     "output_type": "execute_result"
    }
   ],
   "source": [
    "# Clean input\n",
    "dfs = dfs.drop_duplicates().reset_index(drop=True) # Drop Duplicate Rows\n",
    "dfs = dfs.replace(np.nan, \"\")  # Replaces NaN values with blank.\n",
    "print(len(dfs))\n",
    "dfs.head(1)"
   ]
  },
  {
   "cell_type": "code",
   "execution_count": 5,
   "id": "a25d2fd0",
   "metadata": {
    "scrolled": true
   },
   "outputs": [
    {
     "data": {
      "text/plain": [
       "array(['Groundwater', 'Surface Water', 'Unspecified', 'Reuse',\n",
       "       'Surface and Groundwater'], dtype=object)"
      ]
     },
     "execution_count": 5,
     "metadata": {},
     "output_type": "execute_result"
    }
   ],
   "source": [
    "# Fixing blank WaDENameWS\n",
    "def updateWaDENameWS(Val):\n",
    "    Val = str(Val).strip()\n",
    "    if Val == \"\" or pd.isnull(Val) or Val == \"\":\n",
    "        outString = \"Unspecified\"\n",
    "    else:\n",
    "        outString = Val\n",
    "    return outString\n",
    "\n",
    "dfs['WaDENameWS'] = dfs.apply(lambda row: updateWaDENameWS(row['WaDENameWS']), axis=1)\n",
    "dfs['WaDENameWS'].unique()"
   ]
  },
  {
   "cell_type": "code",
   "execution_count": 6,
   "id": "c7ee3341",
   "metadata": {},
   "outputs": [
    {
     "name": "stdout",
     "output_type": "stream",
     "text": [
      "17699\n"
     ]
    },
    {
     "data": {
      "text/html": [
       "<div>\n",
       "<style scoped>\n",
       "    .dataframe tbody tr th:only-of-type {\n",
       "        vertical-align: middle;\n",
       "    }\n",
       "\n",
       "    .dataframe tbody tr th {\n",
       "        vertical-align: top;\n",
       "    }\n",
       "\n",
       "    .dataframe thead th {\n",
       "        text-align: right;\n",
       "    }\n",
       "</style>\n",
       "<table border=\"1\" class=\"dataframe\">\n",
       "  <thead>\n",
       "    <tr style=\"text-align: right;\">\n",
       "      <th></th>\n",
       "      <th>SiteUUID</th>\n",
       "      <th>SiteName</th>\n",
       "      <th>SiteNativeID</th>\n",
       "      <th>WaDENameS</th>\n",
       "      <th>Longitude</th>\n",
       "      <th>Latitude</th>\n",
       "      <th>PODorPOUSite</th>\n",
       "      <th>WaDENameWS</th>\n",
       "      <th>AggregationIntervalUnitCV</th>\n",
       "      <th>VariableCV</th>\n",
       "      <th>VariableSpecificCV</th>\n",
       "      <th>HasRecords</th>\n",
       "    </tr>\n",
       "  </thead>\n",
       "  <tbody>\n",
       "    <tr>\n",
       "      <th>0</th>\n",
       "      <td>CAssps_S1</td>\n",
       "      <td>NORRIS CANYON PROPERTY OWNERS ASSN</td>\n",
       "      <td>CA0103040</td>\n",
       "      <td>Water Service Area</td>\n",
       "      <td>-122.027303326</td>\n",
       "      <td>37.7343636266</td>\n",
       "      <td>POU</td>\n",
       "      <td>Surface Water, Groundwater, Unspecified</td>\n",
       "      <td>Monthly</td>\n",
       "      <td>Delivered, Produced</td>\n",
       "      <td>Cumulative Produced_Monthly_Total_Groundwater,...</td>\n",
       "      <td>Yes</td>\n",
       "    </tr>\n",
       "  </tbody>\n",
       "</table>\n",
       "</div>"
      ],
      "text/plain": [
       "    SiteUUID                            SiteName SiteNativeID  \\\n",
       "0  CAssps_S1  NORRIS CANYON PROPERTY OWNERS ASSN    CA0103040   \n",
       "\n",
       "            WaDENameS       Longitude       Latitude PODorPOUSite  \\\n",
       "0  Water Service Area  -122.027303326  37.7343636266          POU   \n",
       "\n",
       "                                WaDENameWS AggregationIntervalUnitCV  \\\n",
       "0  Surface Water, Groundwater, Unspecified                   Monthly   \n",
       "\n",
       "            VariableCV                                 VariableSpecificCV  \\\n",
       "0  Delivered, Produced  Cumulative Produced_Monthly_Total_Groundwater,...   \n",
       "\n",
       "  HasRecords  \n",
       "0        Yes  "
      ]
     },
     "execution_count": 6,
     "metadata": {},
     "output_type": "execute_result"
    }
   ],
   "source": [
    "# Groupby SiteUUID\n",
    "dfs = dfs.groupby(['SiteUUID']).agg(lambda x: \", \".join([str(elem) for elem in (list(set(x))) if elem!=\"\"])).replace(np.nan, \"\").reset_index()\n",
    "print(len(dfs))\n",
    "dfs.head(1)"
   ]
  },
  {
   "cell_type": "code",
   "execution_count": 7,
   "id": "c896c3e3",
   "metadata": {},
   "outputs": [
    {
     "data": {
      "text/plain": [
       "array([ 2,  3,  1,  7,  6,  8,  5,  9,  4, 10,  0, 11, 12], dtype=int64)"
      ]
     },
     "execution_count": 7,
     "metadata": {},
     "output_type": "execute_result"
    }
   ],
   "source": [
    "# count num of VariableSpecificCV after groupby\n",
    "\n",
    "def countNumVar(Val):\n",
    "    Val = list(Val.split(\",\"))\n",
    "    if Val == [\"\"]:\n",
    "        ValLen = 0\n",
    "    else:\n",
    "        ValLen = len(Val)\n",
    "    return ValLen\n",
    "\n",
    "dfs['CountVar'] = dfs.apply(lambda row: countNumVar(row['VariableSpecificCV']), axis=1)\n",
    "dfs['CountVar'].unique()"
   ]
  },
  {
   "cell_type": "code",
   "execution_count": 8,
   "id": "329e0d74",
   "metadata": {},
   "outputs": [
    {
     "data": {
      "text/plain": [
       "array(['CA', 'NJ', 'NM', 'TX', 'UT'], dtype=object)"
      ]
     },
     "execution_count": 8,
     "metadata": {},
     "output_type": "execute_result"
    }
   ],
   "source": [
    "# add State field\n",
    "\n",
    "def createState(Val):\n",
    "    Val = Val.strip()\n",
    "    outString = Val[:2]\n",
    "    return outString\n",
    "\n",
    "dfs['State'] = dfs.apply(lambda row: createState(row['SiteUUID']), axis=1)\n",
    "dfs['State'].unique()"
   ]
  },
  {
   "cell_type": "code",
   "execution_count": 9,
   "id": "4a056177",
   "metadata": {},
   "outputs": [
    {
     "name": "stdout",
     "output_type": "stream",
     "text": [
      "17699\n"
     ]
    },
    {
     "data": {
      "text/html": [
       "<div>\n",
       "<style scoped>\n",
       "    .dataframe tbody tr th:only-of-type {\n",
       "        vertical-align: middle;\n",
       "    }\n",
       "\n",
       "    .dataframe tbody tr th {\n",
       "        vertical-align: top;\n",
       "    }\n",
       "\n",
       "    .dataframe thead th {\n",
       "        text-align: right;\n",
       "    }\n",
       "</style>\n",
       "<table border=\"1\" class=\"dataframe\">\n",
       "  <thead>\n",
       "    <tr style=\"text-align: right;\">\n",
       "      <th></th>\n",
       "      <th>SiteUUID</th>\n",
       "      <th>SiteName</th>\n",
       "      <th>SiteNativeID</th>\n",
       "      <th>WaDENameS</th>\n",
       "      <th>Longitude</th>\n",
       "      <th>Latitude</th>\n",
       "      <th>PODorPOUSite</th>\n",
       "      <th>WaDENameWS</th>\n",
       "      <th>AggregationIntervalUnitCV</th>\n",
       "      <th>VariableCV</th>\n",
       "      <th>VariableSpecificCV</th>\n",
       "      <th>HasRecords</th>\n",
       "      <th>CountVar</th>\n",
       "      <th>State</th>\n",
       "      <th>minTimeFrameStart</th>\n",
       "      <th>maxTimeFrameEnd</th>\n",
       "    </tr>\n",
       "  </thead>\n",
       "  <tbody>\n",
       "    <tr>\n",
       "      <th>0</th>\n",
       "      <td>CAssps_S1</td>\n",
       "      <td>NORRIS CANYON PROPERTY OWNERS ASSN</td>\n",
       "      <td>CA0103040</td>\n",
       "      <td>Water Service Area</td>\n",
       "      <td>-122.027303326</td>\n",
       "      <td>37.7343636266</td>\n",
       "      <td>POU</td>\n",
       "      <td>Surface Water, Groundwater, Unspecified</td>\n",
       "      <td>Monthly</td>\n",
       "      <td>Delivered, Produced</td>\n",
       "      <td>Cumulative Produced_Monthly_Total_Groundwater,...</td>\n",
       "      <td>Yes</td>\n",
       "      <td>2</td>\n",
       "      <td>CA</td>\n",
       "      <td>2014-01-01</td>\n",
       "      <td>2016-12-31</td>\n",
       "    </tr>\n",
       "  </tbody>\n",
       "</table>\n",
       "</div>"
      ],
      "text/plain": [
       "    SiteUUID                            SiteName SiteNativeID  \\\n",
       "0  CAssps_S1  NORRIS CANYON PROPERTY OWNERS ASSN    CA0103040   \n",
       "\n",
       "            WaDENameS       Longitude       Latitude PODorPOUSite  \\\n",
       "0  Water Service Area  -122.027303326  37.7343636266          POU   \n",
       "\n",
       "                                WaDENameWS AggregationIntervalUnitCV  \\\n",
       "0  Surface Water, Groundwater, Unspecified                   Monthly   \n",
       "\n",
       "            VariableCV                                 VariableSpecificCV  \\\n",
       "0  Delivered, Produced  Cumulative Produced_Monthly_Total_Groundwater,...   \n",
       "\n",
       "  HasRecords  CountVar State minTimeFrameStart maxTimeFrameEnd  \n",
       "0        Yes         2    CA        2014-01-01      2016-12-31  "
      ]
     },
     "execution_count": 9,
     "metadata": {},
     "output_type": "execute_result"
    }
   ],
   "source": [
    "# attach timeframe based on SiteUUID\n",
    "\n",
    "fileInput = \"Sites_timeframe.csv\"\n",
    "dfstf = pd.read_csv(fileInput)\n",
    "dfs = pd.merge(dfs, dfstf, on='SiteUUID', how='left')\n",
    "print(len(dfs))\n",
    "dfs.head(1)"
   ]
  },
  {
   "cell_type": "code",
   "execution_count": 12,
   "id": "404eeeea",
   "metadata": {},
   "outputs": [
    {
     "name": "stdout",
     "output_type": "stream",
     "text": [
      "17699\n"
     ]
    },
    {
     "data": {
      "text/html": [
       "<div>\n",
       "<style scoped>\n",
       "    .dataframe tbody tr th:only-of-type {\n",
       "        vertical-align: middle;\n",
       "    }\n",
       "\n",
       "    .dataframe tbody tr th {\n",
       "        vertical-align: top;\n",
       "    }\n",
       "\n",
       "    .dataframe thead th {\n",
       "        text-align: right;\n",
       "    }\n",
       "</style>\n",
       "<table border=\"1\" class=\"dataframe\">\n",
       "  <thead>\n",
       "    <tr style=\"text-align: right;\">\n",
       "      <th></th>\n",
       "      <th>SiteUUID</th>\n",
       "      <th>SiteName</th>\n",
       "      <th>SiteNativeID</th>\n",
       "      <th>WaDENameS</th>\n",
       "      <th>Longitude</th>\n",
       "      <th>Latitude</th>\n",
       "      <th>PODorPOUSite_x</th>\n",
       "      <th>WaDENameWS</th>\n",
       "      <th>AggregationIntervalUnitCV</th>\n",
       "      <th>VariableCV</th>\n",
       "      <th>VariableSpecificCV</th>\n",
       "      <th>HasRecords</th>\n",
       "      <th>CountVar</th>\n",
       "      <th>State</th>\n",
       "      <th>minTimeFrameStart</th>\n",
       "      <th>maxTimeFrameEnd</th>\n",
       "      <th>PODorPOUSite_y</th>\n",
       "      <th>geometry</th>\n",
       "    </tr>\n",
       "  </thead>\n",
       "  <tbody>\n",
       "    <tr>\n",
       "      <th>0</th>\n",
       "      <td>CAssps_S1</td>\n",
       "      <td>NORRIS CANYON PROPERTY OWNERS ASSN</td>\n",
       "      <td>CA0103040</td>\n",
       "      <td>Water Service Area</td>\n",
       "      <td>-122.027303326</td>\n",
       "      <td>37.7343636266</td>\n",
       "      <td>POU</td>\n",
       "      <td>Surface Water, Groundwater, Unspecified</td>\n",
       "      <td>Monthly</td>\n",
       "      <td>Delivered, Produced</td>\n",
       "      <td>Cumulative Produced_Monthly_Total_Groundwater,...</td>\n",
       "      <td>Yes</td>\n",
       "      <td>2</td>\n",
       "      <td>CA</td>\n",
       "      <td>2014-01-01</td>\n",
       "      <td>2016-12-31</td>\n",
       "      <td>POU</td>\n",
       "      <td>POLYGON ((-122.02636000038909 37.7379799998779...</td>\n",
       "    </tr>\n",
       "  </tbody>\n",
       "</table>\n",
       "</div>"
      ],
      "text/plain": [
       "    SiteUUID                            SiteName SiteNativeID  \\\n",
       "0  CAssps_S1  NORRIS CANYON PROPERTY OWNERS ASSN    CA0103040   \n",
       "\n",
       "            WaDENameS       Longitude       Latitude PODorPOUSite_x  \\\n",
       "0  Water Service Area  -122.027303326  37.7343636266            POU   \n",
       "\n",
       "                                WaDENameWS AggregationIntervalUnitCV  \\\n",
       "0  Surface Water, Groundwater, Unspecified                   Monthly   \n",
       "\n",
       "            VariableCV                                 VariableSpecificCV  \\\n",
       "0  Delivered, Produced  Cumulative Produced_Monthly_Total_Groundwater,...   \n",
       "\n",
       "  HasRecords  CountVar State minTimeFrameStart maxTimeFrameEnd PODorPOUSite_y  \\\n",
       "0        Yes         2    CA        2014-01-01      2016-12-31            POU   \n",
       "\n",
       "                                            geometry  \n",
       "0  POLYGON ((-122.02636000038909 37.7379799998779...  "
      ]
     },
     "execution_count": 12,
     "metadata": {},
     "output_type": "execute_result"
    }
   ],
   "source": [
    "# attach geometry based on SiteUUID\n",
    "\n",
    "fileInput = \"Sites_geometry.csv\"\n",
    "dfgeo = pd.read_csv(fileInput)\n",
    "dfs = pd.merge(dfs, dfgeo, on='SiteUUID', how='left')\n",
    "print(len(dfs))\n",
    "dfs.head(1)"
   ]
  },
  {
   "cell_type": "code",
   "execution_count": 13,
   "id": "b200fc11",
   "metadata": {},
   "outputs": [
    {
     "name": "stdout",
     "output_type": "stream",
     "text": [
      "17699\n"
     ]
    },
    {
     "data": {
      "text/html": [
       "<div>\n",
       "<style scoped>\n",
       "    .dataframe tbody tr th:only-of-type {\n",
       "        vertical-align: middle;\n",
       "    }\n",
       "\n",
       "    .dataframe tbody tr th {\n",
       "        vertical-align: top;\n",
       "    }\n",
       "\n",
       "    .dataframe thead th {\n",
       "        text-align: right;\n",
       "    }\n",
       "</style>\n",
       "<table border=\"1\" class=\"dataframe\">\n",
       "  <thead>\n",
       "    <tr style=\"text-align: right;\">\n",
       "      <th></th>\n",
       "      <th>SiteUUID</th>\n",
       "      <th>SiteName</th>\n",
       "      <th>SiteNativeID</th>\n",
       "      <th>WaDENameS</th>\n",
       "      <th>Longitude</th>\n",
       "      <th>Latitude</th>\n",
       "      <th>PODorPOUSite_x</th>\n",
       "      <th>WaDENameWS</th>\n",
       "      <th>AggregationIntervalUnitCV</th>\n",
       "      <th>VariableCV</th>\n",
       "      <th>VariableSpecificCV</th>\n",
       "      <th>HasRecords</th>\n",
       "      <th>CountVar</th>\n",
       "      <th>State</th>\n",
       "      <th>minTimeFrameStart</th>\n",
       "      <th>maxTimeFrameEnd</th>\n",
       "      <th>PODorPOUSite_y</th>\n",
       "      <th>geometry</th>\n",
       "    </tr>\n",
       "  </thead>\n",
       "  <tbody>\n",
       "    <tr>\n",
       "      <th>0</th>\n",
       "      <td>CAssps_S1</td>\n",
       "      <td>NORRIS CANYON PROPERTY OWNERS ASSN</td>\n",
       "      <td>CA0103040</td>\n",
       "      <td>Water Service Area</td>\n",
       "      <td>-122.027303</td>\n",
       "      <td>37.734364</td>\n",
       "      <td>POU</td>\n",
       "      <td>Surface Water, Groundwater, Unspecified</td>\n",
       "      <td>Monthly</td>\n",
       "      <td>Delivered, Produced</td>\n",
       "      <td>Cumulative Produced_Monthly_Total_Groundwater,...</td>\n",
       "      <td>Yes</td>\n",
       "      <td>2</td>\n",
       "      <td>CA</td>\n",
       "      <td>2014-01-01</td>\n",
       "      <td>2016-12-31</td>\n",
       "      <td>POU</td>\n",
       "      <td>POLYGON ((-122.02636000038909 37.7379799998779...</td>\n",
       "    </tr>\n",
       "  </tbody>\n",
       "</table>\n",
       "</div>"
      ],
      "text/plain": [
       "    SiteUUID                            SiteName SiteNativeID  \\\n",
       "0  CAssps_S1  NORRIS CANYON PROPERTY OWNERS ASSN    CA0103040   \n",
       "\n",
       "            WaDENameS   Longitude   Latitude PODorPOUSite_x  \\\n",
       "0  Water Service Area -122.027303  37.734364            POU   \n",
       "\n",
       "                                WaDENameWS AggregationIntervalUnitCV  \\\n",
       "0  Surface Water, Groundwater, Unspecified                   Monthly   \n",
       "\n",
       "            VariableCV                                 VariableSpecificCV  \\\n",
       "0  Delivered, Produced  Cumulative Produced_Monthly_Total_Groundwater,...   \n",
       "\n",
       "  HasRecords  CountVar State minTimeFrameStart maxTimeFrameEnd PODorPOUSite_y  \\\n",
       "0        Yes         2    CA        2014-01-01      2016-12-31            POU   \n",
       "\n",
       "                                            geometry  \n",
       "0  POLYGON ((-122.02636000038909 37.7379799998779...  "
      ]
     },
     "execution_count": 13,
     "metadata": {},
     "output_type": "execute_result"
    }
   ],
   "source": [
    "# Temp Fix\n",
    "\n",
    "# remove lat & long entries that contain a ','\n",
    "dfs = dfs[dfs['Latitude'].str.contains(',') == False]\n",
    "dfs = dfs[dfs['Longitude'].str.contains(',') == False]\n",
    "\n",
    "# Ensure long is < 0 and > -125 (few ID sites out of bounds)\n",
    "# Ensure lat is > 10 and < 50 (few MT sites out of bounds).\n",
    "dfs['Latitude'] = pd.to_numeric(dfs['Latitude'], errors='coerce')\n",
    "dfs['Longitude'] = pd.to_numeric(dfs['Longitude'], errors='coerce')\n",
    "dfs = dfs[(dfs['Latitude'].astype(int) > 10) & (dfs['Latitude'].astype(int) < 50)]\n",
    "dfs = dfs[(dfs['Longitude'].astype(int) < 0) & (dfs['Longitude'].astype(int) > -125)]\n",
    "\n",
    "print(len(dfs))\n",
    "dfs.head(1)"
   ]
  },
  {
   "cell_type": "code",
   "execution_count": 14,
   "id": "a1195bc3",
   "metadata": {},
   "outputs": [
    {
     "name": "stdout",
     "output_type": "stream",
     "text": [
      "1955-01-01 00:00:00\n",
      "2021-12-31 00:00:00\n"
     ]
    }
   ],
   "source": [
    "# # Issue of ESRI Shapefile does not support datetime fields\n",
    "\n",
    "# dfs['minTimeFrameStart'] = pd.to_datetime(dfs['minTimeFrameStart'], errors = 'coerce')\n",
    "# dfs['maxTimeFrameEnd'] = pd.to_datetime(dfs['maxTimeFrameEnd'], errors = 'coerce')\n",
    "# print(dfs['minTimeFrameStart'].min())\n",
    "# print(dfs['maxTimeFrameEnd'].max())"
   ]
  },
  {
   "cell_type": "code",
   "execution_count": 15,
   "id": "2fd38aea",
   "metadata": {},
   "outputs": [
    {
     "data": {
      "text/html": [
       "<div>\n",
       "<style scoped>\n",
       "    .dataframe tbody tr th:only-of-type {\n",
       "        vertical-align: middle;\n",
       "    }\n",
       "\n",
       "    .dataframe tbody tr th {\n",
       "        vertical-align: top;\n",
       "    }\n",
       "\n",
       "    .dataframe thead th {\n",
       "        text-align: right;\n",
       "    }\n",
       "</style>\n",
       "<table border=\"1\" class=\"dataframe\">\n",
       "  <thead>\n",
       "    <tr style=\"text-align: right;\">\n",
       "      <th></th>\n",
       "      <th>SiteUUID</th>\n",
       "      <th>SiteName</th>\n",
       "      <th>SiteNativeID</th>\n",
       "      <th>WaDENameS</th>\n",
       "      <th>Longitude</th>\n",
       "      <th>Latitude</th>\n",
       "      <th>PODorPOUSite_x</th>\n",
       "      <th>WaDENameWS</th>\n",
       "      <th>AggregationIntervalUnitCV</th>\n",
       "      <th>VariableCV</th>\n",
       "      <th>VariableSpecificCV</th>\n",
       "      <th>HasRecords</th>\n",
       "      <th>CountVar</th>\n",
       "      <th>State</th>\n",
       "      <th>minTimeFrameStart</th>\n",
       "      <th>maxTimeFrameEnd</th>\n",
       "      <th>PODorPOUSite_y</th>\n",
       "      <th>geometry</th>\n",
       "    </tr>\n",
       "  </thead>\n",
       "  <tbody>\n",
       "    <tr>\n",
       "      <th>0</th>\n",
       "      <td>CAssps_S1</td>\n",
       "      <td>NORRIS CANYON PROPERTY OWNERS ASSN</td>\n",
       "      <td>CA0103040</td>\n",
       "      <td>Water Service Area</td>\n",
       "      <td>-122.027303</td>\n",
       "      <td>37.734364</td>\n",
       "      <td>POU</td>\n",
       "      <td>Surface Water, Groundwater, Unspecified</td>\n",
       "      <td>Monthly</td>\n",
       "      <td>Delivered, Produced</td>\n",
       "      <td>Cumulative Produced_Monthly_Total_Groundwater,...</td>\n",
       "      <td>Yes</td>\n",
       "      <td>2</td>\n",
       "      <td>CA</td>\n",
       "      <td>2014-01-01</td>\n",
       "      <td>2016-12-31</td>\n",
       "      <td>POU</td>\n",
       "      <td>POLYGON ((-122.02636000038909 37.7379799998779...</td>\n",
       "    </tr>\n",
       "    <tr>\n",
       "      <th>1</th>\n",
       "      <td>CAssps_S10</td>\n",
       "      <td>ALAMEDA COUNTY FAIRGROUNDS</td>\n",
       "      <td>CA0105020</td>\n",
       "      <td>Water Service Area</td>\n",
       "      <td>-121.887236</td>\n",
       "      <td>37.661659</td>\n",
       "      <td>POU</td>\n",
       "      <td>Surface Water, Groundwater, Unspecified</td>\n",
       "      <td>Monthly</td>\n",
       "      <td>Delivered, Produced</td>\n",
       "      <td>Cumulative Delivered_Monthly_Multi Family Resi...</td>\n",
       "      <td>Yes</td>\n",
       "      <td>3</td>\n",
       "      <td>CA</td>\n",
       "      <td>2013-01-01</td>\n",
       "      <td>2016-12-31</td>\n",
       "      <td>POU</td>\n",
       "      <td>POLYGON ((-121.88789999944797 37.6622299998386...</td>\n",
       "    </tr>\n",
       "    <tr>\n",
       "      <th>2</th>\n",
       "      <td>CAssps_S100</td>\n",
       "      <td>FOREST RANCH CHARTER SCHOOL</td>\n",
       "      <td>CA0400079</td>\n",
       "      <td>Water Service Area</td>\n",
       "      <td>-121.667045</td>\n",
       "      <td>39.884413</td>\n",
       "      <td>POU</td>\n",
       "      <td>Surface Water, Groundwater, Unspecified</td>\n",
       "      <td>Monthly</td>\n",
       "      <td>Produced</td>\n",
       "      <td>Cumulative Produced_Monthly_Total_Groundwater</td>\n",
       "      <td>Yes</td>\n",
       "      <td>1</td>\n",
       "      <td>CA</td>\n",
       "      <td>2014-01-01</td>\n",
       "      <td>2016-12-31</td>\n",
       "      <td>POU</td>\n",
       "      <td>POLYGON ((-121.6677100001466 39.88542000026367...</td>\n",
       "    </tr>\n",
       "    <tr>\n",
       "      <th>3</th>\n",
       "      <td>CAssps_S1000</td>\n",
       "      <td>LANCASTER PARK MOBILE HOME PARK</td>\n",
       "      <td>CA1900038</td>\n",
       "      <td>Water Service Area</td>\n",
       "      <td>-118.131822</td>\n",
       "      <td>34.746266</td>\n",
       "      <td>POU</td>\n",
       "      <td>Surface Water, Groundwater, Unspecified</td>\n",
       "      <td>Monthly</td>\n",
       "      <td>Produced</td>\n",
       "      <td>Cumulative Produced_Monthly_Total_Groundwater</td>\n",
       "      <td>Yes</td>\n",
       "      <td>1</td>\n",
       "      <td>CA</td>\n",
       "      <td>2016-01-01</td>\n",
       "      <td>2016-12-31</td>\n",
       "      <td>POU</td>\n",
       "      <td>POLYGON ((-118.13252999981032 34.7459100000641...</td>\n",
       "    </tr>\n",
       "    <tr>\n",
       "      <th>4</th>\n",
       "      <td>CAssps_S1001</td>\n",
       "      <td>PETER PITCHESS HONOR RANCHO DETN. CTR</td>\n",
       "      <td>CA1900046</td>\n",
       "      <td>Water Service Area</td>\n",
       "      <td>-118.595689</td>\n",
       "      <td>34.465742</td>\n",
       "      <td>POU</td>\n",
       "      <td>Surface Water, Groundwater, Unspecified</td>\n",
       "      <td>Monthly</td>\n",
       "      <td>Produced</td>\n",
       "      <td>Cumulative Produced_Monthly_Total_Groundwater</td>\n",
       "      <td>Yes</td>\n",
       "      <td>1</td>\n",
       "      <td>CA</td>\n",
       "      <td>2013-01-01</td>\n",
       "      <td>2016-12-31</td>\n",
       "      <td>POU</td>\n",
       "      <td>MULTIPOLYGON (((-118.60232725927787 34.4652590...</td>\n",
       "    </tr>\n",
       "    <tr>\n",
       "      <th>...</th>\n",
       "      <td>...</td>\n",
       "      <td>...</td>\n",
       "      <td>...</td>\n",
       "      <td>...</td>\n",
       "      <td>...</td>\n",
       "      <td>...</td>\n",
       "      <td>...</td>\n",
       "      <td>...</td>\n",
       "      <td>...</td>\n",
       "      <td>...</td>\n",
       "      <td>...</td>\n",
       "      <td>...</td>\n",
       "      <td>...</td>\n",
       "      <td>...</td>\n",
       "      <td>...</td>\n",
       "      <td>...</td>\n",
       "      <td>...</td>\n",
       "      <td>...</td>\n",
       "    </tr>\n",
       "    <tr>\n",
       "      <th>17694</th>\n",
       "      <td>UTssps_S995</td>\n",
       "      <td>Well #1</td>\n",
       "      <td>POD108542928</td>\n",
       "      <td>Well</td>\n",
       "      <td>-112.098703</td>\n",
       "      <td>41.256292</td>\n",
       "      <td>POD</td>\n",
       "      <td>Groundwater</td>\n",
       "      <td>Annual</td>\n",
       "      <td>Withdrawal</td>\n",
       "      <td>Withdrawal_Monthly_Agricultural_Groundwater</td>\n",
       "      <td>Yes</td>\n",
       "      <td>1</td>\n",
       "      <td>UT</td>\n",
       "      <td>2015-01-01</td>\n",
       "      <td>2021-12-31</td>\n",
       "      <td>POD</td>\n",
       "      <td>NaN</td>\n",
       "    </tr>\n",
       "    <tr>\n",
       "      <th>17695</th>\n",
       "      <td>UTssps_S996</td>\n",
       "      <td>Well #2</td>\n",
       "      <td>POD108542932</td>\n",
       "      <td>Well</td>\n",
       "      <td>-112.093757</td>\n",
       "      <td>41.256369</td>\n",
       "      <td>POD</td>\n",
       "      <td>Groundwater</td>\n",
       "      <td>Annual</td>\n",
       "      <td>Withdrawal</td>\n",
       "      <td>Withdrawal_Monthly_Agricultural_Groundwater</td>\n",
       "      <td>Yes</td>\n",
       "      <td>1</td>\n",
       "      <td>UT</td>\n",
       "      <td>2015-01-01</td>\n",
       "      <td>2021-12-31</td>\n",
       "      <td>POD</td>\n",
       "      <td>NaN</td>\n",
       "    </tr>\n",
       "    <tr>\n",
       "      <th>17696</th>\n",
       "      <td>UTssps_S997</td>\n",
       "      <td>Tollgate Well #3 (WS003)</td>\n",
       "      <td>POD108542937</td>\n",
       "      <td>Well</td>\n",
       "      <td>-111.498348</td>\n",
       "      <td>40.796333</td>\n",
       "      <td>POD</td>\n",
       "      <td>Groundwater</td>\n",
       "      <td>Annual</td>\n",
       "      <td>Withdrawal</td>\n",
       "      <td>Withdrawal_Monthly_Water Supplier_Groundwater</td>\n",
       "      <td>Yes</td>\n",
       "      <td>1</td>\n",
       "      <td>UT</td>\n",
       "      <td>2013-01-01</td>\n",
       "      <td>2021-12-31</td>\n",
       "      <td>POD</td>\n",
       "      <td>NaN</td>\n",
       "    </tr>\n",
       "    <tr>\n",
       "      <th>17697</th>\n",
       "      <td>UTssps_S998</td>\n",
       "      <td>Contact (#1) Well (WS004)</td>\n",
       "      <td>POD108542958</td>\n",
       "      <td>Well</td>\n",
       "      <td>-111.511629</td>\n",
       "      <td>40.805735</td>\n",
       "      <td>POD</td>\n",
       "      <td>Groundwater</td>\n",
       "      <td>Annual</td>\n",
       "      <td>Withdrawal</td>\n",
       "      <td>Withdrawal_Monthly_Water Supplier_Groundwater</td>\n",
       "      <td>Yes</td>\n",
       "      <td>1</td>\n",
       "      <td>UT</td>\n",
       "      <td>2015-01-01</td>\n",
       "      <td>2019-08-31</td>\n",
       "      <td>POD</td>\n",
       "      <td>NaN</td>\n",
       "    </tr>\n",
       "    <tr>\n",
       "      <th>17698</th>\n",
       "      <td>UTssps_S999</td>\n",
       "      <td>Uncle Tom Well 4 (WS006)</td>\n",
       "      <td>POD108542959</td>\n",
       "      <td>Well</td>\n",
       "      <td>-111.488424</td>\n",
       "      <td>40.822677</td>\n",
       "      <td>POD</td>\n",
       "      <td>Groundwater</td>\n",
       "      <td>Annual</td>\n",
       "      <td>Withdrawal</td>\n",
       "      <td>Withdrawal_Monthly_Water Supplier_Groundwater</td>\n",
       "      <td>Yes</td>\n",
       "      <td>1</td>\n",
       "      <td>UT</td>\n",
       "      <td>2013-01-01</td>\n",
       "      <td>2021-12-31</td>\n",
       "      <td>POD</td>\n",
       "      <td>NaN</td>\n",
       "    </tr>\n",
       "  </tbody>\n",
       "</table>\n",
       "<p>17699 rows × 18 columns</p>\n",
       "</div>"
      ],
      "text/plain": [
       "           SiteUUID                               SiteName  SiteNativeID  \\\n",
       "0         CAssps_S1     NORRIS CANYON PROPERTY OWNERS ASSN     CA0103040   \n",
       "1        CAssps_S10             ALAMEDA COUNTY FAIRGROUNDS     CA0105020   \n",
       "2       CAssps_S100            FOREST RANCH CHARTER SCHOOL     CA0400079   \n",
       "3      CAssps_S1000        LANCASTER PARK MOBILE HOME PARK     CA1900038   \n",
       "4      CAssps_S1001  PETER PITCHESS HONOR RANCHO DETN. CTR     CA1900046   \n",
       "...             ...                                    ...           ...   \n",
       "17694   UTssps_S995                                Well #1  POD108542928   \n",
       "17695   UTssps_S996                                Well #2  POD108542932   \n",
       "17696   UTssps_S997               Tollgate Well #3 (WS003)  POD108542937   \n",
       "17697   UTssps_S998              Contact (#1) Well (WS004)  POD108542958   \n",
       "17698   UTssps_S999               Uncle Tom Well 4 (WS006)  POD108542959   \n",
       "\n",
       "                WaDENameS   Longitude   Latitude PODorPOUSite_x  \\\n",
       "0      Water Service Area -122.027303  37.734364            POU   \n",
       "1      Water Service Area -121.887236  37.661659            POU   \n",
       "2      Water Service Area -121.667045  39.884413            POU   \n",
       "3      Water Service Area -118.131822  34.746266            POU   \n",
       "4      Water Service Area -118.595689  34.465742            POU   \n",
       "...                   ...         ...        ...            ...   \n",
       "17694                Well -112.098703  41.256292            POD   \n",
       "17695                Well -112.093757  41.256369            POD   \n",
       "17696                Well -111.498348  40.796333            POD   \n",
       "17697                Well -111.511629  40.805735            POD   \n",
       "17698                Well -111.488424  40.822677            POD   \n",
       "\n",
       "                                    WaDENameWS AggregationIntervalUnitCV  \\\n",
       "0      Surface Water, Groundwater, Unspecified                   Monthly   \n",
       "1      Surface Water, Groundwater, Unspecified                   Monthly   \n",
       "2      Surface Water, Groundwater, Unspecified                   Monthly   \n",
       "3      Surface Water, Groundwater, Unspecified                   Monthly   \n",
       "4      Surface Water, Groundwater, Unspecified                   Monthly   \n",
       "...                                        ...                       ...   \n",
       "17694                              Groundwater                    Annual   \n",
       "17695                              Groundwater                    Annual   \n",
       "17696                              Groundwater                    Annual   \n",
       "17697                              Groundwater                    Annual   \n",
       "17698                              Groundwater                    Annual   \n",
       "\n",
       "                VariableCV                                 VariableSpecificCV  \\\n",
       "0      Delivered, Produced  Cumulative Produced_Monthly_Total_Groundwater,...   \n",
       "1      Delivered, Produced  Cumulative Delivered_Monthly_Multi Family Resi...   \n",
       "2                 Produced      Cumulative Produced_Monthly_Total_Groundwater   \n",
       "3                 Produced      Cumulative Produced_Monthly_Total_Groundwater   \n",
       "4                 Produced      Cumulative Produced_Monthly_Total_Groundwater   \n",
       "...                    ...                                                ...   \n",
       "17694           Withdrawal        Withdrawal_Monthly_Agricultural_Groundwater   \n",
       "17695           Withdrawal        Withdrawal_Monthly_Agricultural_Groundwater   \n",
       "17696           Withdrawal      Withdrawal_Monthly_Water Supplier_Groundwater   \n",
       "17697           Withdrawal      Withdrawal_Monthly_Water Supplier_Groundwater   \n",
       "17698           Withdrawal      Withdrawal_Monthly_Water Supplier_Groundwater   \n",
       "\n",
       "      HasRecords  CountVar State minTimeFrameStart maxTimeFrameEnd  \\\n",
       "0            Yes         2    CA        2014-01-01      2016-12-31   \n",
       "1            Yes         3    CA        2013-01-01      2016-12-31   \n",
       "2            Yes         1    CA        2014-01-01      2016-12-31   \n",
       "3            Yes         1    CA        2016-01-01      2016-12-31   \n",
       "4            Yes         1    CA        2013-01-01      2016-12-31   \n",
       "...          ...       ...   ...               ...             ...   \n",
       "17694        Yes         1    UT        2015-01-01      2021-12-31   \n",
       "17695        Yes         1    UT        2015-01-01      2021-12-31   \n",
       "17696        Yes         1    UT        2013-01-01      2021-12-31   \n",
       "17697        Yes         1    UT        2015-01-01      2019-08-31   \n",
       "17698        Yes         1    UT        2013-01-01      2021-12-31   \n",
       "\n",
       "      PODorPOUSite_y                                           geometry  \n",
       "0                POU  POLYGON ((-122.02636000038909 37.7379799998779...  \n",
       "1                POU  POLYGON ((-121.88789999944797 37.6622299998386...  \n",
       "2                POU  POLYGON ((-121.6677100001466 39.88542000026367...  \n",
       "3                POU  POLYGON ((-118.13252999981032 34.7459100000641...  \n",
       "4                POU  MULTIPOLYGON (((-118.60232725927787 34.4652590...  \n",
       "...              ...                                                ...  \n",
       "17694            POD                                                NaN  \n",
       "17695            POD                                                NaN  \n",
       "17696            POD                                                NaN  \n",
       "17697            POD                                                NaN  \n",
       "17698            POD                                                NaN  \n",
       "\n",
       "[17699 rows x 18 columns]"
      ]
     },
     "execution_count": 15,
     "metadata": {},
     "output_type": "execute_result"
    }
   ],
   "source": [
    "#Inspect output\n",
    "dfs"
   ]
  },
  {
   "cell_type": "code",
   "execution_count": 16,
   "id": "9c81786c",
   "metadata": {},
   "outputs": [
    {
     "data": {
      "text/plain": [
       "array(['Water Service Area', 'Other', 'Township', 'City', 'Borough',\n",
       "       'Town', 'Village', 'Surface Water', 'Well',\n",
       "       'Canal / Ditch / Stream', '', 'Lake', 'Reservoir', 'Spring', '`',\n",
       "       'Drain', 'Creek / Spring'], dtype=object)"
      ]
     },
     "execution_count": 16,
     "metadata": {},
     "output_type": "execute_result"
    }
   ],
   "source": [
    "dfs['WaDENameS'].unique()"
   ]
  },
  {
   "cell_type": "code",
   "execution_count": 17,
   "id": "31cea2f9",
   "metadata": {},
   "outputs": [
    {
     "data": {
      "text/plain": [
       "array(['Surface Water, Groundwater, Unspecified',\n",
       "       'Groundwater, Surface Water, Unspecified', 'Unspecified',\n",
       "       'Groundwater',\n",
       "       'Surface Water, Groundwater, Surface and Groundwater',\n",
       "       'Surface Water, Groundwater',\n",
       "       'Groundwater, Surface Water, Unspecified, Surface and Groundwater',\n",
       "       'Surface Water, Groundwater, Surface and Groundwater, Unspecified',\n",
       "       'Surface Water', 'Groundwater, Unspecified',\n",
       "       'Surface and Groundwater', 'Groundwater, Surface and Groundwater',\n",
       "       'Reuse, Groundwater', 'Reuse, Surface Water, Groundwater',\n",
       "       'Reuse, Surface Water'], dtype=object)"
      ]
     },
     "execution_count": 17,
     "metadata": {},
     "output_type": "execute_result"
    }
   ],
   "source": [
    "dfs['WaDENameWS'].unique()"
   ]
  },
  {
   "cell_type": "code",
   "execution_count": 18,
   "id": "6ccadacc",
   "metadata": {},
   "outputs": [
    {
     "data": {
      "text/plain": [
       "array(['Delivered, Produced', 'Produced', 'Delivered', '', 'Withdrawal',\n",
       "       'Return, Withdrawal', 'Return', 'Intake', 'Transfer In',\n",
       "       'Transfer Out', 'Delivered Water Use'], dtype=object)"
      ]
     },
     "execution_count": 18,
     "metadata": {},
     "output_type": "execute_result"
    }
   ],
   "source": [
    "dfs['VariableCV'].unique()"
   ]
  },
  {
   "cell_type": "code",
   "execution_count": 19,
   "id": "5cf690a9",
   "metadata": {},
   "outputs": [
    {
     "name": "stdout",
     "output_type": "stream",
     "text": [
      "<class 'pandas.core.frame.DataFrame'>\n",
      "Int64Index: 17699 entries, 0 to 17698\n",
      "Data columns (total 18 columns):\n",
      " #   Column                     Non-Null Count  Dtype         \n",
      "---  ------                     --------------  -----         \n",
      " 0   SiteUUID                   17699 non-null  object        \n",
      " 1   SiteName                   17699 non-null  object        \n",
      " 2   SiteNativeID               17699 non-null  object        \n",
      " 3   WaDENameS                  17699 non-null  object        \n",
      " 4   Longitude                  17699 non-null  float64       \n",
      " 5   Latitude                   17699 non-null  float64       \n",
      " 6   PODorPOUSite_x             17699 non-null  object        \n",
      " 7   WaDENameWS                 17699 non-null  object        \n",
      " 8   AggregationIntervalUnitCV  17699 non-null  object        \n",
      " 9   VariableCV                 17699 non-null  object        \n",
      " 10  VariableSpecificCV         17699 non-null  object        \n",
      " 11  HasRecords                 17699 non-null  object        \n",
      " 12  CountVar                   17699 non-null  int64         \n",
      " 13  State                      17699 non-null  object        \n",
      " 14  minTimeFrameStart          12606 non-null  datetime64[ns]\n",
      " 15  maxTimeFrameEnd            12606 non-null  datetime64[ns]\n",
      " 16  PODorPOUSite_y             17699 non-null  object        \n",
      " 17  geometry                   9302 non-null   object        \n",
      "dtypes: datetime64[ns](2), float64(2), int64(1), object(13)\n",
      "memory usage: 2.6+ MB\n"
     ]
    }
   ],
   "source": [
    "dfs.info()"
   ]
  },
  {
   "cell_type": "code",
   "execution_count": null,
   "id": "2f754bc2",
   "metadata": {},
   "outputs": [],
   "source": []
  },
  {
   "cell_type": "markdown",
   "id": "f3659dab",
   "metadata": {},
   "source": [
    "## Create Sites xlsx file"
   ]
  },
  {
   "cell_type": "code",
   "execution_count": 20,
   "id": "60b78ae3",
   "metadata": {},
   "outputs": [
    {
     "name": "stdout",
     "output_type": "stream",
     "text": [
      "8397\n"
     ]
    },
    {
     "data": {
      "text/html": [
       "<div>\n",
       "<style scoped>\n",
       "    .dataframe tbody tr th:only-of-type {\n",
       "        vertical-align: middle;\n",
       "    }\n",
       "\n",
       "    .dataframe tbody tr th {\n",
       "        vertical-align: top;\n",
       "    }\n",
       "\n",
       "    .dataframe thead th {\n",
       "        text-align: right;\n",
       "    }\n",
       "</style>\n",
       "<table border=\"1\" class=\"dataframe\">\n",
       "  <thead>\n",
       "    <tr style=\"text-align: right;\">\n",
       "      <th></th>\n",
       "      <th>SiteUUID</th>\n",
       "      <th>SiteName</th>\n",
       "      <th>SiteNativeID</th>\n",
       "      <th>WaDENameS</th>\n",
       "      <th>Longitude</th>\n",
       "      <th>Latitude</th>\n",
       "      <th>PODorPOUSite</th>\n",
       "      <th>WaDENameWS</th>\n",
       "      <th>AggregationIntervalUnitCV</th>\n",
       "      <th>VariableCV</th>\n",
       "      <th>VariableSpecificCV</th>\n",
       "      <th>HasRecords</th>\n",
       "      <th>CountVar</th>\n",
       "      <th>State</th>\n",
       "      <th>minTimeFrameStart</th>\n",
       "      <th>maxTimeFrameEnd</th>\n",
       "    </tr>\n",
       "  </thead>\n",
       "  <tbody>\n",
       "    <tr>\n",
       "      <th>0</th>\n",
       "      <td>NMssps_S1</td>\n",
       "      <td>Unspecified</td>\n",
       "      <td>1.0</td>\n",
       "      <td>Other</td>\n",
       "      <td>-106.273851</td>\n",
       "      <td>34.941213</td>\n",
       "      <td>POD</td>\n",
       "      <td>Surface Water, Groundwater</td>\n",
       "      <td>Annual</td>\n",
       "      <td>Withdrawal</td>\n",
       "      <td>Withdrawal_Annual_Unspecified_Groundwater</td>\n",
       "      <td>Yes</td>\n",
       "      <td>1</td>\n",
       "      <td>NM</td>\n",
       "      <td>2010-01-01</td>\n",
       "      <td>2015-12-31</td>\n",
       "    </tr>\n",
       "  </tbody>\n",
       "</table>\n",
       "</div>"
      ],
      "text/plain": [
       "    SiteUUID     SiteName SiteNativeID WaDENameS   Longitude   Latitude  \\\n",
       "0  NMssps_S1  Unspecified          1.0     Other -106.273851  34.941213   \n",
       "\n",
       "  PODorPOUSite                  WaDENameWS AggregationIntervalUnitCV  \\\n",
       "0          POD  Surface Water, Groundwater                    Annual   \n",
       "\n",
       "   VariableCV                         VariableSpecificCV HasRecords  CountVar  \\\n",
       "0  Withdrawal  Withdrawal_Annual_Unspecified_Groundwater        Yes         1   \n",
       "\n",
       "  State minTimeFrameStart maxTimeFrameEnd  \n",
       "0    NM        2010-01-01      2015-12-31  "
      ]
     },
     "execution_count": 20,
     "metadata": {},
     "output_type": "execute_result"
    }
   ],
   "source": [
    "df_sites = dfs.copy()\n",
    "df_sites = df_sites[df_sites['geometry'].isnull()].reset_index(drop=True)\n",
    "df_sites = df_sites.drop(['geometry', 'PODorPOUSite_y'], axis=1)\n",
    "df_sites = df_sites.rename(columns={\"PODorPOUSite_x\": \"PODorPOUSite\"})\n",
    "print(len(df_sites))\n",
    "df_sites.head(1)"
   ]
  },
  {
   "cell_type": "code",
   "execution_count": 21,
   "id": "6cce5378",
   "metadata": {},
   "outputs": [
    {
     "data": {
      "text/plain": [
       "array(['Surface Water, Groundwater', 'Groundwater', 'Surface Water',\n",
       "       'Unspecified'], dtype=object)"
      ]
     },
     "execution_count": 21,
     "metadata": {},
     "output_type": "execute_result"
    }
   ],
   "source": [
    "df_sites['WaDENameWS'].unique()"
   ]
  },
  {
   "cell_type": "code",
   "execution_count": 22,
   "id": "6a7dc202",
   "metadata": {},
   "outputs": [
    {
     "data": {
      "text/plain": [
       "array(['NM', 'TX', 'UT'], dtype=object)"
      ]
     },
     "execution_count": 22,
     "metadata": {},
     "output_type": "execute_result"
    }
   ],
   "source": [
    "df_sites['State'].unique()"
   ]
  },
  {
   "cell_type": "code",
   "execution_count": 23,
   "id": "cfa84c60",
   "metadata": {},
   "outputs": [],
   "source": [
    "# Exporting output files.\n",
    "df_sites.to_excel('Sites_v2_sites.xlsx', index=False)"
   ]
  },
  {
   "cell_type": "markdown",
   "id": "97577e0f",
   "metadata": {},
   "source": [
    "## Create Polygon Shapefile"
   ]
  },
  {
   "cell_type": "code",
   "execution_count": 24,
   "id": "1c8a2191",
   "metadata": {},
   "outputs": [
    {
     "name": "stdout",
     "output_type": "stream",
     "text": [
      "9302\n"
     ]
    },
    {
     "data": {
      "text/html": [
       "<div>\n",
       "<style scoped>\n",
       "    .dataframe tbody tr th:only-of-type {\n",
       "        vertical-align: middle;\n",
       "    }\n",
       "\n",
       "    .dataframe tbody tr th {\n",
       "        vertical-align: top;\n",
       "    }\n",
       "\n",
       "    .dataframe thead th {\n",
       "        text-align: right;\n",
       "    }\n",
       "</style>\n",
       "<table border=\"1\" class=\"dataframe\">\n",
       "  <thead>\n",
       "    <tr style=\"text-align: right;\">\n",
       "      <th></th>\n",
       "      <th>SiteUUID</th>\n",
       "      <th>SiteName</th>\n",
       "      <th>SiteNativeID</th>\n",
       "      <th>WaDENameS</th>\n",
       "      <th>Longitude</th>\n",
       "      <th>Latitude</th>\n",
       "      <th>PODorPOUSite</th>\n",
       "      <th>WaDENameWS</th>\n",
       "      <th>AggregationIntervalUnitCV</th>\n",
       "      <th>VariableCV</th>\n",
       "      <th>VariableSpecificCV</th>\n",
       "      <th>HasRecords</th>\n",
       "      <th>CountVar</th>\n",
       "      <th>State</th>\n",
       "      <th>minTimeFrameStart</th>\n",
       "      <th>maxTimeFrameEnd</th>\n",
       "      <th>geometry</th>\n",
       "    </tr>\n",
       "  </thead>\n",
       "  <tbody>\n",
       "    <tr>\n",
       "      <th>0</th>\n",
       "      <td>CAssps_S1</td>\n",
       "      <td>NORRIS CANYON PROPERTY OWNERS ASSN</td>\n",
       "      <td>CA0103040</td>\n",
       "      <td>Water Service Area</td>\n",
       "      <td>-122.027303</td>\n",
       "      <td>37.734364</td>\n",
       "      <td>POU</td>\n",
       "      <td>Surface Water, Groundwater, Unspecified</td>\n",
       "      <td>Monthly</td>\n",
       "      <td>Delivered, Produced</td>\n",
       "      <td>Cumulative Produced_Monthly_Total_Groundwater,...</td>\n",
       "      <td>Yes</td>\n",
       "      <td>2</td>\n",
       "      <td>CA</td>\n",
       "      <td>2014-01-01</td>\n",
       "      <td>2016-12-31</td>\n",
       "      <td>POLYGON ((-122.02636000038909 37.7379799998779...</td>\n",
       "    </tr>\n",
       "  </tbody>\n",
       "</table>\n",
       "</div>"
      ],
      "text/plain": [
       "    SiteUUID                            SiteName SiteNativeID  \\\n",
       "0  CAssps_S1  NORRIS CANYON PROPERTY OWNERS ASSN    CA0103040   \n",
       "\n",
       "            WaDENameS   Longitude   Latitude PODorPOUSite  \\\n",
       "0  Water Service Area -122.027303  37.734364          POU   \n",
       "\n",
       "                                WaDENameWS AggregationIntervalUnitCV  \\\n",
       "0  Surface Water, Groundwater, Unspecified                   Monthly   \n",
       "\n",
       "            VariableCV                                 VariableSpecificCV  \\\n",
       "0  Delivered, Produced  Cumulative Produced_Monthly_Total_Groundwater,...   \n",
       "\n",
       "  HasRecords  CountVar State minTimeFrameStart maxTimeFrameEnd  \\\n",
       "0        Yes         2    CA        2014-01-01      2016-12-31   \n",
       "\n",
       "                                            geometry  \n",
       "0  POLYGON ((-122.02636000038909 37.7379799998779...  "
      ]
     },
     "execution_count": 24,
     "metadata": {},
     "output_type": "execute_result"
    }
   ],
   "source": [
    "df_poly = dfs.copy()\n",
    "df_poly = df_poly[df_poly['geometry'].notnull()].reset_index(drop=True)\n",
    "df_poly = df_poly.drop(['PODorPOUSite_y'], axis=1)\n",
    "df_poly = df_poly.rename(columns={\"PODorPOUSite_x\": \"PODorPOUSite\"})\n",
    "print(len(df_poly))\n",
    "df_poly.head(1)"
   ]
  },
  {
   "cell_type": "code",
   "execution_count": 25,
   "id": "ff799ce8",
   "metadata": {},
   "outputs": [
    {
     "name": "stdout",
     "output_type": "stream",
     "text": [
      "8686\n"
     ]
    },
    {
     "data": {
      "text/html": [
       "<div>\n",
       "<style scoped>\n",
       "    .dataframe tbody tr th:only-of-type {\n",
       "        vertical-align: middle;\n",
       "    }\n",
       "\n",
       "    .dataframe tbody tr th {\n",
       "        vertical-align: top;\n",
       "    }\n",
       "\n",
       "    .dataframe thead th {\n",
       "        text-align: right;\n",
       "    }\n",
       "</style>\n",
       "<table border=\"1\" class=\"dataframe\">\n",
       "  <thead>\n",
       "    <tr style=\"text-align: right;\">\n",
       "      <th></th>\n",
       "      <th>SiteUUID</th>\n",
       "      <th>SiteName</th>\n",
       "      <th>SiteNativeID</th>\n",
       "      <th>WaDENameS</th>\n",
       "      <th>Longitude</th>\n",
       "      <th>Latitude</th>\n",
       "      <th>PODorPOUSite</th>\n",
       "      <th>WaDENameWS</th>\n",
       "      <th>AggregationIntervalUnitCV</th>\n",
       "      <th>VariableCV</th>\n",
       "      <th>VariableSpecificCV</th>\n",
       "      <th>HasRecords</th>\n",
       "      <th>CountVar</th>\n",
       "      <th>State</th>\n",
       "      <th>minTimeFrameStart</th>\n",
       "      <th>maxTimeFrameEnd</th>\n",
       "      <th>geometry</th>\n",
       "    </tr>\n",
       "  </thead>\n",
       "  <tbody>\n",
       "    <tr>\n",
       "      <th>0</th>\n",
       "      <td>CAssps_S1</td>\n",
       "      <td>NORRIS CANYON PROPERTY OWNERS ASSN</td>\n",
       "      <td>CA0103040</td>\n",
       "      <td>Water Service Area</td>\n",
       "      <td>-122.027303</td>\n",
       "      <td>37.734364</td>\n",
       "      <td>POU</td>\n",
       "      <td>Surface Water, Groundwater, Unspecified</td>\n",
       "      <td>Monthly</td>\n",
       "      <td>Delivered, Produced</td>\n",
       "      <td>Cumulative Produced_Monthly_Total_Groundwater,...</td>\n",
       "      <td>Yes</td>\n",
       "      <td>2</td>\n",
       "      <td>CA</td>\n",
       "      <td>2014-01-01</td>\n",
       "      <td>2016-12-31</td>\n",
       "      <td>POLYGON ((-122.02636000038909 37.7379799998779...</td>\n",
       "    </tr>\n",
       "  </tbody>\n",
       "</table>\n",
       "</div>"
      ],
      "text/plain": [
       "    SiteUUID                            SiteName SiteNativeID  \\\n",
       "0  CAssps_S1  NORRIS CANYON PROPERTY OWNERS ASSN    CA0103040   \n",
       "\n",
       "            WaDENameS   Longitude   Latitude PODorPOUSite  \\\n",
       "0  Water Service Area -122.027303  37.734364          POU   \n",
       "\n",
       "                                WaDENameWS AggregationIntervalUnitCV  \\\n",
       "0  Surface Water, Groundwater, Unspecified                   Monthly   \n",
       "\n",
       "            VariableCV                                 VariableSpecificCV  \\\n",
       "0  Delivered, Produced  Cumulative Produced_Monthly_Total_Groundwater,...   \n",
       "\n",
       "  HasRecords  CountVar State minTimeFrameStart maxTimeFrameEnd  \\\n",
       "0        Yes         2    CA        2014-01-01      2016-12-31   \n",
       "\n",
       "                                            geometry  \n",
       "0  POLYGON ((-122.02636000038909 37.7379799998779...  "
      ]
     },
     "execution_count": 25,
     "metadata": {},
     "output_type": "execute_result"
    }
   ],
   "source": [
    "# drop empty geometry rows\n",
    "df_poly = df_poly.dropna()\n",
    "print(len(df_poly))\n",
    "df_poly.head(1)"
   ]
  },
  {
   "cell_type": "code",
   "execution_count": 26,
   "id": "722910ab",
   "metadata": {},
   "outputs": [],
   "source": [
    "# convert from object string -to- geometry\n",
    "# covert to geodataframe\n",
    "df_poly['geometry'] = gpd.GeoSeries.from_wkt(df_poly['geometry'], crs=\"EPSG:4326\")\n",
    "gdf_poly = gpd.GeoDataFrame(df_poly, geometry=df_poly['geometry'], crs=\"EPSG:4326\") # covert to geodataframe"
   ]
  },
  {
   "cell_type": "code",
   "execution_count": 27,
   "id": "4f64aa54",
   "metadata": {},
   "outputs": [
    {
     "name": "stderr",
     "output_type": "stream",
     "text": [
      "C:\\Users\\rjame\\anaconda3\\lib\\site-packages\\geopandas\\io\\file.py:299: FutureWarning: pandas.Int64Index is deprecated and will be removed from pandas in a future version. Use pandas.Index with the appropriate dtype instead.\n",
      "  pd.Int64Index,\n",
      "C:\\Users\\rjame\\AppData\\Local\\Temp\\ipykernel_6996\\2839569877.py:2: UserWarning: Column names longer than 10 characters will be truncated when saved to ESRI Shapefile.\n",
      "  gdf_poly.to_file(\"Sites_v2_poly.shp\") # export shape file\n"
     ]
    },
    {
     "ename": "DriverSupportError",
     "evalue": "ESRI Shapefile does not support datetime fields",
     "output_type": "error",
     "traceback": [
      "\u001b[1;31m---------------------------------------------------------------------------\u001b[0m",
      "\u001b[1;31mDriverSupportError\u001b[0m                        Traceback (most recent call last)",
      "\u001b[1;32m~\\AppData\\Local\\Temp\\ipykernel_6996\\2839569877.py\u001b[0m in \u001b[0;36m<module>\u001b[1;34m\u001b[0m\n\u001b[0;32m      1\u001b[0m \u001b[1;31m# Exporting output shapefile files.\u001b[0m\u001b[1;33m\u001b[0m\u001b[1;33m\u001b[0m\u001b[0m\n\u001b[1;32m----> 2\u001b[1;33m \u001b[0mgdf_poly\u001b[0m\u001b[1;33m.\u001b[0m\u001b[0mto_file\u001b[0m\u001b[1;33m(\u001b[0m\u001b[1;34m\"Sites_v2_poly.shp\"\u001b[0m\u001b[1;33m)\u001b[0m \u001b[1;31m# export shape file\u001b[0m\u001b[1;33m\u001b[0m\u001b[1;33m\u001b[0m\u001b[0m\n\u001b[0m",
      "\u001b[1;32m~\\anaconda3\\lib\\site-packages\\geopandas\\geodataframe.py\u001b[0m in \u001b[0;36mto_file\u001b[1;34m(self, filename, driver, schema, index, **kwargs)\u001b[0m\n\u001b[0;32m   1084\u001b[0m         \u001b[1;32mfrom\u001b[0m \u001b[0mgeopandas\u001b[0m\u001b[1;33m.\u001b[0m\u001b[0mio\u001b[0m\u001b[1;33m.\u001b[0m\u001b[0mfile\u001b[0m \u001b[1;32mimport\u001b[0m \u001b[0m_to_file\u001b[0m\u001b[1;33m\u001b[0m\u001b[1;33m\u001b[0m\u001b[0m\n\u001b[0;32m   1085\u001b[0m \u001b[1;33m\u001b[0m\u001b[0m\n\u001b[1;32m-> 1086\u001b[1;33m         \u001b[0m_to_file\u001b[0m\u001b[1;33m(\u001b[0m\u001b[0mself\u001b[0m\u001b[1;33m,\u001b[0m \u001b[0mfilename\u001b[0m\u001b[1;33m,\u001b[0m \u001b[0mdriver\u001b[0m\u001b[1;33m,\u001b[0m \u001b[0mschema\u001b[0m\u001b[1;33m,\u001b[0m \u001b[0mindex\u001b[0m\u001b[1;33m,\u001b[0m \u001b[1;33m**\u001b[0m\u001b[0mkwargs\u001b[0m\u001b[1;33m)\u001b[0m\u001b[1;33m\u001b[0m\u001b[1;33m\u001b[0m\u001b[0m\n\u001b[0m\u001b[0;32m   1087\u001b[0m \u001b[1;33m\u001b[0m\u001b[0m\n\u001b[0;32m   1088\u001b[0m     \u001b[1;32mdef\u001b[0m \u001b[0mset_crs\u001b[0m\u001b[1;33m(\u001b[0m\u001b[0mself\u001b[0m\u001b[1;33m,\u001b[0m \u001b[0mcrs\u001b[0m\u001b[1;33m=\u001b[0m\u001b[1;32mNone\u001b[0m\u001b[1;33m,\u001b[0m \u001b[0mepsg\u001b[0m\u001b[1;33m=\u001b[0m\u001b[1;32mNone\u001b[0m\u001b[1;33m,\u001b[0m \u001b[0minplace\u001b[0m\u001b[1;33m=\u001b[0m\u001b[1;32mFalse\u001b[0m\u001b[1;33m,\u001b[0m \u001b[0mallow_override\u001b[0m\u001b[1;33m=\u001b[0m\u001b[1;32mFalse\u001b[0m\u001b[1;33m)\u001b[0m\u001b[1;33m:\u001b[0m\u001b[1;33m\u001b[0m\u001b[1;33m\u001b[0m\u001b[0m\n",
      "\u001b[1;32m~\\anaconda3\\lib\\site-packages\\geopandas\\io\\file.py\u001b[0m in \u001b[0;36m_to_file\u001b[1;34m(df, filename, driver, schema, index, mode, crs, **kwargs)\u001b[0m\n\u001b[0;32m    325\u001b[0m         \u001b[1;32melif\u001b[0m \u001b[0mcrs\u001b[0m\u001b[1;33m:\u001b[0m\u001b[1;33m\u001b[0m\u001b[1;33m\u001b[0m\u001b[0m\n\u001b[0;32m    326\u001b[0m             \u001b[0mcrs_wkt\u001b[0m \u001b[1;33m=\u001b[0m \u001b[0mcrs\u001b[0m\u001b[1;33m.\u001b[0m\u001b[0mto_wkt\u001b[0m\u001b[1;33m(\u001b[0m\u001b[1;34m\"WKT1_GDAL\"\u001b[0m\u001b[1;33m)\u001b[0m\u001b[1;33m\u001b[0m\u001b[1;33m\u001b[0m\u001b[0m\n\u001b[1;32m--> 327\u001b[1;33m         with fiona.open(\n\u001b[0m\u001b[0;32m    328\u001b[0m             \u001b[0mfilename\u001b[0m\u001b[1;33m,\u001b[0m \u001b[0mmode\u001b[0m\u001b[1;33m=\u001b[0m\u001b[0mmode\u001b[0m\u001b[1;33m,\u001b[0m \u001b[0mdriver\u001b[0m\u001b[1;33m=\u001b[0m\u001b[0mdriver\u001b[0m\u001b[1;33m,\u001b[0m \u001b[0mcrs_wkt\u001b[0m\u001b[1;33m=\u001b[0m\u001b[0mcrs_wkt\u001b[0m\u001b[1;33m,\u001b[0m \u001b[0mschema\u001b[0m\u001b[1;33m=\u001b[0m\u001b[0mschema\u001b[0m\u001b[1;33m,\u001b[0m \u001b[1;33m**\u001b[0m\u001b[0mkwargs\u001b[0m\u001b[1;33m\u001b[0m\u001b[1;33m\u001b[0m\u001b[0m\n\u001b[0;32m    329\u001b[0m         ) as colxn:\n",
      "\u001b[1;32m~\\anaconda3\\lib\\site-packages\\fiona\\env.py\u001b[0m in \u001b[0;36mwrapper\u001b[1;34m(*args, **kwargs)\u001b[0m\n\u001b[0;32m    406\u001b[0m     \u001b[1;32mdef\u001b[0m \u001b[0mwrapper\u001b[0m\u001b[1;33m(\u001b[0m\u001b[1;33m*\u001b[0m\u001b[0margs\u001b[0m\u001b[1;33m,\u001b[0m \u001b[1;33m**\u001b[0m\u001b[0mkwargs\u001b[0m\u001b[1;33m)\u001b[0m\u001b[1;33m:\u001b[0m\u001b[1;33m\u001b[0m\u001b[1;33m\u001b[0m\u001b[0m\n\u001b[0;32m    407\u001b[0m         \u001b[1;32mif\u001b[0m \u001b[0mlocal\u001b[0m\u001b[1;33m.\u001b[0m\u001b[0m_env\u001b[0m\u001b[1;33m:\u001b[0m\u001b[1;33m\u001b[0m\u001b[1;33m\u001b[0m\u001b[0m\n\u001b[1;32m--> 408\u001b[1;33m             \u001b[1;32mreturn\u001b[0m \u001b[0mf\u001b[0m\u001b[1;33m(\u001b[0m\u001b[1;33m*\u001b[0m\u001b[0margs\u001b[0m\u001b[1;33m,\u001b[0m \u001b[1;33m**\u001b[0m\u001b[0mkwargs\u001b[0m\u001b[1;33m)\u001b[0m\u001b[1;33m\u001b[0m\u001b[1;33m\u001b[0m\u001b[0m\n\u001b[0m\u001b[0;32m    409\u001b[0m         \u001b[1;32melse\u001b[0m\u001b[1;33m:\u001b[0m\u001b[1;33m\u001b[0m\u001b[1;33m\u001b[0m\u001b[0m\n\u001b[0;32m    410\u001b[0m             \u001b[1;32mif\u001b[0m \u001b[0misinstance\u001b[0m\u001b[1;33m(\u001b[0m\u001b[0margs\u001b[0m\u001b[1;33m[\u001b[0m\u001b[1;36m0\u001b[0m\u001b[1;33m]\u001b[0m\u001b[1;33m,\u001b[0m \u001b[0mstr\u001b[0m\u001b[1;33m)\u001b[0m\u001b[1;33m:\u001b[0m\u001b[1;33m\u001b[0m\u001b[1;33m\u001b[0m\u001b[0m\n",
      "\u001b[1;32m~\\anaconda3\\lib\\site-packages\\fiona\\__init__.py\u001b[0m in \u001b[0;36mopen\u001b[1;34m(fp, mode, driver, schema, crs, encoding, layer, vfs, enabled_drivers, crs_wkt, **kwargs)\u001b[0m\n\u001b[0;32m    278\u001b[0m             \u001b[1;32melse\u001b[0m\u001b[1;33m:\u001b[0m\u001b[1;33m\u001b[0m\u001b[1;33m\u001b[0m\u001b[0m\n\u001b[0;32m    279\u001b[0m                 \u001b[0mthis_schema\u001b[0m \u001b[1;33m=\u001b[0m \u001b[1;32mNone\u001b[0m\u001b[1;33m\u001b[0m\u001b[1;33m\u001b[0m\u001b[0m\n\u001b[1;32m--> 280\u001b[1;33m             c = Collection(path, mode, crs=crs, driver=driver, schema=this_schema,\n\u001b[0m\u001b[0;32m    281\u001b[0m                            \u001b[0mencoding\u001b[0m\u001b[1;33m=\u001b[0m\u001b[0mencoding\u001b[0m\u001b[1;33m,\u001b[0m \u001b[0mlayer\u001b[0m\u001b[1;33m=\u001b[0m\u001b[0mlayer\u001b[0m\u001b[1;33m,\u001b[0m \u001b[0menabled_drivers\u001b[0m\u001b[1;33m=\u001b[0m\u001b[0menabled_drivers\u001b[0m\u001b[1;33m,\u001b[0m \u001b[0mcrs_wkt\u001b[0m\u001b[1;33m=\u001b[0m\u001b[0mcrs_wkt\u001b[0m\u001b[1;33m,\u001b[0m\u001b[1;33m\u001b[0m\u001b[1;33m\u001b[0m\u001b[0m\n\u001b[0;32m    282\u001b[0m                            **kwargs)\n",
      "\u001b[1;32m~\\anaconda3\\lib\\site-packages\\fiona\\collection.py\u001b[0m in \u001b[0;36m__init__\u001b[1;34m(self, path, mode, driver, schema, crs, encoding, layer, vsi, archive, enabled_drivers, crs_wkt, ignore_fields, ignore_geometry, **kwargs)\u001b[0m\n\u001b[0;32m    149\u001b[0m             \u001b[0mself\u001b[0m\u001b[1;33m.\u001b[0m\u001b[0m_schema\u001b[0m \u001b[1;33m=\u001b[0m \u001b[0mschema\u001b[0m\u001b[1;33m\u001b[0m\u001b[1;33m\u001b[0m\u001b[0m\n\u001b[0;32m    150\u001b[0m \u001b[1;33m\u001b[0m\u001b[0m\n\u001b[1;32m--> 151\u001b[1;33m             \u001b[0mself\u001b[0m\u001b[1;33m.\u001b[0m\u001b[0m_check_schema_driver_support\u001b[0m\u001b[1;33m(\u001b[0m\u001b[1;33m)\u001b[0m\u001b[1;33m\u001b[0m\u001b[1;33m\u001b[0m\u001b[0m\n\u001b[0m\u001b[0;32m    152\u001b[0m             \u001b[1;32mif\u001b[0m \u001b[0mcrs_wkt\u001b[0m \u001b[1;32mor\u001b[0m \u001b[0mcrs\u001b[0m\u001b[1;33m:\u001b[0m\u001b[1;33m\u001b[0m\u001b[1;33m\u001b[0m\u001b[0m\n\u001b[0;32m    153\u001b[0m                 \u001b[0mself\u001b[0m\u001b[1;33m.\u001b[0m\u001b[0m_crs_wkt\u001b[0m \u001b[1;33m=\u001b[0m \u001b[0mcrs_to_wkt\u001b[0m\u001b[1;33m(\u001b[0m\u001b[0mcrs_wkt\u001b[0m \u001b[1;32mor\u001b[0m \u001b[0mcrs\u001b[0m\u001b[1;33m)\u001b[0m\u001b[1;33m\u001b[0m\u001b[1;33m\u001b[0m\u001b[0m\n",
      "\u001b[1;32m~\\anaconda3\\lib\\site-packages\\fiona\\collection.py\u001b[0m in \u001b[0;36m_check_schema_driver_support\u001b[1;34m(self)\u001b[0m\n\u001b[0;32m    428\u001b[0m                     \u001b[1;32mraise\u001b[0m \u001b[0mDriverSupportError\u001b[0m\u001b[1;33m(\u001b[0m\u001b[1;34m\"GDAL 1.x GPKG driver does not support datetime fields\"\u001b[0m\u001b[1;33m)\u001b[0m\u001b[1;33m\u001b[0m\u001b[1;33m\u001b[0m\u001b[0m\n\u001b[0;32m    429\u001b[0m                 \u001b[1;32melse\u001b[0m\u001b[1;33m:\u001b[0m\u001b[1;33m\u001b[0m\u001b[1;33m\u001b[0m\u001b[0m\n\u001b[1;32m--> 430\u001b[1;33m                     raise DriverSupportError(\"{driver} does not support {field_type} \"\n\u001b[0m\u001b[0;32m    431\u001b[0m                                              \"fields\".format(driver=self.driver,\n\u001b[0;32m    432\u001b[0m                                                              field_type=field_type))\n",
      "\u001b[1;31mDriverSupportError\u001b[0m: ESRI Shapefile does not support datetime fields"
     ]
    }
   ],
   "source": [
    "# Exporting output shapefile files.\n",
    "gdf_poly.to_file(\"Sites_v2_poly.shp\") # export shape file"
   ]
  },
  {
   "cell_type": "markdown",
   "id": "ad8571d3",
   "metadata": {},
   "source": [
    "## Create Link file\n",
    "- covert it to a polygon of lines shapefile"
   ]
  },
  {
   "cell_type": "code",
   "execution_count": null,
   "id": "6f471d02",
   "metadata": {},
   "outputs": [],
   "source": [
    "# Raw start and end site Input\n",
    "fileInput = \"start_end_Sites.csv\"\n",
    "dfl = pd.read_csv(fileInput)\n",
    "#dfl = dfl.drop_duplicates().reset_index(drop=True) # Drop Duplicate Rows\n",
    "#dfl = dfl.replace(np.nan, \"\")  # Replaces NaN values with blank.\n",
    "print(len(dfl))\n",
    "dfl.head(1)"
   ]
  },
  {
   "cell_type": "code",
   "execution_count": null,
   "id": "d9ef013e",
   "metadata": {},
   "outputs": [],
   "source": [
    "from shapely.geometry import LineString # To create line geometries that can be used in a GeoDataFrame\n",
    "\n",
    "def createLine(sLong, sLat, eLong, eLat):\n",
    "    start, end = [(sLong, sLat), (eLong, eLat)]\n",
    "    line = LineString([start, end])\n",
    "    return line\n",
    "\n",
    "dfl['geometry'] = dfl.apply(lambda row: createLine(row['startLong'], row['startLat'], row['endLong'], row['endLat']), axis=1)\n",
    "dfl.head(1)"
   ]
  },
  {
   "cell_type": "code",
   "execution_count": null,
   "id": "c5c76f30",
   "metadata": {},
   "outputs": [],
   "source": [
    "# covert to geodataframe\n",
    "gdfl = gpd.GeoDataFrame(dfl, geometry='geometry', crs=\"EPSG:4326\")\n",
    "gdfl.head(1)"
   ]
  },
  {
   "cell_type": "code",
   "execution_count": null,
   "id": "259e0546",
   "metadata": {},
   "outputs": [],
   "source": [
    "# Exporting output shapefile files.\n",
    "gdfl.to_file(\"Lines.shp\") # export shape file"
   ]
  },
  {
   "cell_type": "markdown",
   "id": "2d1f94b4",
   "metadata": {},
   "source": [
    "## Mapping to Validate Sites"
   ]
  },
  {
   "cell_type": "code",
   "execution_count": null,
   "id": "75b677b2",
   "metadata": {},
   "outputs": [],
   "source": [
    "# map points\n",
    "# convert dataframe to geodataframe\n",
    "gdf_sites = gpd.GeoDataFrame(df_sites, geometry=gpd.points_from_xy(df_sites.Longitude.astype(float), df_sites.Latitude.astype(float)), crs=\"EPSG:4326\")\n",
    "gplt.pointplot(gdf_sites)"
   ]
  },
  {
   "cell_type": "code",
   "execution_count": null,
   "id": "32ba53e7",
   "metadata": {},
   "outputs": [],
   "source": [
    "# map polygons\n",
    "gplt.polyplot(gdf_poly)"
   ]
  },
  {
   "cell_type": "code",
   "execution_count": null,
   "id": "68e44c13",
   "metadata": {},
   "outputs": [],
   "source": [
    "# map Lines\n",
    "gplt.polyplot(gdfl)"
   ]
  },
  {
   "cell_type": "code",
   "execution_count": null,
   "id": "dd39d380",
   "metadata": {},
   "outputs": [],
   "source": []
  }
 ],
 "metadata": {
  "kernelspec": {
   "display_name": "Python 3 (ipykernel)",
   "language": "python",
   "name": "python3"
  },
  "language_info": {
   "codemirror_mode": {
    "name": "ipython",
    "version": 3
   },
   "file_extension": ".py",
   "mimetype": "text/x-python",
   "name": "python",
   "nbconvert_exporter": "python",
   "pygments_lexer": "ipython3",
   "version": "3.9.15"
  }
 },
 "nbformat": 4,
 "nbformat_minor": 5
}
