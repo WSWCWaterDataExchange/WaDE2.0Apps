{
 "cells": [
  {
   "cell_type": "markdown",
   "metadata": {},
   "source": [
    "# Creating 2 Tables: Sites for Map, SiteSpecific for Table"
   ]
  },
  {
   "cell_type": "markdown",
   "metadata": {},
   "source": [
    "#### General Approach:\n",
    "asdf\n",
    "\n",
    "\n",
    "\n",
    "#### Files Needed\n",
    "1) dontopen_SiteLJSSA.csv, \n",
    "2) dontopen_SSALJSite.csv"
   ]
  },
  {
   "cell_type": "markdown",
   "metadata": {},
   "source": [
    "### Sites LJ SSA, for creating Site Points, Popups and Legend Colors on Map Only"
   ]
  },
  {
   "cell_type": "code",
   "execution_count": null,
   "metadata": {},
   "outputs": [],
   "source": [
    "#Needed Libaraies\n",
    "import os\n",
    "import numpy as np\n",
    "import pandas as pd\n",
    "pd.set_option('display.max_columns', 999)  # How to display all columns of a Pandas DataFrame in Jupyter Notebook\n",
    "\n",
    "#Setting work directory, reading inputs, creating dataframe\n",
    "workingDir = \"C:/Users/rjame/Documents/WSWC Documents/Portal Creation Research\"\n",
    "os.chdir(workingDir)"
   ]
  },
  {
   "cell_type": "code",
   "execution_count": null,
   "metadata": {},
   "outputs": [],
   "source": [
    "#Sites LeftJoin SSA Input\n",
    "SiteLFSSAfileInput = \"dontopen_SiteLJSSA.csv\"\n",
    "dfsite = pd.read_csv(SiteLFSSAfileInput)\n",
    "dfsite.head"
   ]
  },
  {
   "cell_type": "code",
   "execution_count": null,
   "metadata": {},
   "outputs": [],
   "source": [
    "#Removing Null value rows\n",
    "dfsite = dfsite[dfsite['ReportYearCV'].notna()]\n",
    "dfsite.reset_index()\n",
    "dfsite"
   ]
  },
  {
   "cell_type": "code",
   "execution_count": null,
   "metadata": {},
   "outputs": [],
   "source": [
    "dfsite.head(3)"
   ]
  },
  {
   "cell_type": "code",
   "execution_count": null,
   "metadata": {},
   "outputs": [],
   "source": [
    "#check columns & datatype\n",
    "with pd.option_context('display.max_rows', None, 'display.max_columns', None):\n",
    "    print(dfsite.dtypes)"
   ]
  },
  {
   "cell_type": "code",
   "execution_count": null,
   "metadata": {},
   "outputs": [],
   "source": [
    "## Create Sites Dataframe - with attached Allo and Benuse info ##\n",
    "########################################\n",
    "outdfSite = pd.DataFrame()\n",
    "\n",
    "#The Columns\n",
    "outdfSite['SiteUUID'] = dfsite['SiteUUID'].astype(str)\n",
    "outdfSite['SiteNativeID'] = dfsite['SiteNativeID'].astype(str)\n",
    "outdfSite['SiteName'] = dfsite['SiteName'].astype(str)\n",
    "outdfSite['SiteTypeCV'] = dfsite['SiteTypeCV'].astype(str)\n",
    "outdfSite['County'] = dfsite['County'].astype(str)\n",
    "outdfSite['WaterSourceName'] = dfsite['WaterSourceName'].astype(str)\n",
    "outdfSite['WaterSourceTypeCV'] = dfsite['WaterSourceTypeCV'].astype(str)\n",
    "outdfSite['WaterSourceNativeID'] = dfsite['WaterSourceNativeID'].astype(str)\n",
    "outdfSite['Latitude'] = dfsite['Latitude'].astype(float) \n",
    "outdfSite['Longitude'] = dfsite['Longitude'].astype(float)\n",
    "\n",
    "\n",
    "#Drop Duplicates - SiteUUID\n",
    "outdfSite = outdfSite.drop_duplicates(['SiteUUID'], keep=\"first\").reset_index(drop=True)\n",
    "\n",
    "outdfSite"
   ]
  },
  {
   "cell_type": "code",
   "execution_count": null,
   "metadata": {},
   "outputs": [],
   "source": [
    "#Exporting Outbound DataFrame to working csv file.\n",
    "outdfSite.to_csv('P_SiteLJSSA.csv', index=False)  # The output"
   ]
  },
  {
   "cell_type": "markdown",
   "metadata": {},
   "source": [
    "# SSA LF Site, for filtering and Table Return Only"
   ]
  },
  {
   "cell_type": "code",
   "execution_count": null,
   "metadata": {},
   "outputs": [],
   "source": [
    "#Needed Libaraies\n",
    "import os\n",
    "import numpy as np\n",
    "import pandas as pd\n",
    "pd.set_option('display.max_columns', 999)  # How to display all columns of a Pandas DataFrame in Jupyter Notebook\n",
    "\n",
    "#Setting work directory, reading inputs, creating dataframe\n",
    "workingDir = \"C:/Users/rjame/Documents/WSWC Documents/Portal Creation Research\"\n",
    "os.chdir(workingDir)"
   ]
  },
  {
   "cell_type": "code",
   "execution_count": null,
   "metadata": {},
   "outputs": [],
   "source": [
    "#Allo LeftJoin Sites Input\n",
    "AllofileInput = \"dontopen_SSALJSite.csv\"\n",
    "dfssa = pd.read_csv(AllofileInput)\n",
    "dfssa.head(3)"
   ]
  },
  {
   "cell_type": "code",
   "execution_count": null,
   "metadata": {},
   "outputs": [],
   "source": [
    "#check columns & datatype\n",
    "with pd.option_context('display.max_rows', None, 'display.max_columns', None):\n",
    "    print(dfssa.dtypes)"
   ]
  },
  {
   "cell_type": "code",
   "execution_count": null,
   "metadata": {},
   "outputs": [],
   "source": [
    "# #removeing bad rows of df because they are null for some odd reason\n",
    "# dfallo = dfallo[(dfallo.WaterSourceName != 'test')]\n",
    "# dfallo = dfallo[dfallo['SiteUUID'].notna()]\n",
    "# dfallo = dfallo[dfallo['AllocationPriorityDateID'].notna()]\n",
    "# dfallo = dfallo[dfallo['BeneficialUseCV'].notna()]\n",
    "# dfallo = dfallo[dfallo['Longitude'].notna()]\n",
    "# dfallo = dfallo[dfallo['Latitude'].notna()]\n",
    "# dfallo.reset_index()"
   ]
  },
  {
   "cell_type": "code",
   "execution_count": null,
   "metadata": {},
   "outputs": [],
   "source": [
    "# #changing data type of 'Date' to datatype, then changing format of 'Date' to yyyy-mm-dd\n",
    "# dfallo['Date'] = pd.to_datetime(dfallo['Date'], errors = 'coerce')\n",
    "# dfallo['Date'] = pd.to_datetime(dfallo[\"Date\"].dt.strftime('%m/%d/%Ym'))"
   ]
  },
  {
   "cell_type": "code",
   "execution_count": null,
   "metadata": {},
   "outputs": [],
   "source": [
    "outdfssa = dfssa\n",
    "\n",
    "\n",
    "# ## Create Sites Dataframe - with attached Allo and Benuse info ##\n",
    "# ########################################\n",
    "# outdfallo = pd.DataFrame()\n",
    "\n",
    "# #The Columns\n",
    "# outdfallo['AA_ID'] = dfallo['AllocationAmountID'].astype(str) \n",
    "# outdfallo['SiteUUID'] = dfallo['SiteUUID'].astype(str)\n",
    "# outdfallo['SN_ID'] = dfallo['AllocationNativeID'].astype(str) \n",
    "# outdfallo['Lat'] = dfallo['Latitude'].astype(float) \n",
    "# outdfallo['Long'] = dfallo['Longitude'].astype(float)\n",
    "# outdfallo['WBenUse'] = dfallo['WSWCBeneficialUse'].astype(str)\n",
    "# outdfallo['State'] = dfallo['State'].astype(str) \n",
    "# outdfallo['AA_CFS'] = dfallo['AllocationAmount'].astype(float) \n",
    "# outdfallo['AA_AF'] = dfallo['IrrigatedAcreage'].astype(float) \n",
    "# outdfallo['AAM_AF'] = dfallo['AllocationMaximum'].astype(float) \n",
    "# outdfallo['PD'] = dfallo['Date']\n",
    "# outdfallo['WSN'] = dfallo['WaterSourceName'].astype(str)\n",
    "# outdfallo['SiteTypeCV'] = dfallo['SiteTypeCV'].astype(str)\n",
    "# outdfallo['WaterSourceTypeCV'] = dfallo['WaterSourceTypeCV'].astype(str)\n",
    "# outdfallo['AllocationOwner'] = dfallo['AllocationOwner'].astype(str)\n",
    "\n",
    "# outdfallo"
   ]
  },
  {
   "cell_type": "code",
   "execution_count": null,
   "metadata": {},
   "outputs": [],
   "source": [
    "#Exporting Outbound DataFrame to working csv file.\n",
    "outdfssa.to_csv('P_SSALJSite.csv', index=False)  # The output"
   ]
  },
  {
   "cell_type": "code",
   "execution_count": null,
   "metadata": {},
   "outputs": [],
   "source": []
  }
 ],
 "metadata": {
  "kernelspec": {
   "display_name": "Python 3",
   "language": "python",
   "name": "python3"
  },
  "language_info": {
   "codemirror_mode": {
    "name": "ipython",
    "version": 3
   },
   "file_extension": ".py",
   "mimetype": "text/x-python",
   "name": "python",
   "nbconvert_exporter": "python",
   "pygments_lexer": "ipython3",
   "version": "3.7.7"
  }
 },
 "nbformat": 4,
 "nbformat_minor": 2
}
