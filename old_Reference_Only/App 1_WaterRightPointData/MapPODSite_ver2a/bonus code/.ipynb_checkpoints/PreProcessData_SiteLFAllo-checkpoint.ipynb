{
 "cells": [
  {
   "cell_type": "markdown",
   "metadata": {},
   "source": [
    "# Cleaning WaDEQA data for ArcGIS Web App development, not through Excel.\n",
    "# Creating 3 Tables: Sites, Allocations, BeneficialUse"
   ]
  },
  {
   "cell_type": "markdown",
   "metadata": {},
   "source": [
    "#### General Approach:\n",
    "1) Read in csv sheet of data.  Export fields into new database.\n",
    "2) Remove bad rows and elements.\n",
    "3) Fix date datatype.\n",
    "4) Include ID int value for beneficial use.\n",
    "5) Fix and remove misisng or nan values for allocatoin flow and volume.\n",
    "6) Remove duplicates based on AllocationNativeID.\n",
    "7) Create API link for each siteUUID.\n",
    "8) Export completed df as processed csv."
   ]
  },
  {
   "cell_type": "code",
   "execution_count": null,
   "metadata": {},
   "outputs": [],
   "source": [
    "#Needed Libaraies\n",
    "import os\n",
    "import numpy as np\n",
    "import pandas as pd"
   ]
  },
  {
   "cell_type": "code",
   "execution_count": null,
   "metadata": {},
   "outputs": [],
   "source": [
    "#Setting work directory, reading inputs, creating dataframe\n",
    "workingDir = \"C:/Users/rjame/Documents/WSWC Documents/Portal Creation Research\"\n",
    "os.chdir(workingDir)\n",
    "# fileInput = \"dontopen_WaDEQAQuery_SitesAll.csv\"\n",
    "fileInput = \"dontopen_LiveWaDEQAQuery_SitesAll.csv\"\n",
    "df = pd.read_csv(fileInput)"
   ]
  },
  {
   "cell_type": "code",
   "execution_count": null,
   "metadata": {
    "scrolled": true
   },
   "outputs": [],
   "source": [
    "df"
   ]
  },
  {
   "cell_type": "code",
   "execution_count": null,
   "metadata": {},
   "outputs": [],
   "source": [
    "df.dtypes"
   ]
  },
  {
   "cell_type": "code",
   "execution_count": null,
   "metadata": {},
   "outputs": [],
   "source": [
    "#removeing bad rows of df because they are null for some odd reason\n",
    "df = df[(df.WaterSourceName != 'test')]\n",
    "df = df[df['SiteUUID'].notna()]\n",
    "df = df[df['AllocationPriorityDateID'].notna()]\n",
    "df = df[df['BeneficialUseCV'].notna()]\n",
    "df = df[df['Longitude'].notna()]\n",
    "df = df[df['Latitude'].notna()]\n",
    "df.reset_index()"
   ]
  },
  {
   "cell_type": "code",
   "execution_count": null,
   "metadata": {
    "scrolled": true
   },
   "outputs": [],
   "source": [
    "#changing data type of 'Date' to datatype, then changing format of 'Date' to yyyy-mm-dd\n",
    "df['Date'] = pd.to_datetime(df['Date'], errors = 'coerce')\n",
    "df['Date'] = pd.to_datetime(df[\"Date\"].dt.strftime('%m/%d/%Ym'))"
   ]
  },
  {
   "cell_type": "code",
   "execution_count": null,
   "metadata": {},
   "outputs": [],
   "source": [
    "WSWCBenUseDict = {\n",
    "\"Irrigation\" : \"Agricultural\",\n",
    "\"Agriculture\" : \"Agricultural\",\n",
    "\"Commercial\" : \"Commercial\",\n",
    "\"Domestic\" : \"Domestic\",\n",
    "\"72-12-1 domestic one household\" : \"Domestic\",\n",
    "\"72-12-1 domestic and livestock watering\" : \"Domestic\",\n",
    "\"72-12-1 multiple domestic households\" : \"Domestic\",\n",
    "\"Subdivision\" : \"Domestic\",\n",
    "\"Mobile home parks\" : \"Domestic\",\n",
    "\"Fire\" : \"Fire\",\n",
    "\"Fire Protection\" : \"Fire\",\n",
    "\"Industrial\" : \"Industrial\",\n",
    "\"Oil production\" : \"Industrial\",\n",
    "\"Highway construction\" : \"Industrial\",\n",
    "\"Cemetery\" : \"Industrial\",\n",
    "\"Poultry and egg operation\" : \"Industrial\",\n",
    "\"Dairy operation\" : \"Industrial\",\n",
    "\"Construction\" : \"Industrial\",\n",
    "\"Domestic construction\" : \"Industrial\",\n",
    "\"Mining\" : \"Mining\",\n",
    "\"Municipal\" : \"Municipal\",\n",
    "\"Power\" : \"Power\",\n",
    "\"Power Generation\" : \"Power\",\n",
    "\"Recreation\" : \"Recreation\",\n",
    "\"Snow Making\" : \"Snow Making\",\n",
    "\"Stockwatering\" : \"StockWatering\",\n",
    "\"Stock\" : \"StockWatering\",\n",
    "\"Wildlife\" : \"Wildlife\",\n",
    "\"Fish and game propogation\" : \"Wildlife\",\n",
    "\"Fish And Wildlife\" : \"Wildlife\"}\n",
    "\n",
    "\n",
    "def assignWSWCBU(colrowValue):\n",
    "    if colrowValue == '' or pd.isnull(colrowValue):\n",
    "        return np.nan\n",
    "    else:\n",
    "        String1 = colrowValue  # remove whitespace chars\n",
    "        try:\n",
    "            outList = WSWCBenUseDict[String1]\n",
    "        except:\n",
    "            outList = \"Other\"\n",
    "    return outList\n",
    "\n",
    "df['WSWCBeneficialUse'] = df.apply(lambda row: assignWSWCBU(row['BeneficialUseCV']), axis=1)"
   ]
  },
  {
   "cell_type": "code",
   "execution_count": null,
   "metadata": {},
   "outputs": [],
   "source": [
    "WSWCBenUseColorDict = {\n",
    "\"Agricultural \" : \"Yellow\",\n",
    "\"Commercial \" : \"DarkGreen\",\n",
    "\"Domestic \" : \"Blue\",\n",
    "\"Fire \" : \"Crimson\",\n",
    "\"Industrial \" : \"BlueViolet\",\n",
    "\"Mining \" : \"Gold\",\n",
    "\"Municipal \" : \"Black\",\n",
    "\"Power \" : \"DarkOrange\",\n",
    "\"Recreation \" : \"Fuchsia\",\n",
    "\"Snow Making \" : \"MintCream\",\n",
    "\"StockWatering \" : \"DarkTurquoise\",\n",
    "\"Wildlife \" : \"PaleGreen\",\n",
    "\"Other \" : \"SlateGray\"}\n",
    "\n",
    "\n",
    "def assignWSWCBUColor(colrowValue):\n",
    "    if colrowValue == '' or pd.isnull(colrowValue):\n",
    "        return \"SlateGray\"\n",
    "    else:\n",
    "        String1 = colrowValue  # remove whitespace chars\n",
    "        try:\n",
    "            outList = WSWCBenUseColorDict[String1]\n",
    "        except:\n",
    "            outList = \"SlateGray\"\n",
    "    return outList\n",
    "\n",
    "df['WBenUseColor'] = df.apply(lambda row: assignWSWCBUColor(row['WSWCBeneficialUse']), axis=1)"
   ]
  },
  {
   "cell_type": "code",
   "execution_count": null,
   "metadata": {},
   "outputs": [],
   "source": [
    "#Removing NaN, and missing (999) values from AllocaitonAmount, AllocaitonMaxium, IrrigatedAcerage.\n",
    "df['AllocationAmount'] = df['AllocationAmount'].fillna(0)\n",
    "df['AllocationAmount'] = df['AllocationAmount'].replace(999, 0)\n",
    "\n",
    "df['AllocationMaximum'] = df['AllocationMaximum'].fillna(0)\n",
    "df['AllocationMaximum'] = df['AllocationMaximum'].replace(999, 0)\n",
    "\n",
    "df['IrrigatedAcreage'] = df['IrrigatedAcreage'].fillna(0)\n",
    "df['IrrigatedAcreage'] = df['IrrigatedAcreage'].replace(999, 0)"
   ]
  },
  {
   "cell_type": "code",
   "execution_count": null,
   "metadata": {},
   "outputs": [],
   "source": [
    "#Sort by SiteUUID and BenUse (this way Agriculture should show up first in the below list)\n",
    "df = df.sort_values(by=['SiteUUID', 'WSWCBeneficialUse'], ascending=True).reset_index()"
   ]
  },
  {
   "cell_type": "code",
   "execution_count": null,
   "metadata": {},
   "outputs": [],
   "source": [
    "## Create Sites Dataframe - with attached Allo and Benuse info ##\n",
    "########################################\n",
    "dfSite = pd.DataFrame()\n",
    "\n",
    "#The Columns\n",
    "dfSite['SiteUUID'] = df['SiteUUID'].astype(str) \n",
    "dfSite['Lat'] = df['Latitude'].astype(float) \n",
    "dfSite['Long'] = df['Longitude'].astype(float) \n",
    "dfSite['SN_ID'] = df['AllocationNativeID'].astype(str) \n",
    "dfSite['State'] = df['State'].astype(str) \n",
    "dfSite['AA_CFS'] = df['AllocationAmount'].astype(float) \n",
    "dfSite['AA_AF'] = df['IrrigatedAcreage'].astype(float) \n",
    "dfSite['AAM_AF'] = df['AllocationMaximum'].astype(float) \n",
    "dfSite['PD'] = df['Date']\n",
    "dfSite['WSN'] = df['WaterSourceName'].astype(str) \n",
    "dfSite['WBenUse'] = df['WSWCBeneficialUse'].astype(str)\n",
    "dfSite['WBenUseColor'] = df['WBenUseColor'].astype(str)\n",
    "\n",
    "#Groupby based on SiteUUID\n",
    "dfNewSite = dfSite.groupby('SiteUUID', sort=True).agg(lambda x: ','.join([str(elem) for elem in (list(set(x)))])).reset_index()\n",
    "dfNewSite\n",
    "\n",
    "#Drop Duplicates - SiteUUID\n",
    "dfNewSite = dfNewSite.drop_duplicates(['SiteUUID'], keep=\"first\").reset_index(drop=True)\n",
    "dfNewSite"
   ]
  },
  {
   "cell_type": "code",
   "execution_count": null,
   "metadata": {},
   "outputs": [],
   "source": [
    "## Create Allocations Dataframe ##\n",
    "########################################\n",
    "#AllocationAmountID, SiteUUID, State, AllocationNativeID, AllocationAmount \n",
    "#, IrrigatedAcreage, AllocationMaximum, Date, WaterSourceName\n",
    "#dfSite.SiuteUUId -to- dfAllo.SiuteUUId\n",
    "dfAllo = pd.DataFrame()\n",
    "\n",
    "#The Columns\n",
    "dfAllo['SN_ID'] = df['AllocationNativeID'].astype(str) \n",
    "dfAllo['SiteUUID'] = df['SiteUUID'].astype(str) \n",
    "dfAllo['State'] = df['State'].astype(str) \n",
    "dfAllo['AA_CFS'] = df['AllocationAmount'].astype(float) \n",
    "dfAllo['AA_AF'] = df['IrrigatedAcreage'].astype(float) \n",
    "dfAllo['AAM_AF'] = df['AllocationMaximum'].astype(float) \n",
    "dfAllo['PD'] = df['Date']\n",
    "dfAllo['WSN'] = df['WaterSourceName'].astype(str) \n",
    "\n",
    "#Drop Duplicates - State Allocation Native ID & SiteUUID\n",
    "dfAllo = dfAllo.drop_duplicates(['SN_ID', \"SiteUUID\"], keep=\"first\")\n",
    "\n",
    "#Sort & Reset Index\n",
    "dfAllo = dfAllo.sort_values('SN_ID', ascending=True).reset_index(drop=True)\n",
    "dfAllo"
   ]
  },
  {
   "cell_type": "code",
   "execution_count": null,
   "metadata": {},
   "outputs": [],
   "source": [
    "## Create Beneficial Use Dataframe ##\n",
    "########################################\n",
    "#AllocationAmountID, BeneficialUseCV, \n",
    "#dfAllo.WSWC AllocationAmountID -to- dfBen.WSWC AllocationAmountID\n",
    "dfBen = pd.DataFrame()\n",
    "\n",
    "#The Columns\n",
    "dfBen['SN_ID'] = df['AllocationNativeID'].astype(str) \n",
    "dfBen['WBenUse'] = df['WSWCBeneficialUse'].astype(str) \n",
    "\n",
    "#Drop Duplicates - State Allocation Native ID & WSWC Identified Beneficial Use\n",
    "dfBen = dfBen.drop_duplicates(['SN_ID', 'WBenUse'], keep=\"first\")\n",
    "\n",
    "#Sort & Reset Index\n",
    "dfBen = dfBen.sort_values('SN_ID', ascending=True).reset_index(drop=True)\n",
    "dfBen"
   ]
  },
  {
   "cell_type": "code",
   "execution_count": null,
   "metadata": {},
   "outputs": [],
   "source": [
    "#Exporting Outbound DataFrame to working csv file.\n",
    "dfNewSite.to_csv('P_dfSiteWithAll.csv', index=False)  # The output\n",
    "dfAllo.to_csv('P_dfAllo.csv', index=False)  # The output\n",
    "dfBen.to_csv('P_dfBen.csv', index=False)  # The output"
   ]
  },
  {
   "cell_type": "markdown",
   "metadata": {},
   "source": [
    "# Double Check. Sites that have multiple Allo and BenUse"
   ]
  },
  {
   "cell_type": "code",
   "execution_count": null,
   "metadata": {},
   "outputs": [],
   "source": [
    "# dfchecksite = pd.DataFrame()  # The output dataframe for CSV.\n",
    "# dfchecksite = df.groupby('SiteUUID', sort=False).agg(lambda x: ','.join([str(elem) for elem in (list(set(x)))])).reset_index()"
   ]
  },
  {
   "cell_type": "code",
   "execution_count": null,
   "metadata": {},
   "outputs": [],
   "source": [
    "# # dfchecksite.to_csv('P_dfchecksite.csv', index=False)  # The output\n",
    "# dfchecksite.to_csv('P_Livedfchecksite.csv', index=False)  # The output"
   ]
  },
  {
   "cell_type": "markdown",
   "metadata": {},
   "source": [
    "# Old Code to hold temporary hold on to"
   ]
  },
  {
   "cell_type": "code",
   "execution_count": null,
   "metadata": {},
   "outputs": [],
   "source": [
    "## Create Sites Dataframe ##\n",
    "# ########################################\n",
    "# #SiteUUID, Latitude, Longitude\n",
    "# dfSite = pd.DataFrame()\n",
    "\n",
    "# #The Columns\n",
    "# dfSite['SiteUUID'] = df['SiteUUID'].astype(str) \n",
    "# dfSite['Lat'] = df['Latitude'].astype(float) \n",
    "# dfSite['Long'] = df['Longitude'].astype(float) \n",
    "\n",
    "# #Drop Duplicates - SiteUUID\n",
    "# dfSite = dfSite.drop_duplicates(['SiteUUID'], keep=\"first\")\n",
    "\n",
    "# #Sort & Reset Index\n",
    "# dfSite = dfSite.sort_values('SiteUUID', ascending=True).reset_index(drop=True)\n",
    "# dfSite"
   ]
  }
 ],
 "metadata": {
  "kernelspec": {
   "display_name": "Python 3",
   "language": "python",
   "name": "python3"
  },
  "language_info": {
   "codemirror_mode": {
    "name": "ipython",
    "version": 3
   },
   "file_extension": ".py",
   "mimetype": "text/x-python",
   "name": "python",
   "nbconvert_exporter": "python",
   "pygments_lexer": "ipython3",
   "version": "3.7.7"
  }
 },
 "nbformat": 4,
 "nbformat_minor": 2
}
