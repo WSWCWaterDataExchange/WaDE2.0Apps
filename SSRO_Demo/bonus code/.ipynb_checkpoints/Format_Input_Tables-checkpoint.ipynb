{
 "cells": [
  {
   "cell_type": "markdown",
   "id": "4aed23de",
   "metadata": {},
   "source": [
    "## SSRO Demo \n",
    "## Preprocessing Data Input Tables Site Specific RShiny Demo App\n",
    "Notes:\n",
    "- asdf"
   ]
  },
  {
   "cell_type": "code",
   "execution_count": null,
   "id": "4301f091",
   "metadata": {},
   "outputs": [],
   "source": [
    "# working with data\n",
    "import os\n",
    "import numpy as np\n",
    "import pandas as pd\n",
    "import geopandas as gpd # the library that lets us read in shapefiles\n",
    "import geoplot as gplt # for plotting maps\n",
    "\n",
    "# visulizaiton\n",
    "import seaborn as sns\n",
    "import matplotlib.pyplot as plt\n",
    "\n",
    "# Cleanup\n",
    "from datetime import datetime\n",
    "pd.set_option('display.max_columns', 999)  # How to display all columns of a Pandas DataFrame in Jupyter Notebook"
   ]
  },
  {
   "cell_type": "code",
   "execution_count": null,
   "id": "7715e363",
   "metadata": {},
   "outputs": [],
   "source": [
    "# Setting work directory\n",
    "cwd = os.getcwd()\n",
    "print(\"current directory = \" + cwd)\n",
    "\n",
    "os.chdir(\"../NotEssentialData\")\n",
    "print(\"new directory = \" + os.path.abspath(os.curdir))"
   ]
  },
  {
   "cell_type": "markdown",
   "id": "b89e86d1",
   "metadata": {},
   "source": [
    "## Inputs"
   ]
  },
  {
   "cell_type": "code",
   "execution_count": null,
   "id": "a99e47a6",
   "metadata": {
    "scrolled": true
   },
   "outputs": [],
   "source": [
    "#Sites Input\n",
    "fileInput = \"Sites.csv\"\n",
    "dfs = pd.read_csv(fileInput)\n",
    "print(len(dfs))\n",
    "dfs.head(1)"
   ]
  },
  {
   "cell_type": "markdown",
   "id": "eac455b3",
   "metadata": {},
   "source": [
    "## Clean Sites Data"
   ]
  },
  {
   "cell_type": "code",
   "execution_count": null,
   "id": "6827b748",
   "metadata": {},
   "outputs": [],
   "source": [
    "# Clean input.  Remove no value sites\n",
    "\n",
    "dfs = dfs.drop_duplicates() # Drop Duplicate Rows\n",
    "dfs = dfs.dropna(subset=['VariableSpecificCV']).reset_index(drop=True) # drop no value sites\n",
    "dfs = dfs.replace(np.nan, \"\")  # Replaces NaN values with blank.\n",
    "print(len(dfs))\n",
    "dfs.head(1)"
   ]
  },
  {
   "cell_type": "code",
   "execution_count": null,
   "id": "587072eb",
   "metadata": {},
   "outputs": [],
   "source": [
    "for x in dfs['VariableCV'].sort_values().unique():\n",
    "    print(f'\"' + x + '\",')"
   ]
  },
  {
   "cell_type": "code",
   "execution_count": null,
   "id": "03d866ef",
   "metadata": {},
   "outputs": [],
   "source": [
    "# Fixing blank WaDENameS\n",
    "def updateWaDENameS(Val):\n",
    "    Val = str(Val).strip()\n",
    "    if Val == \"\" or pd.isnull(Val) or Val == \"\":\n",
    "        outString = \"Unspecified\"\n",
    "    else:\n",
    "        outString = Val\n",
    "    return outString\n",
    "\n",
    "dfs['WaDENameS'] = dfs.apply(lambda row: updateWaDENameS(row['WaDENameS']), axis=1)\n"
   ]
  },
  {
   "cell_type": "code",
   "execution_count": null,
   "id": "a25d2fd0",
   "metadata": {
    "scrolled": true
   },
   "outputs": [],
   "source": [
    "# Fixing blank WaDENameWS\n",
    "def updateWaDENameWS(Val):\n",
    "    Val = str(Val).strip()\n",
    "    if Val == \"\" or pd.isnull(Val) or Val == \"\":\n",
    "        outString = \"Unspecified\"\n",
    "    else:\n",
    "        outString = Val\n",
    "    return outString\n",
    "\n",
    "dfs['WaDENameWS'] = dfs.apply(lambda row: updateWaDENameWS(row['WaDENameWS']), axis=1)\n",
    "for x in dfs['WaDENameWS'].sort_values().unique():\n",
    "    print(f'\"' + x + '\",')"
   ]
  },
  {
   "cell_type": "code",
   "execution_count": null,
   "id": "b42f0716",
   "metadata": {},
   "outputs": [],
   "source": [
    "# add State field\n",
    "\n",
    "def createState(Val):\n",
    "    Val = Val.strip()\n",
    "    outString = Val[:2]\n",
    "    return outString\n",
    "\n",
    "dfs['State'] = dfs.apply(lambda row: createState(row['SiteUUID']), axis=1)\n",
    "for x in dfs['State'].sort_values().unique():\n",
    "    print(f'\"' + x + '\",')"
   ]
  },
  {
   "cell_type": "code",
   "execution_count": null,
   "id": "c7ee3341",
   "metadata": {},
   "outputs": [],
   "source": [
    "# Groupby SiteUUID\n",
    "dfs = dfs.groupby(['SiteUUID']).agg(lambda x: \", \".join([str(elem) for elem in (list(set(x))) if elem!=\"\"])).replace(np.nan, \"\").reset_index()\n",
    "print(len(dfs))\n",
    "dfs.head(1)"
   ]
  },
  {
   "cell_type": "code",
   "execution_count": null,
   "id": "c896c3e3",
   "metadata": {},
   "outputs": [],
   "source": [
    "# count num of VariableSpecificCV after groupby\n",
    "\n",
    "def countNumVar(Val):\n",
    "    Val = list(Val.split(\",\"))\n",
    "    if Val == [\"\"]:\n",
    "        ValLen = 0\n",
    "    else:\n",
    "        ValLen = len(Val)\n",
    "    return ValLen\n",
    "\n",
    "dfs['CountVar'] = dfs.apply(lambda row: countNumVar(row['VariableSpecificCV']), axis=1)\n",
    "for x in dfs['CountVar'].sort_values().unique():\n",
    "    print(f'\"' + x + '\",')"
   ]
  },
  {
   "cell_type": "code",
   "execution_count": null,
   "id": "4a056177",
   "metadata": {},
   "outputs": [],
   "source": [
    "# attach timeframe based on SiteUUID\n",
    "\n",
    "fileInput = \"start_end_Sites.csv\"\n",
    "dfstf = pd.read_csv(fileInput)\n",
    "dfs = pd.merge(dfs, dfstf, on='SiteUUID', how='left')\n",
    "print(len(dfs))\n",
    "dfs.head(1)"
   ]
  },
  {
   "cell_type": "code",
   "execution_count": null,
   "id": "b200fc11",
   "metadata": {},
   "outputs": [],
   "source": [
    "# Temp Fix\n",
    "\n",
    "# remove lat & long entries that contain a ','\n",
    "dfs = dfs[dfs['Latitude'].str.contains(',') == False]\n",
    "dfs = dfs[dfs['Longitude'].str.contains(',') == False]\n",
    "\n",
    "# Ensure long is < 0 and > -125 (few ID sites out of bounds)\n",
    "# Ensure lat is > 10 and < 50 (few MT sites out of bounds).\n",
    "dfs['Latitude'] = pd.to_numeric(dfs['Latitude'], errors='coerce')\n",
    "dfs['Longitude'] = pd.to_numeric(dfs['Longitude'], errors='coerce')\n",
    "dfs = dfs[(dfs['Latitude'].astype(int) > 10) & (dfs['Latitude'].astype(int) < 50)]\n",
    "dfs = dfs[(dfs['Longitude'].astype(int) < 0) & (dfs['Longitude'].astype(int) > -125)]\n",
    "\n",
    "print(len(dfs))\n",
    "dfs.head(1)"
   ]
  },
  {
   "cell_type": "code",
   "execution_count": null,
   "id": "2fd38aea",
   "metadata": {},
   "outputs": [],
   "source": [
    "#Inspect output\n",
    "dfs"
   ]
  },
  {
   "cell_type": "code",
   "execution_count": null,
   "id": "cfa84c60",
   "metadata": {},
   "outputs": [],
   "source": [
    "# Exporting output files.\n",
    "dfs.to_excel('Sites_v2.xlsx', index=False)"
   ]
  },
  {
   "cell_type": "code",
   "execution_count": null,
   "id": "8b00ae65",
   "metadata": {},
   "outputs": [],
   "source": []
  },
  {
   "cell_type": "markdown",
   "id": "2d1f94b4",
   "metadata": {},
   "source": [
    "## Mapping to Validate Sites"
   ]
  },
  {
   "cell_type": "code",
   "execution_count": null,
   "id": "75b677b2",
   "metadata": {},
   "outputs": [],
   "source": [
    "# map points\n",
    "# convert dataframe to geodataframe\n",
    "gdf_sites = gpd.GeoDataFrame(dfs, geometry=gpd.points_from_xy(dfs.Longitude.astype(float), dfs.Latitude.astype(float)), crs=\"EPSG:4326\")\n",
    "gplt.pointplot(gdf_sites)"
   ]
  },
  {
   "cell_type": "code",
   "execution_count": null,
   "id": "329982fb",
   "metadata": {},
   "outputs": [],
   "source": []
  }
 ],
 "metadata": {
  "kernelspec": {
   "display_name": "Python 3 (ipykernel)",
   "language": "python",
   "name": "python3"
  },
  "language_info": {
   "codemirror_mode": {
    "name": "ipython",
    "version": 3
   },
   "file_extension": ".py",
   "mimetype": "text/x-python",
   "name": "python",
   "nbconvert_exporter": "python",
   "pygments_lexer": "ipython3",
   "version": "3.9.15"
  }
 },
 "nbformat": 4,
 "nbformat_minor": 5
}
