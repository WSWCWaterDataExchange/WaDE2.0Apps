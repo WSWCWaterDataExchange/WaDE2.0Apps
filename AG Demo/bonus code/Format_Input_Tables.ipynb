{
 "cells": [
  {
   "cell_type": "markdown",
   "id": "4aed23de",
   "metadata": {},
   "source": [
    "## AG Demo \n",
    "## Preprocessing Data Input Tables Aggregated Area RShiny Demo App\n",
    "Notes:\n",
    "- asdf"
   ]
  },
  {
   "cell_type": "code",
   "execution_count": 1,
   "id": "4301f091",
   "metadata": {},
   "outputs": [],
   "source": [
    "# working with data\n",
    "import os\n",
    "import numpy as np\n",
    "import pandas as pd\n",
    "import geopandas as gpd # the library that lets us read in shapefiles\n",
    "import geoplot as gplt # for plotting maps\n",
    "\n",
    "# visulizaiton\n",
    "import seaborn as sns\n",
    "import matplotlib.pyplot as plt\n",
    "\n",
    "# Cleanup\n",
    "from datetime import datetime\n",
    "pd.set_option('display.max_columns', 999)  # How to display all columns of a Pandas DataFrame in Jupyter Notebook"
   ]
  },
  {
   "cell_type": "code",
   "execution_count": 2,
   "id": "b7f8d280",
   "metadata": {},
   "outputs": [],
   "source": [
    "# Working Directory and Input File\n",
    "workingDir = \"C:/Users/rjame/Documents/WSWC Documents/WaDE Side Projects Local/20221024 Rshiny AG Demo/AG Demo/NotEssentialData\"\n",
    "os.chdir(workingDir)"
   ]
  },
  {
   "cell_type": "markdown",
   "id": "b89e86d1",
   "metadata": {},
   "source": [
    "## Inputs"
   ]
  },
  {
   "cell_type": "code",
   "execution_count": 3,
   "id": "a99e47a6",
   "metadata": {
    "scrolled": false
   },
   "outputs": [
    {
     "name": "stdout",
     "output_type": "stream",
     "text": [
      "17595\n"
     ]
    },
    {
     "data": {
      "text/html": [
       "<div>\n",
       "<style scoped>\n",
       "    .dataframe tbody tr th:only-of-type {\n",
       "        vertical-align: middle;\n",
       "    }\n",
       "\n",
       "    .dataframe tbody tr th {\n",
       "        vertical-align: top;\n",
       "    }\n",
       "\n",
       "    .dataframe thead th {\n",
       "        text-align: right;\n",
       "    }\n",
       "</style>\n",
       "<table border=\"1\" class=\"dataframe\">\n",
       "  <thead>\n",
       "    <tr style=\"text-align: right;\">\n",
       "      <th></th>\n",
       "      <th>ReportingUnitUUID</th>\n",
       "      <th>ReportingUnitName</th>\n",
       "      <th>ReportingUnitNativeID</th>\n",
       "      <th>ReportingUnitTypeCV</th>\n",
       "      <th>WaDENameRU</th>\n",
       "      <th>WaDENameWS</th>\n",
       "      <th>VariableCV</th>\n",
       "      <th>WaDENameV</th>\n",
       "      <th>VariableSpecificCV</th>\n",
       "      <th>TimeStep</th>\n",
       "      <th>WaDENameBU</th>\n",
       "      <th>HasRecords</th>\n",
       "    </tr>\n",
       "  </thead>\n",
       "  <tbody>\n",
       "    <tr>\n",
       "      <th>0</th>\n",
       "      <td>AZag_RU1</td>\n",
       "      <td>PHOENIX AMA</td>\n",
       "      <td>WaDEAZ_RU1</td>\n",
       "      <td>Active Management Area</td>\n",
       "      <td>Custom - Medium</td>\n",
       "      <td>Groundwater</td>\n",
       "      <td>Supply</td>\n",
       "      <td>Supply</td>\n",
       "      <td>Supply_Annual_Agricultural_Groundwater</td>\n",
       "      <td>Annual</td>\n",
       "      <td>Agriculture Irrigation</td>\n",
       "      <td>Yes</td>\n",
       "    </tr>\n",
       "  </tbody>\n",
       "</table>\n",
       "</div>"
      ],
      "text/plain": [
       "  ReportingUnitUUID ReportingUnitName ReportingUnitNativeID  \\\n",
       "0          AZag_RU1       PHOENIX AMA            WaDEAZ_RU1   \n",
       "\n",
       "      ReportingUnitTypeCV       WaDENameRU   WaDENameWS VariableCV WaDENameV  \\\n",
       "0  Active Management Area  Custom - Medium  Groundwater     Supply    Supply   \n",
       "\n",
       "                       VariableSpecificCV TimeStep              WaDENameBU  \\\n",
       "0  Supply_Annual_Agricultural_Groundwater   Annual  Agriculture Irrigation   \n",
       "\n",
       "  HasRecords  \n",
       "0        Yes  "
      ]
     },
     "execution_count": 3,
     "metadata": {},
     "output_type": "execute_result"
    }
   ],
   "source": [
    "#ReportingUnit Input\n",
    "fileInput = \"ReportingUnit.csv\"\n",
    "dfru = pd.read_csv(fileInput)\n",
    "print(len(dfru))\n",
    "dfru.head(1)"
   ]
  },
  {
   "cell_type": "markdown",
   "id": "eac455b3",
   "metadata": {},
   "source": [
    "## Clean Reporting Unit Data"
   ]
  },
  {
   "cell_type": "code",
   "execution_count": 4,
   "id": "6827b748",
   "metadata": {},
   "outputs": [
    {
     "name": "stdout",
     "output_type": "stream",
     "text": [
      "17595\n"
     ]
    },
    {
     "data": {
      "text/html": [
       "<div>\n",
       "<style scoped>\n",
       "    .dataframe tbody tr th:only-of-type {\n",
       "        vertical-align: middle;\n",
       "    }\n",
       "\n",
       "    .dataframe tbody tr th {\n",
       "        vertical-align: top;\n",
       "    }\n",
       "\n",
       "    .dataframe thead th {\n",
       "        text-align: right;\n",
       "    }\n",
       "</style>\n",
       "<table border=\"1\" class=\"dataframe\">\n",
       "  <thead>\n",
       "    <tr style=\"text-align: right;\">\n",
       "      <th></th>\n",
       "      <th>ReportingUnitUUID</th>\n",
       "      <th>ReportingUnitName</th>\n",
       "      <th>ReportingUnitNativeID</th>\n",
       "      <th>ReportingUnitTypeCV</th>\n",
       "      <th>WaDENameRU</th>\n",
       "      <th>WaDENameWS</th>\n",
       "      <th>VariableCV</th>\n",
       "      <th>WaDENameV</th>\n",
       "      <th>VariableSpecificCV</th>\n",
       "      <th>TimeStep</th>\n",
       "      <th>WaDENameBU</th>\n",
       "      <th>HasRecords</th>\n",
       "    </tr>\n",
       "  </thead>\n",
       "  <tbody>\n",
       "    <tr>\n",
       "      <th>0</th>\n",
       "      <td>AZag_RU1</td>\n",
       "      <td>PHOENIX AMA</td>\n",
       "      <td>WaDEAZ_RU1</td>\n",
       "      <td>Active Management Area</td>\n",
       "      <td>Custom - Medium</td>\n",
       "      <td>Groundwater</td>\n",
       "      <td>Supply</td>\n",
       "      <td>Supply</td>\n",
       "      <td>Supply_Annual_Agricultural_Groundwater</td>\n",
       "      <td>Annual</td>\n",
       "      <td>Agriculture Irrigation</td>\n",
       "      <td>Yes</td>\n",
       "    </tr>\n",
       "  </tbody>\n",
       "</table>\n",
       "</div>"
      ],
      "text/plain": [
       "  ReportingUnitUUID ReportingUnitName ReportingUnitNativeID  \\\n",
       "0          AZag_RU1       PHOENIX AMA            WaDEAZ_RU1   \n",
       "\n",
       "      ReportingUnitTypeCV       WaDENameRU   WaDENameWS VariableCV WaDENameV  \\\n",
       "0  Active Management Area  Custom - Medium  Groundwater     Supply    Supply   \n",
       "\n",
       "                       VariableSpecificCV TimeStep              WaDENameBU  \\\n",
       "0  Supply_Annual_Agricultural_Groundwater   Annual  Agriculture Irrigation   \n",
       "\n",
       "  HasRecords  \n",
       "0        Yes  "
      ]
     },
     "execution_count": 4,
     "metadata": {},
     "output_type": "execute_result"
    }
   ],
   "source": [
    "# Clean input\n",
    "dfru = dfru.drop_duplicates().reset_index(drop=True) # Drop Duplicate Rows\n",
    "dfru = dfru.replace(np.nan, \"\")  # Replaces NaN values with blank.\n",
    "print(len(dfru))\n",
    "dfru.head(1)"
   ]
  },
  {
   "cell_type": "code",
   "execution_count": 5,
   "id": "f682cea9",
   "metadata": {},
   "outputs": [
    {
     "name": "stdout",
     "output_type": "stream",
     "text": [
      "\"AZ\",\n",
      "\"CA\",\n",
      "\"CO\",\n",
      "\"NE\",\n",
      "\"NM\",\n",
      "\"NV\",\n",
      "\"TX\",\n",
      "\"UT\",\n",
      "\"WY\",\n"
     ]
    }
   ],
   "source": [
    "# add State field\n",
    "\n",
    "def createState(Val):\n",
    "    Val = Val.strip()\n",
    "    outString = Val[:2]\n",
    "    return outString\n",
    "\n",
    "dfru['State'] = dfru.apply(lambda row: createState(row['ReportingUnitUUID']), axis=1)\n",
    "for x in dfru['State'].sort_values().unique():\n",
    "    print(f'\"' + x + '\",')"
   ]
  },
  {
   "cell_type": "code",
   "execution_count": 6,
   "id": "1c68eaa8",
   "metadata": {},
   "outputs": [
    {
     "name": "stdout",
     "output_type": "stream",
     "text": [
      "\"#648FFF\",\n",
      "\"#785EF0\",\n",
      "\"#DC267F\",\n",
      "\"#FE6100\",\n",
      "\"#FFB000\",\n"
     ]
    }
   ],
   "source": [
    "# polygon Color\n",
    "\n",
    "colorDictionary = {\n",
    "    \"County\" : \"#648FFF\", \n",
    "    \"HUC8\" : \"#785EF0\",\n",
    "    \"Custom - Small\" : \"#DC267F\",\n",
    "    \"Custom - Medium\" : \"#FE6100\",\n",
    "    \"Custom - Large\" : \"#FFB000\"}\n",
    "\n",
    "def polygonColorFunc(Val):\n",
    "    Val = Val.strip()\n",
    "    try:\n",
    "        outString = colorDictionary[Val]\n",
    "    except:\n",
    "        outString = \"???\"\n",
    "    return outString\n",
    "\n",
    "dfru['polyColor'] = dfru.apply(lambda row: polygonColorFunc(row['WaDENameRU']), axis=1)\n",
    "for x in dfru['polyColor'].sort_values().unique():\n",
    "    print(f'\"' + x + '\",')"
   ]
  },
  {
   "cell_type": "code",
   "execution_count": 7,
   "id": "a25d2fd0",
   "metadata": {
    "scrolled": true
   },
   "outputs": [
    {
     "name": "stdout",
     "output_type": "stream",
     "text": [
      "\"Groundwater\",\n",
      "\"Reuse\",\n",
      "\"Surface Water\",\n",
      "\"Surface and Groundwater\",\n",
      "\"Unspecified\",\n"
     ]
    }
   ],
   "source": [
    "# Fixing blank WaDENameWS\n",
    "def updateWaDENameWS(Val):\n",
    "    Val = str(Val).strip()\n",
    "    if Val == \"\" or pd.isnull(Val) or Val == \"\":\n",
    "        outString = \"Unspecified\"\n",
    "    else:\n",
    "        outString = Val\n",
    "    return outString\n",
    "\n",
    "dfru['WaDENameWS'] = dfru.apply(lambda row: updateWaDENameWS(row['WaDENameWS']), axis=1)\n",
    "for x in dfru['WaDENameWS'].sort_values().unique():\n",
    "    print(f'\"' + x + '\",')"
   ]
  },
  {
   "cell_type": "code",
   "execution_count": 8,
   "id": "77ad09e1",
   "metadata": {},
   "outputs": [
    {
     "name": "stdout",
     "output_type": "stream",
     "text": [
      "\"Agriculture Irrigation\",\n",
      "\"Commercial/Industrial\",\n",
      "\"Domestic\",\n",
      "\"In-stream Flow\",\n",
      "\"Livestock\",\n",
      "\"Mining\",\n",
      "\"Municipal Irrigation\",\n",
      "\"Other\",\n",
      "\"Public Supply\",\n",
      "\"Recreation\",\n",
      "\"Unspecified\",\n"
     ]
    }
   ],
   "source": [
    "# Fixing blank WaDENameBU\n",
    "def updateWaDENameBU(Val):\n",
    "    Val = str(Val).strip()\n",
    "    if Val == \"\" or pd.isnull(Val) or Val == \"\":\n",
    "        outString = \"Unspecified\"\n",
    "    else:\n",
    "        outString = Val\n",
    "    return outString\n",
    "\n",
    "dfru['WaDENameBU'] = dfru.apply(lambda row: updateWaDENameBU(row['WaDENameBU']), axis=1)\n",
    "for x in dfru['WaDENameBU'].sort_values().unique():\n",
    "    print(f'\"' + x + '\",')"
   ]
  },
  {
   "cell_type": "code",
   "execution_count": 9,
   "id": "27d3cd66",
   "metadata": {},
   "outputs": [
    {
     "name": "stdout",
     "output_type": "stream",
     "text": [
      "\"Consumptive Use\",\n",
      "\"Delivered\",\n",
      "\"Demand\",\n",
      "\"Supply\",\n",
      "\"Withdrawal\",\n"
     ]
    }
   ],
   "source": [
    "# Fixing blank WaDENameV\n",
    "def updateWaDENameV(Val):\n",
    "    Val = str(Val).strip()\n",
    "    if Val == \"\" or pd.isnull(Val) or Val == \"\":\n",
    "        outString = \"Unspecified\"\n",
    "    else:\n",
    "        outString = Val\n",
    "    return outString\n",
    "\n",
    "dfru['WaDENameV'] = dfru.apply(lambda row: updateWaDENameV(row['WaDENameV']), axis=1)\n",
    "for x in dfru['WaDENameV'].sort_values().unique():\n",
    "    print(f'\"' + x + '\",')"
   ]
  },
  {
   "cell_type": "code",
   "execution_count": 10,
   "id": "059b2cf2",
   "metadata": {},
   "outputs": [
    {
     "name": "stdout",
     "output_type": "stream",
     "text": [
      "\"Annual\",\n"
     ]
    }
   ],
   "source": [
    "for x in dfru['TimeStep'].sort_values().unique():\n",
    "    print(f'\"' + x + '\",')"
   ]
  },
  {
   "cell_type": "code",
   "execution_count": 11,
   "id": "94ade90c",
   "metadata": {},
   "outputs": [
    {
     "name": "stdout",
     "output_type": "stream",
     "text": [
      "\"County\",\n",
      "\"Custom - Large\",\n",
      "\"Custom - Medium\",\n",
      "\"Custom - Small\",\n",
      "\"HUC8\",\n"
     ]
    }
   ],
   "source": [
    "for x in dfru['WaDENameRU'].sort_values().unique():\n",
    "    print(f'\"' + x + '\",')"
   ]
  },
  {
   "cell_type": "code",
   "execution_count": 12,
   "id": "c7ee3341",
   "metadata": {},
   "outputs": [
    {
     "name": "stdout",
     "output_type": "stream",
     "text": [
      "1475\n"
     ]
    },
    {
     "data": {
      "text/html": [
       "<div>\n",
       "<style scoped>\n",
       "    .dataframe tbody tr th:only-of-type {\n",
       "        vertical-align: middle;\n",
       "    }\n",
       "\n",
       "    .dataframe tbody tr th {\n",
       "        vertical-align: top;\n",
       "    }\n",
       "\n",
       "    .dataframe thead th {\n",
       "        text-align: right;\n",
       "    }\n",
       "</style>\n",
       "<table border=\"1\" class=\"dataframe\">\n",
       "  <thead>\n",
       "    <tr style=\"text-align: right;\">\n",
       "      <th></th>\n",
       "      <th>ReportingUnitUUID</th>\n",
       "      <th>ReportingUnitName</th>\n",
       "      <th>ReportingUnitNativeID</th>\n",
       "      <th>ReportingUnitTypeCV</th>\n",
       "      <th>WaDENameRU</th>\n",
       "      <th>WaDENameWS</th>\n",
       "      <th>VariableCV</th>\n",
       "      <th>WaDENameV</th>\n",
       "      <th>VariableSpecificCV</th>\n",
       "      <th>TimeStep</th>\n",
       "      <th>WaDENameBU</th>\n",
       "      <th>HasRecords</th>\n",
       "      <th>State</th>\n",
       "      <th>polyColor</th>\n",
       "    </tr>\n",
       "  </thead>\n",
       "  <tbody>\n",
       "    <tr>\n",
       "      <th>0</th>\n",
       "      <td>AZag_RU1</td>\n",
       "      <td>PHOENIX AMA</td>\n",
       "      <td>WaDEAZ_RU1</td>\n",
       "      <td>Active Management Area</td>\n",
       "      <td>Custom - Medium</td>\n",
       "      <td>Reuse, Surface Water, Groundwater, Unspecified</td>\n",
       "      <td>Supply, Demand</td>\n",
       "      <td>Supply, Demand</td>\n",
       "      <td>Supply_Annual_Industrial_Effluent, Supply_Annu...</td>\n",
       "      <td>Annual</td>\n",
       "      <td>Agriculture Irrigation, Commercial/Industrial,...</td>\n",
       "      <td>Yes</td>\n",
       "      <td>AZ</td>\n",
       "      <td>#FE6100</td>\n",
       "    </tr>\n",
       "  </tbody>\n",
       "</table>\n",
       "</div>"
      ],
      "text/plain": [
       "  ReportingUnitUUID ReportingUnitName ReportingUnitNativeID  \\\n",
       "0          AZag_RU1       PHOENIX AMA            WaDEAZ_RU1   \n",
       "\n",
       "      ReportingUnitTypeCV       WaDENameRU  \\\n",
       "0  Active Management Area  Custom - Medium   \n",
       "\n",
       "                                       WaDENameWS      VariableCV  \\\n",
       "0  Reuse, Surface Water, Groundwater, Unspecified  Supply, Demand   \n",
       "\n",
       "        WaDENameV                                 VariableSpecificCV TimeStep  \\\n",
       "0  Supply, Demand  Supply_Annual_Industrial_Effluent, Supply_Annu...   Annual   \n",
       "\n",
       "                                          WaDENameBU HasRecords State  \\\n",
       "0  Agriculture Irrigation, Commercial/Industrial,...        Yes    AZ   \n",
       "\n",
       "  polyColor  \n",
       "0   #FE6100  "
      ]
     },
     "execution_count": 12,
     "metadata": {},
     "output_type": "execute_result"
    }
   ],
   "source": [
    "# Groupby ReportingUnitUUID\n",
    "dfru2 = dfru.groupby(['ReportingUnitUUID']).agg(lambda x: \", \".join([str(elem) for elem in (list(set(x))) if elem!=\"\"])).replace(np.nan, \"\").reset_index()\n",
    "print(len(dfru2))\n",
    "dfru2.head(1)"
   ]
  },
  {
   "cell_type": "code",
   "execution_count": 13,
   "id": "c896c3e3",
   "metadata": {},
   "outputs": [
    {
     "data": {
      "text/plain": [
       "array([20, 19, 12, 10, 18,  3,  2,  7, 14,  5,  8,  9], dtype=int64)"
      ]
     },
     "execution_count": 13,
     "metadata": {},
     "output_type": "execute_result"
    }
   ],
   "source": [
    "# count num of VariableSpecificCV after groupby\n",
    "\n",
    "def countNumVar(Val):\n",
    "    Val = list(Val.split(\",\"))\n",
    "    if Val == [\"\"]:\n",
    "        ValLen = 0\n",
    "    else:\n",
    "        ValLen = len(Val)\n",
    "    return ValLen\n",
    "\n",
    "dfru2['CountVar'] = dfru2.apply(lambda row: countNumVar(row['VariableSpecificCV']), axis=1)\n",
    "dfru2['CountVar'].unique()"
   ]
  },
  {
   "cell_type": "code",
   "execution_count": 14,
   "id": "acc80a50",
   "metadata": {},
   "outputs": [
    {
     "name": "stdout",
     "output_type": "stream",
     "text": [
      "1475\n"
     ]
    },
    {
     "data": {
      "text/html": [
       "<div>\n",
       "<style scoped>\n",
       "    .dataframe tbody tr th:only-of-type {\n",
       "        vertical-align: middle;\n",
       "    }\n",
       "\n",
       "    .dataframe tbody tr th {\n",
       "        vertical-align: top;\n",
       "    }\n",
       "\n",
       "    .dataframe thead th {\n",
       "        text-align: right;\n",
       "    }\n",
       "</style>\n",
       "<table border=\"1\" class=\"dataframe\">\n",
       "  <thead>\n",
       "    <tr style=\"text-align: right;\">\n",
       "      <th></th>\n",
       "      <th>ReportingUnitUUID</th>\n",
       "      <th>ReportingUnitName</th>\n",
       "      <th>ReportingUnitNativeID</th>\n",
       "      <th>ReportingUnitTypeCV</th>\n",
       "      <th>WaDENameRU</th>\n",
       "      <th>WaDENameWS</th>\n",
       "      <th>VariableCV</th>\n",
       "      <th>WaDENameV</th>\n",
       "      <th>VariableSpecificCV</th>\n",
       "      <th>TimeStep</th>\n",
       "      <th>WaDENameBU</th>\n",
       "      <th>HasRecords</th>\n",
       "      <th>State</th>\n",
       "      <th>polyColor</th>\n",
       "      <th>CountVar</th>\n",
       "      <th>minTimeFrameStart</th>\n",
       "      <th>maxTimeFrameEnd</th>\n",
       "    </tr>\n",
       "  </thead>\n",
       "  <tbody>\n",
       "    <tr>\n",
       "      <th>0</th>\n",
       "      <td>AZag_RU1</td>\n",
       "      <td>PHOENIX AMA</td>\n",
       "      <td>WaDEAZ_RU1</td>\n",
       "      <td>Active Management Area</td>\n",
       "      <td>Custom - Medium</td>\n",
       "      <td>Reuse, Surface Water, Groundwater, Unspecified</td>\n",
       "      <td>Supply, Demand</td>\n",
       "      <td>Supply, Demand</td>\n",
       "      <td>Supply_Annual_Industrial_Effluent, Supply_Annu...</td>\n",
       "      <td>Annual</td>\n",
       "      <td>Agriculture Irrigation, Commercial/Industrial,...</td>\n",
       "      <td>Yes</td>\n",
       "      <td>AZ</td>\n",
       "      <td>#FE6100</td>\n",
       "      <td>20</td>\n",
       "      <td>1985-01-01</td>\n",
       "      <td>2018-12-31</td>\n",
       "    </tr>\n",
       "  </tbody>\n",
       "</table>\n",
       "</div>"
      ],
      "text/plain": [
       "  ReportingUnitUUID ReportingUnitName ReportingUnitNativeID  \\\n",
       "0          AZag_RU1       PHOENIX AMA            WaDEAZ_RU1   \n",
       "\n",
       "      ReportingUnitTypeCV       WaDENameRU  \\\n",
       "0  Active Management Area  Custom - Medium   \n",
       "\n",
       "                                       WaDENameWS      VariableCV  \\\n",
       "0  Reuse, Surface Water, Groundwater, Unspecified  Supply, Demand   \n",
       "\n",
       "        WaDENameV                                 VariableSpecificCV TimeStep  \\\n",
       "0  Supply, Demand  Supply_Annual_Industrial_Effluent, Supply_Annu...   Annual   \n",
       "\n",
       "                                          WaDENameBU HasRecords State  \\\n",
       "0  Agriculture Irrigation, Commercial/Industrial,...        Yes    AZ   \n",
       "\n",
       "  polyColor  CountVar minTimeFrameStart maxTimeFrameEnd  \n",
       "0   #FE6100        20        1985-01-01      2018-12-31  "
      ]
     },
     "execution_count": 14,
     "metadata": {},
     "output_type": "execute_result"
    }
   ],
   "source": [
    "# attach timeframe based on ReportingUnitUUID\n",
    "\n",
    "fileInput = \"start_end_ReportingUnits.csv\"\n",
    "dfrutf = pd.read_csv(fileInput)\n",
    "dfru2 = pd.merge(dfru2, dfrutf, on='ReportingUnitUUID', how='left')\n",
    "print(len(dfru2))\n",
    "dfru2.head(1)"
   ]
  },
  {
   "cell_type": "code",
   "execution_count": 15,
   "id": "8c26584c",
   "metadata": {},
   "outputs": [
    {
     "name": "stdout",
     "output_type": "stream",
     "text": [
      "1985-01-01 00:00:00\n",
      "2022-11-30 00:00:00\n"
     ]
    }
   ],
   "source": [
    "# Issue of ESRI Shapefile does not support datetime fields\n",
    "print(pd.to_datetime(dfru2['minTimeFrameStart'], errors = 'coerce').min())\n",
    "print(pd.to_datetime(dfru2['maxTimeFrameEnd'], errors = 'coerce').max())"
   ]
  },
  {
   "cell_type": "code",
   "execution_count": 16,
   "id": "323be8f1",
   "metadata": {},
   "outputs": [
    {
     "name": "stdout",
     "output_type": "stream",
     "text": [
      "1475\n"
     ]
    },
    {
     "data": {
      "text/html": [
       "<div>\n",
       "<style scoped>\n",
       "    .dataframe tbody tr th:only-of-type {\n",
       "        vertical-align: middle;\n",
       "    }\n",
       "\n",
       "    .dataframe tbody tr th {\n",
       "        vertical-align: top;\n",
       "    }\n",
       "\n",
       "    .dataframe thead th {\n",
       "        text-align: right;\n",
       "    }\n",
       "</style>\n",
       "<table border=\"1\" class=\"dataframe\">\n",
       "  <thead>\n",
       "    <tr style=\"text-align: right;\">\n",
       "      <th></th>\n",
       "      <th>ReportingUnitUUID</th>\n",
       "      <th>ReportingUnitName</th>\n",
       "      <th>ReportingUnitNativeID</th>\n",
       "      <th>ReportingUnitTypeCV</th>\n",
       "      <th>WaDENameRU</th>\n",
       "      <th>WaDENameWS</th>\n",
       "      <th>VariableCV</th>\n",
       "      <th>WaDENameV</th>\n",
       "      <th>VariableSpecificCV</th>\n",
       "      <th>TimeStep</th>\n",
       "      <th>WaDENameBU</th>\n",
       "      <th>HasRecords</th>\n",
       "      <th>State</th>\n",
       "      <th>polyColor</th>\n",
       "      <th>CountVar</th>\n",
       "      <th>minTimeFrameStart</th>\n",
       "      <th>maxTimeFrameEnd</th>\n",
       "      <th>geometry</th>\n",
       "    </tr>\n",
       "  </thead>\n",
       "  <tbody>\n",
       "    <tr>\n",
       "      <th>0</th>\n",
       "      <td>AZag_RU1</td>\n",
       "      <td>PHOENIX AMA</td>\n",
       "      <td>WaDEAZ_RU1</td>\n",
       "      <td>Active Management Area</td>\n",
       "      <td>Custom - Medium</td>\n",
       "      <td>Reuse, Surface Water, Groundwater, Unspecified</td>\n",
       "      <td>Supply, Demand</td>\n",
       "      <td>Supply, Demand</td>\n",
       "      <td>Supply_Annual_Industrial_Effluent, Supply_Annu...</td>\n",
       "      <td>Annual</td>\n",
       "      <td>Agriculture Irrigation, Commercial/Industrial,...</td>\n",
       "      <td>Yes</td>\n",
       "      <td>AZ</td>\n",
       "      <td>#FE6100</td>\n",
       "      <td>20</td>\n",
       "      <td>1985-01-01</td>\n",
       "      <td>2018-12-31</td>\n",
       "      <td>POLYGON ((-112.06643638934614 34.0000552467006...</td>\n",
       "    </tr>\n",
       "  </tbody>\n",
       "</table>\n",
       "</div>"
      ],
      "text/plain": [
       "  ReportingUnitUUID ReportingUnitName ReportingUnitNativeID  \\\n",
       "0          AZag_RU1       PHOENIX AMA            WaDEAZ_RU1   \n",
       "\n",
       "      ReportingUnitTypeCV       WaDENameRU  \\\n",
       "0  Active Management Area  Custom - Medium   \n",
       "\n",
       "                                       WaDENameWS      VariableCV  \\\n",
       "0  Reuse, Surface Water, Groundwater, Unspecified  Supply, Demand   \n",
       "\n",
       "        WaDENameV                                 VariableSpecificCV TimeStep  \\\n",
       "0  Supply, Demand  Supply_Annual_Industrial_Effluent, Supply_Annu...   Annual   \n",
       "\n",
       "                                          WaDENameBU HasRecords State  \\\n",
       "0  Agriculture Irrigation, Commercial/Industrial,...        Yes    AZ   \n",
       "\n",
       "  polyColor  CountVar minTimeFrameStart maxTimeFrameEnd  \\\n",
       "0   #FE6100        20        1985-01-01      2018-12-31   \n",
       "\n",
       "                                            geometry  \n",
       "0  POLYGON ((-112.06643638934614 34.0000552467006...  "
      ]
     },
     "execution_count": 16,
     "metadata": {},
     "output_type": "execute_result"
    }
   ],
   "source": [
    "# attach geometry based on ReportingUnitUUID\n",
    "fileInput = \"RU_Geometry.csv\"\n",
    "dfg = pd.read_csv(fileInput)\n",
    "dfru2 = pd.merge(dfru2, dfg, on='ReportingUnitUUID', how='left')\n",
    "print(len(dfru2))\n",
    "dfru2.head(1)"
   ]
  },
  {
   "cell_type": "code",
   "execution_count": 17,
   "id": "c06a4176",
   "metadata": {},
   "outputs": [
    {
     "name": "stdout",
     "output_type": "stream",
     "text": [
      "1468\n"
     ]
    },
    {
     "data": {
      "text/html": [
       "<div>\n",
       "<style scoped>\n",
       "    .dataframe tbody tr th:only-of-type {\n",
       "        vertical-align: middle;\n",
       "    }\n",
       "\n",
       "    .dataframe tbody tr th {\n",
       "        vertical-align: top;\n",
       "    }\n",
       "\n",
       "    .dataframe thead th {\n",
       "        text-align: right;\n",
       "    }\n",
       "</style>\n",
       "<table border=\"1\" class=\"dataframe\">\n",
       "  <thead>\n",
       "    <tr style=\"text-align: right;\">\n",
       "      <th></th>\n",
       "      <th>ReportingUnitUUID</th>\n",
       "      <th>ReportingUnitName</th>\n",
       "      <th>ReportingUnitNativeID</th>\n",
       "      <th>ReportingUnitTypeCV</th>\n",
       "      <th>WaDENameRU</th>\n",
       "      <th>WaDENameWS</th>\n",
       "      <th>VariableCV</th>\n",
       "      <th>WaDENameV</th>\n",
       "      <th>VariableSpecificCV</th>\n",
       "      <th>TimeStep</th>\n",
       "      <th>WaDENameBU</th>\n",
       "      <th>HasRecords</th>\n",
       "      <th>State</th>\n",
       "      <th>polyColor</th>\n",
       "      <th>CountVar</th>\n",
       "      <th>minTimeFrameStart</th>\n",
       "      <th>maxTimeFrameEnd</th>\n",
       "      <th>geometry</th>\n",
       "    </tr>\n",
       "  </thead>\n",
       "  <tbody>\n",
       "    <tr>\n",
       "      <th>0</th>\n",
       "      <td>AZag_RU1</td>\n",
       "      <td>PHOENIX AMA</td>\n",
       "      <td>WaDEAZ_RU1</td>\n",
       "      <td>Active Management Area</td>\n",
       "      <td>Custom - Medium</td>\n",
       "      <td>Reuse, Surface Water, Groundwater, Unspecified</td>\n",
       "      <td>Supply, Demand</td>\n",
       "      <td>Supply, Demand</td>\n",
       "      <td>Supply_Annual_Industrial_Effluent, Supply_Annu...</td>\n",
       "      <td>Annual</td>\n",
       "      <td>Agriculture Irrigation, Commercial/Industrial,...</td>\n",
       "      <td>Yes</td>\n",
       "      <td>AZ</td>\n",
       "      <td>#FE6100</td>\n",
       "      <td>20</td>\n",
       "      <td>1985-01-01</td>\n",
       "      <td>2018-12-31</td>\n",
       "      <td>POLYGON ((-112.06643638934614 34.0000552467006...</td>\n",
       "    </tr>\n",
       "  </tbody>\n",
       "</table>\n",
       "</div>"
      ],
      "text/plain": [
       "  ReportingUnitUUID ReportingUnitName ReportingUnitNativeID  \\\n",
       "0          AZag_RU1       PHOENIX AMA            WaDEAZ_RU1   \n",
       "\n",
       "      ReportingUnitTypeCV       WaDENameRU  \\\n",
       "0  Active Management Area  Custom - Medium   \n",
       "\n",
       "                                       WaDENameWS      VariableCV  \\\n",
       "0  Reuse, Surface Water, Groundwater, Unspecified  Supply, Demand   \n",
       "\n",
       "        WaDENameV                                 VariableSpecificCV TimeStep  \\\n",
       "0  Supply, Demand  Supply_Annual_Industrial_Effluent, Supply_Annu...   Annual   \n",
       "\n",
       "                                          WaDENameBU HasRecords State  \\\n",
       "0  Agriculture Irrigation, Commercial/Industrial,...        Yes    AZ   \n",
       "\n",
       "  polyColor  CountVar minTimeFrameStart maxTimeFrameEnd  \\\n",
       "0   #FE6100        20        1985-01-01      2018-12-31   \n",
       "\n",
       "                                            geometry  \n",
       "0  POLYGON ((-112.06643638934614 34.0000552467006...  "
      ]
     },
     "execution_count": 17,
     "metadata": {},
     "output_type": "execute_result"
    }
   ],
   "source": [
    "# drop empty geometry rows\n",
    "dfru2 = dfru2.dropna()\n",
    "print(len(dfru2))\n",
    "dfru2.head(1)"
   ]
  },
  {
   "cell_type": "code",
   "execution_count": 18,
   "id": "cc6a3495",
   "metadata": {},
   "outputs": [],
   "source": [
    "# convert from object string -to- geometry\n",
    "dfru2['geometry'] = gpd.GeoSeries.from_wkt(dfru2['geometry'], crs=\"EPSG:4326\") "
   ]
  },
  {
   "cell_type": "code",
   "execution_count": 19,
   "id": "8a773435",
   "metadata": {},
   "outputs": [
    {
     "name": "stderr",
     "output_type": "stream",
     "text": [
      "C:\\Users\\rjame\\anaconda3\\lib\\site-packages\\geopandas\\io\\file.py:299: FutureWarning: pandas.Int64Index is deprecated and will be removed from pandas in a future version. Use pandas.Index with the appropriate dtype instead.\n",
      "  pd.Int64Index,\n",
      "C:\\Users\\rjame\\AppData\\Local\\Temp\\ipykernel_21324\\1195357969.py:5: UserWarning: Column names longer than 10 characters will be truncated when saved to ESRI Shapefile.\n",
      "  gdfru2.to_file(\"ReportingUnit_v2.shp\") # export shape file\n"
     ]
    }
   ],
   "source": [
    "# Exporting output files.\n",
    "# dfru2.to_excel('ReportingUnit_v2.xlsx', index=False)\n",
    "gdfru2 = gpd.GeoDataFrame(dfru2, geometry=dfru2['geometry'], crs=\"EPSG:4326\") # covert to geodataframe\n",
    "gdfru2['geometry'] = gdfru2.simplify(0.001) # simplify the geometry. Lower the number the larger the exported file.\n",
    "gdfru2.to_file(\"ReportingUnit_v2.shp\") # export shape file"
   ]
  },
  {
   "cell_type": "code",
   "execution_count": null,
   "id": "46e08677",
   "metadata": {},
   "outputs": [],
   "source": []
  },
  {
   "cell_type": "markdown",
   "id": "0e18c2f7",
   "metadata": {},
   "source": [
    "## Mapping to Validate Sites\n",
    "- having a little issue getting geoplot to work with geopandas on geometry data"
   ]
  },
  {
   "cell_type": "code",
   "execution_count": 20,
   "id": "20143249",
   "metadata": {},
   "outputs": [
    {
     "name": "stderr",
     "output_type": "stream",
     "text": [
      "C:\\Users\\rjame\\anaconda3\\lib\\site-packages\\geoplot\\geoplot.py:885: ShapelyDeprecationWarning: Iteration over multi-part geometries is deprecated and will be removed in Shapely 2.0. Use the `geoms` property to access the constituent parts of a multi-part geometry.\n",
      "  for subgeom in geom:\n"
     ]
    },
    {
     "data": {
      "text/plain": [
       "<AxesSubplot:>"
      ]
     },
     "execution_count": 20,
     "metadata": {},
     "output_type": "execute_result"
    },
    {
     "data": {
      "image/png": "[encoded data removed]",
      "text/plain": [
       "<Figure size 800x600 with 1 Axes>"
      ]
     },
     "metadata": {},
     "output_type": "display_data"
    }
   ],
   "source": [
    "# map the polygons\n",
    "gplt.polyplot(gdfru2)"
   ]
  },
  {
   "cell_type": "code",
   "execution_count": 21,
   "id": "36e70ec6",
   "metadata": {},
   "outputs": [],
   "source": [
    "# #checking geometry by state\n",
    "# dftemp = dfru2.copy()\n",
    "# dftemp = dftemp[dftemp['State']=='UT'].reset_index(drop=True) # change state entry here\n",
    "# dftemp['geometry'] = gpd.GeoSeries.from_wkt(dftemp['geometry'], crs=\"EPSG:4326\")\n",
    "# gdftemp = gpd.GeoDataFrame(dftemp, geometry=dftemp['geometry'], crs=\"EPSG:4326\")\n",
    "# gplt.polyplot(gdftemp)"
   ]
  },
  {
   "cell_type": "code",
   "execution_count": 22,
   "id": "5b4d73af",
   "metadata": {},
   "outputs": [],
   "source": [
    "# # which areas are coming back with a null?\n",
    "# dfru3 = dfru2.loc[pd.isnull(dfru2).any(1),:]\n",
    "# print(len(dfru3))\n",
    "# dfru3"
   ]
  },
  {
   "cell_type": "code",
   "execution_count": 23,
   "id": "b9a40fea",
   "metadata": {},
   "outputs": [],
   "source": [
    "# dfne = gdfru2.copy()\n",
    "# dfne = dfne[dfne['State'] == \"NE\"]\n",
    "# dfne.head(1)"
   ]
  },
  {
   "cell_type": "code",
   "execution_count": 24,
   "id": "e4f4c423",
   "metadata": {},
   "outputs": [],
   "source": [
    "# dfwy = gdfru2.copy()\n",
    "# dfwy = dfwy[dfwy['State'] == \"WY\"]\n",
    "# dfwy.head(1)"
   ]
  },
  {
   "cell_type": "code",
   "execution_count": 25,
   "id": "11c4eb64",
   "metadata": {},
   "outputs": [],
   "source": [
    "# dfnm = gdfru2.copy()\n",
    "# dfnm = dfnm[dfnm['State'] == \"NM\"]\n",
    "# dfnm.head(1)\n",
    "# gplt.polyplot(dfnm)"
   ]
  },
  {
   "cell_type": "code",
   "execution_count": 26,
   "id": "bb82bcf6",
   "metadata": {},
   "outputs": [],
   "source": [
    "# dfnv = gdfru2.copy()\n",
    "# dfnv = dfnv[dfnv['State'] == \"NV\"]\n",
    "# dfnv.head(1)\n",
    "# #gplt.polyplot(dfnm)"
   ]
  },
  {
   "cell_type": "code",
   "execution_count": 27,
   "id": "c4073c6f",
   "metadata": {},
   "outputs": [],
   "source": [
    "#dfru2.to_excel('temp_reviewData.xlsx', index=False)  # The output"
   ]
  },
  {
   "cell_type": "code",
   "execution_count": 28,
   "id": "122bf8b7",
   "metadata": {},
   "outputs": [],
   "source": [
    "# gdfCO = gdfru2.copy()\n",
    "# gdfCO = gdfCO[gdfCO['State'] == \"CO\"]\n",
    "# gplt.polyplot(gdfCO)"
   ]
  },
  {
   "cell_type": "code",
   "execution_count": null,
   "id": "7dd9912e",
   "metadata": {},
   "outputs": [],
   "source": []
  }
 ],
 "metadata": {
  "kernelspec": {
   "display_name": "Python 3 (ipykernel)",
   "language": "python",
   "name": "python3"
  },
  "language_info": {
   "codemirror_mode": {
    "name": "ipython",
    "version": 3
   },
   "file_extension": ".py",
   "mimetype": "text/x-python",
   "name": "python",
   "nbconvert_exporter": "python",
   "pygments_lexer": "ipython3",
   "version": "3.9.15"
  }
 },
 "nbformat": 4,
 "nbformat_minor": 5
}
