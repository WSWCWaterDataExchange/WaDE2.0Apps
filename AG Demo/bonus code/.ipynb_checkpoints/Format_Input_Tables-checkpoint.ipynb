{
 "cells": [
  {
   "cell_type": "markdown",
   "id": "4aed23de",
   "metadata": {},
   "source": [
    "## AG Demo \n",
    "## Preprocessing Data Input Tables Aggregated Area RShiny Demo App\n",
    "Notes:\n",
    "- asdf"
   ]
  },
  {
   "cell_type": "code",
   "execution_count": 1,
   "id": "4301f091",
   "metadata": {},
   "outputs": [],
   "source": [
    "# working with data\n",
    "import os\n",
    "import numpy as np\n",
    "import pandas as pd\n",
    "import geopandas as gpd # the library that lets us read in shapefiles\n",
    "import geoplot as gplt # for plotting maps\n",
    "\n",
    "# visulizaiton\n",
    "import seaborn as sns\n",
    "import matplotlib.pyplot as plt\n",
    "\n",
    "# Cleanup\n",
    "from datetime import datetime\n",
    "pd.set_option('display.max_columns', 999)  # How to display all columns of a Pandas DataFrame in Jupyter Notebook"
   ]
  },
  {
   "cell_type": "code",
   "execution_count": 2,
   "id": "b7f8d280",
   "metadata": {},
   "outputs": [],
   "source": [
    "# Working Directory and Input File\n",
    "workingDir = \"C:/Users/rjame/Documents/WSWC Documents/WaDE Side Projects Local/20221024 Rshiny AG Demo/AG Demo/NotEssentialData\"\n",
    "os.chdir(workingDir)"
   ]
  },
  {
   "cell_type": "markdown",
   "id": "b89e86d1",
   "metadata": {},
   "source": [
    "## Inputs"
   ]
  },
  {
   "cell_type": "code",
   "execution_count": 3,
   "id": "a99e47a6",
   "metadata": {
    "scrolled": false
   },
   "outputs": [
    {
     "name": "stdout",
     "output_type": "stream",
     "text": [
      "17605\n"
     ]
    },
    {
     "data": {
      "text/html": [
       "<div>\n",
       "<style scoped>\n",
       "    .dataframe tbody tr th:only-of-type {\n",
       "        vertical-align: middle;\n",
       "    }\n",
       "\n",
       "    .dataframe tbody tr th {\n",
       "        vertical-align: top;\n",
       "    }\n",
       "\n",
       "    .dataframe thead th {\n",
       "        text-align: right;\n",
       "    }\n",
       "</style>\n",
       "<table border=\"1\" class=\"dataframe\">\n",
       "  <thead>\n",
       "    <tr style=\"text-align: right;\">\n",
       "      <th></th>\n",
       "      <th>ReportingUnitUUID</th>\n",
       "      <th>ReportingUnitName</th>\n",
       "      <th>ReportingUnitNativeID</th>\n",
       "      <th>WaDENameRU</th>\n",
       "      <th>WaDENameWS</th>\n",
       "      <th>VariableCV</th>\n",
       "      <th>VariableSpecificCV</th>\n",
       "      <th>HasRecords</th>\n",
       "    </tr>\n",
       "  </thead>\n",
       "  <tbody>\n",
       "    <tr>\n",
       "      <th>0</th>\n",
       "      <td>CAag_RU1</td>\n",
       "      <td>Central Coast</td>\n",
       "      <td>3</td>\n",
       "      <td>Custom Basin 2</td>\n",
       "      <td>Surface and Groundwater</td>\n",
       "      <td>Applied Water Use</td>\n",
       "      <td>Applied Water Use_Annual_Agriculture_Surface G...</td>\n",
       "      <td>Yes</td>\n",
       "    </tr>\n",
       "  </tbody>\n",
       "</table>\n",
       "</div>"
      ],
      "text/plain": [
       "  ReportingUnitUUID ReportingUnitName ReportingUnitNativeID      WaDENameRU  \\\n",
       "0          CAag_RU1     Central Coast                     3  Custom Basin 2   \n",
       "\n",
       "                WaDENameWS         VariableCV  \\\n",
       "0  Surface and Groundwater  Applied Water Use   \n",
       "\n",
       "                                  VariableSpecificCV HasRecords  \n",
       "0  Applied Water Use_Annual_Agriculture_Surface G...        Yes  "
      ]
     },
     "execution_count": 3,
     "metadata": {},
     "output_type": "execute_result"
    }
   ],
   "source": [
    "#ReportingUnit Input\n",
    "fileInput = \"ReportingUnit.csv\"\n",
    "dfru = pd.read_csv(fileInput)\n",
    "print(len(dfru))\n",
    "dfru.head(1)"
   ]
  },
  {
   "cell_type": "markdown",
   "id": "eac455b3",
   "metadata": {},
   "source": [
    "## Clean Reporting Unit Data"
   ]
  },
  {
   "cell_type": "code",
   "execution_count": 4,
   "id": "6827b748",
   "metadata": {},
   "outputs": [
    {
     "name": "stdout",
     "output_type": "stream",
     "text": [
      "17605\n"
     ]
    },
    {
     "data": {
      "text/html": [
       "<div>\n",
       "<style scoped>\n",
       "    .dataframe tbody tr th:only-of-type {\n",
       "        vertical-align: middle;\n",
       "    }\n",
       "\n",
       "    .dataframe tbody tr th {\n",
       "        vertical-align: top;\n",
       "    }\n",
       "\n",
       "    .dataframe thead th {\n",
       "        text-align: right;\n",
       "    }\n",
       "</style>\n",
       "<table border=\"1\" class=\"dataframe\">\n",
       "  <thead>\n",
       "    <tr style=\"text-align: right;\">\n",
       "      <th></th>\n",
       "      <th>ReportingUnitUUID</th>\n",
       "      <th>ReportingUnitName</th>\n",
       "      <th>ReportingUnitNativeID</th>\n",
       "      <th>WaDENameRU</th>\n",
       "      <th>WaDENameWS</th>\n",
       "      <th>VariableCV</th>\n",
       "      <th>VariableSpecificCV</th>\n",
       "      <th>HasRecords</th>\n",
       "    </tr>\n",
       "  </thead>\n",
       "  <tbody>\n",
       "    <tr>\n",
       "      <th>0</th>\n",
       "      <td>CAag_RU1</td>\n",
       "      <td>Central Coast</td>\n",
       "      <td>3</td>\n",
       "      <td>Custom Basin 2</td>\n",
       "      <td>Surface and Groundwater</td>\n",
       "      <td>Applied Water Use</td>\n",
       "      <td>Applied Water Use_Annual_Agriculture_Surface G...</td>\n",
       "      <td>Yes</td>\n",
       "    </tr>\n",
       "  </tbody>\n",
       "</table>\n",
       "</div>"
      ],
      "text/plain": [
       "  ReportingUnitUUID ReportingUnitName ReportingUnitNativeID      WaDENameRU  \\\n",
       "0          CAag_RU1     Central Coast                     3  Custom Basin 2   \n",
       "\n",
       "                WaDENameWS         VariableCV  \\\n",
       "0  Surface and Groundwater  Applied Water Use   \n",
       "\n",
       "                                  VariableSpecificCV HasRecords  \n",
       "0  Applied Water Use_Annual_Agriculture_Surface G...        Yes  "
      ]
     },
     "execution_count": 4,
     "metadata": {},
     "output_type": "execute_result"
    }
   ],
   "source": [
    "# Clean input\n",
    "dfru = dfru.drop_duplicates().reset_index(drop=True) # Drop Duplicate Rows\n",
    "dfru = dfru.replace(np.nan, \"\")  # Replaces NaN values with blank.\n",
    "print(len(dfru))\n",
    "dfru.head(1)"
   ]
  },
  {
   "cell_type": "code",
   "execution_count": 5,
   "id": "a25d2fd0",
   "metadata": {
    "scrolled": true
   },
   "outputs": [
    {
     "data": {
      "text/plain": [
       "array(['Surface and Groundwater', 'Surface Water', 'Groundwater', 'Reuse',\n",
       "       'Other', 'Unspecified', 'Effluent'], dtype=object)"
      ]
     },
     "execution_count": 5,
     "metadata": {},
     "output_type": "execute_result"
    }
   ],
   "source": [
    "# Fixing blank WaDENameWS\n",
    "def updateWaDENameWS(Val):\n",
    "    Val = str(Val).strip()\n",
    "    if Val == \"\" or pd.isnull(Val) or Val == \"\":\n",
    "        outString = \"Unspecified\"\n",
    "    else:\n",
    "        outString = Val\n",
    "    return outString\n",
    "\n",
    "dfru['WaDENameWS'] = dfru.apply(lambda row: updateWaDENameWS(row['WaDENameWS']), axis=1)\n",
    "dfru['WaDENameWS'].unique()"
   ]
  },
  {
   "cell_type": "code",
   "execution_count": 6,
   "id": "c7ee3341",
   "metadata": {},
   "outputs": [
    {
     "name": "stdout",
     "output_type": "stream",
     "text": [
      "1485\n"
     ]
    },
    {
     "data": {
      "text/html": [
       "<div>\n",
       "<style scoped>\n",
       "    .dataframe tbody tr th:only-of-type {\n",
       "        vertical-align: middle;\n",
       "    }\n",
       "\n",
       "    .dataframe tbody tr th {\n",
       "        vertical-align: top;\n",
       "    }\n",
       "\n",
       "    .dataframe thead th {\n",
       "        text-align: right;\n",
       "    }\n",
       "</style>\n",
       "<table border=\"1\" class=\"dataframe\">\n",
       "  <thead>\n",
       "    <tr style=\"text-align: right;\">\n",
       "      <th></th>\n",
       "      <th>ReportingUnitUUID</th>\n",
       "      <th>ReportingUnitName</th>\n",
       "      <th>ReportingUnitNativeID</th>\n",
       "      <th>WaDENameRU</th>\n",
       "      <th>WaDENameWS</th>\n",
       "      <th>VariableCV</th>\n",
       "      <th>VariableSpecificCV</th>\n",
       "      <th>HasRecords</th>\n",
       "    </tr>\n",
       "  </thead>\n",
       "  <tbody>\n",
       "    <tr>\n",
       "      <th>0</th>\n",
       "      <td>AZag_RU1</td>\n",
       "      <td>PHOENIX AMA</td>\n",
       "      <td>WaDEAZ_RU1</td>\n",
       "      <td>Custom Basin</td>\n",
       "      <td>Effluent, Groundwater, Surface Water, Unspecified</td>\n",
       "      <td>Demand, Supply</td>\n",
       "      <td>Supply_Annual_Municipal_Groundwater, Supply_An...</td>\n",
       "      <td>Yes</td>\n",
       "    </tr>\n",
       "  </tbody>\n",
       "</table>\n",
       "</div>"
      ],
      "text/plain": [
       "  ReportingUnitUUID ReportingUnitName ReportingUnitNativeID    WaDENameRU  \\\n",
       "0          AZag_RU1       PHOENIX AMA            WaDEAZ_RU1  Custom Basin   \n",
       "\n",
       "                                          WaDENameWS      VariableCV  \\\n",
       "0  Effluent, Groundwater, Surface Water, Unspecified  Demand, Supply   \n",
       "\n",
       "                                  VariableSpecificCV HasRecords  \n",
       "0  Supply_Annual_Municipal_Groundwater, Supply_An...        Yes  "
      ]
     },
     "execution_count": 6,
     "metadata": {},
     "output_type": "execute_result"
    }
   ],
   "source": [
    "# Groupby ReportingUnitUUID\n",
    "dfru = dfru.groupby(['ReportingUnitUUID']).agg(lambda x: \", \".join([str(elem) for elem in (list(set(x))) if elem!=\"\"])).replace(np.nan, \"\").reset_index()\n",
    "print(len(dfru))\n",
    "dfru.head(1)"
   ]
  },
  {
   "cell_type": "code",
   "execution_count": 7,
   "id": "c896c3e3",
   "metadata": {},
   "outputs": [
    {
     "data": {
      "text/plain": [
       "array([20, 19, 12, 10, 18,  3,  2,  7,  0, 14,  1,  5,  8,  9],\n",
       "      dtype=int64)"
      ]
     },
     "execution_count": 7,
     "metadata": {},
     "output_type": "execute_result"
    }
   ],
   "source": [
    "# count num of VariableSpecificCV after groupby\n",
    "\n",
    "def countNumVar(Val):\n",
    "    Val = list(Val.split(\",\"))\n",
    "    if Val == [\"\"]:\n",
    "        ValLen = 0\n",
    "    else:\n",
    "        ValLen = len(Val)\n",
    "    return ValLen\n",
    "\n",
    "dfru['CountVar'] = dfru.apply(lambda row: countNumVar(row['VariableSpecificCV']), axis=1)\n",
    "dfru['CountVar'].unique()"
   ]
  },
  {
   "cell_type": "code",
   "execution_count": 8,
   "id": "329e0d74",
   "metadata": {},
   "outputs": [
    {
     "data": {
      "text/plain": [
       "array(['AZ', 'CA', 'CO', 'NE', 'NM', 'NV', 'TX', 'US', 'UT', 'WY'],\n",
       "      dtype=object)"
      ]
     },
     "execution_count": 8,
     "metadata": {},
     "output_type": "execute_result"
    }
   ],
   "source": [
    "# add State field\n",
    "\n",
    "def createState(Val):\n",
    "    Val = Val.strip()\n",
    "    outString = Val[:2]\n",
    "    return outString\n",
    "\n",
    "dfru['State'] = dfru.apply(lambda row: createState(row['ReportingUnitUUID']), axis=1)\n",
    "dfru['State'].unique()"
   ]
  },
  {
   "cell_type": "code",
   "execution_count": 9,
   "id": "323be8f1",
   "metadata": {},
   "outputs": [
    {
     "name": "stdout",
     "output_type": "stream",
     "text": [
      "1485\n"
     ]
    },
    {
     "data": {
      "text/html": [
       "<div>\n",
       "<style scoped>\n",
       "    .dataframe tbody tr th:only-of-type {\n",
       "        vertical-align: middle;\n",
       "    }\n",
       "\n",
       "    .dataframe tbody tr th {\n",
       "        vertical-align: top;\n",
       "    }\n",
       "\n",
       "    .dataframe thead th {\n",
       "        text-align: right;\n",
       "    }\n",
       "</style>\n",
       "<table border=\"1\" class=\"dataframe\">\n",
       "  <thead>\n",
       "    <tr style=\"text-align: right;\">\n",
       "      <th></th>\n",
       "      <th>ReportingUnitUUID</th>\n",
       "      <th>ReportingUnitName</th>\n",
       "      <th>ReportingUnitNativeID</th>\n",
       "      <th>WaDENameRU</th>\n",
       "      <th>WaDENameWS</th>\n",
       "      <th>VariableCV</th>\n",
       "      <th>VariableSpecificCV</th>\n",
       "      <th>HasRecords</th>\n",
       "      <th>CountVar</th>\n",
       "      <th>State</th>\n",
       "      <th>geometry</th>\n",
       "    </tr>\n",
       "  </thead>\n",
       "  <tbody>\n",
       "    <tr>\n",
       "      <th>0</th>\n",
       "      <td>AZag_RU1</td>\n",
       "      <td>PHOENIX AMA</td>\n",
       "      <td>WaDEAZ_RU1</td>\n",
       "      <td>Custom Basin</td>\n",
       "      <td>Effluent, Groundwater, Surface Water, Unspecified</td>\n",
       "      <td>Demand, Supply</td>\n",
       "      <td>Supply_Annual_Municipal_Groundwater, Supply_An...</td>\n",
       "      <td>Yes</td>\n",
       "      <td>20</td>\n",
       "      <td>AZ</td>\n",
       "      <td>POLYGON ((-112.06643638934614 34.0000552467006...</td>\n",
       "    </tr>\n",
       "  </tbody>\n",
       "</table>\n",
       "</div>"
      ],
      "text/plain": [
       "  ReportingUnitUUID ReportingUnitName ReportingUnitNativeID    WaDENameRU  \\\n",
       "0          AZag_RU1       PHOENIX AMA            WaDEAZ_RU1  Custom Basin   \n",
       "\n",
       "                                          WaDENameWS      VariableCV  \\\n",
       "0  Effluent, Groundwater, Surface Water, Unspecified  Demand, Supply   \n",
       "\n",
       "                                  VariableSpecificCV HasRecords  CountVar  \\\n",
       "0  Supply_Annual_Municipal_Groundwater, Supply_An...        Yes        20   \n",
       "\n",
       "  State                                           geometry  \n",
       "0    AZ  POLYGON ((-112.06643638934614 34.0000552467006...  "
      ]
     },
     "execution_count": 9,
     "metadata": {},
     "output_type": "execute_result"
    }
   ],
   "source": [
    "# attach geometry based on ReportingUnitUUID\n",
    "fileInput = \"RU_Geometry.csv\"\n",
    "dfg = pd.read_csv(fileInput)\n",
    "dfru2 = pd.merge(dfru, dfg, on='ReportingUnitUUID', how='left')\n",
    "print(len(dfru2))\n",
    "dfru2.head(1)"
   ]
  },
  {
   "cell_type": "code",
   "execution_count": 10,
   "id": "c06a4176",
   "metadata": {},
   "outputs": [
    {
     "name": "stdout",
     "output_type": "stream",
     "text": [
      "1350\n"
     ]
    },
    {
     "data": {
      "text/html": [
       "<div>\n",
       "<style scoped>\n",
       "    .dataframe tbody tr th:only-of-type {\n",
       "        vertical-align: middle;\n",
       "    }\n",
       "\n",
       "    .dataframe tbody tr th {\n",
       "        vertical-align: top;\n",
       "    }\n",
       "\n",
       "    .dataframe thead th {\n",
       "        text-align: right;\n",
       "    }\n",
       "</style>\n",
       "<table border=\"1\" class=\"dataframe\">\n",
       "  <thead>\n",
       "    <tr style=\"text-align: right;\">\n",
       "      <th></th>\n",
       "      <th>ReportingUnitUUID</th>\n",
       "      <th>ReportingUnitName</th>\n",
       "      <th>ReportingUnitNativeID</th>\n",
       "      <th>WaDENameRU</th>\n",
       "      <th>WaDENameWS</th>\n",
       "      <th>VariableCV</th>\n",
       "      <th>VariableSpecificCV</th>\n",
       "      <th>HasRecords</th>\n",
       "      <th>CountVar</th>\n",
       "      <th>State</th>\n",
       "      <th>geometry</th>\n",
       "    </tr>\n",
       "  </thead>\n",
       "  <tbody>\n",
       "    <tr>\n",
       "      <th>0</th>\n",
       "      <td>AZag_RU1</td>\n",
       "      <td>PHOENIX AMA</td>\n",
       "      <td>WaDEAZ_RU1</td>\n",
       "      <td>Custom Basin</td>\n",
       "      <td>Effluent, Groundwater, Surface Water, Unspecified</td>\n",
       "      <td>Demand, Supply</td>\n",
       "      <td>Supply_Annual_Municipal_Groundwater, Supply_An...</td>\n",
       "      <td>Yes</td>\n",
       "      <td>20</td>\n",
       "      <td>AZ</td>\n",
       "      <td>POLYGON ((-112.06643638934614 34.0000552467006...</td>\n",
       "    </tr>\n",
       "  </tbody>\n",
       "</table>\n",
       "</div>"
      ],
      "text/plain": [
       "  ReportingUnitUUID ReportingUnitName ReportingUnitNativeID    WaDENameRU  \\\n",
       "0          AZag_RU1       PHOENIX AMA            WaDEAZ_RU1  Custom Basin   \n",
       "\n",
       "                                          WaDENameWS      VariableCV  \\\n",
       "0  Effluent, Groundwater, Surface Water, Unspecified  Demand, Supply   \n",
       "\n",
       "                                  VariableSpecificCV HasRecords  CountVar  \\\n",
       "0  Supply_Annual_Municipal_Groundwater, Supply_An...        Yes        20   \n",
       "\n",
       "  State                                           geometry  \n",
       "0    AZ  POLYGON ((-112.06643638934614 34.0000552467006...  "
      ]
     },
     "execution_count": 10,
     "metadata": {},
     "output_type": "execute_result"
    }
   ],
   "source": [
    "# drop empty geometry rows\n",
    "dfru2 = dfru2.dropna()\n",
    "print(len(dfru2))\n",
    "dfru2.head(1)"
   ]
  },
  {
   "cell_type": "code",
   "execution_count": 11,
   "id": "cc6a3495",
   "metadata": {},
   "outputs": [],
   "source": [
    "# convert from object string -to- geometry\n",
    "dfru2['geometry'] = gpd.GeoSeries.from_wkt(dfru2['geometry'], crs=\"EPSG:4326\") "
   ]
  },
  {
   "cell_type": "code",
   "execution_count": 12,
   "id": "4a8d9fdb",
   "metadata": {},
   "outputs": [
    {
     "data": {
      "text/plain": [
       "array(['Custom Basin', 'Custom Basin 2', 'Custom Basin 3', 'HUC8',\n",
       "       'Subbasin', 'County'], dtype=object)"
      ]
     },
     "execution_count": 12,
     "metadata": {},
     "output_type": "execute_result"
    }
   ],
   "source": [
    "dfru2['WaDENameRU'].unique()"
   ]
  },
  {
   "cell_type": "code",
   "execution_count": 13,
   "id": "e8d753e8",
   "metadata": {},
   "outputs": [
    {
     "data": {
      "text/plain": [
       "array(['Effluent, Groundwater, Surface Water, Unspecified',\n",
       "       'Surface and Groundwater', 'Surface Water',\n",
       "       'Groundwater, Surface Water', 'Unspecified', 'Groundwater',\n",
       "       'Surface Water, Groundwater, Reuse',\n",
       "       'Groundwater, Surface Water, Surface and Groundwater',\n",
       "       'Groundwater, Surface Water, Other'], dtype=object)"
      ]
     },
     "execution_count": 13,
     "metadata": {},
     "output_type": "execute_result"
    }
   ],
   "source": [
    "dfru2['WaDENameWS'].unique()"
   ]
  },
  {
   "cell_type": "code",
   "execution_count": 14,
   "id": "2fd38aea",
   "metadata": {},
   "outputs": [
    {
     "data": {
      "text/html": [
       "<div>\n",
       "<style scoped>\n",
       "    .dataframe tbody tr th:only-of-type {\n",
       "        vertical-align: middle;\n",
       "    }\n",
       "\n",
       "    .dataframe tbody tr th {\n",
       "        vertical-align: top;\n",
       "    }\n",
       "\n",
       "    .dataframe thead th {\n",
       "        text-align: right;\n",
       "    }\n",
       "</style>\n",
       "<table border=\"1\" class=\"dataframe\">\n",
       "  <thead>\n",
       "    <tr style=\"text-align: right;\">\n",
       "      <th></th>\n",
       "      <th>ReportingUnitUUID</th>\n",
       "      <th>ReportingUnitName</th>\n",
       "      <th>ReportingUnitNativeID</th>\n",
       "      <th>WaDENameRU</th>\n",
       "      <th>WaDENameWS</th>\n",
       "      <th>VariableCV</th>\n",
       "      <th>VariableSpecificCV</th>\n",
       "      <th>HasRecords</th>\n",
       "      <th>CountVar</th>\n",
       "      <th>State</th>\n",
       "      <th>geometry</th>\n",
       "    </tr>\n",
       "  </thead>\n",
       "  <tbody>\n",
       "    <tr>\n",
       "      <th>0</th>\n",
       "      <td>AZag_RU1</td>\n",
       "      <td>PHOENIX AMA</td>\n",
       "      <td>WaDEAZ_RU1</td>\n",
       "      <td>Custom Basin</td>\n",
       "      <td>Effluent, Groundwater, Surface Water, Unspecified</td>\n",
       "      <td>Demand, Supply</td>\n",
       "      <td>Supply_Annual_Municipal_Groundwater, Supply_An...</td>\n",
       "      <td>Yes</td>\n",
       "      <td>20</td>\n",
       "      <td>AZ</td>\n",
       "      <td>POLYGON ((-112.06644 34.00006, -112.06605 34.0...</td>\n",
       "    </tr>\n",
       "    <tr>\n",
       "      <th>1</th>\n",
       "      <td>AZag_RU2</td>\n",
       "      <td>PINAL AMA</td>\n",
       "      <td>WaDEAZ_RU2</td>\n",
       "      <td>Custom Basin</td>\n",
       "      <td>Effluent, Groundwater, Surface Water, Unspecified</td>\n",
       "      <td>Demand, Supply</td>\n",
       "      <td>Supply_Annual_Municipal_Groundwater, Supply_An...</td>\n",
       "      <td>Yes</td>\n",
       "      <td>19</td>\n",
       "      <td>AZ</td>\n",
       "      <td>POLYGON ((-111.21416 33.18288, -111.21472 33.1...</td>\n",
       "    </tr>\n",
       "    <tr>\n",
       "      <th>2</th>\n",
       "      <td>AZag_RU3</td>\n",
       "      <td>PRESCOTT AMA</td>\n",
       "      <td>WaDEAZ_RU3</td>\n",
       "      <td>Custom Basin</td>\n",
       "      <td>Effluent, Groundwater, Surface Water, Unspecified</td>\n",
       "      <td>Demand, Supply</td>\n",
       "      <td>Supply_Annual_Industrial_Effluent, Supply_Annu...</td>\n",
       "      <td>Yes</td>\n",
       "      <td>12</td>\n",
       "      <td>AZ</td>\n",
       "      <td>POLYGON ((-112.56133 34.72246, -112.56120 34.7...</td>\n",
       "    </tr>\n",
       "    <tr>\n",
       "      <th>3</th>\n",
       "      <td>AZag_RU4</td>\n",
       "      <td>SANTA CRUZ AMA</td>\n",
       "      <td>WaDEAZ_RU4</td>\n",
       "      <td>Custom Basin</td>\n",
       "      <td>Effluent, Groundwater, Surface Water, Unspecified</td>\n",
       "      <td>Demand, Supply</td>\n",
       "      <td>Supply_Annual_Industrial_Effluent, Supply_Annu...</td>\n",
       "      <td>Yes</td>\n",
       "      <td>10</td>\n",
       "      <td>AZ</td>\n",
       "      <td>POLYGON ((-111.19921 31.85820, -111.19889 31.8...</td>\n",
       "    </tr>\n",
       "    <tr>\n",
       "      <th>4</th>\n",
       "      <td>AZag_RU5</td>\n",
       "      <td>TUCSON AMA</td>\n",
       "      <td>WaDEAZ_RU5</td>\n",
       "      <td>Custom Basin</td>\n",
       "      <td>Effluent, Groundwater, Surface Water, Unspecified</td>\n",
       "      <td>Demand, Supply</td>\n",
       "      <td>Supply_Annual_Industrial_Effluent, Supply_Annu...</td>\n",
       "      <td>Yes</td>\n",
       "      <td>18</td>\n",
       "      <td>AZ</td>\n",
       "      <td>POLYGON ((-110.92813 32.81227, -110.92850 32.8...</td>\n",
       "    </tr>\n",
       "    <tr>\n",
       "      <th>...</th>\n",
       "      <td>...</td>\n",
       "      <td>...</td>\n",
       "      <td>...</td>\n",
       "      <td>...</td>\n",
       "      <td>...</td>\n",
       "      <td>...</td>\n",
       "      <td>...</td>\n",
       "      <td>...</td>\n",
       "      <td>...</td>\n",
       "      <td>...</td>\n",
       "      <td>...</td>\n",
       "    </tr>\n",
       "    <tr>\n",
       "      <th>1480</th>\n",
       "      <td>WYag_RU3</td>\n",
       "      <td>Northeast River Planning Basin</td>\n",
       "      <td>WaDEWY_RU3</td>\n",
       "      <td>Custom Basin</td>\n",
       "      <td>Groundwater, Surface Water</td>\n",
       "      <td>Reservoirs and Gages</td>\n",
       "      <td>Consumptive Use_Annual_Agricultural Consumptiv...</td>\n",
       "      <td>Yes</td>\n",
       "      <td>8</td>\n",
       "      <td>WY</td>\n",
       "      <td>POLYGON ((-105.00107 45.00031, -104.05819 44.9...</td>\n",
       "    </tr>\n",
       "    <tr>\n",
       "      <th>1481</th>\n",
       "      <td>WYag_RU4</td>\n",
       "      <td>Platte River Planning  Basin</td>\n",
       "      <td>WaDEWY_RU4</td>\n",
       "      <td>Custom Basin</td>\n",
       "      <td>Groundwater, Surface Water</td>\n",
       "      <td>Reservoirs and Gages</td>\n",
       "      <td>Consumptive Use_Annual_Agricultural Consumptiv...</td>\n",
       "      <td>Yes</td>\n",
       "      <td>8</td>\n",
       "      <td>WY</td>\n",
       "      <td>POLYGON ((-106.52719 43.19357, -106.52964 43.1...</td>\n",
       "    </tr>\n",
       "    <tr>\n",
       "      <th>1482</th>\n",
       "      <td>WYag_RU5</td>\n",
       "      <td>Powder-Tongue River Planning Basin</td>\n",
       "      <td>WaDEWY_RU5</td>\n",
       "      <td>Custom Basin</td>\n",
       "      <td>Groundwater, Surface Water</td>\n",
       "      <td>Reservoirs and Gages</td>\n",
       "      <td>Consumptive Use_Annual_Agricultural Consumptiv...</td>\n",
       "      <td>Yes</td>\n",
       "      <td>8</td>\n",
       "      <td>WY</td>\n",
       "      <td>POLYGON ((-105.85433 45.00043, -105.04859 44.9...</td>\n",
       "    </tr>\n",
       "    <tr>\n",
       "      <th>1483</th>\n",
       "      <td>WYag_RU6</td>\n",
       "      <td>Salt-Snake River Planning Basin</td>\n",
       "      <td>WaDEWY_RU6</td>\n",
       "      <td>Custom Basin</td>\n",
       "      <td>Groundwater, Surface Water</td>\n",
       "      <td>Reservoirs and Gages</td>\n",
       "      <td>Consumptive Use_Annual_Agricultural Consumptiv...</td>\n",
       "      <td>Yes</td>\n",
       "      <td>8</td>\n",
       "      <td>WY</td>\n",
       "      <td>POLYGON ((-110.63437 44.48433, -110.61510 44.4...</td>\n",
       "    </tr>\n",
       "    <tr>\n",
       "      <th>1484</th>\n",
       "      <td>WYag_RU7</td>\n",
       "      <td>Wind-Bighorn River Planning Basin</td>\n",
       "      <td>WaDEWY_RU7</td>\n",
       "      <td>Custom Basin</td>\n",
       "      <td>Groundwater, Surface Water</td>\n",
       "      <td>Reservoirs and Gages</td>\n",
       "      <td>Consumptive Use_Annual_Agricultural Consumptiv...</td>\n",
       "      <td>Yes</td>\n",
       "      <td>8</td>\n",
       "      <td>WY</td>\n",
       "      <td>POLYGON ((-109.10415 45.00585, -109.06805 44.9...</td>\n",
       "    </tr>\n",
       "  </tbody>\n",
       "</table>\n",
       "<p>1350 rows × 11 columns</p>\n",
       "</div>"
      ],
      "text/plain": [
       "     ReportingUnitUUID                   ReportingUnitName  \\\n",
       "0             AZag_RU1                         PHOENIX AMA   \n",
       "1             AZag_RU2                           PINAL AMA   \n",
       "2             AZag_RU3                        PRESCOTT AMA   \n",
       "3             AZag_RU4                      SANTA CRUZ AMA   \n",
       "4             AZag_RU5                          TUCSON AMA   \n",
       "...                ...                                 ...   \n",
       "1480          WYag_RU3      Northeast River Planning Basin   \n",
       "1481          WYag_RU4        Platte River Planning  Basin   \n",
       "1482          WYag_RU5  Powder-Tongue River Planning Basin   \n",
       "1483          WYag_RU6     Salt-Snake River Planning Basin   \n",
       "1484          WYag_RU7   Wind-Bighorn River Planning Basin   \n",
       "\n",
       "     ReportingUnitNativeID    WaDENameRU  \\\n",
       "0               WaDEAZ_RU1  Custom Basin   \n",
       "1               WaDEAZ_RU2  Custom Basin   \n",
       "2               WaDEAZ_RU3  Custom Basin   \n",
       "3               WaDEAZ_RU4  Custom Basin   \n",
       "4               WaDEAZ_RU5  Custom Basin   \n",
       "...                    ...           ...   \n",
       "1480            WaDEWY_RU3  Custom Basin   \n",
       "1481            WaDEWY_RU4  Custom Basin   \n",
       "1482            WaDEWY_RU5  Custom Basin   \n",
       "1483            WaDEWY_RU6  Custom Basin   \n",
       "1484            WaDEWY_RU7  Custom Basin   \n",
       "\n",
       "                                             WaDENameWS            VariableCV  \\\n",
       "0     Effluent, Groundwater, Surface Water, Unspecified        Demand, Supply   \n",
       "1     Effluent, Groundwater, Surface Water, Unspecified        Demand, Supply   \n",
       "2     Effluent, Groundwater, Surface Water, Unspecified        Demand, Supply   \n",
       "3     Effluent, Groundwater, Surface Water, Unspecified        Demand, Supply   \n",
       "4     Effluent, Groundwater, Surface Water, Unspecified        Demand, Supply   \n",
       "...                                                 ...                   ...   \n",
       "1480                         Groundwater, Surface Water  Reservoirs and Gages   \n",
       "1481                         Groundwater, Surface Water  Reservoirs and Gages   \n",
       "1482                         Groundwater, Surface Water  Reservoirs and Gages   \n",
       "1483                         Groundwater, Surface Water  Reservoirs and Gages   \n",
       "1484                         Groundwater, Surface Water  Reservoirs and Gages   \n",
       "\n",
       "                                     VariableSpecificCV HasRecords  CountVar  \\\n",
       "0     Supply_Annual_Municipal_Groundwater, Supply_An...        Yes        20   \n",
       "1     Supply_Annual_Municipal_Groundwater, Supply_An...        Yes        19   \n",
       "2     Supply_Annual_Industrial_Effluent, Supply_Annu...        Yes        12   \n",
       "3     Supply_Annual_Industrial_Effluent, Supply_Annu...        Yes        10   \n",
       "4     Supply_Annual_Industrial_Effluent, Supply_Annu...        Yes        18   \n",
       "...                                                 ...        ...       ...   \n",
       "1480  Consumptive Use_Annual_Agricultural Consumptiv...        Yes         8   \n",
       "1481  Consumptive Use_Annual_Agricultural Consumptiv...        Yes         8   \n",
       "1482  Consumptive Use_Annual_Agricultural Consumptiv...        Yes         8   \n",
       "1483  Consumptive Use_Annual_Agricultural Consumptiv...        Yes         8   \n",
       "1484  Consumptive Use_Annual_Agricultural Consumptiv...        Yes         8   \n",
       "\n",
       "     State                                           geometry  \n",
       "0       AZ  POLYGON ((-112.06644 34.00006, -112.06605 34.0...  \n",
       "1       AZ  POLYGON ((-111.21416 33.18288, -111.21472 33.1...  \n",
       "2       AZ  POLYGON ((-112.56133 34.72246, -112.56120 34.7...  \n",
       "3       AZ  POLYGON ((-111.19921 31.85820, -111.19889 31.8...  \n",
       "4       AZ  POLYGON ((-110.92813 32.81227, -110.92850 32.8...  \n",
       "...    ...                                                ...  \n",
       "1480    WY  POLYGON ((-105.00107 45.00031, -104.05819 44.9...  \n",
       "1481    WY  POLYGON ((-106.52719 43.19357, -106.52964 43.1...  \n",
       "1482    WY  POLYGON ((-105.85433 45.00043, -105.04859 44.9...  \n",
       "1483    WY  POLYGON ((-110.63437 44.48433, -110.61510 44.4...  \n",
       "1484    WY  POLYGON ((-109.10415 45.00585, -109.06805 44.9...  \n",
       "\n",
       "[1350 rows x 11 columns]"
      ]
     },
     "execution_count": 14,
     "metadata": {},
     "output_type": "execute_result"
    }
   ],
   "source": [
    "#Inspect output\n",
    "dfru2"
   ]
  },
  {
   "cell_type": "code",
   "execution_count": 15,
   "id": "8a773435",
   "metadata": {},
   "outputs": [
    {
     "name": "stderr",
     "output_type": "stream",
     "text": [
      "C:\\Users\\rjame\\anaconda3\\lib\\site-packages\\geopandas\\io\\file.py:299: FutureWarning: pandas.Int64Index is deprecated and will be removed from pandas in a future version. Use pandas.Index with the appropriate dtype instead.\n",
      "  pd.Int64Index,\n",
      "C:\\Users\\rjame\\AppData\\Local\\Temp\\ipykernel_20348\\118727170.py:5: UserWarning: Column names longer than 10 characters will be truncated when saved to ESRI Shapefile.\n",
      "  gdfru2.to_file(\"ReportingUnit_v2.shp\") # export shape file\n"
     ]
    }
   ],
   "source": [
    "# Exporting output files.\n",
    "# dfru2.to_excel('ReportingUnit_v2.xlsx', index=False)\n",
    "gdfru2 = gpd.GeoDataFrame(dfru2, geometry=dfru2['geometry'], crs=\"EPSG:4326\") # covert to geodataframe\n",
    "gdfru2['geometry'] = gdfru2.simplify(0.001) # simplify the geometry. Lower the number the larger the exported file.\n",
    "gdfru2.to_file(\"ReportingUnit_v2.shp\") # export shape file"
   ]
  },
  {
   "cell_type": "markdown",
   "id": "0e18c2f7",
   "metadata": {},
   "source": [
    "## Mapping to Validate Sites\n",
    "- having a little issue getting geoplot to work with geopandas on geometry data"
   ]
  },
  {
   "cell_type": "code",
   "execution_count": 16,
   "id": "20143249",
   "metadata": {},
   "outputs": [
    {
     "name": "stderr",
     "output_type": "stream",
     "text": [
      "C:\\Users\\rjame\\anaconda3\\lib\\site-packages\\geoplot\\geoplot.py:885: ShapelyDeprecationWarning: Iteration over multi-part geometries is deprecated and will be removed in Shapely 2.0. Use the `geoms` property to access the constituent parts of a multi-part geometry.\n",
      "  for subgeom in geom:\n"
     ]
    },
    {
     "data": {
      "text/plain": [
       "<AxesSubplot:>"
      ]
     },
     "execution_count": 16,
     "metadata": {},
     "output_type": "execute_result"
    },
    {
     "data": {
      "image/png": "[encoded data removed]",
      "text/plain": [
       "<Figure size 800x600 with 1 Axes>"
      ]
     },
     "metadata": {},
     "output_type": "display_data"
    }
   ],
   "source": [
    "# map the polygons\n",
    "gplt.polyplot(gdfru2)"
   ]
  },
  {
   "cell_type": "code",
   "execution_count": null,
   "id": "c537371c",
   "metadata": {},
   "outputs": [],
   "source": []
  },
  {
   "cell_type": "code",
   "execution_count": null,
   "id": "90eee952",
   "metadata": {},
   "outputs": [],
   "source": []
  },
  {
   "cell_type": "code",
   "execution_count": 17,
   "id": "36e70ec6",
   "metadata": {},
   "outputs": [],
   "source": [
    "# #checking geometry by state\n",
    "# dftemp = dfru2.copy()\n",
    "# dftemp = dftemp[dftemp['State']=='UT'].reset_index(drop=True) # change state entry here\n",
    "# dftemp['geometry'] = gpd.GeoSeries.from_wkt(dftemp['geometry'], crs=\"EPSG:4326\")\n",
    "# gdftemp = gpd.GeoDataFrame(dftemp, geometry=dftemp['geometry'], crs=\"EPSG:4326\")\n",
    "# gplt.polyplot(gdftemp)"
   ]
  },
  {
   "cell_type": "code",
   "execution_count": null,
   "id": "7f352d8e",
   "metadata": {},
   "outputs": [],
   "source": []
  }
 ],
 "metadata": {
  "kernelspec": {
   "display_name": "Python 3 (ipykernel)",
   "language": "python",
   "name": "python3"
  },
  "language_info": {
   "codemirror_mode": {
    "name": "ipython",
    "version": 3
   },
   "file_extension": ".py",
   "mimetype": "text/x-python",
   "name": "python",
   "nbconvert_exporter": "python",
   "pygments_lexer": "ipython3",
   "version": "3.9.15"
  }
 },
 "nbformat": 4,
 "nbformat_minor": 5
}
